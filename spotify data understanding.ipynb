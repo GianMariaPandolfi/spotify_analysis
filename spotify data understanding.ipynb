{
 "cells": [
  {
   "cell_type": "code",
   "execution_count": 1,
   "metadata": {},
   "outputs": [],
   "source": [
    "import findspark\n",
    "findspark.init() "
   ]
  },
  {
   "cell_type": "code",
   "execution_count": 2,
   "metadata": {},
   "outputs": [],
   "source": [
    "import pyspark"
   ]
  },
  {
   "cell_type": "code",
   "execution_count": 3,
   "metadata": {},
   "outputs": [],
   "source": [
    "\n",
    "from pyspark.sql import SparkSession\n",
    "from pyspark.sql import SparkSession\n",
    "from pyspark.sql.functions import *\n",
    "from pyspark.sql.window import Window\n",
    "from pyspark.ml.stat import Correlation\n",
    "from pyspark.sql.types import IntegerType,BooleanType,DateType,FloatType, StringType\n",
    "import matplotlib.pyplot as plt \n",
    "import seaborn as sns\n",
    "import pyspark.sql.types as T\n"
   ]
  },
  {
   "cell_type": "code",
   "execution_count": 4,
   "metadata": {},
   "outputs": [],
   "source": [
    "spark = SparkSession \\\n",
    "    .builder \\\n",
    "    .appName(\"Python Spark SQL basic example\") \\\n",
    "    .config(\"spark.some.config.option\", \"some-value\") \\\n",
    "    .getOrCreate()\n",
    "\n",
    "def fudf(val):\n",
    "    return functools.reduce(lambda x, y:x+y, val)"
   ]
  },
  {
   "cell_type": "code",
   "execution_count": 5,
   "metadata": {},
   "outputs": [],
   "source": [
    "artist_df = spark.read.option(\"header\", \"true\").csv(\"spotify_dataset/artists.csv\")"
   ]
  },
  {
   "cell_type": "code",
   "execution_count": 6,
   "metadata": {},
   "outputs": [],
   "source": [
    "tracks_df = spark.read.option(\"header\", \"true\").csv(\"spotify_dataset/tracks.csv\")"
   ]
  },
  {
   "cell_type": "code",
   "execution_count": 7,
   "metadata": {},
   "outputs": [
    {
     "name": "stdout",
     "output_type": "stream",
     "text": [
      "+--------------------+---------+------+--------------------+----------+\n",
      "|                  id|followers|genres|                name|popularity|\n",
      "+--------------------+---------+------+--------------------+----------+\n",
      "|0DheY5irMjBUeLybb...|      0.0|    []|Armid & Amir Zare...|         0|\n",
      "|0DlhY15l3wsrnlfGi...|      5.0|    []|         ปูนา ภาวิณี|         0|\n",
      "|0DmRESX2JknGPQyO1...|      0.0|    []|               Sadaa|         0|\n",
      "|0DmhnbHjm1qw6NCYP...|      0.0|    []|           Tra'gruda|         0|\n",
      "|0Dn11fWM7vHQ3rinv...|      2.0|    []|Ioannis Panoutsop...|         0|\n",
      "|0DotfDlYMGqkbzfBh...|      7.0|    []|       Astral Affect|         0|\n",
      "|0DqP3bOCiC48L8SM9...|      1.0|    []|           Yung Seed|         0|\n",
      "|0Drs3maQb99iRglyT...|      0.0|    []|               Wi'Ma|         0|\n",
      "|0DsPeAi1gxPPnYjgp...|      0.0|    []|             lentboy|         0|\n",
      "|0DtvnTxgZ9K5YaPS5...|     20.0|    []|            addworks|         0|\n",
      "+--------------------+---------+------+--------------------+----------+\n",
      "only showing top 10 rows\n",
      "\n"
     ]
    }
   ],
   "source": [
    "artist_df.show(10)"
   ]
  },
  {
   "cell_type": "code",
   "execution_count": 8,
   "metadata": {},
   "outputs": [
    {
     "data": {
      "text/html": [
       "<div>\n",
       "<style scoped>\n",
       "    .dataframe tbody tr th:only-of-type {\n",
       "        vertical-align: middle;\n",
       "    }\n",
       "\n",
       "    .dataframe tbody tr th {\n",
       "        vertical-align: top;\n",
       "    }\n",
       "\n",
       "    .dataframe thead th {\n",
       "        text-align: right;\n",
       "    }\n",
       "</style>\n",
       "<table border=\"1\" class=\"dataframe\">\n",
       "  <thead>\n",
       "    <tr style=\"text-align: right;\">\n",
       "      <th></th>\n",
       "      <th>id</th>\n",
       "      <th>name</th>\n",
       "      <th>popularity</th>\n",
       "      <th>duration_ms</th>\n",
       "      <th>explicit</th>\n",
       "      <th>artists</th>\n",
       "      <th>id_artists</th>\n",
       "      <th>release_date</th>\n",
       "      <th>danceability</th>\n",
       "      <th>energy</th>\n",
       "      <th>key</th>\n",
       "      <th>loudness</th>\n",
       "      <th>mode</th>\n",
       "      <th>speechiness</th>\n",
       "      <th>acousticness</th>\n",
       "      <th>instrumentalness</th>\n",
       "      <th>liveness</th>\n",
       "      <th>valence</th>\n",
       "      <th>tempo</th>\n",
       "      <th>time_signature</th>\n",
       "    </tr>\n",
       "  </thead>\n",
       "  <tbody>\n",
       "    <tr>\n",
       "      <th>0</th>\n",
       "      <td>35iwgR4jXetI318WEWsa1Q</td>\n",
       "      <td>Carve</td>\n",
       "      <td>6</td>\n",
       "      <td>126903</td>\n",
       "      <td>0</td>\n",
       "      <td>['Uli']</td>\n",
       "      <td>['45tIt06XoI0Iio4LBEVpls']</td>\n",
       "      <td>1922-02-22</td>\n",
       "      <td>0.645</td>\n",
       "      <td>0.445</td>\n",
       "      <td>0</td>\n",
       "      <td>-13.338</td>\n",
       "      <td>1</td>\n",
       "      <td>0.451</td>\n",
       "      <td>0.674</td>\n",
       "      <td>0.744</td>\n",
       "      <td>0.151</td>\n",
       "      <td>0.127</td>\n",
       "      <td>104.851</td>\n",
       "      <td>3</td>\n",
       "    </tr>\n",
       "    <tr>\n",
       "      <th>1</th>\n",
       "      <td>021ht4sdgPcrDgSk7JTbKY</td>\n",
       "      <td>Capítulo 2.16 - Banquero Anarquista</td>\n",
       "      <td>0</td>\n",
       "      <td>98200</td>\n",
       "      <td>0</td>\n",
       "      <td>['Fernando Pessoa']</td>\n",
       "      <td>['14jtPCOoNZwquk5wd9DxrY']</td>\n",
       "      <td>1922-06-01</td>\n",
       "      <td>0.695</td>\n",
       "      <td>0.263</td>\n",
       "      <td>0</td>\n",
       "      <td>-22.136</td>\n",
       "      <td>1</td>\n",
       "      <td>0.957</td>\n",
       "      <td>0.797</td>\n",
       "      <td>0.0</td>\n",
       "      <td>0.148</td>\n",
       "      <td>0.655</td>\n",
       "      <td>102.009</td>\n",
       "      <td>1</td>\n",
       "    </tr>\n",
       "    <tr>\n",
       "      <th>2</th>\n",
       "      <td>07A5yehtSnoedViJAZkNnc</td>\n",
       "      <td>Vivo para Quererte - Remasterizado</td>\n",
       "      <td>0</td>\n",
       "      <td>181640</td>\n",
       "      <td>0</td>\n",
       "      <td>['Ignacio Corsini']</td>\n",
       "      <td>['5LiOoJbxVSAMkBS2fUm3X2']</td>\n",
       "      <td>1922-03-21</td>\n",
       "      <td>0.434</td>\n",
       "      <td>0.177</td>\n",
       "      <td>1</td>\n",
       "      <td>-21.18</td>\n",
       "      <td>1</td>\n",
       "      <td>0.0512</td>\n",
       "      <td>0.994</td>\n",
       "      <td>0.0218</td>\n",
       "      <td>0.212</td>\n",
       "      <td>0.457</td>\n",
       "      <td>130.418</td>\n",
       "      <td>5</td>\n",
       "    </tr>\n",
       "    <tr>\n",
       "      <th>3</th>\n",
       "      <td>08FmqUhxtyLTn6pAh6bk45</td>\n",
       "      <td>El Prisionero - Remasterizado</td>\n",
       "      <td>0</td>\n",
       "      <td>176907</td>\n",
       "      <td>0</td>\n",
       "      <td>['Ignacio Corsini']</td>\n",
       "      <td>['5LiOoJbxVSAMkBS2fUm3X2']</td>\n",
       "      <td>1922-03-21</td>\n",
       "      <td>0.321</td>\n",
       "      <td>0.0946</td>\n",
       "      <td>7</td>\n",
       "      <td>-27.961</td>\n",
       "      <td>1</td>\n",
       "      <td>0.0504</td>\n",
       "      <td>0.995</td>\n",
       "      <td>0.918</td>\n",
       "      <td>0.104</td>\n",
       "      <td>0.397</td>\n",
       "      <td>169.98</td>\n",
       "      <td>3</td>\n",
       "    </tr>\n",
       "    <tr>\n",
       "      <th>4</th>\n",
       "      <td>08y9GfoqCWfOGsKdwojr5e</td>\n",
       "      <td>Lady of the Evening</td>\n",
       "      <td>0</td>\n",
       "      <td>163080</td>\n",
       "      <td>0</td>\n",
       "      <td>['Dick Haymes']</td>\n",
       "      <td>['3BiJGZsyX9sJchTqcSA7Su']</td>\n",
       "      <td>1922</td>\n",
       "      <td>0.402</td>\n",
       "      <td>0.158</td>\n",
       "      <td>3</td>\n",
       "      <td>-16.9</td>\n",
       "      <td>0</td>\n",
       "      <td>0.039</td>\n",
       "      <td>0.989</td>\n",
       "      <td>0.13</td>\n",
       "      <td>0.311</td>\n",
       "      <td>0.196</td>\n",
       "      <td>103.22</td>\n",
       "      <td>4</td>\n",
       "    </tr>\n",
       "    <tr>\n",
       "      <th>...</th>\n",
       "      <td>...</td>\n",
       "      <td>...</td>\n",
       "      <td>...</td>\n",
       "      <td>...</td>\n",
       "      <td>...</td>\n",
       "      <td>...</td>\n",
       "      <td>...</td>\n",
       "      <td>...</td>\n",
       "      <td>...</td>\n",
       "      <td>...</td>\n",
       "      <td>...</td>\n",
       "      <td>...</td>\n",
       "      <td>...</td>\n",
       "      <td>...</td>\n",
       "      <td>...</td>\n",
       "      <td>...</td>\n",
       "      <td>...</td>\n",
       "      <td>...</td>\n",
       "      <td>...</td>\n",
       "      <td>...</td>\n",
       "    </tr>\n",
       "    <tr>\n",
       "      <th>586667</th>\n",
       "      <td>5rgu12WBIHQtvej2MdHSH0</td>\n",
       "      <td>云与海</td>\n",
       "      <td>50</td>\n",
       "      <td>258267</td>\n",
       "      <td>0</td>\n",
       "      <td>['阿YueYue']</td>\n",
       "      <td>['1QLBXKM5GCpyQQSVMNZqrZ']</td>\n",
       "      <td>2020-09-26</td>\n",
       "      <td>0.56</td>\n",
       "      <td>0.518</td>\n",
       "      <td>0</td>\n",
       "      <td>-7.471</td>\n",
       "      <td>0</td>\n",
       "      <td>0.0292</td>\n",
       "      <td>0.785</td>\n",
       "      <td>0.0</td>\n",
       "      <td>0.0648</td>\n",
       "      <td>0.211</td>\n",
       "      <td>131.896</td>\n",
       "      <td>4</td>\n",
       "    </tr>\n",
       "    <tr>\n",
       "      <th>586668</th>\n",
       "      <td>0NuWgxEp51CutD2pJoF4OM</td>\n",
       "      <td>blind</td>\n",
       "      <td>72</td>\n",
       "      <td>153293</td>\n",
       "      <td>0</td>\n",
       "      <td>['ROLE MODEL']</td>\n",
       "      <td>['1dy5WNgIKQU6ezkpZs4y8z']</td>\n",
       "      <td>2020-10-21</td>\n",
       "      <td>0.765</td>\n",
       "      <td>0.663</td>\n",
       "      <td>0</td>\n",
       "      <td>-5.223</td>\n",
       "      <td>1</td>\n",
       "      <td>0.0652</td>\n",
       "      <td>0.141</td>\n",
       "      <td>0.000297</td>\n",
       "      <td>0.0924</td>\n",
       "      <td>0.686</td>\n",
       "      <td>150.091</td>\n",
       "      <td>4</td>\n",
       "    </tr>\n",
       "    <tr>\n",
       "      <th>586669</th>\n",
       "      <td>27Y1N4Q4U3EfDU5Ubw8ws2</td>\n",
       "      <td>What They'll Say About Us</td>\n",
       "      <td>70</td>\n",
       "      <td>187601</td>\n",
       "      <td>0</td>\n",
       "      <td>['FINNEAS']</td>\n",
       "      <td>['37M5pPGs6V1fchFJSgCguX']</td>\n",
       "      <td>2020-09-02</td>\n",
       "      <td>0.535</td>\n",
       "      <td>0.314</td>\n",
       "      <td>7</td>\n",
       "      <td>-12.823</td>\n",
       "      <td>0</td>\n",
       "      <td>0.0408</td>\n",
       "      <td>0.895</td>\n",
       "      <td>0.00015</td>\n",
       "      <td>0.0874</td>\n",
       "      <td>0.0663</td>\n",
       "      <td>145.095</td>\n",
       "      <td>4</td>\n",
       "    </tr>\n",
       "    <tr>\n",
       "      <th>586670</th>\n",
       "      <td>45XJsGpFTyzbzeWK8VzR8S</td>\n",
       "      <td>A Day At A Time</td>\n",
       "      <td>58</td>\n",
       "      <td>142003</td>\n",
       "      <td>0</td>\n",
       "      <td>['Gentle Bones', 'Clara Benin']</td>\n",
       "      <td>['4jGPdu95icCKVF31CcFKbS', '5ebPSE9YI5aLeZ1Z2g...</td>\n",
       "      <td>2021-03-05</td>\n",
       "      <td>0.696</td>\n",
       "      <td>0.615</td>\n",
       "      <td>10</td>\n",
       "      <td>-6.212</td>\n",
       "      <td>1</td>\n",
       "      <td>0.0345</td>\n",
       "      <td>0.206</td>\n",
       "      <td>2.53e-06</td>\n",
       "      <td>0.305</td>\n",
       "      <td>0.438</td>\n",
       "      <td>90.029</td>\n",
       "      <td>4</td>\n",
       "    </tr>\n",
       "    <tr>\n",
       "      <th>586671</th>\n",
       "      <td>5Ocn6dZ3BJFPWh4ylwFXtn</td>\n",
       "      <td>Mar de Emociones</td>\n",
       "      <td>38</td>\n",
       "      <td>214360</td>\n",
       "      <td>0</td>\n",
       "      <td>['Afrosound']</td>\n",
       "      <td>['0i4Qda0k4nf7jnNHmSNpYv']</td>\n",
       "      <td>2015-07-01</td>\n",
       "      <td>0.686</td>\n",
       "      <td>0.723</td>\n",
       "      <td>6</td>\n",
       "      <td>-7.067</td>\n",
       "      <td>1</td>\n",
       "      <td>0.0363</td>\n",
       "      <td>0.105</td>\n",
       "      <td>0.0</td>\n",
       "      <td>0.264</td>\n",
       "      <td>0.975</td>\n",
       "      <td>112.204</td>\n",
       "      <td>4</td>\n",
       "    </tr>\n",
       "  </tbody>\n",
       "</table>\n",
       "<p>586672 rows × 20 columns</p>\n",
       "</div>"
      ],
      "text/plain": [
       "                            id                                 name  \\\n",
       "0       35iwgR4jXetI318WEWsa1Q                                Carve   \n",
       "1       021ht4sdgPcrDgSk7JTbKY  Capítulo 2.16 - Banquero Anarquista   \n",
       "2       07A5yehtSnoedViJAZkNnc   Vivo para Quererte - Remasterizado   \n",
       "3       08FmqUhxtyLTn6pAh6bk45        El Prisionero - Remasterizado   \n",
       "4       08y9GfoqCWfOGsKdwojr5e                  Lady of the Evening   \n",
       "...                        ...                                  ...   \n",
       "586667  5rgu12WBIHQtvej2MdHSH0                                  云与海   \n",
       "586668  0NuWgxEp51CutD2pJoF4OM                                blind   \n",
       "586669  27Y1N4Q4U3EfDU5Ubw8ws2            What They'll Say About Us   \n",
       "586670  45XJsGpFTyzbzeWK8VzR8S                      A Day At A Time   \n",
       "586671  5Ocn6dZ3BJFPWh4ylwFXtn                     Mar de Emociones   \n",
       "\n",
       "       popularity duration_ms explicit                          artists  \\\n",
       "0               6      126903        0                          ['Uli']   \n",
       "1               0       98200        0              ['Fernando Pessoa']   \n",
       "2               0      181640        0              ['Ignacio Corsini']   \n",
       "3               0      176907        0              ['Ignacio Corsini']   \n",
       "4               0      163080        0                  ['Dick Haymes']   \n",
       "...           ...         ...      ...                              ...   \n",
       "586667         50      258267        0                      ['阿YueYue']   \n",
       "586668         72      153293        0                   ['ROLE MODEL']   \n",
       "586669         70      187601        0                      ['FINNEAS']   \n",
       "586670         58      142003        0  ['Gentle Bones', 'Clara Benin']   \n",
       "586671         38      214360        0                    ['Afrosound']   \n",
       "\n",
       "                                               id_artists release_date  \\\n",
       "0                              ['45tIt06XoI0Iio4LBEVpls']   1922-02-22   \n",
       "1                              ['14jtPCOoNZwquk5wd9DxrY']   1922-06-01   \n",
       "2                              ['5LiOoJbxVSAMkBS2fUm3X2']   1922-03-21   \n",
       "3                              ['5LiOoJbxVSAMkBS2fUm3X2']   1922-03-21   \n",
       "4                              ['3BiJGZsyX9sJchTqcSA7Su']         1922   \n",
       "...                                                   ...          ...   \n",
       "586667                         ['1QLBXKM5GCpyQQSVMNZqrZ']   2020-09-26   \n",
       "586668                         ['1dy5WNgIKQU6ezkpZs4y8z']   2020-10-21   \n",
       "586669                         ['37M5pPGs6V1fchFJSgCguX']   2020-09-02   \n",
       "586670  ['4jGPdu95icCKVF31CcFKbS', '5ebPSE9YI5aLeZ1Z2g...   2021-03-05   \n",
       "586671                         ['0i4Qda0k4nf7jnNHmSNpYv']   2015-07-01   \n",
       "\n",
       "       danceability  energy key loudness mode speechiness acousticness  \\\n",
       "0             0.645   0.445   0  -13.338    1       0.451        0.674   \n",
       "1             0.695   0.263   0  -22.136    1       0.957        0.797   \n",
       "2             0.434   0.177   1   -21.18    1      0.0512        0.994   \n",
       "3             0.321  0.0946   7  -27.961    1      0.0504        0.995   \n",
       "4             0.402   0.158   3    -16.9    0       0.039        0.989   \n",
       "...             ...     ...  ..      ...  ...         ...          ...   \n",
       "586667         0.56   0.518   0   -7.471    0      0.0292        0.785   \n",
       "586668        0.765   0.663   0   -5.223    1      0.0652        0.141   \n",
       "586669        0.535   0.314   7  -12.823    0      0.0408        0.895   \n",
       "586670        0.696   0.615  10   -6.212    1      0.0345        0.206   \n",
       "586671        0.686   0.723   6   -7.067    1      0.0363        0.105   \n",
       "\n",
       "       instrumentalness liveness valence    tempo time_signature  \n",
       "0                 0.744    0.151   0.127  104.851              3  \n",
       "1                   0.0    0.148   0.655  102.009              1  \n",
       "2                0.0218    0.212   0.457  130.418              5  \n",
       "3                 0.918    0.104   0.397   169.98              3  \n",
       "4                  0.13    0.311   0.196   103.22              4  \n",
       "...                 ...      ...     ...      ...            ...  \n",
       "586667              0.0   0.0648   0.211  131.896              4  \n",
       "586668         0.000297   0.0924   0.686  150.091              4  \n",
       "586669          0.00015   0.0874  0.0663  145.095              4  \n",
       "586670         2.53e-06    0.305   0.438   90.029              4  \n",
       "586671              0.0    0.264   0.975  112.204              4  \n",
       "\n",
       "[586672 rows x 20 columns]"
      ]
     },
     "execution_count": 8,
     "metadata": {},
     "output_type": "execute_result"
    }
   ],
   "source": [
    "tracks_df.toPandas()"
   ]
  },
  {
   "cell_type": "code",
   "execution_count": 9,
   "metadata": {},
   "outputs": [
    {
     "data": {
      "text/plain": [
       "['id',\n",
       " 'name',\n",
       " 'popularity',\n",
       " 'duration_ms',\n",
       " 'explicit',\n",
       " 'artists',\n",
       " 'id_artists',\n",
       " 'release_date',\n",
       " 'danceability',\n",
       " 'energy',\n",
       " 'key',\n",
       " 'loudness',\n",
       " 'mode',\n",
       " 'speechiness',\n",
       " 'acousticness',\n",
       " 'instrumentalness',\n",
       " 'liveness',\n",
       " 'valence',\n",
       " 'tempo',\n",
       " 'time_signature']"
      ]
     },
     "execution_count": 9,
     "metadata": {},
     "output_type": "execute_result"
    }
   ],
   "source": [
    "tracks_df.columns"
   ]
  },
  {
   "cell_type": "code",
   "execution_count": 10,
   "metadata": {},
   "outputs": [
    {
     "data": {
      "text/plain": [
       "586672"
      ]
     },
     "execution_count": 10,
     "metadata": {},
     "output_type": "execute_result"
    }
   ],
   "source": [
    "tracks_df.count()"
   ]
  },
  {
   "cell_type": "code",
   "execution_count": 11,
   "metadata": {},
   "outputs": [
    {
     "data": {
      "text/plain": [
       "1104349"
      ]
     },
     "execution_count": 11,
     "metadata": {},
     "output_type": "execute_result"
    }
   ],
   "source": [
    "artist_df.count()"
   ]
  },
  {
   "cell_type": "code",
   "execution_count": 12,
   "metadata": {
    "scrolled": true
   },
   "outputs": [
    {
     "data": {
      "text/html": [
       "<div>\n",
       "<style scoped>\n",
       "    .dataframe tbody tr th:only-of-type {\n",
       "        vertical-align: middle;\n",
       "    }\n",
       "\n",
       "    .dataframe tbody tr th {\n",
       "        vertical-align: top;\n",
       "    }\n",
       "\n",
       "    .dataframe thead th {\n",
       "        text-align: right;\n",
       "    }\n",
       "</style>\n",
       "<table border=\"1\" class=\"dataframe\">\n",
       "  <thead>\n",
       "    <tr style=\"text-align: right;\">\n",
       "      <th></th>\n",
       "      <th>id</th>\n",
       "      <th>followers</th>\n",
       "      <th>genres</th>\n",
       "      <th>name</th>\n",
       "      <th>popularity</th>\n",
       "    </tr>\n",
       "  </thead>\n",
       "  <tbody>\n",
       "    <tr>\n",
       "      <th>0</th>\n",
       "      <td>0DheY5irMjBUeLybbCUEZ2</td>\n",
       "      <td>0.0</td>\n",
       "      <td>[]</td>\n",
       "      <td>Armid &amp; Amir Zare Pashai feat. Sara Rouzbehani</td>\n",
       "      <td>0</td>\n",
       "    </tr>\n",
       "    <tr>\n",
       "      <th>1</th>\n",
       "      <td>0DlhY15l3wsrnlfGio2bjU</td>\n",
       "      <td>5.0</td>\n",
       "      <td>[]</td>\n",
       "      <td>ปูนา ภาวิณี</td>\n",
       "      <td>0</td>\n",
       "    </tr>\n",
       "    <tr>\n",
       "      <th>2</th>\n",
       "      <td>0DmRESX2JknGPQyO15yxg7</td>\n",
       "      <td>0.0</td>\n",
       "      <td>[]</td>\n",
       "      <td>Sadaa</td>\n",
       "      <td>0</td>\n",
       "    </tr>\n",
       "    <tr>\n",
       "      <th>3</th>\n",
       "      <td>0DmhnbHjm1qw6NCYPeZNgJ</td>\n",
       "      <td>0.0</td>\n",
       "      <td>[]</td>\n",
       "      <td>Tra'gruda</td>\n",
       "      <td>0</td>\n",
       "    </tr>\n",
       "    <tr>\n",
       "      <th>4</th>\n",
       "      <td>0Dn11fWM7vHQ3rinvWEl4E</td>\n",
       "      <td>2.0</td>\n",
       "      <td>[]</td>\n",
       "      <td>Ioannis Panoutsopoulos</td>\n",
       "      <td>0</td>\n",
       "    </tr>\n",
       "    <tr>\n",
       "      <th>...</th>\n",
       "      <td>...</td>\n",
       "      <td>...</td>\n",
       "      <td>...</td>\n",
       "      <td>...</td>\n",
       "      <td>...</td>\n",
       "    </tr>\n",
       "    <tr>\n",
       "      <th>1104344</th>\n",
       "      <td>6rJIG42vcWAf1UBdRFlQxB</td>\n",
       "      <td>3345.0</td>\n",
       "      <td>[]</td>\n",
       "      <td>Cody Longo</td>\n",
       "      <td>8</td>\n",
       "    </tr>\n",
       "    <tr>\n",
       "      <th>1104345</th>\n",
       "      <td>1ljurfXKPlGncNdW3J8zJ8</td>\n",
       "      <td>2123.0</td>\n",
       "      <td>['deep acoustic pop']</td>\n",
       "      <td>Right the Stars</td>\n",
       "      <td>18</td>\n",
       "    </tr>\n",
       "    <tr>\n",
       "      <th>1104346</th>\n",
       "      <td>2vnT9YhKIvjVo9LnVjWmr2</td>\n",
       "      <td>26.0</td>\n",
       "      <td>[]</td>\n",
       "      <td>Jesse Giddings</td>\n",
       "      <td>0</td>\n",
       "    </tr>\n",
       "    <tr>\n",
       "      <th>1104347</th>\n",
       "      <td>3ID0E5XCvnJIYZEq043ZoB</td>\n",
       "      <td>406.0</td>\n",
       "      <td>[]</td>\n",
       "      <td>The Boy Band Project</td>\n",
       "      <td>0</td>\n",
       "    </tr>\n",
       "    <tr>\n",
       "      <th>1104348</th>\n",
       "      <td>5m0Y4WSYyai2BU752lCASy</td>\n",
       "      <td>146.0</td>\n",
       "      <td>[]</td>\n",
       "      <td>10 Reasons</td>\n",
       "      <td>1</td>\n",
       "    </tr>\n",
       "  </tbody>\n",
       "</table>\n",
       "<p>1104349 rows × 5 columns</p>\n",
       "</div>"
      ],
      "text/plain": [
       "                             id followers                 genres  \\\n",
       "0        0DheY5irMjBUeLybbCUEZ2       0.0                     []   \n",
       "1        0DlhY15l3wsrnlfGio2bjU       5.0                     []   \n",
       "2        0DmRESX2JknGPQyO15yxg7       0.0                     []   \n",
       "3        0DmhnbHjm1qw6NCYPeZNgJ       0.0                     []   \n",
       "4        0Dn11fWM7vHQ3rinvWEl4E       2.0                     []   \n",
       "...                         ...       ...                    ...   \n",
       "1104344  6rJIG42vcWAf1UBdRFlQxB    3345.0                     []   \n",
       "1104345  1ljurfXKPlGncNdW3J8zJ8    2123.0  ['deep acoustic pop']   \n",
       "1104346  2vnT9YhKIvjVo9LnVjWmr2      26.0                     []   \n",
       "1104347  3ID0E5XCvnJIYZEq043ZoB     406.0                     []   \n",
       "1104348  5m0Y4WSYyai2BU752lCASy     146.0                     []   \n",
       "\n",
       "                                                   name popularity  \n",
       "0        Armid & Amir Zare Pashai feat. Sara Rouzbehani          0  \n",
       "1                                           ปูนา ภาวิณี          0  \n",
       "2                                                 Sadaa          0  \n",
       "3                                             Tra'gruda          0  \n",
       "4                                Ioannis Panoutsopoulos          0  \n",
       "...                                                 ...        ...  \n",
       "1104344                                      Cody Longo          8  \n",
       "1104345                                 Right the Stars         18  \n",
       "1104346                                  Jesse Giddings          0  \n",
       "1104347                            The Boy Band Project          0  \n",
       "1104348                                      10 Reasons          1  \n",
       "\n",
       "[1104349 rows x 5 columns]"
      ]
     },
     "execution_count": 12,
     "metadata": {},
     "output_type": "execute_result"
    }
   ],
   "source": [
    "artist_df.toPandas()"
   ]
  },
  {
   "cell_type": "code",
   "execution_count": 13,
   "metadata": {
    "scrolled": false
   },
   "outputs": [
    {
     "name": "stdout",
     "output_type": "stream",
     "text": [
      "root\n",
      " |-- id: string (nullable = true)\n",
      " |-- followers: string (nullable = true)\n",
      " |-- genres: string (nullable = true)\n",
      " |-- name: string (nullable = true)\n",
      " |-- popularity: string (nullable = true)\n",
      "\n"
     ]
    }
   ],
   "source": [
    "artist_df.printSchema()"
   ]
  },
  {
   "cell_type": "code",
   "execution_count": 14,
   "metadata": {},
   "outputs": [
    {
     "name": "stdout",
     "output_type": "stream",
     "text": [
      "root\n",
      " |-- id: string (nullable = true)\n",
      " |-- name: string (nullable = true)\n",
      " |-- popularity: string (nullable = true)\n",
      " |-- duration_ms: string (nullable = true)\n",
      " |-- explicit: string (nullable = true)\n",
      " |-- artists: string (nullable = true)\n",
      " |-- id_artists: string (nullable = true)\n",
      " |-- release_date: string (nullable = true)\n",
      " |-- danceability: string (nullable = true)\n",
      " |-- energy: string (nullable = true)\n",
      " |-- key: string (nullable = true)\n",
      " |-- loudness: string (nullable = true)\n",
      " |-- mode: string (nullable = true)\n",
      " |-- speechiness: string (nullable = true)\n",
      " |-- acousticness: string (nullable = true)\n",
      " |-- instrumentalness: string (nullable = true)\n",
      " |-- liveness: string (nullable = true)\n",
      " |-- valence: string (nullable = true)\n",
      " |-- tempo: string (nullable = true)\n",
      " |-- time_signature: string (nullable = true)\n",
      "\n"
     ]
    }
   ],
   "source": [
    "tracks_df.printSchema()"
   ]
  },
  {
   "cell_type": "markdown",
   "metadata": {},
   "source": [
    "# Data Understanding"
   ]
  },
  {
   "cell_type": "markdown",
   "metadata": {},
   "source": [
    "Scrivere nel report:\n",
    "    significato delle variabili"
   ]
  },
  {
   "cell_type": "markdown",
   "metadata": {},
   "source": [
    "# Data Cleaning"
   ]
  },
  {
   "cell_type": "code",
   "execution_count": 15,
   "metadata": {},
   "outputs": [
    {
     "name": "stdout",
     "output_type": "stream",
     "text": [
      "+---------+\n",
      "| explicit|\n",
      "+---------+\n",
      "|   687600|\n",
      "|   362760|\n",
      "|   240200|\n",
      "|   296467|\n",
      "|   404000|\n",
      "|  Melot)\"|\n",
      "|   211160|\n",
      "|  1191416|\n",
      "|   185347|\n",
      "| Hoffmann|\n",
      "+---------+\n",
      "only showing top 10 rows\n",
      "\n"
     ]
    }
   ],
   "source": [
    "tracks_df.select(\"explicit\").distinct().show(10)"
   ]
  },
  {
   "cell_type": "code",
   "execution_count": 16,
   "metadata": {},
   "outputs": [
    {
     "name": "stdout",
     "output_type": "stream",
     "text": [
      "+---+----+----------+-----------+--------+-------+----------+------------+------------+------+---+--------+----+-----------+------------+----------------+--------+-------+-----+--------------+\n",
      "| id|name|popularity|duration_ms|explicit|artists|id_artists|release_date|danceability|energy|key|loudness|mode|speechiness|acousticness|instrumentalness|liveness|valence|tempo|time_signature|\n",
      "+---+----+----------+-----------+--------+-------+----------+------------+------------+------+---+--------+----+-----------+------------+----------------+--------+-------+-----+--------------+\n",
      "|  0|   0|         0|          0|       0|      0|         0|           0|           0|     0|  0|       0|   0|          0|           0|               0|       0|      0|    0|             0|\n",
      "+---+----+----------+-----------+--------+-------+----------+------------+------------+------+---+--------+----+-----------+------------+----------------+--------+-------+-----+--------------+\n",
      "\n",
      "+---+---------+------+----+----------+\n",
      "| id|followers|genres|name|popularity|\n",
      "+---+---------+------+----+----------+\n",
      "|  0|        0|     0|   5|         0|\n",
      "+---+---------+------+----+----------+\n",
      "\n"
     ]
    }
   ],
   "source": [
    "#missing values\n",
    "tracks_df.select([count(when(isnan(c), c)).alias(c) for c in tracks_df.columns]).show()\n",
    "artist_df.select([count(when(isnan(c), c)).alias(c) for c in artist_df.columns]).show()"
   ]
  },
  {
   "cell_type": "code",
   "execution_count": 17,
   "metadata": {},
   "outputs": [
    {
     "name": "stdout",
     "output_type": "stream",
     "text": [
      "+---+----+----------+-----------+--------+-------+----------+------------+------------+------+---+--------+----+-----------+------------+----------------+--------+-------+-----+--------------+\n",
      "| id|name|popularity|duration_ms|explicit|artists|id_artists|release_date|danceability|energy|key|loudness|mode|speechiness|acousticness|instrumentalness|liveness|valence|tempo|time_signature|\n",
      "+---+----+----------+-----------+--------+-------+----------+------------+------------+------+---+--------+----+-----------+------------+----------------+--------+-------+-----+--------------+\n",
      "|  0|  71|         0|          0|       0|      0|        12|          12|          12|    12| 12|      12|  12|         12|          12|              12|      12|     12|   12|            12|\n",
      "+---+----+----------+-----------+--------+-------+----------+------------+------------+------+---+--------+----+-----------+------------+----------------+--------+-------+-----+--------------+\n",
      "\n",
      "+---+---------+------+----+----------+\n",
      "| id|followers|genres|name|popularity|\n",
      "+---+---------+------+----+----------+\n",
      "|  0|       13|     0|   0|         0|\n",
      "+---+---------+------+----+----------+\n",
      "\n"
     ]
    }
   ],
   "source": [
    "#null values\n",
    "tracks_df.select([count(when(col(c).isNull(), c)).alias(c) for c in tracks_df.columns]).show()\n",
    "artist_df.select([count(when(col(c).isNull(), c)).alias(c) for c in artist_df.columns]).show()"
   ]
  },
  {
   "cell_type": "code",
   "execution_count": 18,
   "metadata": {},
   "outputs": [],
   "source": [
    "artist_df_1 = artist_df.withColumn(\"followers\", artist_df.followers.cast(IntegerType())) \\\n",
    "         .withColumn(\"popularity\", artist_df.popularity.cast(IntegerType()))"
   ]
  },
  {
   "cell_type": "code",
   "execution_count": 19,
   "metadata": {},
   "outputs": [],
   "source": [
    "tracks_df_1 = tracks_df.withColumn(\"duration_ms\", tracks_df.duration_ms.cast(IntegerType())) \\\n",
    "         .withColumn(\"popularity\", tracks_df.popularity.cast(IntegerType())) \\\n",
    "         .withColumn(\"explicit\", tracks_df.explicit.cast(IntegerType())) \\\n",
    "         .withColumn(\"release_date\", tracks_df.release_date.cast(DateType())) \\\n",
    "         .withColumn(\"danceability\", tracks_df.danceability.cast(FloatType())) \\\n",
    "         .withColumn(\"energy\", tracks_df.energy.cast(FloatType())) \\\n",
    "         .withColumn(\"key\", tracks_df.key.cast(IntegerType())) \\\n",
    "         .withColumn(\"loudness\", tracks_df.loudness.cast(FloatType())) \\\n",
    "         .withColumn(\"mode\", tracks_df.mode.cast(IntegerType())) \\\n",
    "         .withColumn(\"speechiness\", tracks_df.speechiness.cast(FloatType())) \\\n",
    "         .withColumn(\"acousticness\", tracks_df.acousticness.cast(FloatType())) \\\n",
    "         .withColumn(\"instrumentalness\", tracks_df.instrumentalness.cast(FloatType())) \\\n",
    "         .withColumn(\"liveness\", tracks_df.liveness.cast(FloatType())) \\\n",
    "         .withColumn(\"valence\", tracks_df.valence.cast(FloatType())) \\\n",
    "         .withColumn(\"tempo\", tracks_df.tempo.cast(FloatType())) \\\n",
    "         .withColumn(\"time_signature\", tracks_df.time_signature.cast(IntegerType()))  "
   ]
  },
  {
   "cell_type": "code",
   "execution_count": 20,
   "metadata": {},
   "outputs": [
    {
     "name": "stdout",
     "output_type": "stream",
     "text": [
      "+---+----+----------+-----------+--------+-------+----------+------------+------------+------+---+--------+----+-----------+------------+----------------+--------+-------+-----+--------------+\n",
      "| id|name|popularity|duration_ms|explicit|artists|id_artists|release_date|danceability|energy|key|loudness|mode|speechiness|acousticness|instrumentalness|liveness|valence|tempo|time_signature|\n",
      "+---+----+----------+-----------+--------+-------+----------+------------+------------+------+---+--------+----+-----------+------------+----------------+--------+-------+-----+--------------+\n",
      "|  0|  71|      1854|        826|     416|      0|        12|        3309|        2286|   859|430|     268| 160|         91|          64|              45|      34|     27|   23|            55|\n",
      "+---+----+----------+-----------+--------+-------+----------+------------+------------+------+---+--------+----+-----------+------------+----------------+--------+-------+-----+--------------+\n",
      "\n",
      "+---+---------+------+----+----------+\n",
      "| id|followers|genres|name|popularity|\n",
      "+---+---------+------+----+----------+\n",
      "|  0|       13|     0|   0|       530|\n",
      "+---+---------+------+----+----------+\n",
      "\n"
     ]
    }
   ],
   "source": [
    "#null values\n",
    "tracks_df_1.select([count(when(col(c).isNull(), c)).alias(c) for c in tracks_df_1.columns]).show()\n",
    "artist_df_1.select([count(when(col(c).isNull(), c)).alias(c) for c in artist_df_1.columns]).show()"
   ]
  },
  {
   "cell_type": "code",
   "execution_count": 21,
   "metadata": {},
   "outputs": [],
   "source": [
    "tracks_df_2 = tracks_df_1.filter(col(\"release_date\").isNotNull())\n",
    "artist_df_2 = artist_df_1.withColumn('popularity', coalesce(artist_df_1['popularity'], lit(0))) \\\n",
    "                         .withColumn('followers', coalesce(artist_df_1['followers'], lit(0)))\n"
   ]
  },
  {
   "cell_type": "code",
   "execution_count": 22,
   "metadata": {},
   "outputs": [
    {
     "name": "stdout",
     "output_type": "stream",
     "text": [
      "+---+----+----------+-----------+--------+-------+----------+------------+------------+------+---+--------+----+-----------+------------+----------------+--------+-------+-----+--------------+\n",
      "| id|name|popularity|duration_ms|explicit|artists|id_artists|release_date|danceability|energy|key|loudness|mode|speechiness|acousticness|instrumentalness|liveness|valence|tempo|time_signature|\n",
      "+---+----+----------+-----------+--------+-------+----------+------------+------------+------+---+--------+----+-----------+------------+----------------+--------+-------+-----+--------------+\n",
      "|  0|  71|         0|          0|       0|      0|         0|           0|           0|     0|  0|       0|   0|          0|           0|               0|       0|      0|    0|             0|\n",
      "+---+----+----------+-----------+--------+-------+----------+------------+------------+------+---+--------+----+-----------+------------+----------------+--------+-------+-----+--------------+\n",
      "\n",
      "+---+---------+------+----+----------+\n",
      "| id|followers|genres|name|popularity|\n",
      "+---+---------+------+----+----------+\n",
      "|  0|        0|     0|   0|         0|\n",
      "+---+---------+------+----+----------+\n",
      "\n"
     ]
    }
   ],
   "source": [
    "#null values\n",
    "tracks_df_2.select([count(when(col(c).isNull(), c)).alias(c) for c in tracks_df_2.columns]).show()\n",
    "artist_df_2.select([count(when(col(c).isNull(), c)).alias(c) for c in artist_df_2.columns]).show()"
   ]
  },
  {
   "cell_type": "code",
   "execution_count": 23,
   "metadata": {},
   "outputs": [
    {
     "data": {
      "text/plain": [
       "583363"
      ]
     },
     "execution_count": 23,
     "metadata": {},
     "output_type": "execute_result"
    }
   ],
   "source": [
    "tracks_df_2.count()"
   ]
  },
  {
   "cell_type": "code",
   "execution_count": 24,
   "metadata": {},
   "outputs": [
    {
     "data": {
      "text/plain": [
       "1104349"
      ]
     },
     "execution_count": 24,
     "metadata": {},
     "output_type": "execute_result"
    }
   ],
   "source": [
    "artist_df_2.count()"
   ]
  },
  {
   "cell_type": "markdown",
   "metadata": {},
   "source": [
    "# Data Integration"
   ]
  },
  {
   "cell_type": "code",
   "execution_count": 25,
   "metadata": {},
   "outputs": [],
   "source": [
    "artist_df_3 = artist_df_2.withColumn(\n",
    "    \"genres\",\n",
    "    split(regexp_replace(col(\"genres\"), r\"(^\\[)|(\\]$)|(')\", \"\"), \", \")\n",
    ")"
   ]
  },
  {
   "cell_type": "code",
   "execution_count": 26,
   "metadata": {},
   "outputs": [
    {
     "data": {
      "text/plain": [
       "DataFrame[id: string, name: string, popularity: int, duration_ms: int, explicit: int, artists: string, id_artists: array<string>, release_date: date, danceability: float, energy: float, key: int, loudness: float, mode: int, speechiness: float, acousticness: float, instrumentalness: float, liveness: float, valence: float, tempo: float, time_signature: int]"
      ]
     },
     "execution_count": 26,
     "metadata": {},
     "output_type": "execute_result"
    }
   ],
   "source": [
    "tracks_df_wk0= tracks_df_2.withColumn(\n",
    "    \"id_artists\",\n",
    "    split(regexp_replace(col(\"id_artists\"), r\"(^\\[)|(\\]$)|(')\", \"\"), \", \")\n",
    ")\n",
    "tracks_df_wk0"
   ]
  },
  {
   "cell_type": "code",
   "execution_count": 27,
   "metadata": {},
   "outputs": [],
   "source": [
    "windowSpec = Window.partitionBy(\"id_track\") "
   ]
  },
  {
   "cell_type": "code",
   "execution_count": 28,
   "metadata": {},
   "outputs": [],
   "source": [
    "tracks_df_wk1 = tracks_df_wk0.select(col(\"id\").alias(\"id_track\"), \"duration_ms\", col(\"popularity\").alias(\"popularity_track\"),\"explicit\", explode(tracks_df_wk0.id_artists).alias(\"id_artist\"),\"release_date\",\"danceability\",\"energy\",\"key\",\"loudness\",\"mode\", \"speechiness\",\"acousticness\",\"instrumentalness\",\"liveness\",\"valence\",\"tempo\",\"time_signature\")\n",
    "\n",
    "\n",
    "\n",
    "tracks_df_wk2 = tracks_df_wk1.join(artist_df_3, tracks_df_wk1.id_artist==artist_df.id,\"left\") \\\n",
    "           .withColumn(\"sum_artist_followers\",sum(col(\"followers\")).over(windowSpec)) \\\n",
    "           .withColumn(\"sum_artist_popularity\",sum(col(\"popularity\")).over(windowSpec)) \\\n",
    "           .withColumn(\"collect_list_genres\", collect_list(\"genres\").over(windowSpec)) \\\n",
    "           .select(\"id_track\", \"popularity_track\",  \"duration_ms\", \"collect_list_genres\", \"release_date\",\"danceability\",\"energy\",\"key\",\"loudness\",\"mode\", \"speechiness\",\"acousticness\",\"instrumentalness\",\"liveness\",\"valence\",\"tempo\",\"time_signature\", \"sum_artist_followers\", \"sum_artist_popularity\").distinct()\n",
    "\n"
   ]
  },
  {
   "cell_type": "code",
   "execution_count": 29,
   "metadata": {
    "scrolled": false
   },
   "outputs": [
    {
     "name": "stdout",
     "output_type": "stream",
     "text": [
      "+-------------------------------------------------------------------------------------------------------------------------------------------------------------------------------------------------------------------------------------------------------------------------------------------------------------------+\n",
      "|collect_list_genres                                                                                                                                                                                                                                                                                                |\n",
      "+-------------------------------------------------------------------------------------------------------------------------------------------------------------------------------------------------------------------------------------------------------------------------------------------------------------------+\n",
      "|[[afro house, funky house, soulful house], [\"[deep house, disco house, funky house, funky tech house, house, italian tech house, \"\"jackin house\"\"]]                                                                                                                                                                |\n",
      "|[[mariachi, ranchera]]                                                                                                                                                                                                                                                                                             |\n",
      "|[[chanson, french jazz, french pop]]                                                                                                                                                                                                                                                                               |\n",
      "|[[czech folk, czech rock]]                                                                                                                                                                                                                                                                                         |\n",
      "|[[downtempo, new age]]                                                                                                                                                                                                                                                                                             |\n",
      "|[[colombian rock, latin, latin alternative, latin pop, latin rock, rock en espanol]]                                                                                                                                                                                                                               |\n",
      "|[[peruvian rock, pop peruano, pop reggaeton]]                                                                                                                                                                                                                                                                      |\n",
      "|[[adult standards, vocal jazz]]                                                                                                                                                                                                                                                                                    |\n",
      "|[[irish country, irish folk]]                                                                                                                                                                                                                                                                                      |\n",
      "|[[anime]]                                                                                                                                                                                                                                                                                                          |\n",
      "|[[brass ensemble], [], [classical, early music, italian renaissance, renaissance], [brass ensemble]]                                                                                                                                                                                                               |\n",
      "|[[afrobeat, classic soul, funk, jazz funk, psychedelic soul, soul, southern soul]]                                                                                                                                                                                                                                 |\n",
      "|[[classic soul, disco, funk, motown, quiet storm, soul, southern soul]]                                                                                                                                                                                                                                            |\n",
      "|[[poetry]]                                                                                                                                                                                                                                                                                                         |\n",
      "|[[classic schlager, volksmusik]]                                                                                                                                                                                                                                                                                   |\n",
      "|[[kindermusik, kleine hoerspiel], []]                                                                                                                                                                                                                                                                              |\n",
      "|[[art punk, art rock, folk rock, permanent wave, protopunk, rock]]                                                                                                                                                                                                                                                 |\n",
      "|[[brega, pop nacional antigas, velha guarda]]                                                                                                                                                                                                                                                                      |\n",
      "|[[bossa nova, brazilian boogie, brazilian soul, mpb, samba]]                                                                                                                                                                                                                                                       |\n",
      "|[[black metal, folk black metal, folk metal, metal, norwegian black metal, norwegian metal, progressive black metal, viking black metal, viking metal]]                                                                                                                                                            |\n",
      "|[[], [greek pop, laiko]]                                                                                                                                                                                                                                                                                           |\n",
      "|[[avant-garde jazz, bebop, cool jazz, free jazz, hard bop, jazz, jazz piano, soul jazz, stride, vocal jazz]]                                                                                                                                                                                                       |\n",
      "|[[album rock, classic rock, mellow gold, rock, soft rock]]                                                                                                                                                                                                                                                         |\n",
      "|[[desi pop, filmi, indian indie, modern bollywood, sufi]]                                                                                                                                                                                                                                                          |\n",
      "|[[chill r&b, k-pop, korean r&b]]                                                                                                                                                                                                                                                                                   |\n",
      "|[[jewish a capella, jewish pop]]                                                                                                                                                                                                                                                                                   |\n",
      "|[[album rock, danish metal, danish rock, glam metal, hard rock, melodic hard rock, metal, power metal]]                                                                                                                                                                                                            |\n",
      "|[[alternative metal, alternative rock, pop rock, post-grunge, rock]]                                                                                                                                                                                                                                               |\n",
      "|[[gabba, happy hardcore, hardcore techno], [frenchcore, gabba, happy hardcore, hardcore techno, uptempo hardcore]]                                                                                                                                                                                                 |\n",
      "|[[israeli indie, new americana]]                                                                                                                                                                                                                                                                                   |\n",
      "|[[corridos cristianos, latin christian, musica cristiana guatemalteca]]                                                                                                                                                                                                                                            |\n",
      "|[[basshall]]                                                                                                                                                                                                                                                                                                       |\n",
      "|[[classic icelandic pop], [classic icelandic pop, icelandic rock]]                                                                                                                                                                                                                                                 |\n",
      "|[[c-pop, classic cantopop, classic mandopop, vintage chinese pop], []]                                                                                                                                                                                                                                             |\n",
      "|[[hungarian hip hop]]                                                                                                                                                                                                                                                                                              |\n",
      "|[[bubblegum dance, classic schlager, german pop, german rock, partyschlager, schlager], [classic schlager, german pop, partyschlager, schlager]]                                                                                                                                                                   |\n",
      "|[[desi hip hop, filmi, tamil hip hop], [filmi, modern bollywood]]                                                                                                                                                                                                                                                  |\n",
      "|[[australian hip hop]]                                                                                                                                                                                                                                                                                             |\n",
      "|[[dance pop, pop, post-teen pop], [dance pop, edm, electro house, electropop, electropowerpop, indie poptimism, pop, pop dance, pop edm, tropical house]]                                                                                                                                                          |\n",
      "|[[alternative metal, pop punk]]                                                                                                                                                                                                                                                                                    |\n",
      "|[[classical, post-romantic era], [classical tenor, komedi, opera]]                                                                                                                                                                                                                                                 |\n",
      "|[[], [], [classic israeli pop]]                                                                                                                                                                                                                                                                                    |\n",
      "|[[brooklyn drill, melodic rap, nyc rap], [hip hop, rap, southern hip hop, tennessee hip hop, trap], [atl hip hop, hip hop, pop rap, rap, southern hip hop, trap]]                                                                                                                                                  |\n",
      "|[[indie cafe pop, norwegian pop, tropical house]]                                                                                                                                                                                                                                                                  |\n",
      "|[[avant-garde jazz, british jazz, free jazz, jazz saxophone]]                                                                                                                                                                                                                                                      |\n",
      "|[[latin alternative, latin rock, panamanian pop, panamanian rock, rock en espanol]]                                                                                                                                                                                                                                |\n",
      "|[[dance pop, deep euro house, deep house, edm, german dance, pop, pop dance, tropical house], [edm, melbourne bounce international, pop dance, slap house, tropical house], [eurodance, italo dance, slap house]]                                                                                                  |\n",
      "|[[chunchaca]]                                                                                                                                                                                                                                                                                                      |\n",
      "|[[classical performance, violin], [historic orchestral performance, orchestral performance], [classical, german romanticism, late romantic era]]                                                                                                                                                                   |\n",
      "|[[nordic folk, sami, yoik]]                                                                                                                                                                                                                                                                                        |\n",
      "|[[album rock, classic rock, glam metal, hard rock, rock, sacramento indie]]                                                                                                                                                                                                                                        |\n",
      "|[[vlaamse kinderliedje]]                                                                                                                                                                                                                                                                                           |\n",
      "|[[funk, instrumental soul, jazz funk, jazz fusion, jazz piano, soul, soul jazz]]                                                                                                                                                                                                                                   |\n",
      "|[[french classical piano]]                                                                                                                                                                                                                                                                                         |\n",
      "|[[classical performance, historic orchestral performance, orchestral performance], [american orchestra, classical, classical performance, orchestra], [classical, classical era]]                                                                                                                                  |\n",
      "|[[classic k-pop, k-indie, k-rock, korean electropop, korean pop]]                                                                                                                                                                                                                                                  |\n",
      "|[[dessin anime, ye ye]]                                                                                                                                                                                                                                                                                            |\n",
      "|[[britpop, dance-punk, indie rock, modern alternative rock, modern rock, new rave, newcastle indie, rock]]                                                                                                                                                                                                         |\n",
      "|[[slovak pop], []]                                                                                                                                                                                                                                                                                                 |\n",
      "|[[funk carioca, pop rap brasileiro], [brazilian hip hop, trap brasileiro]]                                                                                                                                                                                                                                         |\n",
      "|[[], [c-pop, classic mandopop, mandopop, taiwan singer-songwriter]]                                                                                                                                                                                                                                                |\n",
      "|[[classical tenor, opera, operatic pop], [tango], [], [latin classical]]                                                                                                                                                                                                                                           |\n",
      "|[[disco, new wave pop, soft rock], [italian adult pop, mexican pop]]                                                                                                                                                                                                                                               |\n",
      "|[[classical soprano, opera], [operetta], [exotica, lounge, space age pop]]                                                                                                                                                                                                                                         |\n",
      "|[[canadian hip hop, canadian pop, hip hop, pop rap, rap, toronto rap], [atl hip hop, lgbtq+ hip hop, trap, underground hip hop]]                                                                                                                                                                                   |\n",
      "|[[swedish hip hop]]                                                                                                                                                                                                                                                                                                |\n",
      "|[[folklore argentino, pop romantico]]                                                                                                                                                                                                                                                                              |\n",
      "|[[], [j-metal, j-rock, oshare kei, visual kei]]                                                                                                                                                                                                                                                                    |\n",
      "|[[french hip hop, pop urbaine, rap francais], [french hip hop, pop urbaine, rap calme, rap francais, rap inde]]                                                                                                                                                                                                    |\n",
      "|[[garage rock, modern alternative rock, modern rock, rock, scottish rock]]                                                                                                                                                                                                                                         |\n",
      "|[[deutsch disney], [disney, hollywood, movie tunes], [deutsch disney], [deutsch disney]]                                                                                                                                                                                                                           |\n",
      "|[[desi hip hop, filmi, tamil hip hop], [filmi]]                                                                                                                                                                                                                                                                    |\n",
      "|[[filmi, tamil pop], [classic tollywood, filmi, tollywood], [tollywood]]                                                                                                                                                                                                                                           |\n",
      "|[[croatian indie, yugoslav new wave, yugoslav rock]]                                                                                                                                                                                                                                                               |\n",
      "|[[rock steady], [rock steady]]                                                                                                                                                                                                                                                                                     |\n",
      "|[[appalachian folk, banjo, country gospel, old-time, traditional folk, vintage country folk, vintage old-time]]                                                                                                                                                                                                    |\n",
      "|[[belgian pop], [belgian edm, edm, pop, pop dance, tropical house]]                                                                                                                                                                                                                                                |\n",
      "|[[anthem worship, ccm, christian music, roots worship, worship], [latin worship]]                                                                                                                                                                                                                                  |\n",
      "|[[], [opera], [austrian orchestra, classical performance], [], [italian tenor], [classical, italian opera, italian romanticism, late romantic era]]                                                                                                                                                                |\n",
      "|[[modern bollywood], [modern bollywood, tollywood]]                                                                                                                                                                                                                                                                |\n",
      "|[[barnalog], [classic icelandic pop, icelandic rock]]                                                                                                                                                                                                                                                              |\n",
      "|[[dance pop, hip hop, pop, pop rap, r&b, rap, southern hip hop, urban contemporary], [chicago rap, dirty south rap, gangster rap, hip hop, pop rap, rap, trap, urban contemporary], [dirty south rap, gangster rap, hip hop, pop rap, rap, southern hip hop, trap], [hip hop, new orleans rap, pop rap, rap, trap]]|\n",
      "|[[dominican pop, trap dominicano, trap latino]]                                                                                                                                                                                                                                                                    |\n",
      "|[[traditional folk, vintage country folk]]                                                                                                                                                                                                                                                                         |\n",
      "|[[finnish dance pop, finnish hip hop, finnish pop], [eurovision, finnish dance pop, finnish pop, iskelma]]                                                                                                                                                                                                         |\n",
      "|[[turkish jazz, world fusion]]                                                                                                                                                                                                                                                                                     |\n",
      "|[[easy listening], [classical soprano], [classical, early romantic era, italian opera, italian romanticism]]                                                                                                                                                                                                       |\n",
      "|[[south african country]]                                                                                                                                                                                                                                                                                          |\n",
      "|[[classical, french romanticism, late romantic era], [orchestra, russian orchestra], [cello, classical cello], [classical performance, classical piano, ukrainian classical piano], [], []]                                                                                                                        |\n",
      "|[[], [], [baroque, classical, early music, english baroque], []]                                                                                                                                                                                                                                                   |\n",
      "|[[classical performance, orchestral performance], [french romanticism, late romantic era], [american orchestra, classical performance, orchestra], [classical performance, violin]]                                                                                                                                |\n",
      "|[[latin christian, merengue]]                                                                                                                                                                                                                                                                                      |\n",
      "|[[german soundtrack, scorecore, soundtrack], [bow pop, ethereal wave, neoclassical darkwave, oceania soundtrack], [], [german soundtrack, soundtrack], [british soundtrack, soundtrack]]                                                                                                                           |\n",
      "|[[ambient trance, downtempo, psychill, space ambient]]                                                                                                                                                                                                                                                             |\n",
      "|[[alternative hip hop, east coast hip hop, hardcore hip hop, hip hop, neo soul, queens hip hop], [funk, neo soul, r&b, soul, urban contemporary]]                                                                                                                                                                  |\n",
      "|[[dance pop, hip pop, pop r&b, pop rap, r&b, southern hip hop, trap, urban contemporary]]                                                                                                                                                                                                                          |\n",
      "|[[classic tollywood, filmi], [carnatic, carnatic vocal, indian classical, veena]]                                                                                                                                                                                                                                  |\n",
      "|[[italian pop, r&b italiano], [italian hip hop, italian pop, r&b italiano, trap italiana]]                                                                                                                                                                                                                         |\n",
      "|[[arkansas country, outlaw country], [pub rock, punk, ska]]                                                                                                                                                                                                                                                        |\n",
      "|[[adult standards, bossa nova, cool jazz, jazz, jazz saxophone, latin jazz, samba-jazz, vocal jazz], []]                                                                                                                                                                                                           |\n",
      "+-------------------------------------------------------------------------------------------------------------------------------------------------------------------------------------------------------------------------------------------------------------------------------------------------------------------+\n",
      "only showing top 100 rows\n",
      "\n"
     ]
    }
   ],
   "source": [
    "tracks_df_wk2.select(\"collect_list_genres\").distinct().show(100, truncate=False)"
   ]
  },
  {
   "cell_type": "code",
   "execution_count": 30,
   "metadata": {},
   "outputs": [
    {
     "name": "stdout",
     "output_type": "stream",
     "text": [
      "root\n",
      " |-- id_track: string (nullable = true)\n",
      " |-- popularity_track: integer (nullable = true)\n",
      " |-- duration_ms: integer (nullable = true)\n",
      " |-- collect_list_genres: array (nullable = false)\n",
      " |    |-- element: array (containsNull = false)\n",
      " |    |    |-- element: string (containsNull = true)\n",
      " |-- release_date: date (nullable = true)\n",
      " |-- danceability: float (nullable = true)\n",
      " |-- energy: float (nullable = true)\n",
      " |-- key: integer (nullable = true)\n",
      " |-- loudness: float (nullable = true)\n",
      " |-- mode: integer (nullable = true)\n",
      " |-- speechiness: float (nullable = true)\n",
      " |-- acousticness: float (nullable = true)\n",
      " |-- instrumentalness: float (nullable = true)\n",
      " |-- liveness: float (nullable = true)\n",
      " |-- valence: float (nullable = true)\n",
      " |-- tempo: float (nullable = true)\n",
      " |-- time_signature: integer (nullable = true)\n",
      " |-- sum_artist_followers: long (nullable = true)\n",
      " |-- sum_artist_popularity: long (nullable = true)\n",
      "\n"
     ]
    }
   ],
   "source": [
    "tracks_df_wk2.printSchema()"
   ]
  },
  {
   "cell_type": "code",
   "execution_count": 31,
   "metadata": {},
   "outputs": [
    {
     "name": "stdout",
     "output_type": "stream",
     "text": [
      "+--------+----------------+-----------+-------------------+------------+------------+------+---+--------+----+-----------+------------+----------------+--------+-------+-----+--------------+--------------------+---------------------+\n",
      "|id_track|popularity_track|duration_ms|collect_list_genres|release_date|danceability|energy|key|loudness|mode|speechiness|acousticness|instrumentalness|liveness|valence|tempo|time_signature|sum_artist_followers|sum_artist_popularity|\n",
      "+--------+----------------+-----------+-------------------+------------+------------+------+---+--------+----+-----------+------------+----------------+--------+-------+-----+--------------+--------------------+---------------------+\n",
      "|       0|               0|          0|                  0|           0|           0|     0|  0|       0|   0|          0|           0|               0|       0|      0|    0|             0|               11038|                11038|\n",
      "+--------+----------------+-----------+-------------------+------------+------------+------+---+--------+----+-----------+------------+----------------+--------+-------+-----+--------------+--------------------+---------------------+\n",
      "\n"
     ]
    }
   ],
   "source": [
    "tracks_df_wk2.select([count(when(col(c).isNull(), c)).alias(c) for c in tracks_df_wk2.columns]).show()"
   ]
  },
  {
   "cell_type": "code",
   "execution_count": 32,
   "metadata": {},
   "outputs": [],
   "source": [
    "df = tracks_df_wk2.withColumn('sum_artist_followers', coalesce(tracks_df_wk2['sum_artist_followers'], lit(0))) \\\n",
    "                  .withColumn('sum_artist_popularity', coalesce(tracks_df_wk2['sum_artist_popularity'], lit(0)))"
   ]
  },
  {
   "cell_type": "code",
   "execution_count": 33,
   "metadata": {},
   "outputs": [
    {
     "name": "stdout",
     "output_type": "stream",
     "text": [
      "+--------+----------------+-----------+-------------------+------------+------------+------+---+--------+----+-----------+------------+----------------+--------+-------+-----+--------------+--------------------+---------------------+\n",
      "|id_track|popularity_track|duration_ms|collect_list_genres|release_date|danceability|energy|key|loudness|mode|speechiness|acousticness|instrumentalness|liveness|valence|tempo|time_signature|sum_artist_followers|sum_artist_popularity|\n",
      "+--------+----------------+-----------+-------------------+------------+------------+------+---+--------+----+-----------+------------+----------------+--------+-------+-----+--------------+--------------------+---------------------+\n",
      "|       0|               0|          0|                  0|           0|           0|     0|  0|       0|   0|          0|           0|               0|       0|      0|    0|             0|                   0|                    0|\n",
      "+--------+----------------+-----------+-------------------+------------+------------+------+---+--------+----+-----------+------------+----------------+--------+-------+-----+--------------+--------------------+---------------------+\n",
      "\n"
     ]
    }
   ],
   "source": [
    "df.select([count(when(col(c).isNull(), c)).alias(c) for c in tracks_df_wk2.columns]).show()"
   ]
  },
  {
   "cell_type": "markdown",
   "metadata": {},
   "source": [
    "# Corellation"
   ]
  },
  {
   "cell_type": "code",
   "execution_count": 35,
   "metadata": {},
   "outputs": [
    {
     "data": {
      "text/plain": [
       "DataFrame[popularity_track: int, duration_ms: int, danceability: float, energy: float, loudness: float, speechiness: float, acousticness: float, instrumentalness: float, liveness: float, valence: float, tempo: float, time_signature: int, sum_artist_followers: bigint, sum_artist_popularity: bigint]"
      ]
     },
     "execution_count": 35,
     "metadata": {},
     "output_type": "execute_result"
    }
   ],
   "source": [
    "#drop delle colonne inutili ai fini della correlazione\n",
    "df.drop(\"id_track\",\"collect_list_genres\",\"release_date\", 'key','mode')"
   ]
  },
  {
   "cell_type": "code",
   "execution_count": 1,
   "metadata": {},
   "outputs": [],
   "source": [
    "#C'è bisogno di normalizzare tutti i valori prima di fare outliers detection e correlazione\n",
    "from pyspark.ml.feature import MinMaxScaler"
   ]
  },
  {
   "cell_type": "code",
   "execution_count": null,
   "metadata": {},
   "outputs": [],
   "source": [
    "#funzione per inserire colonna booleana che indica outliers/non outliers\n",
    "\n",
    "import pyspark.sql.functions as f"
   ]
  },
  {
   "cell_type": "code",
   "execution_count": 54,
   "metadata": {},
   "outputs": [],
   "source": [
    "def calculate_bounds(df):\n",
    "    bounds = {\n",
    "        c: dict(\n",
    "            zip([\"q1\", \"q3\"], df.approxQuantile(c, [0.25, 0.75], 0))\n",
    "        )\n",
    "        for c,d in zip(df.columns, df.dtypes) if d[1] == \"int\"}\n",
    "    \n",
    "\n",
    "    for c in bounds:\n",
    "        iqr = bounds[c]['q3'] - bounds[c]['q1']\n",
    "        bounds[c]['min'] = bounds[c]['q1'] - (iqr * 1.5)\n",
    "        bounds[c]['max'] = bounds[c]['q3'] + (iqr * 1.5)\n",
    "\n",
    "    return bounds"
   ]
  },
  {
   "cell_type": "code",
   "execution_count": 55,
   "metadata": {},
   "outputs": [],
   "source": [
    "def flag_outliers(df, id_col):\n",
    "    bounds = calculate_bounds(df)\n",
    "    outliers = {}\n",
    "\n",
    "    return df.select(c, id_col,\n",
    "        *[\n",
    "            f.when(\n",
    "                ~f.col(c).between(bounds[c]['min'], bounds[c]['max']),\n",
    "                \"yes\"\n",
    "            ).otherwise(\"no\").alias(c+'_outlier')\n",
    "        ]\n",
    "    )"
   ]
  },
  {
   "cell_type": "code",
   "execution_count": 56,
   "metadata": {},
   "outputs": [
    {
     "name": "stdout",
     "output_type": "stream",
     "text": [
      "+--------------------+----------------+-----------+--------------------+------------+------------+------+---+--------+----+-----------+------------+----------------+--------+-------+-------+--------------+--------------------+---------------------+\n",
      "|            id_track|popularity_track|duration_ms| collect_list_genres|release_date|danceability|energy|key|loudness|mode|speechiness|acousticness|instrumentalness|liveness|valence|  tempo|time_signature|sum_artist_followers|sum_artist_popularity|\n",
      "+--------------------+----------------+-----------+--------------------+------------+------------+------+---+--------+----+-----------+------------+----------------+--------+-------+-------+--------------+--------------------+---------------------+\n",
      "|007dUtG6y7FlTx9Ss...|               0|    1695512|[[], [drama, vint...|  1938-07-03|       0.607| 0.484|  2| -12.234|   0|      0.959|        0.99|          2.7E-5|   0.384|  0.453| 69.539|             4|                5877|                   39|\n",
      "|008BXU3kzngyZKVSj...|              58|     205111|[[rap underground...|  2019-12-13|       0.792| 0.764|  5|   -7.19|   1|      0.254|       0.104|             0.0|  0.0956|  0.531|134.996|             4|              502869|                   63|\n",
      "|00c6Awukd5y036LZ9...|               7|     237707|[[classic thai pop]]|  1990-09-30|       0.518| 0.948|  7|  -4.439|   1|      0.123|      0.0194|         1.04E-4|   0.542|  0.541| 90.559|             4|               22034|                   34|\n",
      "|00jY5a4KHZ6vP3d3Z...|              21|     257573|                [[]]|  1995-07-07|       0.699| 0.747|  7|   -9.12|   0|      0.046|       0.309|          0.0013|  0.0821|  0.905|159.816|             4|                4405|                   45|\n",
      "|00srltcgEyzXrMwN9...|              12|     220800|[[arab folk, khal...|  1977-12-01|       0.416| 0.721|  3| -12.038|   1|     0.0599|       0.608|          0.0056|   0.596|  0.858|137.014|             4|               19823|                   21|\n",
      "|016qMOi2XzkoxE0jT...|              10|     384543|[[classic venezue...|  1979-01-01|       0.337| 0.742|  8|  -6.277|   1|     0.0291|        0.56|           0.781|    0.15|  0.256|113.041|             4|               15346|                   28|\n",
      "|01Hx40Nh8Q80skDAN...|              34|     250828|  [[ecuadorian pop]]|  2002-01-01|       0.571| 0.572|  7|  -6.795|   1|     0.0308|       0.462|             0.0|   0.251|  0.461| 150.14|             4|                1247|                   27|\n",
      "|01qL66lWg7DQ7McyT...|               0|     141307|[[tango, vintage ...|  1930-06-21|       0.695| 0.119|  9| -19.459|   0|      0.224|        0.99|         1.91E-4|   0.104|  0.693|130.077|             4|                3528|                   23|\n",
      "|02RkunUrCBLE5J6jY...|              47|     353667|[[new romantic, n...|  1981-01-01|       0.601| 0.789|  4|   -8.73|   1|     0.0611|     5.96E-4|           0.104|   0.248|  0.923|156.459|             4|               33980|                   37|\n",
      "|02UGlYzodYMeucgYo...|              37|     156427|[[alternative roc...|  1991-09-26|       0.341| 0.964| 11|  -5.327|   0|      0.107|     1.26E-5|         1.03E-4|   0.151|  0.459|152.192|             4|            12507294|                   84|\n",
      "|02d04dLJRd4u73gQs...|              30|     482584|[[brazilian house...|  2009-03-13|       0.911| 0.537|  2|   -6.24|   1|      0.078|      0.0117|         0.00256|  0.0434| 0.0934|124.992|             4|             1315900|                  125|\n",
      "|02edCOGggqkbsorwz...|              38|     319840|[[german soundtra...|  2002-01-01|       0.217| 0.139|  9| -13.874|   0|     0.0379|       0.955|           0.306|  0.0842|  0.119|117.551|             4|               91886|                   65|\n",
      "|02fOGWCZwMSA3YcWG...|              13|     122467|[[finnish alterna...|  1996-01-01|       0.418| 0.958|  7|  -5.871|   1|       0.05|     0.00108|             0.0|   0.239|  0.731|124.646|             4|              111132|                   55|\n",
      "|02sK0Tt3Y3riIxAPS...|               5|     140227|[[adult standards...|  1954-05-01|       0.513| 0.397|  7| -10.179|   0|     0.0698|       0.968|         3.24E-4|   0.186|   0.69| 72.474|             3|              110364|                   45|\n",
      "|035fB4qKVUc0GOW0o...|              59|     422510|           [[sleep]]|  2009-08-06|         0.0|0.0163|  1| -24.419|   1|        0.0|       0.728|           0.326|   0.111|    0.0|    0.0|             0|               12149|                   62|\n",
      "|03EXP0LV0Bm61VN3J...|              18|     227467|     [[techno kayo]]|  1983-01-01|       0.565| 0.543|  6| -13.433|   0|     0.0247|       0.394|         0.00782|   0.206|  0.721|  99.77|             4|                1478|                   24|\n",
      "|03f7hjTU863N86Ehi...|              49|     161364|[[dutch hip hop, ...|  2016-04-29|       0.438| 0.808|  6|  -5.821|   0|      0.339|     0.00159|             0.0|   0.145|  0.747|179.929|             4|              425984|                   69|\n",
      "|03gKdAQAswBo7v4p8...|              50|     309187|[[alternative dan...|  2003-03-11|       0.723| 0.703|  0|  -9.495|   1|     0.0318|      0.0272|           0.313|  0.0979|  0.767|129.725|             4|              293277|                   55|\n",
      "|04FhwvZALLoGO7CyM...|              31|     186745|[[eurovision, lit...|  2018-04-19|       0.665| 0.791| 10|  -5.471|   1|     0.0303|      0.0313|         1.83E-4|   0.345|  0.703|107.999|             4|               22660|                   79|\n",
      "|04KlcdWJHN1AhoJCl...|              14|     469853|[[italian progres...|  1975-01-01|       0.271| 0.848|  5| -10.391|   0|     0.0775|     0.00441|            0.63|   0.113|  0.385|158.579|             4|               23600|                   30|\n",
      "+--------------------+----------------+-----------+--------------------+------------+------------+------+---+--------+----+-----------+------------+----------------+--------+-------+-------+--------------+--------------------+---------------------+\n",
      "only showing top 20 rows\n",
      "\n"
     ]
    }
   ],
   "source": [
    "df.show()"
   ]
  },
  {
   "cell_type": "code",
   "execution_count": 103,
   "metadata": {},
   "outputs": [
    {
     "name": "stdout",
     "output_type": "stream",
     "text": [
      "[[1.0, 0.028081243193228283, 0.1824297923266615, 0.2985896743302211, 0.015118610875600671, 0.3240941435284139, -0.03291895751838687, -0.04820911434198749, -0.3673013799358017, -0.23715259532171518, -0.04819969054997741, -0.0010495145205460894, 0.06930970957474893, 0.08554991934939071, 0.23849048144964238, 0.29881926763390504], [0.028081243193228283, 1.0, -0.12004658363668728, 0.025354233822117895, 0.004619829945856233, 0.0003289740666306844, -0.02798726737382913, -0.12616211598144733, -0.06528614557973234, 0.06859749002781557, 0.0025065110477946882, -0.16332363711037065, -0.0007047854081116178, 0.03769585012428201, 0.026750127313312937, 0.06716875701899026], [0.1824297923266615, -0.12004658363668728, 1.0, 0.23554080980554298, 0.01870516823571957, 0.2449462003786965, -0.0440212531792855, 0.1986371192857825, -0.23720147987275747, -0.22512038524824468, -0.10639760733922368, 0.5244718810745183, -0.04480367690797724, 0.1449387113730715, 0.035361313462442964, -0.01984329677790095], [0.2985896743302211, 0.025354233822117895, 0.23554080980554298, 1.0, 0.036124208739696566, 0.7633237489142063, -0.06457228891728807, -0.054681312743733626, -0.7135025003316059, -0.19634141572726344, 0.12595619255114546, 0.3677421852829086, 0.22845737563734148, 0.18827309411659626, 0.08835125256452239, 0.005347880326598235], [0.015118610875600671, 0.004619829945856233, 0.01870516823571957, 0.036124208739696566, 1.0, 0.027039343930421716, -0.12974949569239783, -0.0011564502903371023, -0.027194973170882288, -0.0071035358947082496, -0.006765797153911003, 0.019818308852779597, 0.004754436304522198, 0.00885841340316594, 0.0026038177401881977, 7.858480056736918e-05], [0.3240941435284139, 0.0003289740666306844, 0.2449462003786965, 0.7633237489142063, 0.027039343930421716, 1.0, -0.039845093413131895, -0.16936418716138574, -0.5164932137239573, -0.3303408484656608, 0.030301480538224842, 0.26978505503669187, 0.18747924597167032, 0.16339099855228373, 0.11641686712134904, -0.021696128868901206], [-0.03291895751838687, -0.02798726737382913, -0.0440212531792855, -0.06457228891728807, -0.12974949569239783, -0.039845093413131895, 1.0, -0.0179116268180113, 0.058120226168628254, -0.009896038673620251, 0.006808846117438924, 0.012399973163792771, 0.008364598646453666, -0.015672519985662856, -0.012085019819639359, -0.01519022359882872], [-0.04820911434198749, -0.12616211598144733, 0.1986371192857825, -0.054681312743733626, -0.0011564502903371023, -0.16936418716138574, -0.0179116268180113, 1.0, 0.07035019742672954, -0.10214741726796217, 0.20765987687864837, 0.04552568462494149, -0.08768915062054185, -0.1150374701791449, -0.020421886632078255, 0.0532930698263245], [-0.3673013799358017, -0.06528614557973234, -0.23720147987275747, -0.7135025003316059, -0.027194973170882288, -0.5164932137239573, 0.058120226168628254, 0.07035019742672954, 1.0, 0.20492447645383552, -0.00548970233850969, -0.17523011744836228, -0.1932452396151089, -0.17314418744628943, -0.10954803995697564, -0.023410725677189836], [-0.23715259532171518, 0.06859749002781557, -0.22512038524824468, -0.19634141572726344, -0.0071035358947082496, -0.3303408484656608, -0.009896038673620251, -0.10214741726796217, 0.20492447645383552, 1.0, -0.03853747573709492, -0.1748349894364981, -0.0553523944594518, -0.04245366752280759, -0.05026952505928417, 0.005374153776687744], [-0.04819969054997741, 0.0025065110477946882, -0.10639760733922368, 0.12595619255114546, -0.006765797153911003, 0.030301480538224842, 0.006808846117438924, 0.20765987687864837, -0.00548970233850969, -0.03853747573709492, 1.0, 0.0003011036497519053, -0.014603133878520828, -0.023987554948863947, 0.001988489454539301, 0.02833997397012282], [-0.0010495145205460894, -0.16332363711037065, 0.5244718810745183, 0.3677421852829086, 0.019818308852779597, 0.26978505503669187, 0.012399973163792771, 0.04552568462494149, -0.17523011744836228, -0.1748349894364981, 0.0003011036497519053, 1.0, 0.13287410182095472, 0.10395424424296291, -0.03362045404133881, -0.10122553166919306], [0.06930970957474893, -0.0007047854081116178, -0.04480367690797724, 0.22845737563734148, 0.004754436304522198, 0.18747924597167032, 0.008364598646453666, -0.08768915062054185, -0.1932452396151089, -0.0553523944594518, -0.014603133878520828, 0.13287410182095472, 1.0, 0.031022622814982602, 0.01133371309723103, -0.03507045119448849], [0.08554991934939071, 0.03769585012428201, 0.1449387113730715, 0.18827309411659626, 0.00885841340316594, 0.16339099855228373, -0.015672519985662856, -0.1150374701791449, -0.17314418744628943, -0.04245366752280759, -0.023987554948863947, 0.10395424424296291, 0.031022622814982602, 1.0, 0.02857065255075883, -0.004524006694642865], [0.23849048144964238, 0.026750127313312937, 0.035361313462442964, 0.08835125256452239, 0.0026038177401881977, 0.11641686712134904, -0.012085019819639359, -0.020421886632078255, -0.10954803995697564, -0.05026952505928417, 0.001988489454539301, -0.03362045404133881, 0.01133371309723103, 0.02857065255075883, 1.0, 0.37028822115807225], [0.29881926763390504, 0.06716875701899026, -0.01984329677790095, 0.005347880326598235, 7.858480056736918e-05, -0.021696128868901206, -0.01519022359882872, 0.0532930698263245, -0.023410725677189836, 0.005374153776687744, 0.02833997397012282, -0.10122553166919306, -0.03507045119448849, -0.004524006694642865, 0.37028822115807225, 1.0]]\n"
     ]
    }
   ],
   "source": [
    "matrix = Correlation.corr(myGraph_vector, vector_col).collect()[0][0]\n",
    "corrmatrix = matrix.toArray().tolist()\n",
    "print(corrmatrix)"
   ]
  },
  {
   "cell_type": "code",
   "execution_count": 41,
   "metadata": {},
   "outputs": [
    {
     "name": "stdout",
     "output_type": "stream",
     "text": [
      "+--------------------+--------------------+--------------------+--------------------+--------------------+--------------------+--------------------+--------------------+--------------------+--------------------+--------------------+--------------------+--------------------+--------------------+--------------------+---------------------+\n",
      "|    popularity_track|         duration_ms|        danceability|              energy|                 key|            loudness|                mode|         speechiness|        acousticness|    instrumentalness|            liveness|             valence|               tempo|      time_signature|sum_artist_followers|sum_artist_popularity|\n",
      "+--------------------+--------------------+--------------------+--------------------+--------------------+--------------------+--------------------+--------------------+--------------------+--------------------+--------------------+--------------------+--------------------+--------------------+--------------------+---------------------+\n",
      "|                 1.0|0.028081243193228272| 0.18242979232666154| 0.29858967433022116|0.015118610875600687|  0.3240941435284139|-0.03291895751838...|-0.04820911434198749| -0.3673013799358017|-0.23715259532171507|-0.04819969054997741|-0.00104951452054...| 0.06930970957474891| 0.08554991934939074| 0.23849048144964238|  0.29881926763390504|\n",
      "|0.028081243193228272|                 1.0|-0.12004658363668733| 0.02535423382211789|0.004619829945856231|3.289740666306808...|-0.02798726737382...|-0.12616211598144728|-0.06528614557973232| 0.06859749002781558|0.002506511047794688|-0.16332363711037062| -7.0478540811162E-4| 0.03769585012428202| 0.02675012731331293|  0.06716875701899026|\n",
      "| 0.18242979232666154|-0.12004658363668733|                 1.0| 0.23554080980554307|0.018705168235719574| 0.24494620037869652|-0.04402125317928...| 0.19863711928578248| -0.2372014798727575|-0.22512038524824474|-0.10639760733922371|  0.5244718810745184|-0.04480367690797725| 0.14493871137307157| 0.03536131346244297| -0.01984329677790...|\n",
      "| 0.29858967433022116| 0.02535423382211789| 0.23554080980554307|                 1.0|0.036124208739696566|  0.7633237489142063|-0.06457228891728807|-0.05468131274373361| -0.7135025003316059|-0.19634141572726344| 0.12595619255114546| 0.36774218528290853| 0.22845737563734145| 0.18827309411659632| 0.08835125256452239| 0.005347880326598234|\n",
      "|0.015118610875600687|0.004619829945856231|0.018705168235719574|0.036124208739696566|                 1.0|0.027039343930421716|-0.12974949569239783|-0.00115645029033...|-0.02719497317088...|-0.00710353589470...|-0.00676579715391...|0.019818308852779597|0.004754436304522197|0.008858413403165535|0.002603817740188...| 7.858480056736918E-5|\n",
      "|  0.3240941435284139|3.289740666306808...| 0.24494620037869652|  0.7633237489142063|0.027039343930421716|                 1.0|-0.03984509341313...|-0.16936418716138568| -0.5164932137239574| -0.3303408484656608|0.030301480538224842| 0.26978505503669187|  0.1874792459716703| 0.16339099855228376| 0.11641686712134904| -0.02169612886890...|\n",
      "|-0.03291895751838...|-0.02798726737382...|-0.04402125317928...|-0.06457228891728807|-0.12974949569239783|-0.03984509341313...|                 1.0|-0.01791162681801...|0.058120226168628254|-0.00989603867362...|0.006808846117438924|0.012399973163792771|0.008364598646453664|-0.01567251998566...|-0.01208501981963...| -0.01519022359882...|\n",
      "|-0.04820911434198749|-0.12616211598144728| 0.19863711928578248|-0.05468131274373361|-0.00115645029033...|-0.16936418716138568|-0.01791162681801...|                 1.0| 0.07035019742672952|-0.10214741726796217| 0.20765987687864837|0.045525684624941505|-0.08768915062054183|-0.11503747017914481|-0.02042188663207824|   0.0532930698263245|\n",
      "| -0.3673013799358017|-0.06528614557973232| -0.2372014798727575| -0.7135025003316059|-0.02719497317088...| -0.5164932137239574|0.058120226168628254| 0.07035019742672952|                 1.0| 0.20492447645383552|-0.00548970233850969|-0.17523011744836228|-0.19324523961510887|-0.17314418744628945|-0.10954803995697564| -0.02341072567718...|\n",
      "|-0.23715259532171507| 0.06859749002781558|-0.22512038524824474|-0.19634141572726344|-0.00710353589470...| -0.3303408484656608|-0.00989603867362...|-0.10214741726796217| 0.20492447645383552|                 1.0|-0.03853747573709492| -0.1748349894364981|-0.05535239445945...|-0.04245366752280752|-0.05026952505928417| 0.005374153776687744|\n",
      "|-0.04819969054997741|0.002506511047794688|-0.10639760733922371| 0.12595619255114546|-0.00676579715391...|0.030301480538224842|0.006808846117438924| 0.20765987687864837|-0.00548970233850969|-0.03853747573709492|                 1.0|3.011036497519054...|-0.01460313387852...|-0.02398755494886...|0.001988489454539301| 0.028339973970122813|\n",
      "|-0.00104951452054...|-0.16332363711037062|  0.5244718810745184| 0.36774218528290853|0.019818308852779597| 0.26978505503669187|0.012399973163792771|0.045525684624941505|-0.17523011744836228| -0.1748349894364981|3.011036497519054...|                 1.0|  0.1328741018209547|  0.1039542442429629|-0.03362045404133881| -0.10122553166919306|\n",
      "| 0.06930970957474891| -7.0478540811162E-4|-0.04480367690797725| 0.22845737563734145|0.004754436304522197|  0.1874792459716703|0.008364598646453664|-0.08768915062054183|-0.19324523961510887|-0.05535239445945...|-0.01460313387852...|  0.1328741018209547|                 1.0|  0.0310226228149826| 0.01133371309723103| -0.03507045119448848|\n",
      "| 0.08554991934939074| 0.03769585012428202| 0.14493871137307157| 0.18827309411659632|0.008858413403165535| 0.16339099855228376|-0.01567251998566...|-0.11503747017914481|-0.17314418744628945|-0.04245366752280752|-0.02398755494886...|  0.1039542442429629|  0.0310226228149826|                 1.0|0.028570652550758815| -0.00452400669464...|\n",
      "| 0.23849048144964238| 0.02675012731331293| 0.03536131346244297| 0.08835125256452239|0.002603817740188...| 0.11641686712134904|-0.01208501981963...|-0.02042188663207824|-0.10954803995697564|-0.05026952505928417|0.001988489454539301|-0.03362045404133881| 0.01133371309723103|0.028570652550758815|                 1.0|  0.37028822115807225|\n",
      "| 0.29881926763390504| 0.06716875701899026|-0.01984329677790...|0.005347880326598234|7.858480056736918E-5|-0.02169612886890...|-0.01519022359882...|  0.0532930698263245|-0.02341072567718...|0.005374153776687744|0.028339973970122813|-0.10122553166919306|-0.03507045119448848|-0.00452400669464...| 0.37028822115807225|                  1.0|\n",
      "+--------------------+--------------------+--------------------+--------------------+--------------------+--------------------+--------------------+--------------------+--------------------+--------------------+--------------------+--------------------+--------------------+--------------------+--------------------+---------------------+\n",
      "\n"
     ]
    }
   ],
   "source": [
    "trick = spark.createDataFrame(corrmatrix,df_corr.columns)\n",
    "trick.show()"
   ]
  },
  {
   "cell_type": "code",
   "execution_count": 42,
   "metadata": {},
   "outputs": [
    {
     "data": {
      "text/plain": [
       "DenseMatrix(16, 16, [1.0, 0.0281, 0.1824, 0.2986, 0.0151, 0.3241, -0.0329, -0.0482, ..., -0.0234, 0.0054, 0.0283, -0.1012, -0.0351, -0.0045, 0.3703, 1.0], False)"
      ]
     },
     "execution_count": 42,
     "metadata": {},
     "output_type": "execute_result"
    }
   ],
   "source": [
    "Correlation.corr(myGraph_vector, vector_col).collect()[0][0]"
   ]
  },
  {
   "cell_type": "code",
   "execution_count": 43,
   "metadata": {},
   "outputs": [
    {
     "data": {
      "text/plain": [
       "[Row(pearson(corr_features)=DenseMatrix(16, 16, [1.0, 0.0281, 0.1824, 0.2986, 0.0151, 0.3241, -0.0329, -0.0482, ..., -0.0234, 0.0054, 0.0283, -0.1012, -0.0351, -0.0045, 0.3703, 1.0], False))]"
      ]
     },
     "execution_count": 43,
     "metadata": {},
     "output_type": "execute_result"
    }
   ],
   "source": [
    "Correlation.corr(myGraph_vector, vector_col).collect()"
   ]
  }
 ],
 "metadata": {
  "kernelspec": {
   "display_name": "Python 3",
   "language": "python",
   "name": "python3"
  },
  "language_info": {
   "codemirror_mode": {
    "name": "ipython",
    "version": 3
   },
   "file_extension": ".py",
   "mimetype": "text/x-python",
   "name": "python",
   "nbconvert_exporter": "python",
   "pygments_lexer": "ipython3",
   "version": "3.7.3"
  }
 },
 "nbformat": 4,
 "nbformat_minor": 4
}
