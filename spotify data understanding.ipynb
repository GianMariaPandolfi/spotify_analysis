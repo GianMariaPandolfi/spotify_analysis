{
 "cells": [
  {
   "cell_type": "code",
   "execution_count": 1,
   "metadata": {},
   "outputs": [
    {
     "ename": "ModuleNotFoundError",
     "evalue": "No module named 'findspark'",
     "output_type": "error",
     "traceback": [
      "\u001b[1;31m---------------------------------------------------------------------------\u001b[0m",
      "\u001b[1;31mModuleNotFoundError\u001b[0m                       Traceback (most recent call last)",
      "\u001b[1;32m<ipython-input-1-770d232d2e94>\u001b[0m in \u001b[0;36m<module>\u001b[1;34m\u001b[0m\n\u001b[1;32m----> 1\u001b[1;33m \u001b[1;32mimport\u001b[0m \u001b[0mfindspark\u001b[0m\u001b[1;33m\u001b[0m\u001b[1;33m\u001b[0m\u001b[0m\n\u001b[0m\u001b[0;32m      2\u001b[0m \u001b[0mfindspark\u001b[0m\u001b[1;33m.\u001b[0m\u001b[0minit\u001b[0m\u001b[1;33m(\u001b[0m\u001b[1;33m)\u001b[0m\u001b[1;33m\u001b[0m\u001b[1;33m\u001b[0m\u001b[0m\n",
      "\u001b[1;31mModuleNotFoundError\u001b[0m: No module named 'findspark'"
     ]
    }
   ],
   "source": [
    "import findspark\n",
    "findspark.init() "
   ]
  },
  {
   "cell_type": "code",
   "execution_count": 2,
   "metadata": {},
   "outputs": [],
   "source": [
    "import pyspark"
   ]
  },
  {
   "cell_type": "code",
   "execution_count": 3,
   "metadata": {},
   "outputs": [],
   "source": [
    "from pyspark.sql import SparkSession\n",
    "from pyspark.sql import SparkSession\n",
    "from pyspark.sql.functions import *\n",
    "from pyspark.sql.window import Window\n",
    "from pyspark.ml.stat import Correlation\n",
    "from pyspark.sql.types import IntegerType,BooleanType,DateType,FloatType, StringType\n",
    "import matplotlib.pyplot as plt \n",
    "import seaborn as sns\n",
    "import pyspark.sql.types as T\n"
   ]
  },
  {
   "cell_type": "code",
   "execution_count": 4,
   "metadata": {},
   "outputs": [],
   "source": [
    "spark = SparkSession \\\n",
    "    .builder \\\n",
    "    .appName(\"Python Spark SQL basic example\") \\\n",
    "    .config(\"spark.some.config.option\", \"some-value\") \\\n",
    "    .getOrCreate()\n",
    "\n",
    "def fudf(val):\n",
    "    return functools.reduce(lambda x, y:x+y, val)"
   ]
  },
  {
   "cell_type": "code",
   "execution_count": 5,
   "metadata": {},
   "outputs": [],
   "source": [
    "artist_df = spark.read.option(\"header\", \"true\").csv(\"spotify_dataset/artists.csv\")"
   ]
  },
  {
   "cell_type": "code",
   "execution_count": 6,
   "metadata": {},
   "outputs": [],
   "source": [
    "tracks_df = spark.read.option(\"header\", \"true\").csv(\"spotify_dataset/tracks.csv\")"
   ]
  },
  {
   "cell_type": "code",
   "execution_count": 7,
   "metadata": {},
   "outputs": [
    {
     "name": "stdout",
     "output_type": "stream",
     "text": [
      "+--------------------+---------+------+--------------------+----------+\n",
      "|                  id|followers|genres|                name|popularity|\n",
      "+--------------------+---------+------+--------------------+----------+\n",
      "|0DheY5irMjBUeLybb...|      0.0|    []|Armid & Amir Zare...|         0|\n",
      "|0DlhY15l3wsrnlfGi...|      5.0|    []|         ปูนา ภาวิณี|         0|\n",
      "|0DmRESX2JknGPQyO1...|      0.0|    []|               Sadaa|         0|\n",
      "|0DmhnbHjm1qw6NCYP...|      0.0|    []|           Tra'gruda|         0|\n",
      "|0Dn11fWM7vHQ3rinv...|      2.0|    []|Ioannis Panoutsop...|         0|\n",
      "|0DotfDlYMGqkbzfBh...|      7.0|    []|       Astral Affect|         0|\n",
      "|0DqP3bOCiC48L8SM9...|      1.0|    []|           Yung Seed|         0|\n",
      "|0Drs3maQb99iRglyT...|      0.0|    []|               Wi'Ma|         0|\n",
      "|0DsPeAi1gxPPnYjgp...|      0.0|    []|             lentboy|         0|\n",
      "|0DtvnTxgZ9K5YaPS5...|     20.0|    []|            addworks|         0|\n",
      "+--------------------+---------+------+--------------------+----------+\n",
      "only showing top 10 rows\n",
      "\n"
     ]
    }
   ],
   "source": [
    "artist_df.show(10)"
   ]
  },
  {
   "cell_type": "code",
   "execution_count": 8,
   "metadata": {},
   "outputs": [
    {
     "data": {
      "text/html": [
       "<div>\n",
       "<style scoped>\n",
       "    .dataframe tbody tr th:only-of-type {\n",
       "        vertical-align: middle;\n",
       "    }\n",
       "\n",
       "    .dataframe tbody tr th {\n",
       "        vertical-align: top;\n",
       "    }\n",
       "\n",
       "    .dataframe thead th {\n",
       "        text-align: right;\n",
       "    }\n",
       "</style>\n",
       "<table border=\"1\" class=\"dataframe\">\n",
       "  <thead>\n",
       "    <tr style=\"text-align: right;\">\n",
       "      <th></th>\n",
       "      <th>id</th>\n",
       "      <th>name</th>\n",
       "      <th>popularity</th>\n",
       "      <th>duration_ms</th>\n",
       "      <th>explicit</th>\n",
       "      <th>artists</th>\n",
       "      <th>id_artists</th>\n",
       "      <th>release_date</th>\n",
       "      <th>danceability</th>\n",
       "      <th>energy</th>\n",
       "      <th>key</th>\n",
       "      <th>loudness</th>\n",
       "      <th>mode</th>\n",
       "      <th>speechiness</th>\n",
       "      <th>acousticness</th>\n",
       "      <th>instrumentalness</th>\n",
       "      <th>liveness</th>\n",
       "      <th>valence</th>\n",
       "      <th>tempo</th>\n",
       "      <th>time_signature</th>\n",
       "    </tr>\n",
       "  </thead>\n",
       "  <tbody>\n",
       "    <tr>\n",
       "      <th>0</th>\n",
       "      <td>35iwgR4jXetI318WEWsa1Q</td>\n",
       "      <td>Carve</td>\n",
       "      <td>6</td>\n",
       "      <td>126903</td>\n",
       "      <td>0</td>\n",
       "      <td>['Uli']</td>\n",
       "      <td>['45tIt06XoI0Iio4LBEVpls']</td>\n",
       "      <td>1922-02-22</td>\n",
       "      <td>0.645</td>\n",
       "      <td>0.445</td>\n",
       "      <td>0</td>\n",
       "      <td>-13.338</td>\n",
       "      <td>1</td>\n",
       "      <td>0.451</td>\n",
       "      <td>0.674</td>\n",
       "      <td>0.744</td>\n",
       "      <td>0.151</td>\n",
       "      <td>0.127</td>\n",
       "      <td>104.851</td>\n",
       "      <td>3</td>\n",
       "    </tr>\n",
       "    <tr>\n",
       "      <th>1</th>\n",
       "      <td>021ht4sdgPcrDgSk7JTbKY</td>\n",
       "      <td>Capítulo 2.16 - Banquero Anarquista</td>\n",
       "      <td>0</td>\n",
       "      <td>98200</td>\n",
       "      <td>0</td>\n",
       "      <td>['Fernando Pessoa']</td>\n",
       "      <td>['14jtPCOoNZwquk5wd9DxrY']</td>\n",
       "      <td>1922-06-01</td>\n",
       "      <td>0.695</td>\n",
       "      <td>0.263</td>\n",
       "      <td>0</td>\n",
       "      <td>-22.136</td>\n",
       "      <td>1</td>\n",
       "      <td>0.957</td>\n",
       "      <td>0.797</td>\n",
       "      <td>0.0</td>\n",
       "      <td>0.148</td>\n",
       "      <td>0.655</td>\n",
       "      <td>102.009</td>\n",
       "      <td>1</td>\n",
       "    </tr>\n",
       "    <tr>\n",
       "      <th>2</th>\n",
       "      <td>07A5yehtSnoedViJAZkNnc</td>\n",
       "      <td>Vivo para Quererte - Remasterizado</td>\n",
       "      <td>0</td>\n",
       "      <td>181640</td>\n",
       "      <td>0</td>\n",
       "      <td>['Ignacio Corsini']</td>\n",
       "      <td>['5LiOoJbxVSAMkBS2fUm3X2']</td>\n",
       "      <td>1922-03-21</td>\n",
       "      <td>0.434</td>\n",
       "      <td>0.177</td>\n",
       "      <td>1</td>\n",
       "      <td>-21.18</td>\n",
       "      <td>1</td>\n",
       "      <td>0.0512</td>\n",
       "      <td>0.994</td>\n",
       "      <td>0.0218</td>\n",
       "      <td>0.212</td>\n",
       "      <td>0.457</td>\n",
       "      <td>130.418</td>\n",
       "      <td>5</td>\n",
       "    </tr>\n",
       "    <tr>\n",
       "      <th>3</th>\n",
       "      <td>08FmqUhxtyLTn6pAh6bk45</td>\n",
       "      <td>El Prisionero - Remasterizado</td>\n",
       "      <td>0</td>\n",
       "      <td>176907</td>\n",
       "      <td>0</td>\n",
       "      <td>['Ignacio Corsini']</td>\n",
       "      <td>['5LiOoJbxVSAMkBS2fUm3X2']</td>\n",
       "      <td>1922-03-21</td>\n",
       "      <td>0.321</td>\n",
       "      <td>0.0946</td>\n",
       "      <td>7</td>\n",
       "      <td>-27.961</td>\n",
       "      <td>1</td>\n",
       "      <td>0.0504</td>\n",
       "      <td>0.995</td>\n",
       "      <td>0.918</td>\n",
       "      <td>0.104</td>\n",
       "      <td>0.397</td>\n",
       "      <td>169.98</td>\n",
       "      <td>3</td>\n",
       "    </tr>\n",
       "    <tr>\n",
       "      <th>4</th>\n",
       "      <td>08y9GfoqCWfOGsKdwojr5e</td>\n",
       "      <td>Lady of the Evening</td>\n",
       "      <td>0</td>\n",
       "      <td>163080</td>\n",
       "      <td>0</td>\n",
       "      <td>['Dick Haymes']</td>\n",
       "      <td>['3BiJGZsyX9sJchTqcSA7Su']</td>\n",
       "      <td>1922</td>\n",
       "      <td>0.402</td>\n",
       "      <td>0.158</td>\n",
       "      <td>3</td>\n",
       "      <td>-16.9</td>\n",
       "      <td>0</td>\n",
       "      <td>0.039</td>\n",
       "      <td>0.989</td>\n",
       "      <td>0.13</td>\n",
       "      <td>0.311</td>\n",
       "      <td>0.196</td>\n",
       "      <td>103.22</td>\n",
       "      <td>4</td>\n",
       "    </tr>\n",
       "    <tr>\n",
       "      <th>...</th>\n",
       "      <td>...</td>\n",
       "      <td>...</td>\n",
       "      <td>...</td>\n",
       "      <td>...</td>\n",
       "      <td>...</td>\n",
       "      <td>...</td>\n",
       "      <td>...</td>\n",
       "      <td>...</td>\n",
       "      <td>...</td>\n",
       "      <td>...</td>\n",
       "      <td>...</td>\n",
       "      <td>...</td>\n",
       "      <td>...</td>\n",
       "      <td>...</td>\n",
       "      <td>...</td>\n",
       "      <td>...</td>\n",
       "      <td>...</td>\n",
       "      <td>...</td>\n",
       "      <td>...</td>\n",
       "      <td>...</td>\n",
       "    </tr>\n",
       "    <tr>\n",
       "      <th>586667</th>\n",
       "      <td>5rgu12WBIHQtvej2MdHSH0</td>\n",
       "      <td>云与海</td>\n",
       "      <td>50</td>\n",
       "      <td>258267</td>\n",
       "      <td>0</td>\n",
       "      <td>['阿YueYue']</td>\n",
       "      <td>['1QLBXKM5GCpyQQSVMNZqrZ']</td>\n",
       "      <td>2020-09-26</td>\n",
       "      <td>0.56</td>\n",
       "      <td>0.518</td>\n",
       "      <td>0</td>\n",
       "      <td>-7.471</td>\n",
       "      <td>0</td>\n",
       "      <td>0.0292</td>\n",
       "      <td>0.785</td>\n",
       "      <td>0.0</td>\n",
       "      <td>0.0648</td>\n",
       "      <td>0.211</td>\n",
       "      <td>131.896</td>\n",
       "      <td>4</td>\n",
       "    </tr>\n",
       "    <tr>\n",
       "      <th>586668</th>\n",
       "      <td>0NuWgxEp51CutD2pJoF4OM</td>\n",
       "      <td>blind</td>\n",
       "      <td>72</td>\n",
       "      <td>153293</td>\n",
       "      <td>0</td>\n",
       "      <td>['ROLE MODEL']</td>\n",
       "      <td>['1dy5WNgIKQU6ezkpZs4y8z']</td>\n",
       "      <td>2020-10-21</td>\n",
       "      <td>0.765</td>\n",
       "      <td>0.663</td>\n",
       "      <td>0</td>\n",
       "      <td>-5.223</td>\n",
       "      <td>1</td>\n",
       "      <td>0.0652</td>\n",
       "      <td>0.141</td>\n",
       "      <td>0.000297</td>\n",
       "      <td>0.0924</td>\n",
       "      <td>0.686</td>\n",
       "      <td>150.091</td>\n",
       "      <td>4</td>\n",
       "    </tr>\n",
       "    <tr>\n",
       "      <th>586669</th>\n",
       "      <td>27Y1N4Q4U3EfDU5Ubw8ws2</td>\n",
       "      <td>What They'll Say About Us</td>\n",
       "      <td>70</td>\n",
       "      <td>187601</td>\n",
       "      <td>0</td>\n",
       "      <td>['FINNEAS']</td>\n",
       "      <td>['37M5pPGs6V1fchFJSgCguX']</td>\n",
       "      <td>2020-09-02</td>\n",
       "      <td>0.535</td>\n",
       "      <td>0.314</td>\n",
       "      <td>7</td>\n",
       "      <td>-12.823</td>\n",
       "      <td>0</td>\n",
       "      <td>0.0408</td>\n",
       "      <td>0.895</td>\n",
       "      <td>0.00015</td>\n",
       "      <td>0.0874</td>\n",
       "      <td>0.0663</td>\n",
       "      <td>145.095</td>\n",
       "      <td>4</td>\n",
       "    </tr>\n",
       "    <tr>\n",
       "      <th>586670</th>\n",
       "      <td>45XJsGpFTyzbzeWK8VzR8S</td>\n",
       "      <td>A Day At A Time</td>\n",
       "      <td>58</td>\n",
       "      <td>142003</td>\n",
       "      <td>0</td>\n",
       "      <td>['Gentle Bones', 'Clara Benin']</td>\n",
       "      <td>['4jGPdu95icCKVF31CcFKbS', '5ebPSE9YI5aLeZ1Z2g...</td>\n",
       "      <td>2021-03-05</td>\n",
       "      <td>0.696</td>\n",
       "      <td>0.615</td>\n",
       "      <td>10</td>\n",
       "      <td>-6.212</td>\n",
       "      <td>1</td>\n",
       "      <td>0.0345</td>\n",
       "      <td>0.206</td>\n",
       "      <td>2.53e-06</td>\n",
       "      <td>0.305</td>\n",
       "      <td>0.438</td>\n",
       "      <td>90.029</td>\n",
       "      <td>4</td>\n",
       "    </tr>\n",
       "    <tr>\n",
       "      <th>586671</th>\n",
       "      <td>5Ocn6dZ3BJFPWh4ylwFXtn</td>\n",
       "      <td>Mar de Emociones</td>\n",
       "      <td>38</td>\n",
       "      <td>214360</td>\n",
       "      <td>0</td>\n",
       "      <td>['Afrosound']</td>\n",
       "      <td>['0i4Qda0k4nf7jnNHmSNpYv']</td>\n",
       "      <td>2015-07-01</td>\n",
       "      <td>0.686</td>\n",
       "      <td>0.723</td>\n",
       "      <td>6</td>\n",
       "      <td>-7.067</td>\n",
       "      <td>1</td>\n",
       "      <td>0.0363</td>\n",
       "      <td>0.105</td>\n",
       "      <td>0.0</td>\n",
       "      <td>0.264</td>\n",
       "      <td>0.975</td>\n",
       "      <td>112.204</td>\n",
       "      <td>4</td>\n",
       "    </tr>\n",
       "  </tbody>\n",
       "</table>\n",
       "<p>586672 rows × 20 columns</p>\n",
       "</div>"
      ],
      "text/plain": [
       "                            id                                 name  \\\n",
       "0       35iwgR4jXetI318WEWsa1Q                                Carve   \n",
       "1       021ht4sdgPcrDgSk7JTbKY  Capítulo 2.16 - Banquero Anarquista   \n",
       "2       07A5yehtSnoedViJAZkNnc   Vivo para Quererte - Remasterizado   \n",
       "3       08FmqUhxtyLTn6pAh6bk45        El Prisionero - Remasterizado   \n",
       "4       08y9GfoqCWfOGsKdwojr5e                  Lady of the Evening   \n",
       "...                        ...                                  ...   \n",
       "586667  5rgu12WBIHQtvej2MdHSH0                                  云与海   \n",
       "586668  0NuWgxEp51CutD2pJoF4OM                                blind   \n",
       "586669  27Y1N4Q4U3EfDU5Ubw8ws2            What They'll Say About Us   \n",
       "586670  45XJsGpFTyzbzeWK8VzR8S                      A Day At A Time   \n",
       "586671  5Ocn6dZ3BJFPWh4ylwFXtn                     Mar de Emociones   \n",
       "\n",
       "       popularity duration_ms explicit                          artists  \\\n",
       "0               6      126903        0                          ['Uli']   \n",
       "1               0       98200        0              ['Fernando Pessoa']   \n",
       "2               0      181640        0              ['Ignacio Corsini']   \n",
       "3               0      176907        0              ['Ignacio Corsini']   \n",
       "4               0      163080        0                  ['Dick Haymes']   \n",
       "...           ...         ...      ...                              ...   \n",
       "586667         50      258267        0                      ['阿YueYue']   \n",
       "586668         72      153293        0                   ['ROLE MODEL']   \n",
       "586669         70      187601        0                      ['FINNEAS']   \n",
       "586670         58      142003        0  ['Gentle Bones', 'Clara Benin']   \n",
       "586671         38      214360        0                    ['Afrosound']   \n",
       "\n",
       "                                               id_artists release_date  \\\n",
       "0                              ['45tIt06XoI0Iio4LBEVpls']   1922-02-22   \n",
       "1                              ['14jtPCOoNZwquk5wd9DxrY']   1922-06-01   \n",
       "2                              ['5LiOoJbxVSAMkBS2fUm3X2']   1922-03-21   \n",
       "3                              ['5LiOoJbxVSAMkBS2fUm3X2']   1922-03-21   \n",
       "4                              ['3BiJGZsyX9sJchTqcSA7Su']         1922   \n",
       "...                                                   ...          ...   \n",
       "586667                         ['1QLBXKM5GCpyQQSVMNZqrZ']   2020-09-26   \n",
       "586668                         ['1dy5WNgIKQU6ezkpZs4y8z']   2020-10-21   \n",
       "586669                         ['37M5pPGs6V1fchFJSgCguX']   2020-09-02   \n",
       "586670  ['4jGPdu95icCKVF31CcFKbS', '5ebPSE9YI5aLeZ1Z2g...   2021-03-05   \n",
       "586671                         ['0i4Qda0k4nf7jnNHmSNpYv']   2015-07-01   \n",
       "\n",
       "       danceability  energy key loudness mode speechiness acousticness  \\\n",
       "0             0.645   0.445   0  -13.338    1       0.451        0.674   \n",
       "1             0.695   0.263   0  -22.136    1       0.957        0.797   \n",
       "2             0.434   0.177   1   -21.18    1      0.0512        0.994   \n",
       "3             0.321  0.0946   7  -27.961    1      0.0504        0.995   \n",
       "4             0.402   0.158   3    -16.9    0       0.039        0.989   \n",
       "...             ...     ...  ..      ...  ...         ...          ...   \n",
       "586667         0.56   0.518   0   -7.471    0      0.0292        0.785   \n",
       "586668        0.765   0.663   0   -5.223    1      0.0652        0.141   \n",
       "586669        0.535   0.314   7  -12.823    0      0.0408        0.895   \n",
       "586670        0.696   0.615  10   -6.212    1      0.0345        0.206   \n",
       "586671        0.686   0.723   6   -7.067    1      0.0363        0.105   \n",
       "\n",
       "       instrumentalness liveness valence    tempo time_signature  \n",
       "0                 0.744    0.151   0.127  104.851              3  \n",
       "1                   0.0    0.148   0.655  102.009              1  \n",
       "2                0.0218    0.212   0.457  130.418              5  \n",
       "3                 0.918    0.104   0.397   169.98              3  \n",
       "4                  0.13    0.311   0.196   103.22              4  \n",
       "...                 ...      ...     ...      ...            ...  \n",
       "586667              0.0   0.0648   0.211  131.896              4  \n",
       "586668         0.000297   0.0924   0.686  150.091              4  \n",
       "586669          0.00015   0.0874  0.0663  145.095              4  \n",
       "586670         2.53e-06    0.305   0.438   90.029              4  \n",
       "586671              0.0    0.264   0.975  112.204              4  \n",
       "\n",
       "[586672 rows x 20 columns]"
      ]
     },
     "execution_count": 8,
     "metadata": {},
     "output_type": "execute_result"
    }
   ],
   "source": [
    "tracks_df.toPandas()"
   ]
  },
  {
   "cell_type": "code",
   "execution_count": 9,
   "metadata": {},
   "outputs": [
    {
     "data": {
      "text/plain": [
       "['id',\n",
       " 'name',\n",
       " 'popularity',\n",
       " 'duration_ms',\n",
       " 'explicit',\n",
       " 'artists',\n",
       " 'id_artists',\n",
       " 'release_date',\n",
       " 'danceability',\n",
       " 'energy',\n",
       " 'key',\n",
       " 'loudness',\n",
       " 'mode',\n",
       " 'speechiness',\n",
       " 'acousticness',\n",
       " 'instrumentalness',\n",
       " 'liveness',\n",
       " 'valence',\n",
       " 'tempo',\n",
       " 'time_signature']"
      ]
     },
     "execution_count": 9,
     "metadata": {},
     "output_type": "execute_result"
    }
   ],
   "source": [
    "tracks_df.columns"
   ]
  },
  {
   "cell_type": "code",
   "execution_count": 10,
   "metadata": {},
   "outputs": [
    {
     "data": {
      "text/plain": [
       "586672"
      ]
     },
     "execution_count": 10,
     "metadata": {},
     "output_type": "execute_result"
    }
   ],
   "source": [
    "tracks_df.count()"
   ]
  },
  {
   "cell_type": "code",
   "execution_count": 11,
   "metadata": {},
   "outputs": [
    {
     "data": {
      "text/plain": [
       "1104349"
      ]
     },
     "execution_count": 11,
     "metadata": {},
     "output_type": "execute_result"
    }
   ],
   "source": [
    "artist_df.count()"
   ]
  },
  {
   "cell_type": "code",
   "execution_count": 12,
   "metadata": {
    "scrolled": true
   },
   "outputs": [
    {
     "data": {
      "text/html": [
       "<div>\n",
       "<style scoped>\n",
       "    .dataframe tbody tr th:only-of-type {\n",
       "        vertical-align: middle;\n",
       "    }\n",
       "\n",
       "    .dataframe tbody tr th {\n",
       "        vertical-align: top;\n",
       "    }\n",
       "\n",
       "    .dataframe thead th {\n",
       "        text-align: right;\n",
       "    }\n",
       "</style>\n",
       "<table border=\"1\" class=\"dataframe\">\n",
       "  <thead>\n",
       "    <tr style=\"text-align: right;\">\n",
       "      <th></th>\n",
       "      <th>id</th>\n",
       "      <th>followers</th>\n",
       "      <th>genres</th>\n",
       "      <th>name</th>\n",
       "      <th>popularity</th>\n",
       "    </tr>\n",
       "  </thead>\n",
       "  <tbody>\n",
       "    <tr>\n",
       "      <th>0</th>\n",
       "      <td>0DheY5irMjBUeLybbCUEZ2</td>\n",
       "      <td>0.0</td>\n",
       "      <td>[]</td>\n",
       "      <td>Armid &amp; Amir Zare Pashai feat. Sara Rouzbehani</td>\n",
       "      <td>0</td>\n",
       "    </tr>\n",
       "    <tr>\n",
       "      <th>1</th>\n",
       "      <td>0DlhY15l3wsrnlfGio2bjU</td>\n",
       "      <td>5.0</td>\n",
       "      <td>[]</td>\n",
       "      <td>ปูนา ภาวิณี</td>\n",
       "      <td>0</td>\n",
       "    </tr>\n",
       "    <tr>\n",
       "      <th>2</th>\n",
       "      <td>0DmRESX2JknGPQyO15yxg7</td>\n",
       "      <td>0.0</td>\n",
       "      <td>[]</td>\n",
       "      <td>Sadaa</td>\n",
       "      <td>0</td>\n",
       "    </tr>\n",
       "    <tr>\n",
       "      <th>3</th>\n",
       "      <td>0DmhnbHjm1qw6NCYPeZNgJ</td>\n",
       "      <td>0.0</td>\n",
       "      <td>[]</td>\n",
       "      <td>Tra'gruda</td>\n",
       "      <td>0</td>\n",
       "    </tr>\n",
       "    <tr>\n",
       "      <th>4</th>\n",
       "      <td>0Dn11fWM7vHQ3rinvWEl4E</td>\n",
       "      <td>2.0</td>\n",
       "      <td>[]</td>\n",
       "      <td>Ioannis Panoutsopoulos</td>\n",
       "      <td>0</td>\n",
       "    </tr>\n",
       "    <tr>\n",
       "      <th>...</th>\n",
       "      <td>...</td>\n",
       "      <td>...</td>\n",
       "      <td>...</td>\n",
       "      <td>...</td>\n",
       "      <td>...</td>\n",
       "    </tr>\n",
       "    <tr>\n",
       "      <th>1104344</th>\n",
       "      <td>6rJIG42vcWAf1UBdRFlQxB</td>\n",
       "      <td>3345.0</td>\n",
       "      <td>[]</td>\n",
       "      <td>Cody Longo</td>\n",
       "      <td>8</td>\n",
       "    </tr>\n",
       "    <tr>\n",
       "      <th>1104345</th>\n",
       "      <td>1ljurfXKPlGncNdW3J8zJ8</td>\n",
       "      <td>2123.0</td>\n",
       "      <td>['deep acoustic pop']</td>\n",
       "      <td>Right the Stars</td>\n",
       "      <td>18</td>\n",
       "    </tr>\n",
       "    <tr>\n",
       "      <th>1104346</th>\n",
       "      <td>2vnT9YhKIvjVo9LnVjWmr2</td>\n",
       "      <td>26.0</td>\n",
       "      <td>[]</td>\n",
       "      <td>Jesse Giddings</td>\n",
       "      <td>0</td>\n",
       "    </tr>\n",
       "    <tr>\n",
       "      <th>1104347</th>\n",
       "      <td>3ID0E5XCvnJIYZEq043ZoB</td>\n",
       "      <td>406.0</td>\n",
       "      <td>[]</td>\n",
       "      <td>The Boy Band Project</td>\n",
       "      <td>0</td>\n",
       "    </tr>\n",
       "    <tr>\n",
       "      <th>1104348</th>\n",
       "      <td>5m0Y4WSYyai2BU752lCASy</td>\n",
       "      <td>146.0</td>\n",
       "      <td>[]</td>\n",
       "      <td>10 Reasons</td>\n",
       "      <td>1</td>\n",
       "    </tr>\n",
       "  </tbody>\n",
       "</table>\n",
       "<p>1104349 rows × 5 columns</p>\n",
       "</div>"
      ],
      "text/plain": [
       "                             id followers                 genres  \\\n",
       "0        0DheY5irMjBUeLybbCUEZ2       0.0                     []   \n",
       "1        0DlhY15l3wsrnlfGio2bjU       5.0                     []   \n",
       "2        0DmRESX2JknGPQyO15yxg7       0.0                     []   \n",
       "3        0DmhnbHjm1qw6NCYPeZNgJ       0.0                     []   \n",
       "4        0Dn11fWM7vHQ3rinvWEl4E       2.0                     []   \n",
       "...                         ...       ...                    ...   \n",
       "1104344  6rJIG42vcWAf1UBdRFlQxB    3345.0                     []   \n",
       "1104345  1ljurfXKPlGncNdW3J8zJ8    2123.0  ['deep acoustic pop']   \n",
       "1104346  2vnT9YhKIvjVo9LnVjWmr2      26.0                     []   \n",
       "1104347  3ID0E5XCvnJIYZEq043ZoB     406.0                     []   \n",
       "1104348  5m0Y4WSYyai2BU752lCASy     146.0                     []   \n",
       "\n",
       "                                                   name popularity  \n",
       "0        Armid & Amir Zare Pashai feat. Sara Rouzbehani          0  \n",
       "1                                           ปูนา ภาวิณี          0  \n",
       "2                                                 Sadaa          0  \n",
       "3                                             Tra'gruda          0  \n",
       "4                                Ioannis Panoutsopoulos          0  \n",
       "...                                                 ...        ...  \n",
       "1104344                                      Cody Longo          8  \n",
       "1104345                                 Right the Stars         18  \n",
       "1104346                                  Jesse Giddings          0  \n",
       "1104347                            The Boy Band Project          0  \n",
       "1104348                                      10 Reasons          1  \n",
       "\n",
       "[1104349 rows x 5 columns]"
      ]
     },
     "execution_count": 12,
     "metadata": {},
     "output_type": "execute_result"
    }
   ],
   "source": [
    "artist_df.toPandas()"
   ]
  },
  {
   "cell_type": "code",
   "execution_count": 13,
   "metadata": {
    "scrolled": false
   },
   "outputs": [
    {
     "name": "stdout",
     "output_type": "stream",
     "text": [
      "root\n",
      " |-- id: string (nullable = true)\n",
      " |-- followers: string (nullable = true)\n",
      " |-- genres: string (nullable = true)\n",
      " |-- name: string (nullable = true)\n",
      " |-- popularity: string (nullable = true)\n",
      "\n"
     ]
    }
   ],
   "source": [
    "artist_df.printSchema()"
   ]
  },
  {
   "cell_type": "code",
   "execution_count": 14,
   "metadata": {},
   "outputs": [
    {
     "name": "stdout",
     "output_type": "stream",
     "text": [
      "root\n",
      " |-- id: string (nullable = true)\n",
      " |-- name: string (nullable = true)\n",
      " |-- popularity: string (nullable = true)\n",
      " |-- duration_ms: string (nullable = true)\n",
      " |-- explicit: string (nullable = true)\n",
      " |-- artists: string (nullable = true)\n",
      " |-- id_artists: string (nullable = true)\n",
      " |-- release_date: string (nullable = true)\n",
      " |-- danceability: string (nullable = true)\n",
      " |-- energy: string (nullable = true)\n",
      " |-- key: string (nullable = true)\n",
      " |-- loudness: string (nullable = true)\n",
      " |-- mode: string (nullable = true)\n",
      " |-- speechiness: string (nullable = true)\n",
      " |-- acousticness: string (nullable = true)\n",
      " |-- instrumentalness: string (nullable = true)\n",
      " |-- liveness: string (nullable = true)\n",
      " |-- valence: string (nullable = true)\n",
      " |-- tempo: string (nullable = true)\n",
      " |-- time_signature: string (nullable = true)\n",
      "\n"
     ]
    }
   ],
   "source": [
    "tracks_df.printSchema()"
   ]
  },
  {
   "cell_type": "markdown",
   "metadata": {},
   "source": [
    "# Data Understanding"
   ]
  },
  {
   "cell_type": "markdown",
   "metadata": {},
   "source": [
    "Scrivere nel report:\n",
    "    significato delle variabili"
   ]
  },
  {
   "cell_type": "markdown",
   "metadata": {},
   "source": [
    "# Data Cleaning"
   ]
  },
  {
   "cell_type": "code",
   "execution_count": 15,
   "metadata": {},
   "outputs": [
    {
     "name": "stdout",
     "output_type": "stream",
     "text": [
      "+---------+\n",
      "| explicit|\n",
      "+---------+\n",
      "|   687600|\n",
      "|   362760|\n",
      "|   240200|\n",
      "|   296467|\n",
      "|   404000|\n",
      "|  Melot)\"|\n",
      "|   211160|\n",
      "|  1191416|\n",
      "|   185347|\n",
      "| Hoffmann|\n",
      "+---------+\n",
      "only showing top 10 rows\n",
      "\n"
     ]
    }
   ],
   "source": [
    "tracks_df.select(\"explicit\").distinct().show(10)"
   ]
  },
  {
   "cell_type": "code",
   "execution_count": 16,
   "metadata": {},
   "outputs": [
    {
     "name": "stdout",
     "output_type": "stream",
     "text": [
      "+---+----+----------+-----------+--------+-------+----------+------------+------------+------+---+--------+----+-----------+------------+----------------+--------+-------+-----+--------------+\n",
      "| id|name|popularity|duration_ms|explicit|artists|id_artists|release_date|danceability|energy|key|loudness|mode|speechiness|acousticness|instrumentalness|liveness|valence|tempo|time_signature|\n",
      "+---+----+----------+-----------+--------+-------+----------+------------+------------+------+---+--------+----+-----------+------------+----------------+--------+-------+-----+--------------+\n",
      "|  0|   0|         0|          0|       0|      0|         0|           0|           0|     0|  0|       0|   0|          0|           0|               0|       0|      0|    0|             0|\n",
      "+---+----+----------+-----------+--------+-------+----------+------------+------------+------+---+--------+----+-----------+------------+----------------+--------+-------+-----+--------------+\n",
      "\n",
      "+---+---------+------+----+----------+\n",
      "| id|followers|genres|name|popularity|\n",
      "+---+---------+------+----+----------+\n",
      "|  0|        0|     0|   5|         0|\n",
      "+---+---------+------+----+----------+\n",
      "\n"
     ]
    }
   ],
   "source": [
    "#missing values\n",
    "tracks_df.select([count(when(isnan(c), c)).alias(c) for c in tracks_df.columns]).show()\n",
    "artist_df.select([count(when(isnan(c), c)).alias(c) for c in artist_df.columns]).show()"
   ]
  },
  {
   "cell_type": "code",
   "execution_count": 17,
   "metadata": {},
   "outputs": [
    {
     "name": "stdout",
     "output_type": "stream",
     "text": [
      "+---+----+----------+-----------+--------+-------+----------+------------+------------+------+---+--------+----+-----------+------------+----------------+--------+-------+-----+--------------+\n",
      "| id|name|popularity|duration_ms|explicit|artists|id_artists|release_date|danceability|energy|key|loudness|mode|speechiness|acousticness|instrumentalness|liveness|valence|tempo|time_signature|\n",
      "+---+----+----------+-----------+--------+-------+----------+------------+------------+------+---+--------+----+-----------+------------+----------------+--------+-------+-----+--------------+\n",
      "|  0|  71|         0|          0|       0|      0|        12|          12|          12|    12| 12|      12|  12|         12|          12|              12|      12|     12|   12|            12|\n",
      "+---+----+----------+-----------+--------+-------+----------+------------+------------+------+---+--------+----+-----------+------------+----------------+--------+-------+-----+--------------+\n",
      "\n",
      "+---+---------+------+----+----------+\n",
      "| id|followers|genres|name|popularity|\n",
      "+---+---------+------+----+----------+\n",
      "|  0|       13|     0|   0|         0|\n",
      "+---+---------+------+----+----------+\n",
      "\n"
     ]
    }
   ],
   "source": [
    "#null values\n",
    "tracks_df.select([count(when(col(c).isNull(), c)).alias(c) for c in tracks_df.columns]).show()\n",
    "artist_df.select([count(when(col(c).isNull(), c)).alias(c) for c in artist_df.columns]).show()"
   ]
  },
  {
   "cell_type": "code",
   "execution_count": 18,
   "metadata": {},
   "outputs": [],
   "source": [
    "artist_df_1 = artist_df.withColumn(\"followers\", artist_df.followers.cast(IntegerType())) \\\n",
    "         .withColumn(\"popularity\", artist_df.popularity.cast(IntegerType()))"
   ]
  },
  {
   "cell_type": "code",
   "execution_count": 19,
   "metadata": {},
   "outputs": [],
   "source": [
    "tracks_df_1 = tracks_df.withColumn(\"duration_ms\", tracks_df.duration_ms.cast(IntegerType())) \\\n",
    "         .withColumn(\"popularity\", tracks_df.popularity.cast(IntegerType())) \\\n",
    "         .withColumn(\"explicit\", tracks_df.explicit.cast(IntegerType())) \\\n",
    "         .withColumn(\"release_date\", tracks_df.release_date.cast(DateType())) \\\n",
    "         .withColumn(\"danceability\", tracks_df.danceability.cast(FloatType())) \\\n",
    "         .withColumn(\"energy\", tracks_df.energy.cast(FloatType())) \\\n",
    "         .withColumn(\"key\", tracks_df.key.cast(IntegerType())) \\\n",
    "         .withColumn(\"loudness\", tracks_df.loudness.cast(FloatType())) \\\n",
    "         .withColumn(\"mode\", tracks_df.mode.cast(IntegerType())) \\\n",
    "         .withColumn(\"speechiness\", tracks_df.speechiness.cast(FloatType())) \\\n",
    "         .withColumn(\"acousticness\", tracks_df.acousticness.cast(FloatType())) \\\n",
    "         .withColumn(\"instrumentalness\", tracks_df.instrumentalness.cast(FloatType())) \\\n",
    "         .withColumn(\"liveness\", tracks_df.liveness.cast(FloatType())) \\\n",
    "         .withColumn(\"valence\", tracks_df.valence.cast(FloatType())) \\\n",
    "         .withColumn(\"tempo\", tracks_df.tempo.cast(FloatType())) \\\n",
    "         .withColumn(\"time_signature\", tracks_df.time_signature.cast(IntegerType()))  "
   ]
  },
  {
   "cell_type": "code",
   "execution_count": 20,
   "metadata": {},
   "outputs": [
    {
     "name": "stdout",
     "output_type": "stream",
     "text": [
      "+---+----+----------+-----------+--------+-------+----------+------------+------------+------+---+--------+----+-----------+------------+----------------+--------+-------+-----+--------------+\n",
      "| id|name|popularity|duration_ms|explicit|artists|id_artists|release_date|danceability|energy|key|loudness|mode|speechiness|acousticness|instrumentalness|liveness|valence|tempo|time_signature|\n",
      "+---+----+----------+-----------+--------+-------+----------+------------+------------+------+---+--------+----+-----------+------------+----------------+--------+-------+-----+--------------+\n",
      "|  0|  71|      1854|        826|     416|      0|        12|        3309|        2286|   859|430|     268| 160|         91|          64|              45|      34|     27|   23|            55|\n",
      "+---+----+----------+-----------+--------+-------+----------+------------+------------+------+---+--------+----+-----------+------------+----------------+--------+-------+-----+--------------+\n",
      "\n",
      "+---+---------+------+----+----------+\n",
      "| id|followers|genres|name|popularity|\n",
      "+---+---------+------+----+----------+\n",
      "|  0|       13|     0|   0|       530|\n",
      "+---+---------+------+----+----------+\n",
      "\n"
     ]
    }
   ],
   "source": [
    "#null values\n",
    "tracks_df_1.select([count(when(col(c).isNull(), c)).alias(c) for c in tracks_df_1.columns]).show()\n",
    "artist_df_1.select([count(when(col(c).isNull(), c)).alias(c) for c in artist_df_1.columns]).show()"
   ]
  },
  {
   "cell_type": "code",
   "execution_count": 21,
   "metadata": {},
   "outputs": [],
   "source": [
    "tracks_df_2 = tracks_df_1.filter(col(\"release_date\").isNotNull())\n",
    "artist_df_2 = artist_df_1.withColumn('popularity', coalesce(artist_df_1['popularity'], lit(0))) \\\n",
    "                         .withColumn('followers', coalesce(artist_df_1['followers'], lit(0)))\n"
   ]
  },
  {
   "cell_type": "code",
   "execution_count": 22,
   "metadata": {},
   "outputs": [
    {
     "name": "stdout",
     "output_type": "stream",
     "text": [
      "+---+----+----------+-----------+--------+-------+----------+------------+------------+------+---+--------+----+-----------+------------+----------------+--------+-------+-----+--------------+\n",
      "| id|name|popularity|duration_ms|explicit|artists|id_artists|release_date|danceability|energy|key|loudness|mode|speechiness|acousticness|instrumentalness|liveness|valence|tempo|time_signature|\n",
      "+---+----+----------+-----------+--------+-------+----------+------------+------------+------+---+--------+----+-----------+------------+----------------+--------+-------+-----+--------------+\n",
      "|  0|  71|         0|          0|       0|      0|         0|           0|           0|     0|  0|       0|   0|          0|           0|               0|       0|      0|    0|             0|\n",
      "+---+----+----------+-----------+--------+-------+----------+------------+------------+------+---+--------+----+-----------+------------+----------------+--------+-------+-----+--------------+\n",
      "\n",
      "+---+---------+------+----+----------+\n",
      "| id|followers|genres|name|popularity|\n",
      "+---+---------+------+----+----------+\n",
      "|  0|        0|     0|   0|         0|\n",
      "+---+---------+------+----+----------+\n",
      "\n"
     ]
    }
   ],
   "source": [
    "#null values\n",
    "tracks_df_2.select([count(when(col(c).isNull(), c)).alias(c) for c in tracks_df_2.columns]).show()\n",
    "artist_df_2.select([count(when(col(c).isNull(), c)).alias(c) for c in artist_df_2.columns]).show()"
   ]
  },
  {
   "cell_type": "code",
   "execution_count": 23,
   "metadata": {},
   "outputs": [
    {
     "data": {
      "text/plain": [
       "583363"
      ]
     },
     "execution_count": 23,
     "metadata": {},
     "output_type": "execute_result"
    }
   ],
   "source": [
    "tracks_df_2.count()"
   ]
  },
  {
   "cell_type": "code",
   "execution_count": 24,
   "metadata": {},
   "outputs": [
    {
     "data": {
      "text/plain": [
       "1104349"
      ]
     },
     "execution_count": 24,
     "metadata": {},
     "output_type": "execute_result"
    }
   ],
   "source": [
    "artist_df_2.count()"
   ]
  },
  {
   "cell_type": "markdown",
   "metadata": {},
   "source": [
    "# Data Integration"
   ]
  },
  {
   "cell_type": "code",
   "execution_count": 25,
   "metadata": {},
   "outputs": [],
   "source": [
    "artist_df_3 = artist_df_2.withColumn(\n",
    "    \"genres\",\n",
    "    split(regexp_replace(col(\"genres\"), r\"(^\\[)|(\\]$)|(')\", \"\"), \", \")\n",
    ")"
   ]
  },
  {
   "cell_type": "code",
   "execution_count": 26,
   "metadata": {},
   "outputs": [
    {
     "data": {
      "text/plain": [
       "DataFrame[id: string, name: string, popularity: int, duration_ms: int, explicit: int, artists: string, id_artists: array<string>, release_date: date, danceability: float, energy: float, key: int, loudness: float, mode: int, speechiness: float, acousticness: float, instrumentalness: float, liveness: float, valence: float, tempo: float, time_signature: int]"
      ]
     },
     "execution_count": 26,
     "metadata": {},
     "output_type": "execute_result"
    }
   ],
   "source": [
    "tracks_df_wk0= tracks_df_2.withColumn(\n",
    "    \"id_artists\",\n",
    "    split(regexp_replace(col(\"id_artists\"), r\"(^\\[)|(\\]$)|(')\", \"\"), \", \")\n",
    ")\n",
    "tracks_df_wk0"
   ]
  },
  {
   "cell_type": "code",
   "execution_count": 27,
   "metadata": {},
   "outputs": [],
   "source": [
    "windowSpec = Window.partitionBy(\"id_track\") "
   ]
  },
  {
   "cell_type": "code",
   "execution_count": 47,
   "metadata": {},
   "outputs": [],
   "source": [
    "tracks_df_wk1 = tracks_df_wk0.select(col(\"id\").alias(\"id_track\"), \"duration_ms\", col(\"popularity\").alias(\"popularity_track\"),\"explicit\", explode(tracks_df_wk0.id_artists).alias(\"id_artist\"),\"release_date\",\"danceability\",\"energy\",\"key\",\"loudness\",\"mode\", \"speechiness\",\"acousticness\",\"instrumentalness\",\"liveness\",\"valence\",\"tempo\",\"time_signature\")\n",
    "\n",
    "\n",
    "\n",
    "tracks_df_wk2 = tracks_df_wk1.join(artist_df_3, tracks_df_wk1.id_artist==artist_df.id,\"left\") \\\n",
    "           .withColumn(\"sum_artist_followers\",sum(col(\"followers\")).over(windowSpec)) \\\n",
    "           .withColumn(\"sum_artist_popularity\",sum(col(\"popularity\")).over(windowSpec)) \\\n",
    "           .withColumn(\"collect_list_genres\", collect_list(\"genres\").over(windowSpec)) \\\n",
    "           .withColumn(\"collect_list_genres\", flatten(col(\"collect_list_genres\"))) \\\n",
    "           .withColumn(\"collect_list_genres\", array_distinct(\"collect_list_genres\")) \\\n",
    "           .withColumn(\"genres\", array_remove(\"collect_list_genres\", \"\")) \\\n",
    "           .drop(\"collect_list_genres\") \\\n",
    "           .select(\"id_track\", \"popularity_track\",  \"duration_ms\", \"genres\", \"release_date\",\"danceability\",\"energy\",\"key\",\"loudness\",\"mode\", \"speechiness\",\"acousticness\",\"instrumentalness\",\"liveness\",\"valence\",\"tempo\",\"time_signature\", \"sum_artist_followers\", \"sum_artist_popularity\").distinct()\n",
    "\n"
   ]
  },
  {
   "cell_type": "code",
   "execution_count": 53,
   "metadata": {
    "scrolled": false
   },
   "outputs": [
    {
     "name": "stdout",
     "output_type": "stream",
     "text": [
      "+----------------------------------------------------------------------------------+\n",
      "|genres                                                                            |\n",
      "+----------------------------------------------------------------------------------+\n",
      "|[mariachi, ranchera]                                                              |\n",
      "|[chanson, french jazz, french pop]                                                |\n",
      "|[czech folk, czech rock]                                                          |\n",
      "|[downtempo, new age]                                                              |\n",
      "|[colombian rock, latin, latin alternative, latin pop, latin rock, rock en espanol]|\n",
      "|[peruvian rock, pop peruano, pop reggaeton]                                       |\n",
      "|[adult standards, vocal jazz]                                                     |\n",
      "|[irish country, irish folk]                                                       |\n",
      "|[anime]                                                                           |\n",
      "|[afrobeat, classic soul, funk, jazz funk, psychedelic soul, soul, southern soul]  |\n",
      "+----------------------------------------------------------------------------------+\n",
      "only showing top 10 rows\n",
      "\n"
     ]
    }
   ],
   "source": [
    "tracks_df_wk2.select(\"genres\").distinct().show(10, truncate=False)"
   ]
  },
  {
   "cell_type": "code",
   "execution_count": 54,
   "metadata": {},
   "outputs": [
    {
     "name": "stdout",
     "output_type": "stream",
     "text": [
      "root\n",
      " |-- id_track: string (nullable = true)\n",
      " |-- popularity_track: integer (nullable = true)\n",
      " |-- duration_ms: integer (nullable = true)\n",
      " |-- genres: array (nullable = false)\n",
      " |    |-- element: string (containsNull = true)\n",
      " |-- release_date: date (nullable = true)\n",
      " |-- danceability: float (nullable = true)\n",
      " |-- energy: float (nullable = true)\n",
      " |-- key: integer (nullable = true)\n",
      " |-- loudness: float (nullable = true)\n",
      " |-- mode: integer (nullable = true)\n",
      " |-- speechiness: float (nullable = true)\n",
      " |-- acousticness: float (nullable = true)\n",
      " |-- instrumentalness: float (nullable = true)\n",
      " |-- liveness: float (nullable = true)\n",
      " |-- valence: float (nullable = true)\n",
      " |-- tempo: float (nullable = true)\n",
      " |-- time_signature: integer (nullable = true)\n",
      " |-- sum_artist_followers: long (nullable = true)\n",
      " |-- sum_artist_popularity: long (nullable = true)\n",
      "\n"
     ]
    }
   ],
   "source": [
    "tracks_df_wk2.printSchema()"
   ]
  },
  {
   "cell_type": "code",
   "execution_count": 55,
   "metadata": {},
   "outputs": [
    {
     "name": "stdout",
     "output_type": "stream",
     "text": [
      "+--------+----------------+-----------+------+------------+------------+------+---+--------+----+-----------+------------+----------------+--------+-------+-----+--------------+--------------------+---------------------+\n",
      "|id_track|popularity_track|duration_ms|genres|release_date|danceability|energy|key|loudness|mode|speechiness|acousticness|instrumentalness|liveness|valence|tempo|time_signature|sum_artist_followers|sum_artist_popularity|\n",
      "+--------+----------------+-----------+------+------------+------------+------+---+--------+----+-----------+------------+----------------+--------+-------+-----+--------------+--------------------+---------------------+\n",
      "|       0|               0|          0|     0|           0|           0|     0|  0|       0|   0|          0|           0|               0|       0|      0|    0|             0|               11038|                11038|\n",
      "+--------+----------------+-----------+------+------------+------------+------+---+--------+----+-----------+------------+----------------+--------+-------+-----+--------------+--------------------+---------------------+\n",
      "\n"
     ]
    }
   ],
   "source": [
    "tracks_df_wk2.select([count(when(col(c).isNull(), c)).alias(c) for c in tracks_df_wk2.columns]).show()"
   ]
  },
  {
   "cell_type": "code",
   "execution_count": 62,
   "metadata": {},
   "outputs": [],
   "source": [
    "df = tracks_df_wk2.withColumn('sum_artist_followers', coalesce(tracks_df_wk2['sum_artist_followers'], lit(0))) \\\n",
    "                  .withColumn('sum_artist_popularity', coalesce(tracks_df_wk2['sum_artist_popularity'], lit(0)))"
   ]
  },
  {
   "cell_type": "code",
   "execution_count": 63,
   "metadata": {},
   "outputs": [
    {
     "name": "stdout",
     "output_type": "stream",
     "text": [
      "+--------+----------------+-----------+------+------------+------------+------+---+--------+----+-----------+------------+----------------+--------+-------+-----+--------------+--------------------+---------------------+\n",
      "|id_track|popularity_track|duration_ms|genres|release_date|danceability|energy|key|loudness|mode|speechiness|acousticness|instrumentalness|liveness|valence|tempo|time_signature|sum_artist_followers|sum_artist_popularity|\n",
      "+--------+----------------+-----------+------+------------+------------+------+---+--------+----+-----------+------------+----------------+--------+-------+-----+--------------+--------------------+---------------------+\n",
      "|       0|               0|          0|     0|           0|           0|     0|  0|       0|   0|          0|           0|               0|       0|      0|    0|             0|                   0|                    0|\n",
      "+--------+----------------+-----------+------+------------+------------+------+---+--------+----+-----------+------------+----------------+--------+-------+-----+--------------+--------------------+---------------------+\n",
      "\n"
     ]
    }
   ],
   "source": [
    "df.select([count(when(col(c).isNull(), c)).alias(c) for c in tracks_df_wk2.columns]).show()"
   ]
  },
  {
   "cell_type": "markdown",
   "metadata": {},
   "source": [
    "# Correlation"
   ]
  },
  {
   "cell_type": "code",
   "execution_count": 35,
   "metadata": {},
   "outputs": [
    {
     "data": {
      "text/plain": [
       "DataFrame[popularity_track: int, duration_ms: int, danceability: float, energy: float, loudness: float, speechiness: float, acousticness: float, instrumentalness: float, liveness: float, valence: float, tempo: float, time_signature: int, sum_artist_followers: bigint, sum_artist_popularity: bigint]"
      ]
     },
     "execution_count": 35,
     "metadata": {},
     "output_type": "execute_result"
    }
   ],
   "source": [
    "#drop delle colonne inutili ai fini della correlazione\n",
    "df.drop(\"id_track\",\"genres\",\"release_date\", 'key','mode')"
   ]
  },
  {
   "cell_type": "code",
   "execution_count": 58,
   "metadata": {},
   "outputs": [],
   "source": [
    "#C'è bisogno di normalizzare tutti i valori prima di fare outliers detection e correlazione\n",
    "from pyspark.ml.feature import MinMaxScaler"
   ]
  },
  {
   "cell_type": "code",
   "execution_count": 67,
   "metadata": {},
   "outputs": [],
   "source": [
    "from pyspark.ml import Pipeline\n",
    "from pyspark.ml.feature import MinMaxScaler\n",
    "from pyspark.ml.feature import VectorAssembler\n",
    "\n",
    "\n",
    "columns_to_scale = [\"popularity_track\",  \"duration_ms\", \"danceability\",\"energy\", \"loudness\", \"speechiness\",\"acousticness\",\"instrumentalness\",\"liveness\",\"valence\",\"tempo\",\"time_signature\", \"sum_artist_followers\", \"sum_artist_popularity\"]\n",
    "assemblers = [VectorAssembler(inputCols=[col], outputCol=col + \"_vec\") for col in columns_to_scale]\n",
    "scalers = [MinMaxScaler(inputCol=col + \"_vec\", outputCol=col + \"_scaled\") for col in columns_to_scale]\n",
    "pipeline = Pipeline(stages=assemblers + scalers)\n",
    "scalerModel = pipeline.fit(df)\n",
    "scaledData = scalerModel.transform(df)"
   ]
  },
  {
   "cell_type": "code",
   "execution_count": 81,
   "metadata": {},
   "outputs": [],
   "source": [
    "from pyspark.sql import functions as f\n",
    "names = {x + \"_scaled\": x for x in columns_to_scale}\n",
    "scaledData = scaledData.select([f.col(c).alias(names[c]) for c in names.keys()])"
   ]
  },
  {
   "cell_type": "code",
   "execution_count": 82,
   "metadata": {},
   "outputs": [
    {
     "name": "stdout",
     "output_type": "stream",
     "text": [
      "+--------------------+--------------------+--------------------+--------------------+--------------------+--------------------+--------------------+--------------------+--------------------+--------------------+--------------------+--------------------+--------------------+---------------------+\n",
      "|    popularity_track|         duration_ms|        danceability|              energy|            loudness|         speechiness|        acousticness|    instrumentalness|            liveness|             valence|               tempo|      time_signature|sum_artist_followers|sum_artist_popularity|\n",
      "+--------------------+--------------------+--------------------+--------------------+--------------------+--------------------+--------------------+--------------------+--------------------+--------------------+--------------------+--------------------+--------------------+---------------------+\n",
      "|               [0.0]|[0.3012114547246877]|[0.6125126088483968]|[0.48399999737739...|[0.7306350931069846]|[0.9876415817464185]|[0.9939759212792594]|[2.70000000455183...|[0.3840000033378601]| [0.453000009059906]|[0.28224174102339...|               [0.8]|[4.47946924791007...| [0.01179673321234...|\n",
      "|              [0.58]|[0.03591518784508...|[0.7991927329728145]|[0.7639999985694885]|[0.8077887910139419]|[0.26158599792998...|[0.10441767368694...|               [0.0]|[0.09560000151395...| [0.531000018119812]|[0.5479156428585806]|               [0.8]|[0.00383288450098...| [0.01905626134301...|\n",
      "|              [0.07]|[0.04171738276792...|[0.5227043475483696]|[0.9480000138282776]|[0.8498684522133216]|[0.1266735338868974]|[0.01947791237961...|[1.03999998827930...|[0.5419999957084656]|[0.5410000085830688]|[0.36755674877259...|               [0.8]|[1.67943892136209...| [0.01028433151845...|\n",
      "|              [0.21]|[0.04525359593326...|[0.7053481365368595]| [0.746999979019165]|[0.7782672566515104]|[0.04737384072497...|[0.3102409517784656]|[0.00130000000353...|[0.08209999650716...|[0.9049999713897705]|[0.6486538994508209]|               [0.8]|[3.35750587664520...| [0.01361161524500...|\n",
      "|              [0.12]|[0.03870788130883...|[0.41977801209306...|[0.7210000157356262]|[0.7336331367223698]|[0.06168898014490...|[0.6104417524076896]|[0.00559999980032...|[0.5960000157356262]|[0.8579999804496765]|[0.5561062314108192]|               [0.8]|[1.51091575465920...| [0.00635208711433...|\n",
      "|               [0.1]|[0.06785467242590...|[0.3400605585598796]|[0.7419999837875366]|[0.8217541622178045]|[0.02996910441475...|[0.5622490029537214]| [0.781000018119812]|[0.15000000596046...|[0.25600001215934...|[0.4588056785157454]|               [0.8]|[1.16967730267871...| [0.00846944948578...|\n",
      "|              [0.34]|[0.04405296380801...|[0.5761856527710055]|[0.5720000267028809]|[0.8138307633182191]|[0.03171987573014...|[0.4638554379095239]|               [0.0]|[0.25099998712539...| [0.460999995470047]|[0.6093814108965695]|               [0.8]|[9.50467611390821...| [0.00816696914700...|\n",
      "|               [0.0]|[0.02455786655236...|[0.7013118014009317]|[0.11900000274181...|[0.6201205398182331]|[0.23069001368083...|[0.9939759212792594]|[1.90999999176710...|[0.10400000214576...|[0.6930000185966492]|[0.5279506032919785]|               [0.8]|[2.68905351482503...| [0.00695704779189...|\n",
      "|[0.47000000000000...|[0.06235864314507...|[0.6064581362174845]|[0.7889999747276306]|[0.7842327538332763]|[0.0629248173663992]|[5.98393577200014...|[0.10400000214576...|[0.24799999594688...|[0.9229999780654907]|[0.6350286821093312]|               [0.8]|[2.58996707578669...| [0.01119177253478...|\n",
      "|              [0.37]|[0.02724927614966...|[0.34409686362282...|[0.9639999866485596]|[0.8362854857970745]|[0.11019567357452...|[1.26506029600617...|[1.02999998489394...|[0.1509999930858612]|[0.45899999141693...|[0.6177099832319977]|               [0.8]|[0.09533101726658...| [0.02540834845735...|\n",
      "|               [0.3]|[0.08530629202434...|[0.9192734777193206]|[0.5370000004768372]|[0.8223201218869766]|[0.08032955751317...|[0.01174698772874...|[0.00255999993532...|[0.04340000078082...|[0.0934000015258789]| [0.507311839943766]|               [0.8]|[0.01002983424081...| [0.03781004234724...|\n",
      "|              [0.38]|[0.05633732618424...|[0.21897073002939...|[0.13899999856948...| [0.705549444069622]|[0.03903192605193...|[0.9588353324128924]|[0.3059999942779541]|[0.08420000225305...|[0.11900000274181...|[0.47711067036398...|               [0.8]|[7.00358195190513...| [0.01966122202056...|\n",
      "|              [0.13]|[0.02120428475255...|[0.4217961796610306]|[0.9580000042915344]| [0.827964394379136]|[0.0514933058030676]|[0.00108433731621...|               [0.0]|[0.23899999260902...|[0.7310000061988831]|[0.5059075390982438]|               [0.8]|[8.47051857169886...| [0.01663641863278...|\n",
      "|              [0.05]|[0.02436562300970...|[0.5176589436649495]|[0.3970000147819519]|[0.7620686514074935]|[0.07188465065018...|[0.9718875528445151]|[3.23999993270263...|[0.1860000044107437]|[0.6899999976158142]|[0.29415417582094...|[0.6000000000000001]|[8.41198135232852...| [0.01361161524500...|\n",
      "|              [0.59]|[0.07461292296694...|               [0.0]|[0.01630000025033...| [0.544251704200878]|               [0.0]|[0.7309236858866315]|[0.32600000500679...|[0.11100000143051...|               [0.0]|               [0.0]|               [0.0]|[9.26000882982124...| [0.01875378100423...|\n",
      "|              [0.18]|[0.0398946291782265]|[0.5701311801400932]|[0.5429999828338623]|[0.7122950385573563]|[0.02543769359615...|[0.3955823263130512]|[0.00781999994069...|[0.20600000023841...|[0.7210000157356262]|[0.40494193130847...|               [0.8]|[1.12653659152817...| [0.00725952813067...|\n",
      "|              [0.49]|[0.02812807834422...|[0.4419777951947108]|[0.8080000281333923]|[0.8287291966606023]|[0.34912459439224...|[0.00159638555501...|               [0.0]|[0.14499999582767...| [0.746999979019165]|[0.7302876571709919]|               [0.8]|[0.00324686443440...| [0.02087114337568...|\n",
      "|               [0.5]|[0.05444105723980...|[0.7295660872064674]| [0.703000009059906]|[0.7725312067185726]|[0.03274974391794...|[0.02730923753211...|[0.31299999356269...|[0.09790000319480...|[0.7670000195503235]|[0.5265219632961898]|               [0.8]|[0.00223536719860...| [0.01663641863278...|\n",
      "|              [0.31]|[0.03264597960011...|[0.6710393781004114]|[0.7910000085830688]|[0.8340828418059247]|[0.03120494355452...|[0.03142570391679...|[1.82999996468424...|[0.3449999988079071]| [0.703000009059906]|[0.4383414386419621]|               [0.8]|[1.72715285277594...| [0.02389594676346...|\n",
      "|              [0.14]|[0.08304013226355...|[0.2734611491089888]|[0.8479999899864197]|[0.7588258728125425]|[0.07981462341927...|[0.00442771093192...|[0.6299999952316284]|[0.11299999803304...|[0.38499999046325...|[0.6436332220111385]|               [0.8]|[1.79879997023443...| [0.00907441016333...|\n",
      "+--------------------+--------------------+--------------------+--------------------+--------------------+--------------------+--------------------+--------------------+--------------------+--------------------+--------------------+--------------------+--------------------+---------------------+\n",
      "only showing top 20 rows\n",
      "\n"
     ]
    }
   ],
   "source": [
    "scaledData.show()"
   ]
  },
  {
   "cell_type": "code",
   "execution_count": 88,
   "metadata": {},
   "outputs": [
    {
     "name": "stdout",
     "output_type": "stream",
     "text": [
      "root\n",
      " |-- popularity_track: vector (nullable = true)\n",
      " |-- duration_ms: vector (nullable = true)\n",
      " |-- danceability: vector (nullable = true)\n",
      " |-- energy: vector (nullable = true)\n",
      " |-- loudness: vector (nullable = true)\n",
      " |-- speechiness: vector (nullable = true)\n",
      " |-- acousticness: vector (nullable = true)\n",
      " |-- instrumentalness: vector (nullable = true)\n",
      " |-- liveness: vector (nullable = true)\n",
      " |-- valence: vector (nullable = true)\n",
      " |-- tempo: vector (nullable = true)\n",
      " |-- time_signature: vector (nullable = true)\n",
      " |-- sum_artist_followers: vector (nullable = true)\n",
      " |-- sum_artist_popularity: vector (nullable = true)\n",
      "\n"
     ]
    }
   ],
   "source": [
    "scaledData.printSchema()"
   ]
  },
  {
   "cell_type": "code",
   "execution_count": 83,
   "metadata": {},
   "outputs": [],
   "source": [
    "#funzione per inserire colonna booleana che indica outliers/non outliers\n",
    "\n",
    "import pyspark.sql.functions as f"
   ]
  },
  {
   "cell_type": "code",
   "execution_count": 84,
   "metadata": {},
   "outputs": [],
   "source": [
    "def calculate_bounds(df):\n",
    "    bounds = {\n",
    "        c: dict(\n",
    "            zip([\"q1\", \"q3\"], df.approxQuantile(c, [0.25, 0.75], 0))\n",
    "        )\n",
    "        for c,d in zip(df.columns, df.dtypes) if d[1] == \"int\"}\n",
    "    \n",
    "\n",
    "    for c in bounds:\n",
    "        iqr = bounds[c]['q3'] - bounds[c]['q1']\n",
    "        bounds[c]['min'] = bounds[c]['q1'] - (iqr * 1.5)\n",
    "        bounds[c]['max'] = bounds[c]['q3'] + (iqr * 1.5)\n",
    "\n",
    "    return bounds"
   ]
  },
  {
   "cell_type": "code",
   "execution_count": 85,
   "metadata": {},
   "outputs": [],
   "source": [
    "def flag_outliers(df, id_col):\n",
    "    bounds = calculate_bounds(df)\n",
    "    outliers = {}\n",
    "\n",
    "    return df.select(c, id_col,\n",
    "        *[\n",
    "            f.when(\n",
    "                ~f.col(c).between(bounds[c]['min'], bounds[c]['max']),\n",
    "                \"yes\"\n",
    "            ).otherwise(\"no\").alias(c+'_outlier')\n",
    "        ]\n",
    "    )"
   ]
  },
  {
   "cell_type": "code",
   "execution_count": 87,
   "metadata": {},
   "outputs": [
    {
     "ename": "NameError",
     "evalue": "name 'vector_col' is not defined",
     "output_type": "error",
     "traceback": [
      "\u001b[1;31m---------------------------------------------------------------------------\u001b[0m",
      "\u001b[1;31mNameError\u001b[0m                                 Traceback (most recent call last)",
      "\u001b[1;32m<ipython-input-87-74cb369e289c>\u001b[0m in \u001b[0;36m<module>\u001b[1;34m\u001b[0m\n\u001b[1;32m----> 1\u001b[1;33m \u001b[0mmatrix\u001b[0m \u001b[1;33m=\u001b[0m \u001b[0mCorrelation\u001b[0m\u001b[1;33m.\u001b[0m\u001b[0mcorr\u001b[0m\u001b[1;33m(\u001b[0m\u001b[0mscaledData\u001b[0m\u001b[1;33m,\u001b[0m \u001b[0mvector_col\u001b[0m\u001b[1;33m)\u001b[0m\u001b[1;33m.\u001b[0m\u001b[0mcollect\u001b[0m\u001b[1;33m(\u001b[0m\u001b[1;33m)\u001b[0m\u001b[1;33m[\u001b[0m\u001b[1;36m0\u001b[0m\u001b[1;33m]\u001b[0m\u001b[1;33m[\u001b[0m\u001b[1;36m0\u001b[0m\u001b[1;33m]\u001b[0m\u001b[1;33m\u001b[0m\u001b[1;33m\u001b[0m\u001b[0m\n\u001b[0m\u001b[0;32m      2\u001b[0m \u001b[0mcorrmatrix\u001b[0m \u001b[1;33m=\u001b[0m \u001b[0mmatrix\u001b[0m\u001b[1;33m.\u001b[0m\u001b[0mtoArray\u001b[0m\u001b[1;33m(\u001b[0m\u001b[1;33m)\u001b[0m\u001b[1;33m.\u001b[0m\u001b[0mtolist\u001b[0m\u001b[1;33m(\u001b[0m\u001b[1;33m)\u001b[0m\u001b[1;33m\u001b[0m\u001b[1;33m\u001b[0m\u001b[0m\n\u001b[0;32m      3\u001b[0m \u001b[0mprint\u001b[0m\u001b[1;33m(\u001b[0m\u001b[0mcorrmatrix\u001b[0m\u001b[1;33m)\u001b[0m\u001b[1;33m\u001b[0m\u001b[1;33m\u001b[0m\u001b[0m\n",
      "\u001b[1;31mNameError\u001b[0m: name 'vector_col' is not defined"
     ]
    }
   ],
   "source": [
    "matrix = Correlation.corr(myGraph_vector, vector_col).collect()[0][0]\n",
    "corrmatrix = matrix.toArray().tolist()\n",
    "print(corrmatrix)"
   ]
  },
  {
   "cell_type": "code",
   "execution_count": 41,
   "metadata": {},
   "outputs": [
    {
     "name": "stdout",
     "output_type": "stream",
     "text": [
      "+--------------------+--------------------+--------------------+--------------------+--------------------+--------------------+--------------------+--------------------+--------------------+--------------------+--------------------+--------------------+--------------------+--------------------+--------------------+---------------------+\n",
      "|    popularity_track|         duration_ms|        danceability|              energy|                 key|            loudness|                mode|         speechiness|        acousticness|    instrumentalness|            liveness|             valence|               tempo|      time_signature|sum_artist_followers|sum_artist_popularity|\n",
      "+--------------------+--------------------+--------------------+--------------------+--------------------+--------------------+--------------------+--------------------+--------------------+--------------------+--------------------+--------------------+--------------------+--------------------+--------------------+---------------------+\n",
      "|                 1.0|0.028081243193228272| 0.18242979232666154| 0.29858967433022116|0.015118610875600687|  0.3240941435284139|-0.03291895751838...|-0.04820911434198749| -0.3673013799358017|-0.23715259532171507|-0.04819969054997741|-0.00104951452054...| 0.06930970957474891| 0.08554991934939074| 0.23849048144964238|  0.29881926763390504|\n",
      "|0.028081243193228272|                 1.0|-0.12004658363668733| 0.02535423382211789|0.004619829945856231|3.289740666306808...|-0.02798726737382...|-0.12616211598144728|-0.06528614557973232| 0.06859749002781558|0.002506511047794688|-0.16332363711037062| -7.0478540811162E-4| 0.03769585012428202| 0.02675012731331293|  0.06716875701899026|\n",
      "| 0.18242979232666154|-0.12004658363668733|                 1.0| 0.23554080980554307|0.018705168235719574| 0.24494620037869652|-0.04402125317928...| 0.19863711928578248| -0.2372014798727575|-0.22512038524824474|-0.10639760733922371|  0.5244718810745184|-0.04480367690797725| 0.14493871137307157| 0.03536131346244297| -0.01984329677790...|\n",
      "| 0.29858967433022116| 0.02535423382211789| 0.23554080980554307|                 1.0|0.036124208739696566|  0.7633237489142063|-0.06457228891728807|-0.05468131274373361| -0.7135025003316059|-0.19634141572726344| 0.12595619255114546| 0.36774218528290853| 0.22845737563734145| 0.18827309411659632| 0.08835125256452239| 0.005347880326598234|\n",
      "|0.015118610875600687|0.004619829945856231|0.018705168235719574|0.036124208739696566|                 1.0|0.027039343930421716|-0.12974949569239783|-0.00115645029033...|-0.02719497317088...|-0.00710353589470...|-0.00676579715391...|0.019818308852779597|0.004754436304522197|0.008858413403165535|0.002603817740188...| 7.858480056736918E-5|\n",
      "|  0.3240941435284139|3.289740666306808...| 0.24494620037869652|  0.7633237489142063|0.027039343930421716|                 1.0|-0.03984509341313...|-0.16936418716138568| -0.5164932137239574| -0.3303408484656608|0.030301480538224842| 0.26978505503669187|  0.1874792459716703| 0.16339099855228376| 0.11641686712134904| -0.02169612886890...|\n",
      "|-0.03291895751838...|-0.02798726737382...|-0.04402125317928...|-0.06457228891728807|-0.12974949569239783|-0.03984509341313...|                 1.0|-0.01791162681801...|0.058120226168628254|-0.00989603867362...|0.006808846117438924|0.012399973163792771|0.008364598646453664|-0.01567251998566...|-0.01208501981963...| -0.01519022359882...|\n",
      "|-0.04820911434198749|-0.12616211598144728| 0.19863711928578248|-0.05468131274373361|-0.00115645029033...|-0.16936418716138568|-0.01791162681801...|                 1.0| 0.07035019742672952|-0.10214741726796217| 0.20765987687864837|0.045525684624941505|-0.08768915062054183|-0.11503747017914481|-0.02042188663207824|   0.0532930698263245|\n",
      "| -0.3673013799358017|-0.06528614557973232| -0.2372014798727575| -0.7135025003316059|-0.02719497317088...| -0.5164932137239574|0.058120226168628254| 0.07035019742672952|                 1.0| 0.20492447645383552|-0.00548970233850969|-0.17523011744836228|-0.19324523961510887|-0.17314418744628945|-0.10954803995697564| -0.02341072567718...|\n",
      "|-0.23715259532171507| 0.06859749002781558|-0.22512038524824474|-0.19634141572726344|-0.00710353589470...| -0.3303408484656608|-0.00989603867362...|-0.10214741726796217| 0.20492447645383552|                 1.0|-0.03853747573709492| -0.1748349894364981|-0.05535239445945...|-0.04245366752280752|-0.05026952505928417| 0.005374153776687744|\n",
      "|-0.04819969054997741|0.002506511047794688|-0.10639760733922371| 0.12595619255114546|-0.00676579715391...|0.030301480538224842|0.006808846117438924| 0.20765987687864837|-0.00548970233850969|-0.03853747573709492|                 1.0|3.011036497519054...|-0.01460313387852...|-0.02398755494886...|0.001988489454539301| 0.028339973970122813|\n",
      "|-0.00104951452054...|-0.16332363711037062|  0.5244718810745184| 0.36774218528290853|0.019818308852779597| 0.26978505503669187|0.012399973163792771|0.045525684624941505|-0.17523011744836228| -0.1748349894364981|3.011036497519054...|                 1.0|  0.1328741018209547|  0.1039542442429629|-0.03362045404133881| -0.10122553166919306|\n",
      "| 0.06930970957474891| -7.0478540811162E-4|-0.04480367690797725| 0.22845737563734145|0.004754436304522197|  0.1874792459716703|0.008364598646453664|-0.08768915062054183|-0.19324523961510887|-0.05535239445945...|-0.01460313387852...|  0.1328741018209547|                 1.0|  0.0310226228149826| 0.01133371309723103| -0.03507045119448848|\n",
      "| 0.08554991934939074| 0.03769585012428202| 0.14493871137307157| 0.18827309411659632|0.008858413403165535| 0.16339099855228376|-0.01567251998566...|-0.11503747017914481|-0.17314418744628945|-0.04245366752280752|-0.02398755494886...|  0.1039542442429629|  0.0310226228149826|                 1.0|0.028570652550758815| -0.00452400669464...|\n",
      "| 0.23849048144964238| 0.02675012731331293| 0.03536131346244297| 0.08835125256452239|0.002603817740188...| 0.11641686712134904|-0.01208501981963...|-0.02042188663207824|-0.10954803995697564|-0.05026952505928417|0.001988489454539301|-0.03362045404133881| 0.01133371309723103|0.028570652550758815|                 1.0|  0.37028822115807225|\n",
      "| 0.29881926763390504| 0.06716875701899026|-0.01984329677790...|0.005347880326598234|7.858480056736918E-5|-0.02169612886890...|-0.01519022359882...|  0.0532930698263245|-0.02341072567718...|0.005374153776687744|0.028339973970122813|-0.10122553166919306|-0.03507045119448848|-0.00452400669464...| 0.37028822115807225|                  1.0|\n",
      "+--------------------+--------------------+--------------------+--------------------+--------------------+--------------------+--------------------+--------------------+--------------------+--------------------+--------------------+--------------------+--------------------+--------------------+--------------------+---------------------+\n",
      "\n"
     ]
    }
   ],
   "source": [
    "trick = spark.createDataFrame(corrmatrix,df_corr.columns)\n",
    "trick.show()"
   ]
  },
  {
   "cell_type": "code",
   "execution_count": 42,
   "metadata": {},
   "outputs": [
    {
     "data": {
      "text/plain": [
       "DenseMatrix(16, 16, [1.0, 0.0281, 0.1824, 0.2986, 0.0151, 0.3241, -0.0329, -0.0482, ..., -0.0234, 0.0054, 0.0283, -0.1012, -0.0351, -0.0045, 0.3703, 1.0], False)"
      ]
     },
     "execution_count": 42,
     "metadata": {},
     "output_type": "execute_result"
    }
   ],
   "source": [
    "Correlation.corr(myGraph_vector, vector_col).collect()[0][0]"
   ]
  },
  {
   "cell_type": "code",
   "execution_count": 43,
   "metadata": {},
   "outputs": [
    {
     "data": {
      "text/plain": [
       "[Row(pearson(corr_features)=DenseMatrix(16, 16, [1.0, 0.0281, 0.1824, 0.2986, 0.0151, 0.3241, -0.0329, -0.0482, ..., -0.0234, 0.0054, 0.0283, -0.1012, -0.0351, -0.0045, 0.3703, 1.0], False))]"
      ]
     },
     "execution_count": 43,
     "metadata": {},
     "output_type": "execute_result"
    }
   ],
   "source": [
    "Correlation.corr(myGraph_vector, vector_col).collect()"
   ]
  }
 ],
 "metadata": {
  "kernelspec": {
   "display_name": "Python 3",
   "language": "python",
   "name": "python3"
  },
  "language_info": {
   "codemirror_mode": {
    "name": "ipython",
    "version": 3
   },
   "file_extension": ".py",
   "mimetype": "text/x-python",
   "name": "python",
   "nbconvert_exporter": "python",
   "pygments_lexer": "ipython3",
   "version": "3.7.7"
  }
 },
 "nbformat": 4,
 "nbformat_minor": 4
}
