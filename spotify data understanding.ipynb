{
 "cells": [
  {
   "cell_type": "code",
   "execution_count": 1,
   "metadata": {},
   "outputs": [],
   "source": [
    "import findspark\n",
    "findspark.init() "
   ]
  },
  {
   "cell_type": "code",
   "execution_count": 2,
   "metadata": {},
   "outputs": [],
   "source": [
    "import pyspark"
   ]
  },
  {
   "cell_type": "code",
   "execution_count": 3,
   "metadata": {},
   "outputs": [],
   "source": [
    "from pyspark.sql import SparkSession\n",
    "from pyspark.sql import SparkSession\n",
    "from pyspark.sql.functions import *\n",
    "from pyspark.sql.window import Window\n",
    "from pyspark.ml.stat import Correlation\n",
    "from pyspark.sql.types import IntegerType,BooleanType,DateType,FloatType, StringType\n",
    "import matplotlib.pyplot as plt \n",
    "import seaborn as sns\n",
    "import pyspark.sql.types as T\n"
   ]
  },
  {
   "cell_type": "code",
   "execution_count": 4,
   "metadata": {},
   "outputs": [],
   "source": [
    "spark = SparkSession \\\n",
    "    .builder \\\n",
    "    .appName(\"Python Spark SQL basic example\") \\\n",
    "    .config(\"spark.some.config.option\", \"some-value\") \\\n",
    "    .getOrCreate()\n",
    "\n",
    "def fudf(val):\n",
    "    return functools.reduce(lambda x, y:x+y, val)"
   ]
  },
  {
   "cell_type": "code",
   "execution_count": 5,
   "metadata": {},
   "outputs": [],
   "source": [
    "artist_df = spark.read.option(\"header\", \"true\").csv(\"spotify_dataset/artists.csv\")"
   ]
  },
  {
   "cell_type": "code",
   "execution_count": 6,
   "metadata": {},
   "outputs": [],
   "source": [
    "tracks_df = spark.read.option(\"header\", \"true\").csv(\"spotify_dataset/tracks.csv\")"
   ]
  },
  {
   "cell_type": "code",
   "execution_count": 7,
   "metadata": {},
   "outputs": [
    {
     "name": "stdout",
     "output_type": "stream",
     "text": [
      "+--------------------+---------+------+--------------------+----------+\n",
      "|                  id|followers|genres|                name|popularity|\n",
      "+--------------------+---------+------+--------------------+----------+\n",
      "|0DheY5irMjBUeLybb...|      0.0|    []|Armid & Amir Zare...|         0|\n",
      "|0DlhY15l3wsrnlfGi...|      5.0|    []|         ปูนา ภาวิณี|         0|\n",
      "|0DmRESX2JknGPQyO1...|      0.0|    []|               Sadaa|         0|\n",
      "|0DmhnbHjm1qw6NCYP...|      0.0|    []|           Tra'gruda|         0|\n",
      "|0Dn11fWM7vHQ3rinv...|      2.0|    []|Ioannis Panoutsop...|         0|\n",
      "|0DotfDlYMGqkbzfBh...|      7.0|    []|       Astral Affect|         0|\n",
      "|0DqP3bOCiC48L8SM9...|      1.0|    []|           Yung Seed|         0|\n",
      "|0Drs3maQb99iRglyT...|      0.0|    []|               Wi'Ma|         0|\n",
      "|0DsPeAi1gxPPnYjgp...|      0.0|    []|             lentboy|         0|\n",
      "|0DtvnTxgZ9K5YaPS5...|     20.0|    []|            addworks|         0|\n",
      "+--------------------+---------+------+--------------------+----------+\n",
      "only showing top 10 rows\n",
      "\n"
     ]
    }
   ],
   "source": [
    "artist_df.show(10)"
   ]
  },
  {
   "cell_type": "code",
   "execution_count": 8,
   "metadata": {},
   "outputs": [
    {
     "data": {
      "text/html": [
       "<div>\n",
       "<style scoped>\n",
       "    .dataframe tbody tr th:only-of-type {\n",
       "        vertical-align: middle;\n",
       "    }\n",
       "\n",
       "    .dataframe tbody tr th {\n",
       "        vertical-align: top;\n",
       "    }\n",
       "\n",
       "    .dataframe thead th {\n",
       "        text-align: right;\n",
       "    }\n",
       "</style>\n",
       "<table border=\"1\" class=\"dataframe\">\n",
       "  <thead>\n",
       "    <tr style=\"text-align: right;\">\n",
       "      <th></th>\n",
       "      <th>id</th>\n",
       "      <th>name</th>\n",
       "      <th>popularity</th>\n",
       "      <th>duration_ms</th>\n",
       "      <th>explicit</th>\n",
       "      <th>artists</th>\n",
       "      <th>id_artists</th>\n",
       "      <th>release_date</th>\n",
       "      <th>danceability</th>\n",
       "      <th>energy</th>\n",
       "      <th>key</th>\n",
       "      <th>loudness</th>\n",
       "      <th>mode</th>\n",
       "      <th>speechiness</th>\n",
       "      <th>acousticness</th>\n",
       "      <th>instrumentalness</th>\n",
       "      <th>liveness</th>\n",
       "      <th>valence</th>\n",
       "      <th>tempo</th>\n",
       "      <th>time_signature</th>\n",
       "    </tr>\n",
       "  </thead>\n",
       "  <tbody>\n",
       "    <tr>\n",
       "      <th>0</th>\n",
       "      <td>35iwgR4jXetI318WEWsa1Q</td>\n",
       "      <td>Carve</td>\n",
       "      <td>6</td>\n",
       "      <td>126903</td>\n",
       "      <td>0</td>\n",
       "      <td>['Uli']</td>\n",
       "      <td>['45tIt06XoI0Iio4LBEVpls']</td>\n",
       "      <td>1922-02-22</td>\n",
       "      <td>0.645</td>\n",
       "      <td>0.445</td>\n",
       "      <td>0</td>\n",
       "      <td>-13.338</td>\n",
       "      <td>1</td>\n",
       "      <td>0.451</td>\n",
       "      <td>0.674</td>\n",
       "      <td>0.744</td>\n",
       "      <td>0.151</td>\n",
       "      <td>0.127</td>\n",
       "      <td>104.851</td>\n",
       "      <td>3</td>\n",
       "    </tr>\n",
       "    <tr>\n",
       "      <th>1</th>\n",
       "      <td>021ht4sdgPcrDgSk7JTbKY</td>\n",
       "      <td>Capítulo 2.16 - Banquero Anarquista</td>\n",
       "      <td>0</td>\n",
       "      <td>98200</td>\n",
       "      <td>0</td>\n",
       "      <td>['Fernando Pessoa']</td>\n",
       "      <td>['14jtPCOoNZwquk5wd9DxrY']</td>\n",
       "      <td>1922-06-01</td>\n",
       "      <td>0.695</td>\n",
       "      <td>0.263</td>\n",
       "      <td>0</td>\n",
       "      <td>-22.136</td>\n",
       "      <td>1</td>\n",
       "      <td>0.957</td>\n",
       "      <td>0.797</td>\n",
       "      <td>0.0</td>\n",
       "      <td>0.148</td>\n",
       "      <td>0.655</td>\n",
       "      <td>102.009</td>\n",
       "      <td>1</td>\n",
       "    </tr>\n",
       "    <tr>\n",
       "      <th>2</th>\n",
       "      <td>07A5yehtSnoedViJAZkNnc</td>\n",
       "      <td>Vivo para Quererte - Remasterizado</td>\n",
       "      <td>0</td>\n",
       "      <td>181640</td>\n",
       "      <td>0</td>\n",
       "      <td>['Ignacio Corsini']</td>\n",
       "      <td>['5LiOoJbxVSAMkBS2fUm3X2']</td>\n",
       "      <td>1922-03-21</td>\n",
       "      <td>0.434</td>\n",
       "      <td>0.177</td>\n",
       "      <td>1</td>\n",
       "      <td>-21.18</td>\n",
       "      <td>1</td>\n",
       "      <td>0.0512</td>\n",
       "      <td>0.994</td>\n",
       "      <td>0.0218</td>\n",
       "      <td>0.212</td>\n",
       "      <td>0.457</td>\n",
       "      <td>130.418</td>\n",
       "      <td>5</td>\n",
       "    </tr>\n",
       "    <tr>\n",
       "      <th>3</th>\n",
       "      <td>08FmqUhxtyLTn6pAh6bk45</td>\n",
       "      <td>El Prisionero - Remasterizado</td>\n",
       "      <td>0</td>\n",
       "      <td>176907</td>\n",
       "      <td>0</td>\n",
       "      <td>['Ignacio Corsini']</td>\n",
       "      <td>['5LiOoJbxVSAMkBS2fUm3X2']</td>\n",
       "      <td>1922-03-21</td>\n",
       "      <td>0.321</td>\n",
       "      <td>0.0946</td>\n",
       "      <td>7</td>\n",
       "      <td>-27.961</td>\n",
       "      <td>1</td>\n",
       "      <td>0.0504</td>\n",
       "      <td>0.995</td>\n",
       "      <td>0.918</td>\n",
       "      <td>0.104</td>\n",
       "      <td>0.397</td>\n",
       "      <td>169.98</td>\n",
       "      <td>3</td>\n",
       "    </tr>\n",
       "    <tr>\n",
       "      <th>4</th>\n",
       "      <td>08y9GfoqCWfOGsKdwojr5e</td>\n",
       "      <td>Lady of the Evening</td>\n",
       "      <td>0</td>\n",
       "      <td>163080</td>\n",
       "      <td>0</td>\n",
       "      <td>['Dick Haymes']</td>\n",
       "      <td>['3BiJGZsyX9sJchTqcSA7Su']</td>\n",
       "      <td>1922</td>\n",
       "      <td>0.402</td>\n",
       "      <td>0.158</td>\n",
       "      <td>3</td>\n",
       "      <td>-16.9</td>\n",
       "      <td>0</td>\n",
       "      <td>0.039</td>\n",
       "      <td>0.989</td>\n",
       "      <td>0.13</td>\n",
       "      <td>0.311</td>\n",
       "      <td>0.196</td>\n",
       "      <td>103.22</td>\n",
       "      <td>4</td>\n",
       "    </tr>\n",
       "    <tr>\n",
       "      <th>...</th>\n",
       "      <td>...</td>\n",
       "      <td>...</td>\n",
       "      <td>...</td>\n",
       "      <td>...</td>\n",
       "      <td>...</td>\n",
       "      <td>...</td>\n",
       "      <td>...</td>\n",
       "      <td>...</td>\n",
       "      <td>...</td>\n",
       "      <td>...</td>\n",
       "      <td>...</td>\n",
       "      <td>...</td>\n",
       "      <td>...</td>\n",
       "      <td>...</td>\n",
       "      <td>...</td>\n",
       "      <td>...</td>\n",
       "      <td>...</td>\n",
       "      <td>...</td>\n",
       "      <td>...</td>\n",
       "      <td>...</td>\n",
       "    </tr>\n",
       "    <tr>\n",
       "      <th>586667</th>\n",
       "      <td>5rgu12WBIHQtvej2MdHSH0</td>\n",
       "      <td>云与海</td>\n",
       "      <td>50</td>\n",
       "      <td>258267</td>\n",
       "      <td>0</td>\n",
       "      <td>['阿YueYue']</td>\n",
       "      <td>['1QLBXKM5GCpyQQSVMNZqrZ']</td>\n",
       "      <td>2020-09-26</td>\n",
       "      <td>0.56</td>\n",
       "      <td>0.518</td>\n",
       "      <td>0</td>\n",
       "      <td>-7.471</td>\n",
       "      <td>0</td>\n",
       "      <td>0.0292</td>\n",
       "      <td>0.785</td>\n",
       "      <td>0.0</td>\n",
       "      <td>0.0648</td>\n",
       "      <td>0.211</td>\n",
       "      <td>131.896</td>\n",
       "      <td>4</td>\n",
       "    </tr>\n",
       "    <tr>\n",
       "      <th>586668</th>\n",
       "      <td>0NuWgxEp51CutD2pJoF4OM</td>\n",
       "      <td>blind</td>\n",
       "      <td>72</td>\n",
       "      <td>153293</td>\n",
       "      <td>0</td>\n",
       "      <td>['ROLE MODEL']</td>\n",
       "      <td>['1dy5WNgIKQU6ezkpZs4y8z']</td>\n",
       "      <td>2020-10-21</td>\n",
       "      <td>0.765</td>\n",
       "      <td>0.663</td>\n",
       "      <td>0</td>\n",
       "      <td>-5.223</td>\n",
       "      <td>1</td>\n",
       "      <td>0.0652</td>\n",
       "      <td>0.141</td>\n",
       "      <td>0.000297</td>\n",
       "      <td>0.0924</td>\n",
       "      <td>0.686</td>\n",
       "      <td>150.091</td>\n",
       "      <td>4</td>\n",
       "    </tr>\n",
       "    <tr>\n",
       "      <th>586669</th>\n",
       "      <td>27Y1N4Q4U3EfDU5Ubw8ws2</td>\n",
       "      <td>What They'll Say About Us</td>\n",
       "      <td>70</td>\n",
       "      <td>187601</td>\n",
       "      <td>0</td>\n",
       "      <td>['FINNEAS']</td>\n",
       "      <td>['37M5pPGs6V1fchFJSgCguX']</td>\n",
       "      <td>2020-09-02</td>\n",
       "      <td>0.535</td>\n",
       "      <td>0.314</td>\n",
       "      <td>7</td>\n",
       "      <td>-12.823</td>\n",
       "      <td>0</td>\n",
       "      <td>0.0408</td>\n",
       "      <td>0.895</td>\n",
       "      <td>0.00015</td>\n",
       "      <td>0.0874</td>\n",
       "      <td>0.0663</td>\n",
       "      <td>145.095</td>\n",
       "      <td>4</td>\n",
       "    </tr>\n",
       "    <tr>\n",
       "      <th>586670</th>\n",
       "      <td>45XJsGpFTyzbzeWK8VzR8S</td>\n",
       "      <td>A Day At A Time</td>\n",
       "      <td>58</td>\n",
       "      <td>142003</td>\n",
       "      <td>0</td>\n",
       "      <td>['Gentle Bones', 'Clara Benin']</td>\n",
       "      <td>['4jGPdu95icCKVF31CcFKbS', '5ebPSE9YI5aLeZ1Z2g...</td>\n",
       "      <td>2021-03-05</td>\n",
       "      <td>0.696</td>\n",
       "      <td>0.615</td>\n",
       "      <td>10</td>\n",
       "      <td>-6.212</td>\n",
       "      <td>1</td>\n",
       "      <td>0.0345</td>\n",
       "      <td>0.206</td>\n",
       "      <td>2.53e-06</td>\n",
       "      <td>0.305</td>\n",
       "      <td>0.438</td>\n",
       "      <td>90.029</td>\n",
       "      <td>4</td>\n",
       "    </tr>\n",
       "    <tr>\n",
       "      <th>586671</th>\n",
       "      <td>5Ocn6dZ3BJFPWh4ylwFXtn</td>\n",
       "      <td>Mar de Emociones</td>\n",
       "      <td>38</td>\n",
       "      <td>214360</td>\n",
       "      <td>0</td>\n",
       "      <td>['Afrosound']</td>\n",
       "      <td>['0i4Qda0k4nf7jnNHmSNpYv']</td>\n",
       "      <td>2015-07-01</td>\n",
       "      <td>0.686</td>\n",
       "      <td>0.723</td>\n",
       "      <td>6</td>\n",
       "      <td>-7.067</td>\n",
       "      <td>1</td>\n",
       "      <td>0.0363</td>\n",
       "      <td>0.105</td>\n",
       "      <td>0.0</td>\n",
       "      <td>0.264</td>\n",
       "      <td>0.975</td>\n",
       "      <td>112.204</td>\n",
       "      <td>4</td>\n",
       "    </tr>\n",
       "  </tbody>\n",
       "</table>\n",
       "<p>586672 rows × 20 columns</p>\n",
       "</div>"
      ],
      "text/plain": [
       "                            id                                 name  \\\n",
       "0       35iwgR4jXetI318WEWsa1Q                                Carve   \n",
       "1       021ht4sdgPcrDgSk7JTbKY  Capítulo 2.16 - Banquero Anarquista   \n",
       "2       07A5yehtSnoedViJAZkNnc   Vivo para Quererte - Remasterizado   \n",
       "3       08FmqUhxtyLTn6pAh6bk45        El Prisionero - Remasterizado   \n",
       "4       08y9GfoqCWfOGsKdwojr5e                  Lady of the Evening   \n",
       "...                        ...                                  ...   \n",
       "586667  5rgu12WBIHQtvej2MdHSH0                                  云与海   \n",
       "586668  0NuWgxEp51CutD2pJoF4OM                                blind   \n",
       "586669  27Y1N4Q4U3EfDU5Ubw8ws2            What They'll Say About Us   \n",
       "586670  45XJsGpFTyzbzeWK8VzR8S                      A Day At A Time   \n",
       "586671  5Ocn6dZ3BJFPWh4ylwFXtn                     Mar de Emociones   \n",
       "\n",
       "       popularity duration_ms explicit                          artists  \\\n",
       "0               6      126903        0                          ['Uli']   \n",
       "1               0       98200        0              ['Fernando Pessoa']   \n",
       "2               0      181640        0              ['Ignacio Corsini']   \n",
       "3               0      176907        0              ['Ignacio Corsini']   \n",
       "4               0      163080        0                  ['Dick Haymes']   \n",
       "...           ...         ...      ...                              ...   \n",
       "586667         50      258267        0                      ['阿YueYue']   \n",
       "586668         72      153293        0                   ['ROLE MODEL']   \n",
       "586669         70      187601        0                      ['FINNEAS']   \n",
       "586670         58      142003        0  ['Gentle Bones', 'Clara Benin']   \n",
       "586671         38      214360        0                    ['Afrosound']   \n",
       "\n",
       "                                               id_artists release_date  \\\n",
       "0                              ['45tIt06XoI0Iio4LBEVpls']   1922-02-22   \n",
       "1                              ['14jtPCOoNZwquk5wd9DxrY']   1922-06-01   \n",
       "2                              ['5LiOoJbxVSAMkBS2fUm3X2']   1922-03-21   \n",
       "3                              ['5LiOoJbxVSAMkBS2fUm3X2']   1922-03-21   \n",
       "4                              ['3BiJGZsyX9sJchTqcSA7Su']         1922   \n",
       "...                                                   ...          ...   \n",
       "586667                         ['1QLBXKM5GCpyQQSVMNZqrZ']   2020-09-26   \n",
       "586668                         ['1dy5WNgIKQU6ezkpZs4y8z']   2020-10-21   \n",
       "586669                         ['37M5pPGs6V1fchFJSgCguX']   2020-09-02   \n",
       "586670  ['4jGPdu95icCKVF31CcFKbS', '5ebPSE9YI5aLeZ1Z2g...   2021-03-05   \n",
       "586671                         ['0i4Qda0k4nf7jnNHmSNpYv']   2015-07-01   \n",
       "\n",
       "       danceability  energy key loudness mode speechiness acousticness  \\\n",
       "0             0.645   0.445   0  -13.338    1       0.451        0.674   \n",
       "1             0.695   0.263   0  -22.136    1       0.957        0.797   \n",
       "2             0.434   0.177   1   -21.18    1      0.0512        0.994   \n",
       "3             0.321  0.0946   7  -27.961    1      0.0504        0.995   \n",
       "4             0.402   0.158   3    -16.9    0       0.039        0.989   \n",
       "...             ...     ...  ..      ...  ...         ...          ...   \n",
       "586667         0.56   0.518   0   -7.471    0      0.0292        0.785   \n",
       "586668        0.765   0.663   0   -5.223    1      0.0652        0.141   \n",
       "586669        0.535   0.314   7  -12.823    0      0.0408        0.895   \n",
       "586670        0.696   0.615  10   -6.212    1      0.0345        0.206   \n",
       "586671        0.686   0.723   6   -7.067    1      0.0363        0.105   \n",
       "\n",
       "       instrumentalness liveness valence    tempo time_signature  \n",
       "0                 0.744    0.151   0.127  104.851              3  \n",
       "1                   0.0    0.148   0.655  102.009              1  \n",
       "2                0.0218    0.212   0.457  130.418              5  \n",
       "3                 0.918    0.104   0.397   169.98              3  \n",
       "4                  0.13    0.311   0.196   103.22              4  \n",
       "...                 ...      ...     ...      ...            ...  \n",
       "586667              0.0   0.0648   0.211  131.896              4  \n",
       "586668         0.000297   0.0924   0.686  150.091              4  \n",
       "586669          0.00015   0.0874  0.0663  145.095              4  \n",
       "586670         2.53e-06    0.305   0.438   90.029              4  \n",
       "586671              0.0    0.264   0.975  112.204              4  \n",
       "\n",
       "[586672 rows x 20 columns]"
      ]
     },
     "execution_count": 8,
     "metadata": {},
     "output_type": "execute_result"
    }
   ],
   "source": [
    "tracks_df.toPandas()"
   ]
  },
  {
   "cell_type": "code",
   "execution_count": 9,
   "metadata": {},
   "outputs": [
    {
     "data": {
      "text/plain": [
       "['id',\n",
       " 'name',\n",
       " 'popularity',\n",
       " 'duration_ms',\n",
       " 'explicit',\n",
       " 'artists',\n",
       " 'id_artists',\n",
       " 'release_date',\n",
       " 'danceability',\n",
       " 'energy',\n",
       " 'key',\n",
       " 'loudness',\n",
       " 'mode',\n",
       " 'speechiness',\n",
       " 'acousticness',\n",
       " 'instrumentalness',\n",
       " 'liveness',\n",
       " 'valence',\n",
       " 'tempo',\n",
       " 'time_signature']"
      ]
     },
     "execution_count": 9,
     "metadata": {},
     "output_type": "execute_result"
    }
   ],
   "source": [
    "tracks_df.columns"
   ]
  },
  {
   "cell_type": "code",
   "execution_count": 10,
   "metadata": {},
   "outputs": [
    {
     "data": {
      "text/plain": [
       "586672"
      ]
     },
     "execution_count": 10,
     "metadata": {},
     "output_type": "execute_result"
    }
   ],
   "source": [
    "tracks_df.count()"
   ]
  },
  {
   "cell_type": "code",
   "execution_count": 11,
   "metadata": {},
   "outputs": [
    {
     "data": {
      "text/plain": [
       "1104349"
      ]
     },
     "execution_count": 11,
     "metadata": {},
     "output_type": "execute_result"
    }
   ],
   "source": [
    "artist_df.count()"
   ]
  },
  {
   "cell_type": "code",
   "execution_count": 12,
   "metadata": {
    "scrolled": true
   },
   "outputs": [
    {
     "data": {
      "text/html": [
       "<div>\n",
       "<style scoped>\n",
       "    .dataframe tbody tr th:only-of-type {\n",
       "        vertical-align: middle;\n",
       "    }\n",
       "\n",
       "    .dataframe tbody tr th {\n",
       "        vertical-align: top;\n",
       "    }\n",
       "\n",
       "    .dataframe thead th {\n",
       "        text-align: right;\n",
       "    }\n",
       "</style>\n",
       "<table border=\"1\" class=\"dataframe\">\n",
       "  <thead>\n",
       "    <tr style=\"text-align: right;\">\n",
       "      <th></th>\n",
       "      <th>id</th>\n",
       "      <th>followers</th>\n",
       "      <th>genres</th>\n",
       "      <th>name</th>\n",
       "      <th>popularity</th>\n",
       "    </tr>\n",
       "  </thead>\n",
       "  <tbody>\n",
       "    <tr>\n",
       "      <th>0</th>\n",
       "      <td>0DheY5irMjBUeLybbCUEZ2</td>\n",
       "      <td>0.0</td>\n",
       "      <td>[]</td>\n",
       "      <td>Armid &amp; Amir Zare Pashai feat. Sara Rouzbehani</td>\n",
       "      <td>0</td>\n",
       "    </tr>\n",
       "    <tr>\n",
       "      <th>1</th>\n",
       "      <td>0DlhY15l3wsrnlfGio2bjU</td>\n",
       "      <td>5.0</td>\n",
       "      <td>[]</td>\n",
       "      <td>ปูนา ภาวิณี</td>\n",
       "      <td>0</td>\n",
       "    </tr>\n",
       "    <tr>\n",
       "      <th>2</th>\n",
       "      <td>0DmRESX2JknGPQyO15yxg7</td>\n",
       "      <td>0.0</td>\n",
       "      <td>[]</td>\n",
       "      <td>Sadaa</td>\n",
       "      <td>0</td>\n",
       "    </tr>\n",
       "    <tr>\n",
       "      <th>3</th>\n",
       "      <td>0DmhnbHjm1qw6NCYPeZNgJ</td>\n",
       "      <td>0.0</td>\n",
       "      <td>[]</td>\n",
       "      <td>Tra'gruda</td>\n",
       "      <td>0</td>\n",
       "    </tr>\n",
       "    <tr>\n",
       "      <th>4</th>\n",
       "      <td>0Dn11fWM7vHQ3rinvWEl4E</td>\n",
       "      <td>2.0</td>\n",
       "      <td>[]</td>\n",
       "      <td>Ioannis Panoutsopoulos</td>\n",
       "      <td>0</td>\n",
       "    </tr>\n",
       "    <tr>\n",
       "      <th>...</th>\n",
       "      <td>...</td>\n",
       "      <td>...</td>\n",
       "      <td>...</td>\n",
       "      <td>...</td>\n",
       "      <td>...</td>\n",
       "    </tr>\n",
       "    <tr>\n",
       "      <th>1104344</th>\n",
       "      <td>6rJIG42vcWAf1UBdRFlQxB</td>\n",
       "      <td>3345.0</td>\n",
       "      <td>[]</td>\n",
       "      <td>Cody Longo</td>\n",
       "      <td>8</td>\n",
       "    </tr>\n",
       "    <tr>\n",
       "      <th>1104345</th>\n",
       "      <td>1ljurfXKPlGncNdW3J8zJ8</td>\n",
       "      <td>2123.0</td>\n",
       "      <td>['deep acoustic pop']</td>\n",
       "      <td>Right the Stars</td>\n",
       "      <td>18</td>\n",
       "    </tr>\n",
       "    <tr>\n",
       "      <th>1104346</th>\n",
       "      <td>2vnT9YhKIvjVo9LnVjWmr2</td>\n",
       "      <td>26.0</td>\n",
       "      <td>[]</td>\n",
       "      <td>Jesse Giddings</td>\n",
       "      <td>0</td>\n",
       "    </tr>\n",
       "    <tr>\n",
       "      <th>1104347</th>\n",
       "      <td>3ID0E5XCvnJIYZEq043ZoB</td>\n",
       "      <td>406.0</td>\n",
       "      <td>[]</td>\n",
       "      <td>The Boy Band Project</td>\n",
       "      <td>0</td>\n",
       "    </tr>\n",
       "    <tr>\n",
       "      <th>1104348</th>\n",
       "      <td>5m0Y4WSYyai2BU752lCASy</td>\n",
       "      <td>146.0</td>\n",
       "      <td>[]</td>\n",
       "      <td>10 Reasons</td>\n",
       "      <td>1</td>\n",
       "    </tr>\n",
       "  </tbody>\n",
       "</table>\n",
       "<p>1104349 rows × 5 columns</p>\n",
       "</div>"
      ],
      "text/plain": [
       "                             id followers                 genres  \\\n",
       "0        0DheY5irMjBUeLybbCUEZ2       0.0                     []   \n",
       "1        0DlhY15l3wsrnlfGio2bjU       5.0                     []   \n",
       "2        0DmRESX2JknGPQyO15yxg7       0.0                     []   \n",
       "3        0DmhnbHjm1qw6NCYPeZNgJ       0.0                     []   \n",
       "4        0Dn11fWM7vHQ3rinvWEl4E       2.0                     []   \n",
       "...                         ...       ...                    ...   \n",
       "1104344  6rJIG42vcWAf1UBdRFlQxB    3345.0                     []   \n",
       "1104345  1ljurfXKPlGncNdW3J8zJ8    2123.0  ['deep acoustic pop']   \n",
       "1104346  2vnT9YhKIvjVo9LnVjWmr2      26.0                     []   \n",
       "1104347  3ID0E5XCvnJIYZEq043ZoB     406.0                     []   \n",
       "1104348  5m0Y4WSYyai2BU752lCASy     146.0                     []   \n",
       "\n",
       "                                                   name popularity  \n",
       "0        Armid & Amir Zare Pashai feat. Sara Rouzbehani          0  \n",
       "1                                           ปูนา ภาวิณี          0  \n",
       "2                                                 Sadaa          0  \n",
       "3                                             Tra'gruda          0  \n",
       "4                                Ioannis Panoutsopoulos          0  \n",
       "...                                                 ...        ...  \n",
       "1104344                                      Cody Longo          8  \n",
       "1104345                                 Right the Stars         18  \n",
       "1104346                                  Jesse Giddings          0  \n",
       "1104347                            The Boy Band Project          0  \n",
       "1104348                                      10 Reasons          1  \n",
       "\n",
       "[1104349 rows x 5 columns]"
      ]
     },
     "execution_count": 12,
     "metadata": {},
     "output_type": "execute_result"
    }
   ],
   "source": [
    "artist_df.toPandas()"
   ]
  },
  {
   "cell_type": "code",
   "execution_count": 13,
   "metadata": {
    "scrolled": false
   },
   "outputs": [
    {
     "name": "stdout",
     "output_type": "stream",
     "text": [
      "root\n",
      " |-- id: string (nullable = true)\n",
      " |-- followers: string (nullable = true)\n",
      " |-- genres: string (nullable = true)\n",
      " |-- name: string (nullable = true)\n",
      " |-- popularity: string (nullable = true)\n",
      "\n"
     ]
    }
   ],
   "source": [
    "artist_df.printSchema()"
   ]
  },
  {
   "cell_type": "code",
   "execution_count": 14,
   "metadata": {},
   "outputs": [
    {
     "name": "stdout",
     "output_type": "stream",
     "text": [
      "root\n",
      " |-- id: string (nullable = true)\n",
      " |-- name: string (nullable = true)\n",
      " |-- popularity: string (nullable = true)\n",
      " |-- duration_ms: string (nullable = true)\n",
      " |-- explicit: string (nullable = true)\n",
      " |-- artists: string (nullable = true)\n",
      " |-- id_artists: string (nullable = true)\n",
      " |-- release_date: string (nullable = true)\n",
      " |-- danceability: string (nullable = true)\n",
      " |-- energy: string (nullable = true)\n",
      " |-- key: string (nullable = true)\n",
      " |-- loudness: string (nullable = true)\n",
      " |-- mode: string (nullable = true)\n",
      " |-- speechiness: string (nullable = true)\n",
      " |-- acousticness: string (nullable = true)\n",
      " |-- instrumentalness: string (nullable = true)\n",
      " |-- liveness: string (nullable = true)\n",
      " |-- valence: string (nullable = true)\n",
      " |-- tempo: string (nullable = true)\n",
      " |-- time_signature: string (nullable = true)\n",
      "\n"
     ]
    }
   ],
   "source": [
    "tracks_df.printSchema()"
   ]
  },
  {
   "cell_type": "markdown",
   "metadata": {},
   "source": [
    "# Data Understanding"
   ]
  },
  {
   "cell_type": "markdown",
   "metadata": {},
   "source": [
    "Scrivere nel report:\n",
    "    significato delle variabili"
   ]
  },
  {
   "cell_type": "markdown",
   "metadata": {},
   "source": [
    "# Data Cleaning"
   ]
  },
  {
   "cell_type": "code",
   "execution_count": 15,
   "metadata": {},
   "outputs": [
    {
     "name": "stdout",
     "output_type": "stream",
     "text": [
      "+---------+\n",
      "| explicit|\n",
      "+---------+\n",
      "|   687600|\n",
      "|   362760|\n",
      "|   240200|\n",
      "|   296467|\n",
      "|   404000|\n",
      "|  Melot)\"|\n",
      "|   211160|\n",
      "|  1191416|\n",
      "|   185347|\n",
      "| Hoffmann|\n",
      "+---------+\n",
      "only showing top 10 rows\n",
      "\n"
     ]
    }
   ],
   "source": [
    "tracks_df.select(\"explicit\").distinct().show(10)"
   ]
  },
  {
   "cell_type": "code",
   "execution_count": 16,
   "metadata": {},
   "outputs": [
    {
     "name": "stdout",
     "output_type": "stream",
     "text": [
      "+---+----+----------+-----------+--------+-------+----------+------------+------------+------+---+--------+----+-----------+------------+----------------+--------+-------+-----+--------------+\n",
      "| id|name|popularity|duration_ms|explicit|artists|id_artists|release_date|danceability|energy|key|loudness|mode|speechiness|acousticness|instrumentalness|liveness|valence|tempo|time_signature|\n",
      "+---+----+----------+-----------+--------+-------+----------+------------+------------+------+---+--------+----+-----------+------------+----------------+--------+-------+-----+--------------+\n",
      "|  0|   0|         0|          0|       0|      0|         0|           0|           0|     0|  0|       0|   0|          0|           0|               0|       0|      0|    0|             0|\n",
      "+---+----+----------+-----------+--------+-------+----------+------------+------------+------+---+--------+----+-----------+------------+----------------+--------+-------+-----+--------------+\n",
      "\n",
      "+---+---------+------+----+----------+\n",
      "| id|followers|genres|name|popularity|\n",
      "+---+---------+------+----+----------+\n",
      "|  0|        0|     0|   5|         0|\n",
      "+---+---------+------+----+----------+\n",
      "\n"
     ]
    }
   ],
   "source": [
    "#missing values\n",
    "tracks_df.select([count(when(isnan(c), c)).alias(c) for c in tracks_df.columns]).show()\n",
    "artist_df.select([count(when(isnan(c), c)).alias(c) for c in artist_df.columns]).show()"
   ]
  },
  {
   "cell_type": "code",
   "execution_count": 17,
   "metadata": {},
   "outputs": [
    {
     "name": "stdout",
     "output_type": "stream",
     "text": [
      "+---+----+----------+-----------+--------+-------+----------+------------+------------+------+---+--------+----+-----------+------------+----------------+--------+-------+-----+--------------+\n",
      "| id|name|popularity|duration_ms|explicit|artists|id_artists|release_date|danceability|energy|key|loudness|mode|speechiness|acousticness|instrumentalness|liveness|valence|tempo|time_signature|\n",
      "+---+----+----------+-----------+--------+-------+----------+------------+------------+------+---+--------+----+-----------+------------+----------------+--------+-------+-----+--------------+\n",
      "|  0|  71|         0|          0|       0|      0|        12|          12|          12|    12| 12|      12|  12|         12|          12|              12|      12|     12|   12|            12|\n",
      "+---+----+----------+-----------+--------+-------+----------+------------+------------+------+---+--------+----+-----------+------------+----------------+--------+-------+-----+--------------+\n",
      "\n",
      "+---+---------+------+----+----------+\n",
      "| id|followers|genres|name|popularity|\n",
      "+---+---------+------+----+----------+\n",
      "|  0|       13|     0|   0|         0|\n",
      "+---+---------+------+----+----------+\n",
      "\n"
     ]
    }
   ],
   "source": [
    "#null values\n",
    "tracks_df.select([count(when(col(c).isNull(), c)).alias(c) for c in tracks_df.columns]).show()\n",
    "artist_df.select([count(when(col(c).isNull(), c)).alias(c) for c in artist_df.columns]).show()"
   ]
  },
  {
   "cell_type": "code",
   "execution_count": 18,
   "metadata": {},
   "outputs": [],
   "source": [
    "artist_df_1 = artist_df.withColumn(\"followers\", artist_df.followers.cast(IntegerType())) \\\n",
    "         .withColumn(\"popularity\", artist_df.popularity.cast(IntegerType()))"
   ]
  },
  {
   "cell_type": "code",
   "execution_count": 19,
   "metadata": {},
   "outputs": [],
   "source": [
    "tracks_df_1 = tracks_df.withColumn(\"duration_ms\", tracks_df.duration_ms.cast(IntegerType())) \\\n",
    "         .withColumn(\"popularity\", tracks_df.popularity.cast(IntegerType())) \\\n",
    "         .withColumn(\"explicit\", tracks_df.explicit.cast(IntegerType())) \\\n",
    "         .withColumn(\"release_date\", tracks_df.release_date.cast(DateType())) \\\n",
    "         .withColumn(\"danceability\", tracks_df.danceability.cast(FloatType())) \\\n",
    "         .withColumn(\"energy\", tracks_df.energy.cast(FloatType())) \\\n",
    "         .withColumn(\"key\", tracks_df.key.cast(IntegerType())) \\\n",
    "         .withColumn(\"loudness\", tracks_df.loudness.cast(FloatType())) \\\n",
    "         .withColumn(\"mode\", tracks_df.mode.cast(IntegerType())) \\\n",
    "         .withColumn(\"speechiness\", tracks_df.speechiness.cast(FloatType())) \\\n",
    "         .withColumn(\"acousticness\", tracks_df.acousticness.cast(FloatType())) \\\n",
    "         .withColumn(\"instrumentalness\", tracks_df.instrumentalness.cast(FloatType())) \\\n",
    "         .withColumn(\"liveness\", tracks_df.liveness.cast(FloatType())) \\\n",
    "         .withColumn(\"valence\", tracks_df.valence.cast(FloatType())) \\\n",
    "         .withColumn(\"tempo\", tracks_df.tempo.cast(FloatType())) \\\n",
    "         .withColumn(\"time_signature\", tracks_df.time_signature.cast(IntegerType()))  "
   ]
  },
  {
   "cell_type": "code",
   "execution_count": 20,
   "metadata": {},
   "outputs": [
    {
     "name": "stdout",
     "output_type": "stream",
     "text": [
      "+---+----+----------+-----------+--------+-------+----------+------------+------------+------+---+--------+----+-----------+------------+----------------+--------+-------+-----+--------------+\n",
      "| id|name|popularity|duration_ms|explicit|artists|id_artists|release_date|danceability|energy|key|loudness|mode|speechiness|acousticness|instrumentalness|liveness|valence|tempo|time_signature|\n",
      "+---+----+----------+-----------+--------+-------+----------+------------+------------+------+---+--------+----+-----------+------------+----------------+--------+-------+-----+--------------+\n",
      "|  0|  71|      1854|        826|     416|      0|        12|        3309|        2286|   859|430|     268| 160|         91|          64|              45|      34|     27|   23|            55|\n",
      "+---+----+----------+-----------+--------+-------+----------+------------+------------+------+---+--------+----+-----------+------------+----------------+--------+-------+-----+--------------+\n",
      "\n",
      "+---+---------+------+----+----------+\n",
      "| id|followers|genres|name|popularity|\n",
      "+---+---------+------+----+----------+\n",
      "|  0|       13|     0|   0|       530|\n",
      "+---+---------+------+----+----------+\n",
      "\n"
     ]
    }
   ],
   "source": [
    "#null values\n",
    "tracks_df_1.select([count(when(col(c).isNull(), c)).alias(c) for c in tracks_df_1.columns]).show()\n",
    "artist_df_1.select([count(when(col(c).isNull(), c)).alias(c) for c in artist_df_1.columns]).show()"
   ]
  },
  {
   "cell_type": "code",
   "execution_count": 21,
   "metadata": {},
   "outputs": [],
   "source": [
    "tracks_df_2 = tracks_df_1.filter(col(\"release_date\").isNotNull())\n",
    "artist_df_2 = artist_df_1.withColumn('popularity', coalesce(artist_df_1['popularity'], lit(0))) \\\n",
    "                         .withColumn('followers', coalesce(artist_df_1['followers'], lit(0)))\n"
   ]
  },
  {
   "cell_type": "code",
   "execution_count": 22,
   "metadata": {},
   "outputs": [
    {
     "name": "stdout",
     "output_type": "stream",
     "text": [
      "+---+----+----------+-----------+--------+-------+----------+------------+------------+------+---+--------+----+-----------+------------+----------------+--------+-------+-----+--------------+\n",
      "| id|name|popularity|duration_ms|explicit|artists|id_artists|release_date|danceability|energy|key|loudness|mode|speechiness|acousticness|instrumentalness|liveness|valence|tempo|time_signature|\n",
      "+---+----+----------+-----------+--------+-------+----------+------------+------------+------+---+--------+----+-----------+------------+----------------+--------+-------+-----+--------------+\n",
      "|  0|  71|         0|          0|       0|      0|         0|           0|           0|     0|  0|       0|   0|          0|           0|               0|       0|      0|    0|             0|\n",
      "+---+----+----------+-----------+--------+-------+----------+------------+------------+------+---+--------+----+-----------+------------+----------------+--------+-------+-----+--------------+\n",
      "\n",
      "+---+---------+------+----+----------+\n",
      "| id|followers|genres|name|popularity|\n",
      "+---+---------+------+----+----------+\n",
      "|  0|        0|     0|   0|         0|\n",
      "+---+---------+------+----+----------+\n",
      "\n"
     ]
    }
   ],
   "source": [
    "#null values\n",
    "tracks_df_2.select([count(when(col(c).isNull(), c)).alias(c) for c in tracks_df_2.columns]).show()\n",
    "artist_df_2.select([count(when(col(c).isNull(), c)).alias(c) for c in artist_df_2.columns]).show()"
   ]
  },
  {
   "cell_type": "code",
   "execution_count": 23,
   "metadata": {},
   "outputs": [
    {
     "data": {
      "text/plain": [
       "583363"
      ]
     },
     "execution_count": 23,
     "metadata": {},
     "output_type": "execute_result"
    }
   ],
   "source": [
    "tracks_df_2.count()"
   ]
  },
  {
   "cell_type": "code",
   "execution_count": 24,
   "metadata": {},
   "outputs": [
    {
     "data": {
      "text/plain": [
       "1104349"
      ]
     },
     "execution_count": 24,
     "metadata": {},
     "output_type": "execute_result"
    }
   ],
   "source": [
    "artist_df_2.count()"
   ]
  },
  {
   "cell_type": "markdown",
   "metadata": {},
   "source": [
    "# Data Integration"
   ]
  },
  {
   "cell_type": "code",
   "execution_count": 23,
   "metadata": {},
   "outputs": [],
   "source": [
    "artist_df_3 = artist_df_2.withColumn(\n",
    "    \"genres\",\n",
    "    split(regexp_replace(col(\"genres\"), r\"(^\\[)|(\\]$)|(')\", \"\"), \", \")\n",
    ")"
   ]
  },
  {
   "cell_type": "code",
   "execution_count": 24,
   "metadata": {},
   "outputs": [
    {
     "data": {
      "text/plain": [
       "DataFrame[id: string, name: string, popularity: int, duration_ms: int, explicit: int, artists: string, id_artists: array<string>, release_date: date, danceability: float, energy: float, key: int, loudness: float, mode: int, speechiness: float, acousticness: float, instrumentalness: float, liveness: float, valence: float, tempo: float, time_signature: int]"
      ]
     },
     "execution_count": 24,
     "metadata": {},
     "output_type": "execute_result"
    }
   ],
   "source": [
    "tracks_df_wk0= tracks_df_2.withColumn(\n",
    "    \"id_artists\",\n",
    "    split(regexp_replace(col(\"id_artists\"), r\"(^\\[)|(\\]$)|(')\", \"\"), \", \")\n",
    ")\n",
    "tracks_df_wk0"
   ]
  },
  {
   "cell_type": "code",
   "execution_count": 25,
   "metadata": {},
   "outputs": [],
   "source": [
    "windowSpec = Window.partitionBy(\"id_track\") "
   ]
  },
  {
   "cell_type": "code",
   "execution_count": 26,
   "metadata": {},
   "outputs": [],
   "source": [
    "tracks_df_wk1 = tracks_df_wk0.select(col(\"id\").alias(\"id_track\"), \"duration_ms\", col(\"popularity\").alias(\"popularity_track\"),\"explicit\", explode(tracks_df_wk0.id_artists).alias(\"id_artist\"),\"release_date\",\"danceability\",\"energy\",\"key\",\"loudness\",\"mode\", \"speechiness\",\"acousticness\",\"instrumentalness\",\"liveness\",\"valence\",\"tempo\",\"time_signature\")\n",
    "\n",
    "\n",
    "\n",
    "tracks_df_wk2 = tracks_df_wk1.join(artist_df_3, tracks_df_wk1.id_artist==artist_df.id,\"left\") \\\n",
    "           .withColumn(\"sum_artist_followers\",sum(col(\"followers\")).over(windowSpec)) \\\n",
    "           .withColumn(\"sum_artist_popularity\",sum(col(\"popularity\")).over(windowSpec)) \\\n",
    "           .withColumn(\"collect_list_genres\", collect_list(\"genres\").over(windowSpec)) \\\n",
    "           .withColumn(\"collect_list_genres\", flatten(col(\"collect_list_genres\"))) \\\n",
    "           .withColumn(\"collect_list_genres\", array_distinct(\"collect_list_genres\")) \\\n",
    "           .withColumn(\"genres\", array_remove(\"collect_list_genres\", \"\")) \\\n",
    "           .drop(\"collect_list_genres\") \\\n",
    "           .select(\"id_track\", \"popularity_track\",  \"duration_ms\", \"genres\", \"release_date\",\"danceability\",\"energy\",\"key\",\"loudness\",\"mode\", \"speechiness\",\"acousticness\",\"instrumentalness\",\"liveness\",\"valence\",\"tempo\",\"time_signature\", \"sum_artist_followers\", \"sum_artist_popularity\").distinct()\n",
    "\n"
   ]
  },
  {
   "cell_type": "code",
   "execution_count": 27,
   "metadata": {
    "scrolled": false
   },
   "outputs": [
    {
     "name": "stdout",
     "output_type": "stream",
     "text": [
      "+----------------------------------------------------------------------------------+\n",
      "|genres                                                                            |\n",
      "+----------------------------------------------------------------------------------+\n",
      "|[mariachi, ranchera]                                                              |\n",
      "|[chanson, french jazz, french pop]                                                |\n",
      "|[czech folk, czech rock]                                                          |\n",
      "|[downtempo, new age]                                                              |\n",
      "|[colombian rock, latin, latin alternative, latin pop, latin rock, rock en espanol]|\n",
      "|[peruvian rock, pop peruano, pop reggaeton]                                       |\n",
      "|[adult standards, vocal jazz]                                                     |\n",
      "|[irish country, irish folk]                                                       |\n",
      "|[anime]                                                                           |\n",
      "|[afrobeat, classic soul, funk, jazz funk, psychedelic soul, soul, southern soul]  |\n",
      "+----------------------------------------------------------------------------------+\n",
      "only showing top 10 rows\n",
      "\n"
     ]
    }
   ],
   "source": [
    "tracks_df_wk2.select(\"genres\").distinct().show(10, truncate=False)"
   ]
  },
  {
   "cell_type": "code",
   "execution_count": 28,
   "metadata": {},
   "outputs": [
    {
     "name": "stdout",
     "output_type": "stream",
     "text": [
      "root\n",
      " |-- id_track: string (nullable = true)\n",
      " |-- popularity_track: integer (nullable = true)\n",
      " |-- duration_ms: integer (nullable = true)\n",
      " |-- genres: array (nullable = false)\n",
      " |    |-- element: string (containsNull = true)\n",
      " |-- release_date: date (nullable = true)\n",
      " |-- danceability: float (nullable = true)\n",
      " |-- energy: float (nullable = true)\n",
      " |-- key: integer (nullable = true)\n",
      " |-- loudness: float (nullable = true)\n",
      " |-- mode: integer (nullable = true)\n",
      " |-- speechiness: float (nullable = true)\n",
      " |-- acousticness: float (nullable = true)\n",
      " |-- instrumentalness: float (nullable = true)\n",
      " |-- liveness: float (nullable = true)\n",
      " |-- valence: float (nullable = true)\n",
      " |-- tempo: float (nullable = true)\n",
      " |-- time_signature: integer (nullable = true)\n",
      " |-- sum_artist_followers: long (nullable = true)\n",
      " |-- sum_artist_popularity: long (nullable = true)\n",
      "\n"
     ]
    }
   ],
   "source": [
    "tracks_df_wk2.printSchema()"
   ]
  },
  {
   "cell_type": "code",
   "execution_count": 29,
   "metadata": {},
   "outputs": [
    {
     "name": "stdout",
     "output_type": "stream",
     "text": [
      "+--------+----------------+-----------+------+------------+------------+------+---+--------+----+-----------+------------+----------------+--------+-------+-----+--------------+--------------------+---------------------+\n",
      "|id_track|popularity_track|duration_ms|genres|release_date|danceability|energy|key|loudness|mode|speechiness|acousticness|instrumentalness|liveness|valence|tempo|time_signature|sum_artist_followers|sum_artist_popularity|\n",
      "+--------+----------------+-----------+------+------------+------------+------+---+--------+----+-----------+------------+----------------+--------+-------+-----+--------------+--------------------+---------------------+\n",
      "|       0|               0|          0|     0|           0|           0|     0|  0|       0|   0|          0|           0|               0|       0|      0|    0|             0|               11038|                11038|\n",
      "+--------+----------------+-----------+------+------------+------------+------+---+--------+----+-----------+------------+----------------+--------+-------+-----+--------------+--------------------+---------------------+\n",
      "\n"
     ]
    }
   ],
   "source": [
    "tracks_df_wk2.select([count(when(col(c).isNull(), c)).alias(c) for c in tracks_df_wk2.columns]).show()"
   ]
  },
  {
   "cell_type": "code",
   "execution_count": 30,
   "metadata": {},
   "outputs": [],
   "source": [
    "df = tracks_df_wk2.withColumn('sum_artist_followers', coalesce(tracks_df_wk2['sum_artist_followers'], lit(0))) \\\n",
    "                  .withColumn('sum_artist_popularity', coalesce(tracks_df_wk2['sum_artist_popularity'], lit(0)))"
   ]
  },
  {
   "cell_type": "code",
   "execution_count": 31,
   "metadata": {},
   "outputs": [
    {
     "name": "stdout",
     "output_type": "stream",
     "text": [
      "+--------+----------------+-----------+------+------------+------------+------+---+--------+----+-----------+------------+----------------+--------+-------+-----+--------------+--------------------+---------------------+\n",
      "|id_track|popularity_track|duration_ms|genres|release_date|danceability|energy|key|loudness|mode|speechiness|acousticness|instrumentalness|liveness|valence|tempo|time_signature|sum_artist_followers|sum_artist_popularity|\n",
      "+--------+----------------+-----------+------+------------+------------+------+---+--------+----+-----------+------------+----------------+--------+-------+-----+--------------+--------------------+---------------------+\n",
      "|       0|               0|          0|     0|           0|           0|     0|  0|       0|   0|          0|           0|               0|       0|      0|    0|             0|                   0|                    0|\n",
      "+--------+----------------+-----------+------+------------+------------+------+---+--------+----+-----------+------------+----------------+--------+-------+-----+--------------+--------------------+---------------------+\n",
      "\n"
     ]
    }
   ],
   "source": [
    "df.select([count(when(col(c).isNull(), c)).alias(c) for c in tracks_df_wk2.columns]).show()"
   ]
  },
  {
   "cell_type": "markdown",
   "metadata": {},
   "source": [
    "# Correlation"
   ]
  },
  {
   "cell_type": "markdown",
   "metadata": {},
   "source": [
    "### Outliers detection "
   ]
  },
  {
   "cell_type": "code",
   "execution_count": 49,
   "metadata": {},
   "outputs": [],
   "source": [
    "#drop delle colonne inutili ai fini della correlazione\n",
    "df_corr=df.drop(\"id_track\",\"genres\",\"release_date\", 'key','mode')"
   ]
  },
  {
   "cell_type": "code",
   "execution_count": 33,
   "metadata": {},
   "outputs": [],
   "source": [
    "#outliers detection"
   ]
  },
  {
   "cell_type": "code",
   "execution_count": 35,
   "metadata": {},
   "outputs": [],
   "source": [
    "bounds = {\n",
    "    c: dict(\n",
    "        zip([\"q1\", \"q3\"], df.approxQuantile(c, [0.25, 0.75], 0))\n",
    "    )\n",
    "    for c in df_corr.columns\n",
    "}"
   ]
  },
  {
   "cell_type": "code",
   "execution_count": 36,
   "metadata": {},
   "outputs": [
    {
     "name": "stdout",
     "output_type": "stream",
     "text": [
      "{'popularity_track': {'q1': 13.0, 'q3': 41.0, 'lower': -29.0, 'upper': 83.0}, 'duration_ms': {'q1': 175200.0, 'q3': 263800.0, 'lower': 42300.0, 'upper': 396700.0}, 'danceability': {'q1': 0.45399999618530273, 'q3': 0.6859999895095825, 'lower': 0.10600000619888306, 'upper': 1.0339999794960022}, 'energy': {'q1': 0.34599998593330383, 'q3': 0.7490000128746033, 'lower': -0.2585000544786453, 'upper': 1.3535000532865524}, 'loudness': {'q1': -12.848999977111816, 'q3': -6.4730000495910645, 'lower': -22.412999868392944, 'upper': 3.0909998416900635}, 'speechiness': {'q1': 0.033900000154972076, 'q3': 0.0763000026345253, 'lower': -0.029700003564357758, 'upper': 0.13990000635385513}, 'acousticness': {'q1': 0.09610000252723694, 'q3': 0.781000018119812, 'lower': -0.9312500208616257, 'upper': 1.8083500415086746}, 'instrumentalness': {'q1': 0.0, 'q3': 0.00937000010162592, 'lower': -0.014055000152438879, 'upper': 0.0234250002540648}, 'liveness': {'q1': 0.0982000008225441, 'q3': 0.2770000100135803, 'lower': -0.17000001296401024, 'upper': 0.5452000238001347}, 'valence': {'q1': 0.3479999899864197, 'q3': 0.7699999809265137, 'lower': -0.2849999964237213, 'upper': 1.4029999673366547}, 'tempo': {'q1': 95.74099731445312, 'q3': 136.40199279785156, 'lower': 34.74950408935547, 'upper': 197.39348602294922}, 'time_signature': {'q1': 4.0, 'q3': 4.0, 'lower': 4.0, 'upper': 4.0}, 'sum_artist_followers': {'q1': 11925.0, 'q3': 647653.0, 'lower': -941667.0, 'upper': 1601245.0}, 'sum_artist_popularity': {'q1': 38.0, 'q3': 71.0, 'lower': -11.5, 'upper': 120.5}}\n"
     ]
    }
   ],
   "source": [
    "for c in bounds:\n",
    "    iqr = bounds[c]['q3'] - bounds[c]['q1']\n",
    "    bounds[c]['lower'] = bounds[c]['q1'] - (iqr * 1.5)\n",
    "    bounds[c]['upper'] = bounds[c]['q3'] + (iqr * 1.5)\n",
    "print(bounds)"
   ]
  },
  {
   "cell_type": "code",
   "execution_count": 52,
   "metadata": {},
   "outputs": [],
   "source": [
    "df_corr = df_corr.filter(col('danceability')>0) \n",
    "df_corr = df_corr.filter(col('danceability')<1) \n",
    "df_corr = df_corr.filter(col('energy')>0)\n",
    "df_corr = df_corr.filter(col('energy')<1)\n",
    "df_corr = df_corr.filter(col('speechiness')>0)\n",
    "df_corr = df_corr.filter(col('speechiness')<1)\n",
    "df_corr = df_corr.filter(col('acousticness')>0)\n",
    "df_corr = df_corr.filter(col('acousticness')<1)\n",
    "df_corr = df_corr.filter(col('instrumentalness')>0)\n",
    "df_corr = df_corr.filter(col('instrumentalness')<1)\n",
    "df_corr = df_corr.filter(col('liveness')>0)\n",
    "df_corr = df_corr.filter(col('liveness')<1)\n",
    "df_corr = df_corr.filter(col('valence')>0)\n",
    "df_corr = df_corr.filter(col('valence')<1)\n"
   ]
  },
  {
   "cell_type": "code",
   "execution_count": 55,
   "metadata": {},
   "outputs": [
    {
     "name": "stdout",
     "output_type": "stream",
     "text": [
      "+----------------+-----------+------------+------+--------+-----------+------------+----------------+--------+-------+-------+--------------+--------------------+---------------------+\n",
      "|popularity_track|duration_ms|danceability|energy|loudness|speechiness|acousticness|instrumentalness|liveness|valence|  tempo|time_signature|sum_artist_followers|sum_artist_popularity|\n",
      "+----------------+-----------+------------+------+--------+-----------+------------+----------------+--------+-------+-------+--------------+--------------------+---------------------+\n",
      "|               0|    1695512|       0.607| 0.484| -12.234|      0.959|        0.99|          2.7E-5|   0.384|  0.453| 69.539|             4|                5877|                   39|\n",
      "|               7|     237707|       0.518| 0.948|  -4.439|      0.123|      0.0194|         1.04E-4|   0.542|  0.541| 90.559|             4|               22034|                   34|\n",
      "|              21|     257573|       0.699| 0.747|   -9.12|      0.046|       0.309|          0.0013|  0.0821|  0.905|159.816|             4|                4405|                   45|\n",
      "|              12|     220800|       0.416| 0.721| -12.038|     0.0599|       0.608|          0.0056|   0.596|  0.858|137.014|             4|               19823|                   21|\n",
      "|              10|     384543|       0.337| 0.742|  -6.277|     0.0291|        0.56|           0.781|    0.15|  0.256|113.041|             4|               15346|                   28|\n",
      "|               0|     141307|       0.695| 0.119| -19.459|      0.224|        0.99|         1.91E-4|   0.104|  0.693|130.077|             4|                3528|                   23|\n",
      "|              47|     353667|       0.601| 0.789|   -8.73|     0.0611|     5.96E-4|           0.104|   0.248|  0.923|156.459|             4|               33980|                   37|\n",
      "|              37|     156427|       0.341| 0.964|  -5.327|      0.107|     1.26E-5|         1.03E-4|   0.151|  0.459|152.192|             4|            12507294|                   84|\n",
      "|              30|     482584|       0.911| 0.537|   -6.24|      0.078|      0.0117|         0.00256|  0.0434| 0.0934|124.992|             4|             1315900|                  125|\n",
      "|              38|     319840|       0.217| 0.139| -13.874|     0.0379|       0.955|           0.306|  0.0842|  0.119|117.551|             4|               91886|                   65|\n",
      "|               5|     140227|       0.513| 0.397| -10.179|     0.0698|       0.968|         3.24E-4|   0.186|   0.69| 72.474|             3|              110364|                   45|\n",
      "|              18|     227467|       0.565| 0.543| -13.433|     0.0247|       0.394|         0.00782|   0.206|  0.721|  99.77|             4|                1478|                   24|\n",
      "|              50|     309187|       0.723| 0.703|  -9.495|     0.0318|      0.0272|           0.313|  0.0979|  0.767|129.725|             4|              293277|                   55|\n",
      "|              31|     186745|       0.665| 0.791|  -5.471|     0.0303|      0.0313|         1.83E-4|   0.345|  0.703|107.999|             4|               22660|                   79|\n",
      "|              14|     469853|       0.271| 0.848| -10.391|     0.0775|     0.00441|            0.63|   0.113|  0.385|158.579|             4|               23600|                   30|\n",
      "|              30|     111307|       0.447| 0.999|   -9.22|     0.0674|     0.00158|          0.0104|    0.53|  0.459| 137.95|             4|               13020|                   48|\n",
      "|              25|     175773|       0.127| 0.369| -13.852|     0.0392|       0.524|           0.905|   0.165|  0.192| 79.541|             4|             1209869|                  153|\n",
      "|              45|     262988|       0.629| 0.731|  -8.471|     0.0641|       0.243|         7.19E-6|   0.107|  0.608| 75.929|             4|               24975|                   46|\n",
      "|              41|     316600|       0.544| 0.307| -14.178|     0.0299|       0.147|         2.94E-6|   0.145|  0.342| 83.667|             3|              256203|                   59|\n",
      "|               0|     204267|        0.77| 0.549|   -7.15|      0.147|       0.788|           0.442|   0.193|  0.322|123.024|             4|               53463|                   53|\n",
      "+----------------+-----------+------------+------+--------+-----------+------------+----------------+--------+-------+-------+--------------+--------------------+---------------------+\n",
      "only showing top 20 rows\n",
      "\n"
     ]
    }
   ],
   "source": [
    "df_corr.show()"
   ]
  },
  {
   "cell_type": "code",
   "execution_count": 53,
   "metadata": {},
   "outputs": [
    {
     "data": {
      "text/plain": [
       "378601"
      ]
     },
     "execution_count": 53,
     "metadata": {},
     "output_type": "execute_result"
    }
   ],
   "source": [
    "df_corr.count()"
   ]
  },
  {
   "cell_type": "markdown",
   "metadata": {},
   "source": [
    "### Normalization"
   ]
  },
  {
   "cell_type": "code",
   "execution_count": 56,
   "metadata": {},
   "outputs": [],
   "source": [
    "from pyspark.ml import Pipeline\n",
    "from pyspark.ml.feature import MinMaxScaler\n",
    "from pyspark.ml.feature import VectorAssembler\n",
    "\n",
    "\n",
    "columns_to_scale = [\"popularity_track\",  \"duration_ms\", \"danceability\",\"energy\", \"loudness\", \"speechiness\",\"acousticness\",\"instrumentalness\",\"liveness\",\"valence\",\"tempo\",\"time_signature\", \"sum_artist_followers\", \"sum_artist_popularity\"]\n",
    "assemblers = [VectorAssembler(inputCols=[col], outputCol=col + \"_vec\") for col in columns_to_scale]\n",
    "scalers = [MinMaxScaler(inputCol=col + \"_vec\", outputCol=col + \"_scaled\") for col in columns_to_scale]\n",
    "pipeline = Pipeline(stages=assemblers + scalers)\n",
    "scalerModel = pipeline.fit(df_corr)\n",
    "enriched_df = scalerModel.transform(df_corr)"
   ]
  },
  {
   "cell_type": "code",
   "execution_count": 57,
   "metadata": {},
   "outputs": [],
   "source": [
    "from pyspark.sql import functions as f\n",
    "names = {x + \"_scaled\": x for x in columns_to_scale}\n",
    "scaledData = enriched_df.select([f.col(c).alias(names[c]) for c in names.keys()])"
   ]
  },
  {
   "cell_type": "code",
   "execution_count": 58,
   "metadata": {},
   "outputs": [
    {
     "name": "stdout",
     "output_type": "stream",
     "text": [
      "+--------------------+--------------------+--------------------+--------------------+--------------------+--------------------+--------------------+--------------------+--------------------+--------------------+--------------------+--------------------+--------------------+---------------------+\n",
      "|    popularity_track|         duration_ms|        danceability|              energy|            loudness|         speechiness|        acousticness|    instrumentalness|            liveness|             valence|               tempo|      time_signature|sum_artist_followers|sum_artist_popularity|\n",
      "+--------------------+--------------------+--------------------+--------------------+--------------------+--------------------+--------------------+--------------------+--------------------+--------------------+--------------------+--------------------+--------------------+---------------------+\n",
      "|               [0.0]|[0.33409732918484...| [0.590531025475337]| [0.484474051567807]|[0.7075382454266758]| [0.988401479472838]|[0.9939759152309814]|[2.60260517908105...|[0.38083923825026...|[0.4534479856876256]|[0.17813275396960...|               [0.8]|[4.99025948389814...| [0.01179673321234...|\n",
      "|[0.07070707070707...|[0.04403127163226...|[0.49562807508752...|[0.9489479182772169]|[0.8369953369614707]|[0.10691691252442...|[0.01947692791869...|[1.03103203810056...|[0.5399081717716265]|[0.5415369539345851]|[0.2758224838848979]|               [0.8]|[1.87094397597773...| [0.01028433151845...|\n",
      "|[0.21212121212121...|[0.0479840995477508]|[0.6886329745712192]|[0.7477426164097388]|[0.7592546560201626]|[0.02572753986447...|[0.3102402592486015]|[0.00130030158869...|[0.07689674182275...|[0.9059049236995643]| [0.597692052372074]|               [0.8]|[3.74035954170007...| [0.01361161524500...|\n",
      "|[0.12121212121212...|[0.04066720933652...|[0.38686288170868...|[0.7217161012104957]|[0.7107933580029817]|[0.04038380324585...|[0.6104413612845561]|[0.00560460994272...|[0.5942735262692675]|[0.8588574153817993]|[0.4917205834167438]|               [0.8]|[1.68320424960546...| [0.00635208711433...|\n",
      "|[0.10101010101010...|[0.0732478949987554]|[0.30262317560382...|[0.7427375150381338]|[0.8064703711241876]|[0.00790805575306...|[0.5622485634442445]| [0.781781571407664]|[0.14525612543900...| [0.256248820168804]|[0.38030683589800...|               [0.8]|[1.30305465441383...| [0.00846944948578...|\n",
      "|               [0.0]|[0.02485012741333...|[0.6843676641464482]|[0.11910130836393...|[0.5875475586905131]|[0.2134120628085811]|[0.9939759152309814]|[1.90190377298285...|[0.09894491086869...|[0.6936906372093161]|[0.4594810539471961]|               [0.8]|[2.99568410059429...| [0.00695704779189...|\n",
      "|[0.4747474747474748]|[0.06710435756199...|[0.5841330916171553]|[0.7897855037305299]|[0.7657316681625588]|[0.04164908996667...|[5.97390160919442...|[0.10410320811680...|[0.24391912952116...|[0.9239231285301817]|[0.5820905323436145]|               [0.8]|[2.88529891548169...| [0.01119177253478...|\n",
      "|[0.37373737373737...|[0.02785862223273...|[0.3068884542496175]|  [0.96496423073325]|[0.8222476913374475]|[0.09004639148964...|[1.16465985835402...|[1.02102201481076...|[0.1462628779279425]|[0.4594540340761962]|[0.5622598007941951]|               [0.8]|[0.10620153564982...| [0.02540834845735...|\n",
      "|[0.30303030303030...|[0.09275555641335...|[0.9146939821784303]|[0.5375281798057835]|[0.8070848593282116]|[0.05946857800606...|[0.01174599550584...|[0.00256156402794...|[0.03793492318524...|[0.09348441958631...|[0.4358486911254104]|               [0.8]|[0.01117352808382...| [0.03781004234724...|\n",
      "|[0.38383838383838...|[0.06037364630169...| [0.174664101203005]|[0.13912172876672...| [0.680301613095087]|[0.01718684075100...|[0.9588352910828631]|[0.3063056022422372]|[0.07901095505387...|[0.11911030261417...|[0.40126691967380...|               [0.8]|[7.80219470712038...| [0.01966122202056...|\n",
      "|[0.05050505050505...|[0.02463523492623...| [0.490296452946044]|[0.39738522206981...|[0.7416670921242189]|[0.05082243244056...| [0.971887524619138]|[3.23323636069829...|[0.18149968010212...|[0.6906875831825781]|[0.1917730567569788]|[0.6000000000000001]|[9.37119274597472...| [0.01361161524500...|\n",
      "|[0.18181818181818...|[0.04199377249531...|[0.5457453613521668]|[0.5435342895186066]|[0.6876256124321888]|[0.00326866325409...|[0.3955817194673845]|[0.00782683450126...|[0.2016349849145257]| [0.721718942575853]|[0.31863029087122...|               [0.8]|[1.25499464304942...| [0.00725952813067...|\n",
      "|[0.5050505050505051]|[0.05825397068587...|[0.7142247735618951]|[0.7036977124065117]|[0.7530267652119012]|[0.01075495676687...|[0.02730826093397...|[0.3133126154569969]|[0.09280364267587...|[0.7677654527730072]|[0.4578451933991311]|               [0.8]|[0.00249026430263...| [0.01663641863278...|\n",
      "|[0.31313131313131...|[0.03389113188449...|[0.6523779312975907]|[0.7917875800784808]|[0.8198561803801278]|[0.00917334443787...|[0.03142473145166...|[1.82182358666448...| [0.341575381114397]|[0.7037007377452357]|[0.35687431073117...|               [0.8]|[1.92409868819349...| [0.02389594676346...|\n",
      "|[0.14141414141414...|[0.09022241173440...|[0.23224568071100...|[0.8488457715140869]|[0.7381462596278431]|[0.05894137324173...|[0.00442671136034...|[0.6306302479907537]| [0.108005795783977]|[0.3853792185125052]|[0.5919431385992919]|               [0.8]|[2.00391566819799...| [0.00907441016333...|\n",
      "|[0.30303030303030...|[0.01888089166055...|[0.41991895805322...|               [1.0]|[0.7575938788026214]|[0.04829185899891...|[0.00158534301035...|[0.01040941972344...|[0.5278269618806295]|[0.4594540340761962]|[0.4960705626901467]|               [0.8]|[1.10555008474313...| [0.01451905626134...|\n",
      "|[0.25252525252525...|[0.03170798339517...|[0.07869482320899...|[0.3693566006898619]|[0.6806669720458035]|[0.01855756999588...|  [0.52610393514197]|[0.9059057714037684]|[0.1603576077987981]|[0.19218410514103...|[0.22461670864758...|               [0.8]|[0.01027320104053...| [0.04627949183303...|\n",
      "|[0.4545454545454546]|[0.04906154660112...|[0.6139902010326022]|[0.7317263039537057]|[0.7700330618332091]|[0.04481231069671...|[0.24397514725715...|[6.19620222685699...|[0.10196520584045...|[0.6086046633241892]|[0.20783006197272...|               [0.8]|[2.12066922937478...| [0.01391409558378...|\n",
      "|[0.4141414141414142]|[0.05972896884039...|[0.5233525610695563]|[0.30729330788265...|[0.6752528554220322]|[0.00875158023361...|[0.14758950669346...|[1.94194392190440...|[0.14022228798441...| [0.342335762342089]|[0.24379215281212...|[0.6000000000000001]|[0.00217546273703...| [0.01784633998790...|\n",
      "|               [0.0]|[0.03737756351316...|[0.7643420598265416]|[0.5495404588969445]|[0.7919718389151266]|[0.13222268622065...|[0.7911644429518471]|[0.4424418802948429]|[0.18854703753656...|[0.32231553143779...|[0.4267025017610782]|               [0.8]|[4.53963319359616...| [0.01603145795523...|\n",
      "+--------------------+--------------------+--------------------+--------------------+--------------------+--------------------+--------------------+--------------------+--------------------+--------------------+--------------------+--------------------+--------------------+---------------------+\n",
      "only showing top 20 rows\n",
      "\n"
     ]
    }
   ],
   "source": [
    "scaledData.show()"
   ]
  },
  {
   "cell_type": "code",
   "execution_count": 40,
   "metadata": {},
   "outputs": [
    {
     "name": "stdout",
     "output_type": "stream",
     "text": [
      "root\n",
      " |-- popularity_track: vector (nullable = true)\n",
      " |-- duration_ms: vector (nullable = true)\n",
      " |-- danceability: vector (nullable = true)\n",
      " |-- energy: vector (nullable = true)\n",
      " |-- loudness: vector (nullable = true)\n",
      " |-- speechiness: vector (nullable = true)\n",
      " |-- acousticness: vector (nullable = true)\n",
      " |-- instrumentalness: vector (nullable = true)\n",
      " |-- liveness: vector (nullable = true)\n",
      " |-- valence: vector (nullable = true)\n",
      " |-- tempo: vector (nullable = true)\n",
      " |-- time_signature: vector (nullable = true)\n",
      " |-- sum_artist_followers: vector (nullable = true)\n",
      " |-- sum_artist_popularity: vector (nullable = true)\n",
      "\n"
     ]
    }
   ],
   "source": [
    "scaledData.printSchema()"
   ]
  },
  {
   "cell_type": "markdown",
   "metadata": {},
   "source": [
    "CORRELATION"
   ]
  },
  {
   "cell_type": "code",
   "execution_count": 59,
   "metadata": {},
   "outputs": [],
   "source": [
    "from pyspark.ml.stat import Correlation"
   ]
  },
  {
   "cell_type": "code",
   "execution_count": 60,
   "metadata": {},
   "outputs": [],
   "source": [
    "import pandas as pd"
   ]
  },
  {
   "cell_type": "code",
   "execution_count": null,
   "metadata": {},
   "outputs": [],
   "source": [
    "vector_col = \"corr_features\"\n",
    "assembler = VectorAssembler(inputCols=scaledData.columns, outputCol=vector_col)\n",
    "df_vector = assembler.transform(scaledData).select(vector_col)\n",
    "\n",
    "\n",
    "matrix = Correlation.corr(df_vector, vector_col)\n",
    "corrmatrix = matrix.collect()[0][\"pearson({})\".format(vector_col)].values"
   ]
  },
  {
   "cell_type": "code",
   "execution_count": null,
   "metadata": {},
   "outputs": [],
   "source": [
    "pd.DataFrame(corrmatrix.reshape(-1, len(scaledData.columns)), columns=scaledData.columns, index=scaledData.columns)"
   ]
  },
  {
   "cell_type": "code",
   "execution_count": null,
   "metadata": {},
   "outputs": [],
   "source": []
  }
 ],
 "metadata": {
  "kernelspec": {
   "display_name": "Python 3",
   "language": "python",
   "name": "python3"
  },
  "language_info": {
   "codemirror_mode": {
    "name": "ipython",
    "version": 3
   },
   "file_extension": ".py",
   "mimetype": "text/x-python",
   "name": "python",
   "nbconvert_exporter": "python",
   "pygments_lexer": "ipython3",
   "version": "3.7.3"
  }
 },
 "nbformat": 4,
 "nbformat_minor": 4
}
