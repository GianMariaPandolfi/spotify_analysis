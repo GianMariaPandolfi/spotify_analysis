{
 "cells": [
  {
   "cell_type": "code",
   "execution_count": 2,
   "metadata": {},
   "outputs": [],
   "source": [
    "import matplotlib.pyplot as plt\n",
    "from collections import OrderedDict\n",
    "import seaborn as sns\n",
    "\n",
    "import pandas as pd\n",
    "\n",
    "import plotly.graph_objects as go\n",
    "import numpy as np"
   ]
  },
  {
   "cell_type": "code",
   "execution_count": 3,
   "metadata": {},
   "outputs": [],
   "source": [
    "import pyspark # only run after findspark.init()\n",
    "from pyspark.sql import SparkSession \n",
    "from pyspark.conf import SparkConf\n",
    "from pyspark.sql.functions import *\n",
    "from pyspark.mllib.stat import Statistics\n",
    "from pyspark.sql.types import StringType, IntegerType, StructType, StructField"
   ]
  },
  {
   "cell_type": "code",
   "execution_count": 4,
   "metadata": {},
   "outputs": [],
   "source": [
    "spark = SparkSession \\\n",
    "    .builder \\\n",
    "    .appName(\"regression\") \\\n",
    "    .master(\"local[4]\") \\\n",
    "    .config(\"spark.driver.maxResultSize\", \"8g\") \\\n",
    "    .config(\"spark.network.timeout\",\"3600\")\\\n",
    "    .config(\"spark.executor.heartbeatInterval\",\"3000s\")\\\n",
    "    .getOrCreate()"
   ]
  },
  {
   "cell_type": "markdown",
   "metadata": {},
   "source": [
    "# TREND ANALYSIS"
   ]
  },
  {
   "cell_type": "markdown",
   "metadata": {},
   "source": []
  },
  {
   "cell_type": "code",
   "execution_count": 31,
   "metadata": {},
   "outputs": [
    {
     "name": "stdout",
     "output_type": "stream",
     "text": [
      "-RECORD 0---------------------------------------------------------------------------------------------------------------------------------------------------\n",
      " acousticness          | 0.658                                                                                                                              \n",
      " age                   | 41.821917808219176                                                                                                                 \n",
      " avg_artist_followers  | 5403.5                                                                                                                             \n",
      " avg_artist_popularity | 40.0                                                                                                                               \n",
      " danceability          | 0.602                                                                                                                              \n",
      " duration_ms           | 156067                                                                                                                             \n",
      " energy                | 0.552                                                                                                                              \n",
      " genres                | [classic czech pop, czech folk, czech rock]                                                                                        \n",
      " id_track              | 00AeAaSNbe92PRrstQskvH                                                                                                             \n",
      " instrumentalness      | 0.0                                                                                                                                \n",
      " key                   | 0                                                                                                                                  \n",
      " liveness              | 0.0972                                                                                                                             \n",
      " loudness              | -6.667                                                                                                                             \n",
      " mode                  | 1                                                                                                                                  \n",
      " popularity_track      | 3                                                                                                                                  \n",
      " release_date          | 1980-01-01                                                                                                                         \n",
      " speechiness           | 0.404                                                                                                                              \n",
      " sum_artist_followers  | 10807                                                                                                                              \n",
      " sum_artist_popularity | 80                                                                                                                                 \n",
      " tempo                 | 182.229                                                                                                                            \n",
      " time_signature        | 3                                                                                                                                  \n",
      " valence               | 0.65                                                                                                                               \n",
      "-RECORD 1---------------------------------------------------------------------------------------------------------------------------------------------------\n",
      " acousticness          | 0.543                                                                                                                              \n",
      " age                   | 45.824657534246576                                                                                                                 \n",
      " avg_artist_followers  | 19833.0                                                                                                                            \n",
      " avg_artist_popularity | 43.0                                                                                                                               \n",
      " danceability          | 0.77                                                                                                                               \n",
      " duration_ms           | 220133                                                                                                                             \n",
      " energy                | 0.891                                                                                                                              \n",
      " genres                | [afrobeat, afropop, world]                                                                                                         \n",
      " id_track              | 00DJt4PjkzeXhKKVDekw2n                                                                                                             \n",
      " instrumentalness      | 7.96E-4                                                                                                                            \n",
      " key                   | 1                                                                                                                                  \n",
      " liveness              | 0.0684                                                                                                                             \n",
      " loudness              | -7.306                                                                                                                             \n",
      " mode                  | 1                                                                                                                                  \n",
      " popularity_track      | 9                                                                                                                                  \n",
      " release_date          | 1976-01-01                                                                                                                         \n",
      " speechiness           | 0.172                                                                                                                              \n",
      " sum_artist_followers  | 19833                                                                                                                              \n",
      " sum_artist_popularity | 43                                                                                                                                 \n",
      " tempo                 | 135.573                                                                                                                            \n",
      " time_signature        | 4                                                                                                                                  \n",
      " valence               | 0.898                                                                                                                              \n",
      "-RECORD 2---------------------------------------------------------------------------------------------------------------------------------------------------\n",
      " acousticness          | 4.8E-5                                                                                                                             \n",
      " age                   | 25.673972602739727                                                                                                                 \n",
      " avg_artist_followers  | 874600.0                                                                                                                           \n",
      " avg_artist_popularity | 68.0                                                                                                                               \n",
      " danceability          | 0.212                                                                                                                              \n",
      " duration_ms           | 250960                                                                                                                             \n",
      " energy                | 0.986                                                                                                                              \n",
      " genres                | [alternative metal, gothenburg metal, melodic death metal, melodic metalcore, metal, nu metal, swedish death metal, swedish metal] \n",
      " id_track              | 00HgVIkZrAL8WjAN9Et6WW                                                                                                             \n",
      " instrumentalness      | 0.918                                                                                                                              \n",
      " key                   | 0                                                                                                                                  \n",
      " liveness              | 0.324                                                                                                                              \n",
      " loudness              | -6.69                                                                                                                              \n",
      " mode                  | 0                                                                                                                                  \n",
      " popularity_track      | 33                                                                                                                                 \n",
      " release_date          | 1996-02-20                                                                                                                         \n",
      " speechiness           | 0.14                                                                                                                               \n",
      " sum_artist_followers  | 874600                                                                                                                             \n",
      " sum_artist_popularity | 68                                                                                                                                 \n",
      " tempo                 | 140.917                                                                                                                            \n",
      " time_signature        | 4                                                                                                                                  \n",
      " valence               | 0.231                                                                                                                              \n",
      "only showing top 3 rows\n",
      "\n"
     ]
    }
   ],
   "source": [
    "df = spark.read.json('../data/cleaned_dataset')\n",
    "df.show(3,truncate=False,vertical =True)\n"
   ]
  },
  {
   "cell_type": "code",
   "execution_count": 34,
   "metadata": {},
   "outputs": [],
   "source": [
    "\n",
    "technical_columns = ['acousticness', 'danceability', 'duration_ms', 'energy', 'instrumentalness', 'key', 'liveness', 'loudness', 'mode',  'speechiness', 'tempo', 'time_signature', 'valence']"
   ]
  },
  {
   "cell_type": "code",
   "execution_count": 33,
   "metadata": {},
   "outputs": [
    {
     "name": "stdout",
     "output_type": "stream",
     "text": [
      "+----+----------------+\n",
      "|year|popularity_norma|\n",
      "+----+----------------+\n",
      "|1959|           59595|\n",
      "|1959|           59595|\n",
      "|1959|           59595|\n",
      "|1959|           59595|\n",
      "|1959|           59595|\n",
      "|1959|           59595|\n",
      "|1959|           59595|\n",
      "|1959|           59595|\n",
      "|1959|           59595|\n",
      "|1959|           59595|\n",
      "|1959|           59595|\n",
      "|1959|           59595|\n",
      "|1959|           59595|\n",
      "|1959|           59595|\n",
      "|1959|           59595|\n",
      "|1959|           59595|\n",
      "|1959|           59595|\n",
      "|1959|           59595|\n",
      "|1959|           59595|\n",
      "|1959|           59595|\n",
      "+----+----------------+\n",
      "only showing top 20 rows\n",
      "\n"
     ]
    }
   ],
   "source": [
    "df = df.withColumn('year',2021 - df.age.cast(IntegerType()))\n",
    "from pyspark.sql.window import Window\n",
    "windowSpec = Window.partitionBy(\"year\") \n",
    "df = df.withColumn(\"popularity_norma\",sum(col(\"popularity_track\")).over(windowSpec))\n",
    "df.select('year','popularity_norma').show()\n",
    "\n"
   ]
  },
  {
   "cell_type": "code",
   "execution_count": 35,
   "metadata": {},
   "outputs": [],
   "source": [
    "from functools import reduce"
   ]
  },
  {
   "cell_type": "code",
   "execution_count": 67,
   "metadata": {},
   "outputs": [
    {
     "data": {
      "text/plain": [
       "DataFrame[acousticness: double, age: double, avg_artist_followers: double, avg_artist_popularity: double, danceability: double, duration_ms: bigint, energy: double, genres: array<string>, id_track: string, instrumentalness: double, key: bigint, liveness: double, loudness: double, mode: bigint, popularity_track: bigint, release_date: string, speechiness: double, sum_artist_followers: bigint, sum_artist_popularity: bigint, tempo: double, time_signature: bigint, valence: double, year: int, popularity_norma: bigint, acousticness_n: double, danceability_n: double, duration_ms_n: double, energy_n: double, instrumentalness_n: double, key_n: double, liveness_n: double, loudness_n: double, mode_n: double, speechiness_n: double, tempo_n: double, time_signature_n: double, valence_n: double]"
      ]
     },
     "execution_count": 67,
     "metadata": {},
     "output_type": "execute_result"
    }
   ],
   "source": [
    "\n",
    "\n",
    "dfn = reduce(\n",
    "    lambda memo_df, col_name: memo_df.withColumn(col_name+'_n', (col(col_name)/col('popularity_norma'))  ),technical_columns,df)\n",
    "\n",
    "dfn"
   ]
  },
  {
   "cell_type": "code",
   "execution_count": 79,
   "metadata": {},
   "outputs": [
    {
     "name": "stdout",
     "output_type": "stream",
     "text": [
      "F.min('acousticness').alias('min_acousticness'),\\\n",
      "F.max('acousticness').alias('max_acousticness'),\\\n",
      "F.avg('acousticness').alias('avg_acousticness'),\\\n",
      "F.sum('acousticness_n').alias('wavg_acousticness'),\\\n",
      "F.min('danceability').alias('min_danceability'),\\\n",
      "F.max('danceability').alias('max_danceability'),\\\n",
      "F.avg('danceability').alias('avg_danceability'),\\\n",
      "F.sum('danceability_n').alias('wavg_danceability'),\\\n",
      "F.min('duration_ms').alias('min_duration_ms'),\\\n",
      "F.max('duration_ms').alias('max_duration_ms'),\\\n",
      "F.avg('duration_ms').alias('avg_duration_ms'),\\\n",
      "F.sum('duration_ms_n').alias('wavg_duration_ms'),\\\n",
      "F.min('energy').alias('min_energy'),\\\n",
      "F.max('energy').alias('max_energy'),\\\n",
      "F.avg('energy').alias('avg_energy'),\\\n",
      "F.sum('energy_n').alias('wavg_energy'),\\\n",
      "F.min('instrumentalness').alias('min_instrumentalness'),\\\n",
      "F.max('instrumentalness').alias('max_instrumentalness'),\\\n",
      "F.avg('instrumentalness').alias('avg_instrumentalness'),\\\n",
      "F.sum('instrumentalness_n').alias('wavg_instrumentalness'),\\\n",
      "F.min('key').alias('min_key'),\\\n",
      "F.max('key').alias('max_key'),\\\n",
      "F.avg('key').alias('avg_key'),\\\n",
      "F.sum('key_n').alias('wavg_key'),\\\n",
      "F.min('liveness').alias('min_liveness'),\\\n",
      "F.max('liveness').alias('max_liveness'),\\\n",
      "F.avg('liveness').alias('avg_liveness'),\\\n",
      "F.sum('liveness_n').alias('wavg_liveness'),\\\n",
      "F.min('loudness').alias('min_loudness'),\\\n",
      "F.max('loudness').alias('max_loudness'),\\\n",
      "F.avg('loudness').alias('avg_loudness'),\\\n",
      "F.sum('loudness_n').alias('wavg_loudness'),\\\n",
      "F.min('mode').alias('min_mode'),\\\n",
      "F.max('mode').alias('max_mode'),\\\n",
      "F.avg('mode').alias('avg_mode'),\\\n",
      "F.sum('mode_n').alias('wavg_mode'),\\\n",
      "F.min('speechiness').alias('min_speechiness'),\\\n",
      "F.max('speechiness').alias('max_speechiness'),\\\n",
      "F.avg('speechiness').alias('avg_speechiness'),\\\n",
      "F.sum('speechiness_n').alias('wavg_speechiness'),\\\n",
      "F.min('tempo').alias('min_tempo'),\\\n",
      "F.max('tempo').alias('max_tempo'),\\\n",
      "F.avg('tempo').alias('avg_tempo'),\\\n",
      "F.sum('tempo_n').alias('wavg_tempo'),\\\n",
      "F.min('time_signature').alias('min_time_signature'),\\\n",
      "F.max('time_signature').alias('max_time_signature'),\\\n",
      "F.avg('time_signature').alias('avg_time_signature'),\\\n",
      "F.sum('time_signature_n').alias('wavg_time_signature'),\\\n",
      "F.min('valence').alias('min_valence'),\\\n",
      "F.max('valence').alias('max_valence'),\\\n",
      "F.avg('valence').alias('avg_valence'),\\\n",
      "F.sum('valence_n').alias('wavg_valence'),\\\n"
     ]
    }
   ],
   "source": [
    "for column in technical_columns:\n",
    "    for aggr in ['min','max','avg']:\n",
    "        s = \"F.\"+aggr+\"('\"+column+\"').alias('\"+aggr+\"_\"+column+\"'),\\\\\"\n",
    "        print(s,end='\\n')\n",
    "    print(\"F.sum('\"+column+\"_n').alias('wavg_\"+column+\"'),\\\\\")\n",
    "    "
   ]
  },
  {
   "cell_type": "code",
   "execution_count": 74,
   "metadata": {},
   "outputs": [],
   "source": [
    "import pyspark.sql.functions as F"
   ]
  },
  {
   "cell_type": "code",
   "execution_count": 82,
   "metadata": {},
   "outputs": [],
   "source": [
    "\n",
    "dfg = dfn.groupBy('year')\\\n",
    "    .agg(F.min('acousticness').alias('min_acousticness'),\\\n",
    "        F.max('acousticness').alias('max_acousticness'),\\\n",
    "        F.avg('acousticness').alias('avg_acousticness'),\\\n",
    "        F.sum('acousticness_n').alias('wavg_acousticness'),\\\n",
    "        F.min('danceability').alias('min_danceability'),\\\n",
    "        F.max('danceability').alias('max_danceability'),\\\n",
    "        F.avg('danceability').alias('avg_danceability'),\\\n",
    "        F.sum('danceability_n').alias('wavg_danceability'),\\\n",
    "        F.min('duration_ms').alias('min_duration_ms'),\\\n",
    "        F.max('duration_ms').alias('max_duration_ms'),\\\n",
    "        F.avg('duration_ms').alias('avg_duration_ms'),\\\n",
    "        F.sum('duration_ms_n').alias('wavg_duration_ms'),\\\n",
    "        F.min('energy').alias('min_energy'),\\\n",
    "        F.max('energy').alias('max_energy'),\\\n",
    "        F.avg('energy').alias('avg_energy'),\\\n",
    "        F.sum('energy_n').alias('wavg_energy'),\\\n",
    "        F.min('instrumentalness').alias('min_instrumentalness'),\\\n",
    "        F.max('instrumentalness').alias('max_instrumentalness'),\\\n",
    "        F.avg('instrumentalness').alias('avg_instrumentalness'),\\\n",
    "        F.sum('instrumentalness_n').alias('wavg_instrumentalness'),\\\n",
    "        F.min('key').alias('min_key'),\\\n",
    "        F.max('key').alias('max_key'),\\\n",
    "        F.avg('key').alias('avg_key'),\\\n",
    "        F.sum('key_n').alias('wavg_key'),\\\n",
    "        F.min('liveness').alias('min_liveness'),\\\n",
    "        F.max('liveness').alias('max_liveness'),\\\n",
    "        F.avg('liveness').alias('avg_liveness'),\\\n",
    "        F.sum('liveness_n').alias('wavg_liveness'),\\\n",
    "        F.min('loudness').alias('min_loudness'),\\\n",
    "        F.max('loudness').alias('max_loudness'),\\\n",
    "        F.avg('loudness').alias('avg_loudness'),\\\n",
    "        F.sum('loudness_n').alias('wavg_loudness'),\\\n",
    "        F.min('mode').alias('min_mode'),\\\n",
    "        F.max('mode').alias('max_mode'),\\\n",
    "        F.avg('mode').alias('avg_mode'),\\\n",
    "        F.sum('mode_n').alias('wavg_mode'),\\\n",
    "        F.min('speechiness').alias('min_speechiness'),\\\n",
    "        F.max('speechiness').alias('max_speechiness'),\\\n",
    "        F.avg('speechiness').alias('avg_speechiness'),\\\n",
    "        F.sum('speechiness_n').alias('wavg_speechiness'),\\\n",
    "        F.min('tempo').alias('min_tempo'),\\\n",
    "        F.max('tempo').alias('max_tempo'),\\\n",
    "        F.avg('tempo').alias('avg_tempo'),\\\n",
    "        F.sum('tempo_n').alias('wavg_tempo'),\\\n",
    "        F.min('time_signature').alias('min_time_signature'),\\\n",
    "        F.max('time_signature').alias('max_time_signature'),\\\n",
    "        F.avg('time_signature').alias('avg_time_signature'),\\\n",
    "        F.sum('time_signature_n').alias('wavg_time_signature'),\\\n",
    "        F.min('valence').alias('min_valence'),\\\n",
    "        F.max('valence').alias('max_valence'),\\\n",
    "        F.avg('valence').alias('avg_valence'),\\\n",
    "        F.sum('valence_n').alias('wavg_valence') )"
   ]
  },
  {
   "cell_type": "code",
   "execution_count": 83,
   "metadata": {},
   "outputs": [
    {
     "name": "stdout",
     "output_type": "stream",
     "text": [
      "root\n",
      " |-- year: integer (nullable = true)\n",
      " |-- min_acousticness: double (nullable = true)\n",
      " |-- max_acousticness: double (nullable = true)\n",
      " |-- avg_acousticness: double (nullable = true)\n",
      " |-- wavg_acousticness: double (nullable = true)\n",
      " |-- min_danceability: double (nullable = true)\n",
      " |-- max_danceability: double (nullable = true)\n",
      " |-- avg_danceability: double (nullable = true)\n",
      " |-- wavg_danceability: double (nullable = true)\n",
      " |-- min_duration_ms: long (nullable = true)\n",
      " |-- max_duration_ms: long (nullable = true)\n",
      " |-- avg_duration_ms: double (nullable = true)\n",
      " |-- wavg_duration_ms: double (nullable = true)\n",
      " |-- min_energy: double (nullable = true)\n",
      " |-- max_energy: double (nullable = true)\n",
      " |-- avg_energy: double (nullable = true)\n",
      " |-- wavg_energy: double (nullable = true)\n",
      " |-- min_instrumentalness: double (nullable = true)\n",
      " |-- max_instrumentalness: double (nullable = true)\n",
      " |-- avg_instrumentalness: double (nullable = true)\n",
      " |-- wavg_instrumentalness: double (nullable = true)\n",
      " |-- min_key: long (nullable = true)\n",
      " |-- max_key: long (nullable = true)\n",
      " |-- avg_key: double (nullable = true)\n",
      " |-- wavg_key: double (nullable = true)\n",
      " |-- min_liveness: double (nullable = true)\n",
      " |-- max_liveness: double (nullable = true)\n",
      " |-- avg_liveness: double (nullable = true)\n",
      " |-- wavg_liveness: double (nullable = true)\n",
      " |-- min_loudness: double (nullable = true)\n",
      " |-- max_loudness: double (nullable = true)\n",
      " |-- avg_loudness: double (nullable = true)\n",
      " |-- wavg_loudness: double (nullable = true)\n",
      " |-- min_mode: long (nullable = true)\n",
      " |-- max_mode: long (nullable = true)\n",
      " |-- avg_mode: double (nullable = true)\n",
      " |-- wavg_mode: double (nullable = true)\n",
      " |-- min_speechiness: double (nullable = true)\n",
      " |-- max_speechiness: double (nullable = true)\n",
      " |-- avg_speechiness: double (nullable = true)\n",
      " |-- wavg_speechiness: double (nullable = true)\n",
      " |-- min_tempo: double (nullable = true)\n",
      " |-- max_tempo: double (nullable = true)\n",
      " |-- avg_tempo: double (nullable = true)\n",
      " |-- wavg_tempo: double (nullable = true)\n",
      " |-- min_time_signature: long (nullable = true)\n",
      " |-- max_time_signature: long (nullable = true)\n",
      " |-- avg_time_signature: double (nullable = true)\n",
      " |-- wavg_time_signature: double (nullable = true)\n",
      " |-- min_valence: double (nullable = true)\n",
      " |-- max_valence: double (nullable = true)\n",
      " |-- avg_valence: double (nullable = true)\n",
      " |-- wavg_valence: double (nullable = true)\n",
      "\n"
     ]
    }
   ],
   "source": [
    "dfg.printSchema()"
   ]
  },
  {
   "cell_type": "code",
   "execution_count": 85,
   "metadata": {},
   "outputs": [
    {
     "data": {
      "text/plain": [
       "101"
      ]
     },
     "execution_count": 85,
     "metadata": {},
     "output_type": "execute_result"
    }
   ],
   "source": [
    "dfg.count()"
   ]
  },
  {
   "cell_type": "code",
   "execution_count": 86,
   "metadata": {},
   "outputs": [],
   "source": [
    "dfp = dfg.toPandas()"
   ]
  },
  {
   "cell_type": "code",
   "execution_count": 88,
   "metadata": {},
   "outputs": [],
   "source": [
    "dfp.to_csv('../data/timeseries.csv')"
   ]
  },
  {
   "cell_type": "code",
   "execution_count": null,
   "metadata": {},
   "outputs": [],
   "source": []
  }
 ],
 "metadata": {
  "interpreter": {
   "hash": "80f7a5588e248a7388d6dceffc71a6764e419a959cf08d0c746b6ec85a1773dd"
  },
  "kernelspec": {
   "display_name": "Python 3.7.11 64-bit ('pyspark_env': conda)",
   "name": "python3"
  },
  "language_info": {
   "codemirror_mode": {
    "name": "ipython",
    "version": 3
   },
   "file_extension": ".py",
   "mimetype": "text/x-python",
   "name": "python",
   "nbconvert_exporter": "python",
   "pygments_lexer": "ipython3",
   "version": "3.7.11"
  },
  "orig_nbformat": 4
 },
 "nbformat": 4,
 "nbformat_minor": 2
}
