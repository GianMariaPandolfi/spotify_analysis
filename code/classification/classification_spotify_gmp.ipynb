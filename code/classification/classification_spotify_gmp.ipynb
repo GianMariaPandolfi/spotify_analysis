{
 "cells": [
  {
   "cell_type": "markdown",
   "metadata": {
    "id": "y_NqHP_cQcBB"
   },
   "source": [
    "WORKFLOW:\n",
    "parto dal dataframe --> discretizzo valore target —> vector assembler con tutti gli attributi tranne quello targer —> standardizzo valori nel vettore creato con minmaxscaler —> preparo i dati per splittarli —> splitto in train-test —> applico random forest —> evaluation\n"
   ]
  },
  {
   "cell_type": "markdown",
   "metadata": {
    "id": "b8sw4WG_QmUU"
   },
   "source": [
    "Sito utile: [link text](https://towardsdatascience.com/uci-heart-disease-classification-with-pyspark-eadc8e99663f)\n",
    "\n",
    "in particolare: [link text](https://medium.com/analytics-vidhya/building-a-classification-model-using-pyspark-in-databricks-909646147b57)"
   ]
  },
  {
   "cell_type": "code",
   "execution_count": 2,
   "metadata": {
    "colab": {
     "base_uri": "https://localhost:8080/"
    },
    "id": "KhwXotU6-Bab",
    "outputId": "d618f9d1-2aa2-4e1e-bb4a-e31832d66271"
   },
   "outputs": [
    {
     "name": "stdout",
     "output_type": "stream",
     "text": [
      "Processing c:\\users\\giamboseller\\appdata\\local\\pip\\cache\\wheels\\a5\\0a\\c1\\9561f6fecb759579a7d863dcd846daaa95f598744e71b02c77\\pyspark-3.1.2-py2.py3-none-any.whl\n",
      "Requirement already satisfied: py4j==0.10.9 in c:\\programdata\\anaconda3\\lib\\site-packages (0.10.9)\n",
      "Installing collected packages: pyspark\n",
      "  Attempting uninstall: pyspark\n",
      "    Found existing installation: pyspark 3.0.1\n",
      "    Uninstalling pyspark-3.0.1:\n",
      "      Successfully uninstalled pyspark-3.0.1\n",
      "Successfully installed pyspark-3.1.2\n"
     ]
    }
   ],
   "source": [
    "!pip install pyspark==3.1.2 py4j==0.10.9 "
   ]
  },
  {
   "cell_type": "code",
   "execution_count": 1,
   "metadata": {
    "id": "Rq1bMsMv-upo"
   },
   "outputs": [],
   "source": [
    "from pyspark.sql import SparkSession\n",
    "from pyspark.sql.functions import *\n",
    "from pyspark.sql.window import Window\n",
    "from pyspark.ml.stat import Correlation\n",
    "from pyspark.sql.types import IntegerType,BooleanType,DateType,FloatType\n",
    "\n",
    "spark = SparkSession \\\n",
    "    .builder \\\n",
    "    .appName(\"Python Spark SQL basic example\") \\\n",
    "    .master(\"local[4]\") \\\n",
    "    .config(\"spark.driver.maxResultSize\", \"8g\") \\\n",
    "    .getOrCreate()"
   ]
  },
  {
   "cell_type": "code",
   "execution_count": 2,
   "metadata": {
    "colab": {
     "base_uri": "https://localhost:8080/"
    },
    "id": "WRNrKREM-4gY",
    "outputId": "3808cf41-80b7-437d-f82d-28016568a56e"
   },
   "outputs": [],
   "source": [
    "df = spark.read.parquet('../../data/cleanedDataset_parquet')"
   ]
  },
  {
   "cell_type": "code",
   "execution_count": 3,
   "metadata": {},
   "outputs": [
    {
     "name": "stdout",
     "output_type": "stream",
     "text": [
      "root\n",
      " |-- id_track: string (nullable = true)\n",
      " |-- popularity_track: integer (nullable = true)\n",
      " |-- duration_ms: integer (nullable = true)\n",
      " |-- genres: array (nullable = true)\n",
      " |    |-- element: string (containsNull = true)\n",
      " |-- release_date: date (nullable = true)\n",
      " |-- danceability: float (nullable = true)\n",
      " |-- energy: float (nullable = true)\n",
      " |-- key: integer (nullable = true)\n",
      " |-- loudness: float (nullable = true)\n",
      " |-- mode: integer (nullable = true)\n",
      " |-- speechiness: float (nullable = true)\n",
      " |-- acousticness: float (nullable = true)\n",
      " |-- instrumentalness: float (nullable = true)\n",
      " |-- liveness: float (nullable = true)\n",
      " |-- valence: float (nullable = true)\n",
      " |-- tempo: float (nullable = true)\n",
      " |-- time_signature: integer (nullable = true)\n",
      " |-- sum_artist_followers: long (nullable = true)\n",
      " |-- sum_artist_popularity: long (nullable = true)\n",
      " |-- avg_artist_followers: double (nullable = true)\n",
      " |-- avg_artist_popularity: double (nullable = true)\n",
      " |-- age: double (nullable = true)\n",
      "\n"
     ]
    }
   ],
   "source": [
    "df.printSchema()"
   ]
  },
  {
   "cell_type": "code",
   "execution_count": 4,
   "metadata": {
    "id": "QKsLwP3JDj_t"
   },
   "outputs": [],
   "source": [
    "from pyspark.ml.feature import Bucketizer\n",
    "bucketBorders=[0,10,20,30,40,50,60,70,80,90,100]"
   ]
  },
  {
   "cell_type": "code",
   "execution_count": 5,
   "metadata": {
    "id": "f3miBj1FDlZs"
   },
   "outputs": [],
   "source": [
    "bucketer=Bucketizer().setSplits(bucketBorders).setInputCol(\"popularity_track\").setOutputCol(\"buckets\")\n",
    "df_buck = bucketer.transform(df)"
   ]
  },
  {
   "cell_type": "code",
   "execution_count": 6,
   "metadata": {
    "colab": {
     "base_uri": "https://localhost:8080/"
    },
    "id": "v74_WSSYDs47",
    "outputId": "e6516b81-1548-4fda-dfcf-464f743e77e9"
   },
   "outputs": [
    {
     "name": "stdout",
     "output_type": "stream",
     "text": [
      "root\n",
      " |-- id_track: string (nullable = true)\n",
      " |-- popularity_track: integer (nullable = true)\n",
      " |-- duration_ms: integer (nullable = true)\n",
      " |-- genres: array (nullable = true)\n",
      " |    |-- element: string (containsNull = true)\n",
      " |-- release_date: date (nullable = true)\n",
      " |-- danceability: float (nullable = true)\n",
      " |-- energy: float (nullable = true)\n",
      " |-- key: integer (nullable = true)\n",
      " |-- loudness: float (nullable = true)\n",
      " |-- mode: integer (nullable = true)\n",
      " |-- speechiness: float (nullable = true)\n",
      " |-- acousticness: float (nullable = true)\n",
      " |-- instrumentalness: float (nullable = true)\n",
      " |-- liveness: float (nullable = true)\n",
      " |-- valence: float (nullable = true)\n",
      " |-- tempo: float (nullable = true)\n",
      " |-- time_signature: integer (nullable = true)\n",
      " |-- sum_artist_followers: long (nullable = true)\n",
      " |-- sum_artist_popularity: long (nullable = true)\n",
      " |-- avg_artist_followers: double (nullable = true)\n",
      " |-- avg_artist_popularity: double (nullable = true)\n",
      " |-- age: double (nullable = true)\n",
      " |-- buckets: double (nullable = true)\n",
      "\n"
     ]
    }
   ],
   "source": [
    "df_buck.printSchema() # perchè df_buck.show(5) mi dà errore?"
   ]
  },
  {
   "cell_type": "code",
   "execution_count": 7,
   "metadata": {},
   "outputs": [
    {
     "name": "stdout",
     "output_type": "stream",
     "text": [
      "+--------------------+----------------+-----------+--------------------+------------+------------+------+---+--------+----+-----------+------------+----------------+--------+-------+-------+--------------+--------------------+---------------------+--------------------+---------------------+------------------+-------+\n",
      "|            id_track|popularity_track|duration_ms|              genres|release_date|danceability|energy|key|loudness|mode|speechiness|acousticness|instrumentalness|liveness|valence|  tempo|time_signature|sum_artist_followers|sum_artist_popularity|avg_artist_followers|avg_artist_popularity|               age|buckets|\n",
      "+--------------------+----------------+-----------+--------------------+------------+------------+------+---+--------+----+-----------+------------+----------------+--------+-------+-------+--------------+--------------------+---------------------+--------------------+---------------------+------------------+-------+\n",
      "|00AeAaSNbe92PRrst...|               3|     156067|[classic czech po...|  1980-01-01|       0.602| 0.552|  0|  -6.667|   1|      0.404|       0.658|             0.0|  0.0972|   0.65|182.229|             3|               10807|                   80|              5403.5|                 40.0| 41.83013698630137|    0.0|\n",
      "|00DJt4PjkzeXhKKVD...|               9|     220133|[afrobeat, afropo...|  1976-01-01|        0.77| 0.891|  1|  -7.306|   1|      0.172|       0.543|         7.96E-4|  0.0684|  0.898|135.573|             4|               19833|                   43|             19833.0|                 43.0| 45.83287671232877|    0.0|\n",
      "|00HgVIkZrAL8WjAN9...|              33|     250960|[alternative meta...|  1996-02-20|       0.212| 0.986|  0|   -6.69|   0|       0.14|      4.8E-5|           0.918|   0.324|  0.231|140.917|             4|              874600|                   68|            874600.0|                 68.0|25.682191780821917|    3.0|\n",
      "|00Lx2f8NRiFKMGWa0...|              35|     457040|[corrosion, dark ...|  1990-01-01|       0.362| 0.453| 11| -17.744|   0|     0.0398|       0.144|           0.827|   0.117|  0.257|118.853|             4|               69129|                   42|             69129.0|                 42.0| 31.82191780821918|    3.0|\n",
      "|00fzPML4lrNag28OP...|              52|     282891|[brazilian rock, ...|  2017-09-22|       0.343| 0.225|  1| -14.937|   0|     0.0384|       0.957|         2.49E-4|   0.661|  0.101|144.533|             4|             1709414|                   68|           1709414.0|                 68.0| 4.079452054794521|    5.0|\n",
      "|00hUjt7XHLHwUB1L2...|              42|     217000|[brazilian rock, ...|  2008-01-01|       0.893| 0.614|  7|  -5.331|   1|     0.0362|       0.119|         9.76E-4|  0.0952|  0.958|120.021|             4|             2092689|                   69|           2092689.0|                 69.0|13.810958904109588|    4.0|\n",
      "|00jrUA3PWiKaMpWJv...|               0|     545107|[classical perfor...|  1950-01-01|       0.351|0.0944|  8| -17.481|   1|     0.0413|        0.96|          0.0339|   0.083|  0.237| 107.86|             4|             3843344|                  126|           1921672.0|                 63.0| 71.84931506849315|    0.0|\n",
      "|00pEXGlxPsGuLm4Nq...|              49|     256933|                  []|  2015-02-18|       0.422| 0.912|  5|  -3.806|   0|     0.0799|       0.168|             0.0|   0.129|  0.616| 97.573|             4|                5109|                   37|              5109.0|                 37.0| 6.673972602739726|    4.0|\n",
      "|00tC0YhP6IgvqziTK...|              24|     249133|[arabesk, turkish...|  1991-03-11|       0.627| 0.781|  0|  -5.604|   0|     0.0694|       0.775|             0.0|  0.0886|  0.891|152.277|             4|              800059|                   68|            800059.0|                 68.0|30.632876712328766|    2.0|\n",
      "|01HJPwlxD2TvR6CDL...|              20|     189800| [thai instrumental]|  2001-01-01|       0.554| 0.123| 10|   -14.1|   1|     0.0438|       0.971|             0.0|   0.142|  0.549|103.292|             1|                 930|                   32|               930.0|                 32.0|20.813698630136987|    2.0|\n",
      "|01JxE2HpVI0RkCl9F...|              10|     181733|[american modern ...|  1960-01-01|       0.189|0.0928|  1| -14.585|   1|     0.0359|       0.945|           0.831|   0.309|  0.218|   77.6|             4|              299033|                  176|   99677.66666666667|   58.666666666666664|61.843835616438355|    1.0|\n",
      "|01LyEKupJFOYJIoP7...|              20|     203000|[classic swedish ...|  1983-05-09|        0.46| 0.922|  9|  -6.641|   1|      0.105|      0.0904|         7.42E-6|   0.118|  0.473|116.004|             4|              147837|                   59|            147837.0|                 59.0| 38.47671232876712|    2.0|\n",
      "|01cO3ZfjGwlY7nMDD...|              45|     213240|          [mandopop]|  2005-10-14|       0.764| 0.455|  3| -10.076|   1|     0.0262|       0.868|         2.67E-6|  0.0962|  0.478| 105.07|             4|               10781|                   51|             10781.0|                 51.0|16.027397260273972|    4.0|\n",
      "|01gXT3SsZhKTGZpZ4...|              24|     282027|[dutch pop, dutch...|  1991-01-01|       0.413| 0.317|  8| -10.474|   1|     0.0299|        0.81|         2.17E-6|  0.0884|  0.181|135.632|             4|               18355|                   46|             18355.0|                 46.0| 30.82191780821918|    2.0|\n",
      "|01jHYLuEcT8wqm9b0...|              27|     161213|[chamame, folclor...|  1996-03-15|       0.829| 0.384|  4| -13.349|   0|      0.218|        0.69|             0.0|  0.0981|  0.918|103.259|             4|              167088|                   57|            167088.0|                 57.0|25.616438356164384|    2.0|\n",
      "|02LiDXI8KBS1k7pzQ...|              33|     237760|[europop, new wav...|  1988-10-21|       0.632| 0.917|  6|  -4.683|   1|     0.0294|      0.0451|         0.00122|    0.21|  0.832|108.045|             4|             1412267|                   75|           1412267.0|                 75.0| 33.01917808219178|    3.0|\n",
      "|02PFXdSFvYurNrZiD...|              45|     244253|[latin arena pop,...|  2015-10-23|       0.442|  0.76| 10|  -3.186|   1|     0.0588|       0.501|             0.0|   0.715|  0.302|143.671|             4|             1446917|                  137|            723458.5|                 68.5| 5.997260273972603|    4.0|\n",
      "|02QTUKz5AQFFfSNmo...|              25|     207673|[dominican pop, r...|  2016-07-22|       0.582| 0.629|  4|  -8.495|   0|      0.433|      0.0424|         3.44E-6|   0.594|  0.482|113.155|             5|              173374|                   56|            173374.0|                 56.0| 5.249315068493151|    2.0|\n",
      "|02Y5oRA5BuObhf9hT...|               0|     200667|[latin, reggaeton...|  2021-04-16|       0.881| 0.696| 11|  -3.838|   0|     0.0797|       0.136|         4.06E-5|  0.0927|  0.781| 97.002|             4|            27286822|                   95|         2.7286822E7|                 95.0|0.5123287671232877|    0.0|\n",
      "|02vK8PPOQPDcbxNe4...|              56|     178264|[argentine indie,...|  2019-03-22|       0.686| 0.695| 10|  -6.087|   0|      0.174|        0.44|         6.37E-6|   0.314|  0.541| 140.25|             4|              200911|                  113|            100455.5|                 56.5|2.5835616438356164|    5.0|\n",
      "+--------------------+----------------+-----------+--------------------+------------+------------+------+---+--------+----+-----------+------------+----------------+--------+-------+-------+--------------+--------------------+---------------------+--------------------+---------------------+------------------+-------+\n",
      "only showing top 20 rows\n",
      "\n"
     ]
    }
   ],
   "source": [
    "df_buck.show()"
   ]
  },
  {
   "cell_type": "markdown",
   "metadata": {
    "id": "1Otp9ethBjfT"
   },
   "source": [
    "Target: *popularity_track* che ha un range (0-100)"
   ]
  },
  {
   "cell_type": "code",
   "execution_count": 8,
   "metadata": {
    "id": "PykTXpfUBkxq"
   },
   "outputs": [],
   "source": [
    "from pyspark.ml.feature import VectorAssembler"
   ]
  },
  {
   "cell_type": "code",
   "execution_count": 9,
   "metadata": {
    "id": "VM7rB1lJC1OD"
   },
   "outputs": [],
   "source": [
    "assembler = VectorAssembler( \n",
    "inputCols=[\n",
    " 'duration_ms',\n",
    " 'danceability',\n",
    " 'energy',\n",
    " 'key',\n",
    " 'loudness',\n",
    " 'mode',\n",
    " 'speechiness',\n",
    " 'acousticness',\n",
    " 'instrumentalness',\n",
    " 'liveness',\n",
    " 'valence',\n",
    " 'tempo',\n",
    " 'time_signature',\n",
    " 'avg_artist_followers',\n",
    " 'avg_artist_popularity',\n",
    " 'sum_artist_followers',\n",
    " 'sum_artist_popularity'], \n",
    "outputCol=\"features\")\n",
    "output=assembler.transform(df_buck)"
   ]
  },
  {
   "cell_type": "code",
   "execution_count": 10,
   "metadata": {
    "colab": {
     "base_uri": "https://localhost:8080/"
    },
    "id": "G2Ar8bRhDyDJ",
    "outputId": "61f880eb-a741-436a-881f-f4c334e8cc21"
   },
   "outputs": [
    {
     "name": "stdout",
     "output_type": "stream",
     "text": [
      "root\n",
      " |-- id_track: string (nullable = true)\n",
      " |-- popularity_track: integer (nullable = true)\n",
      " |-- duration_ms: integer (nullable = true)\n",
      " |-- genres: array (nullable = true)\n",
      " |    |-- element: string (containsNull = true)\n",
      " |-- release_date: date (nullable = true)\n",
      " |-- danceability: float (nullable = true)\n",
      " |-- energy: float (nullable = true)\n",
      " |-- key: integer (nullable = true)\n",
      " |-- loudness: float (nullable = true)\n",
      " |-- mode: integer (nullable = true)\n",
      " |-- speechiness: float (nullable = true)\n",
      " |-- acousticness: float (nullable = true)\n",
      " |-- instrumentalness: float (nullable = true)\n",
      " |-- liveness: float (nullable = true)\n",
      " |-- valence: float (nullable = true)\n",
      " |-- tempo: float (nullable = true)\n",
      " |-- time_signature: integer (nullable = true)\n",
      " |-- sum_artist_followers: long (nullable = true)\n",
      " |-- sum_artist_popularity: long (nullable = true)\n",
      " |-- avg_artist_followers: double (nullable = true)\n",
      " |-- avg_artist_popularity: double (nullable = true)\n",
      " |-- age: double (nullable = true)\n",
      " |-- buckets: double (nullable = true)\n",
      " |-- features: vector (nullable = true)\n",
      "\n"
     ]
    }
   ],
   "source": [
    "output.printSchema() # qui perchè se nella cella sopra passo df_cla al posto che df_buck mi fa fare .show e invece così no?"
   ]
  },
  {
   "cell_type": "code",
   "execution_count": 11,
   "metadata": {
    "colab": {
     "base_uri": "https://localhost:8080/",
     "height": 1000
    },
    "id": "7fMYq5k5_80g",
    "outputId": "20c174b8-b4fa-4cdd-b8a9-a9d6ac51f0d8"
   },
   "outputs": [],
   "source": [
    "from pyspark.ml.feature import MinMaxScaler\n",
    "scaler = MinMaxScaler(inputCol = \"features\",outputCol= \"scaledFeatures\")\n",
    "scalerData = scaler.fit(output)\n",
    "out = scalerData.transform(output)"
   ]
  },
  {
   "cell_type": "code",
   "execution_count": 12,
   "metadata": {
    "colab": {
     "base_uri": "https://localhost:8080/",
     "height": 171
    },
    "id": "Qz4uvlvNBinu",
    "outputId": "d8e6918f-fda6-4ace-d98d-d4ff2d5048d1"
   },
   "outputs": [],
   "source": [
    "final_data = out.select(\"id_track\", \"scaledFeatures\", \"buckets\")"
   ]
  },
  {
   "cell_type": "code",
   "execution_count": 13,
   "metadata": {
    "id": "AjZwBPvADffj"
   },
   "outputs": [],
   "source": [
    "train, test = final_data.randomSplit([0.7, 0.3], seed = 10)"
   ]
  },
  {
   "cell_type": "code",
   "execution_count": 14,
   "metadata": {
    "colab": {
     "base_uri": "https://localhost:8080/"
    },
    "id": "h85r1uvrM128",
    "outputId": "d49a0e36-ff3c-4e98-9617-ea058276dd65"
   },
   "outputs": [
    {
     "name": "stdout",
     "output_type": "stream",
     "text": [
      "root\n",
      " |-- id_track: string (nullable = true)\n",
      " |-- scaledFeatures: vector (nullable = true)\n",
      " |-- buckets: double (nullable = true)\n",
      "\n"
     ]
    }
   ],
   "source": [
    "train.printSchema() # ma se faccio .show non va"
   ]
  },
  {
   "cell_type": "code",
   "execution_count": 15,
   "metadata": {
    "colab": {
     "base_uri": "https://localhost:8080/",
     "height": 286
    },
    "id": "X_Xti6z0NkzU",
    "outputId": "60235bce-a649-43b3-cf36-19178dde12bc"
   },
   "outputs": [],
   "source": [
    "from pyspark.ml.classification import RandomForestClassifier\n",
    "rf = RandomForestClassifier(featuresCol=\"scaledFeatures\",labelCol=\"buckets\",maxDepth = 10)\n",
    "rfModel = rf.fit(train)\n",
    "predictions = rfModel.transform(test)"
   ]
  },
  {
   "cell_type": "code",
   "execution_count": 16,
   "metadata": {},
   "outputs": [
    {
     "name": "stdout",
     "output_type": "stream",
     "text": [
      "+--------------------+--------------------+-------+--------------------+--------------------+----------+\n",
      "|            id_track|      scaledFeatures|buckets|       rawPrediction|         probability|prediction|\n",
      "+--------------------+--------------------+-------+--------------------+--------------------+----------+\n",
      "|000TiSS4vK5su0Mko...|[0.02775177940979...|    4.0|[0.88187990551266...|[0.04409399527563...|       4.0|\n",
      "|000mGrJNc2GAgQdME...|[0.08815007242953...|    0.0|[7.28871282486940...|[0.36443564124347...|       0.0|\n",
      "|001e2JrYMwnTeRnxf...|[0.06424779195831...|    1.0|[11.2105833023136...|[0.56052916511568...|       0.0|\n",
      "|001gx41rQo0bKh063...|[0.06740735018264...|    2.0|[2.26522938720071...|[0.11326146936003...|       2.0|\n",
      "|0022sbR4gAWFhpMaY...|[0.03795332540388...|    2.0|[0.94804683574769...|[0.04740234178738...|       3.0|\n",
      "|002x5YvGv3c0OW9HO...|[0.03020555462796...|    1.0|[3.63086407796632...|[0.18154320389831...|       2.0|\n",
      "|003ShLCyC9ACAsdUW...|[0.04009150080617...|    1.0|[3.17663722171494...|[0.15883186108574...|       2.0|\n",
      "|005DWz0thMQ1gYrF8...|[0.04048417604239...|    0.0|[14.6082307741947...|[0.73041153870973...|       0.0|\n",
      "|007WFtPf0jnI7cyyJ...|[0.03884547784446...|    3.0|[2.23227121902307...|[0.11161356095115...|       2.0|\n",
      "|008wkJY1GYw0177yF...|[0.02976499650935...|    3.0|[7.55419301363171...|[0.37770965068158...|       0.0|\n",
      "+--------------------+--------------------+-------+--------------------+--------------------+----------+\n",
      "only showing top 10 rows\n",
      "\n"
     ]
    }
   ],
   "source": [
    "predictions.show(10)"
   ]
  },
  {
   "cell_type": "code",
   "execution_count": 17,
   "metadata": {
    "colab": {
     "base_uri": "https://localhost:8080/",
     "height": 207
    },
    "id": "fFE3wykHESFa",
    "outputId": "79fd858b-32e3-4245-a62d-18f76b69b025"
   },
   "outputs": [
    {
     "data": {
      "text/plain": [
       "0.383524202429658"
      ]
     },
     "execution_count": 17,
     "metadata": {},
     "output_type": "execute_result"
    }
   ],
   "source": [
    "from pyspark.ml.evaluation import MulticlassClassificationEvaluator\n",
    "evaluator = MulticlassClassificationEvaluator(labelCol=\"buckets\", predictionCol=\"prediction\",metricName=\"accuracy\")\n",
    "evaluator.evaluate(predictions)"
   ]
  },
  {
   "cell_type": "code",
   "execution_count": null,
   "metadata": {
    "id": "AC-7_WkyMxlQ"
   },
   "outputs": [],
   "source": []
  }
 ],
 "metadata": {
  "colab": {
   "collapsed_sections": [],
   "name": "classification_spotify.ipynb",
   "provenance": []
  },
  "kernelspec": {
   "display_name": "Python 3",
   "language": "python",
   "name": "python3"
  },
  "language_info": {
   "codemirror_mode": {
    "name": "ipython",
    "version": 3
   },
   "file_extension": ".py",
   "mimetype": "text/x-python",
   "name": "python",
   "nbconvert_exporter": "python",
   "pygments_lexer": "ipython3",
   "version": "3.7.7"
  }
 },
 "nbformat": 4,
 "nbformat_minor": 4
}
