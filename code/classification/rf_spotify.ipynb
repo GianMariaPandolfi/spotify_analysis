{
 "cells": [
  {
   "cell_type": "code",
   "execution_count": 1,
   "metadata": {
    "colab": {
     "base_uri": "https://localhost:8080/"
    },
    "id": "KhwXotU6-Bab",
    "outputId": "8c980bf7-5ae6-4ae8-9c60-dbffe77138b4"
   },
   "outputs": [
    {
     "name": "stdout",
     "output_type": "stream",
     "text": [
      "Collecting pyspark==3.0.1\n",
      "  Downloading pyspark-3.0.1.tar.gz (204.2 MB)\n",
      "\u001b[K     |████████████████████████████████| 204.2 MB 29 kB/s \n",
      "\u001b[?25hCollecting py4j==0.10.9\n",
      "  Downloading py4j-0.10.9-py2.py3-none-any.whl (198 kB)\n",
      "\u001b[K     |████████████████████████████████| 198 kB 51.8 MB/s \n",
      "\u001b[?25hBuilding wheels for collected packages: pyspark\n",
      "  Building wheel for pyspark (setup.py) ... \u001b[?25l\u001b[?25hdone\n",
      "  Created wheel for pyspark: filename=pyspark-3.0.1-py2.py3-none-any.whl size=204612246 sha256=e27b57963d9b0ee11e9155b8946171473057be30136f8096d1fd4b9e6bd5b4a8\n",
      "  Stored in directory: /root/.cache/pip/wheels/5e/34/fa/b37b5cef503fc5148b478b2495043ba61b079120b7ff379f9b\n",
      "Successfully built pyspark\n",
      "Installing collected packages: py4j, pyspark\n",
      "Successfully installed py4j-0.10.9 pyspark-3.0.1\n"
     ]
    }
   ],
   "source": [
    "!pip install pyspark==3.0.1 py4j==0.10.9 "
   ]
  },
  {
   "cell_type": "code",
   "execution_count": 1,
   "metadata": {
    "id": "Rq1bMsMv-upo"
   },
   "outputs": [],
   "source": [
    "from pyspark.sql import SparkSession\n",
    "from pyspark.sql.functions import *\n",
    "from pyspark.sql.window import Window\n",
    "from pyspark.ml.stat import Correlation\n",
    "from pyspark.sql.types import IntegerType,BooleanType,DateType,FloatType\n",
    "\n",
    "spark = SparkSession \\\n",
    "    .builder \\\n",
    "    .appName(\"Python Spark SQL basic example\") \\\n",
    "    .master(\"local[4]\") \\\n",
    "    .config(\"spark.driver.maxResultSize\", \"8g\") \\\n",
    "    .getOrCreate()"
   ]
  },
  {
   "cell_type": "code",
   "execution_count": 3,
   "metadata": {
    "colab": {
     "base_uri": "https://localhost:8080/"
    },
    "id": "T4ahn-PZ-wY_",
    "outputId": "8a23d97c-fd35-4912-adc2-dae4756b5321"
   },
   "outputs": [
    {
     "name": "stdout",
     "output_type": "stream",
     "text": [
      "Mounted at /content/drive\n"
     ]
    }
   ],
   "source": [
    "from google.colab import drive               \n",
    "drive.mount('/content/drive')"
   ]
  },
  {
   "cell_type": "code",
   "execution_count": 2,
   "metadata": {
    "id": "GDCPTNOE-2mD"
   },
   "outputs": [],
   "source": [
    "df = spark.read.parquet('../../data/cleanedDataset_parquet')"
   ]
  },
  {
   "cell_type": "code",
   "execution_count": 3,
   "metadata": {
    "colab": {
     "base_uri": "https://localhost:8080/"
    },
    "id": "WRNrKREM-4gY",
    "outputId": "d34470f4-c4f1-4622-aafe-a077d8f51367"
   },
   "outputs": [
    {
     "name": "stdout",
     "output_type": "stream",
     "text": [
      "+--------------------+----------------+-----------+--------------------+------------+------------+------+---+--------+----+-----------+------------+----------------+--------+-------+-------+--------------+--------------------+---------------------+--------------------+---------------------+------------------+\n",
      "|            id_track|popularity_track|duration_ms|              genres|release_date|danceability|energy|key|loudness|mode|speechiness|acousticness|instrumentalness|liveness|valence|  tempo|time_signature|sum_artist_followers|sum_artist_popularity|avg_artist_followers|avg_artist_popularity|               age|\n",
      "+--------------------+----------------+-----------+--------------------+------------+------------+------+---+--------+----+-----------+------------+----------------+--------+-------+-------+--------------+--------------------+---------------------+--------------------+---------------------+------------------+\n",
      "|00AeAaSNbe92PRrst...|               3|     156067|[classic czech po...|  1980-01-01|       0.602| 0.552|  0|  -6.667|   1|      0.404|       0.658|             0.0|  0.0972|   0.65|182.229|             3|               10807|                   80|              5403.5|                 40.0| 41.83013698630137|\n",
      "|00DJt4PjkzeXhKKVD...|               9|     220133|[afrobeat, afropo...|  1976-01-01|        0.77| 0.891|  1|  -7.306|   1|      0.172|       0.543|         7.96E-4|  0.0684|  0.898|135.573|             4|               19833|                   43|             19833.0|                 43.0| 45.83287671232877|\n",
      "|00HgVIkZrAL8WjAN9...|              33|     250960|[alternative meta...|  1996-02-20|       0.212| 0.986|  0|   -6.69|   0|       0.14|      4.8E-5|           0.918|   0.324|  0.231|140.917|             4|              874600|                   68|            874600.0|                 68.0|25.682191780821917|\n",
      "|00Lx2f8NRiFKMGWa0...|              35|     457040|[corrosion, dark ...|  1990-01-01|       0.362| 0.453| 11| -17.744|   0|     0.0398|       0.144|           0.827|   0.117|  0.257|118.853|             4|               69129|                   42|             69129.0|                 42.0| 31.82191780821918|\n",
      "|00fzPML4lrNag28OP...|              52|     282891|[brazilian rock, ...|  2017-09-22|       0.343| 0.225|  1| -14.937|   0|     0.0384|       0.957|         2.49E-4|   0.661|  0.101|144.533|             4|             1709414|                   68|           1709414.0|                 68.0| 4.079452054794521|\n",
      "|00hUjt7XHLHwUB1L2...|              42|     217000|[brazilian rock, ...|  2008-01-01|       0.893| 0.614|  7|  -5.331|   1|     0.0362|       0.119|         9.76E-4|  0.0952|  0.958|120.021|             4|             2092689|                   69|           2092689.0|                 69.0|13.810958904109588|\n",
      "|00jrUA3PWiKaMpWJv...|               0|     545107|[classical perfor...|  1950-01-01|       0.351|0.0944|  8| -17.481|   1|     0.0413|        0.96|          0.0339|   0.083|  0.237| 107.86|             4|             3843344|                  126|           1921672.0|                 63.0| 71.84931506849315|\n",
      "|00pEXGlxPsGuLm4Nq...|              49|     256933|                  []|  2015-02-18|       0.422| 0.912|  5|  -3.806|   0|     0.0799|       0.168|             0.0|   0.129|  0.616| 97.573|             4|                5109|                   37|              5109.0|                 37.0| 6.673972602739726|\n",
      "|00tC0YhP6IgvqziTK...|              24|     249133|[arabesk, turkish...|  1991-03-11|       0.627| 0.781|  0|  -5.604|   0|     0.0694|       0.775|             0.0|  0.0886|  0.891|152.277|             4|              800059|                   68|            800059.0|                 68.0|30.632876712328766|\n",
      "|01HJPwlxD2TvR6CDL...|              20|     189800| [thai instrumental]|  2001-01-01|       0.554| 0.123| 10|   -14.1|   1|     0.0438|       0.971|             0.0|   0.142|  0.549|103.292|             1|                 930|                   32|               930.0|                 32.0|20.813698630136987|\n",
      "+--------------------+----------------+-----------+--------------------+------------+------------+------+---+--------+----+-----------+------------+----------------+--------+-------+-------+--------------+--------------------+---------------------+--------------------+---------------------+------------------+\n",
      "only showing top 10 rows\n",
      "\n"
     ]
    }
   ],
   "source": [
    "df.show(10)"
   ]
  },
  {
   "cell_type": "code",
   "execution_count": 4,
   "metadata": {
    "colab": {
     "base_uri": "https://localhost:8080/"
    },
    "id": "UhLjKDmfBQCD",
    "outputId": "17f3f382-9540-4e48-dc44-76207a66b3f7"
   },
   "outputs": [
    {
     "name": "stdout",
     "output_type": "stream",
     "text": [
      "root\n",
      " |-- id_track: string (nullable = true)\n",
      " |-- popularity_track: integer (nullable = true)\n",
      " |-- duration_ms: integer (nullable = true)\n",
      " |-- genres: array (nullable = true)\n",
      " |    |-- element: string (containsNull = true)\n",
      " |-- release_date: date (nullable = true)\n",
      " |-- danceability: float (nullable = true)\n",
      " |-- energy: float (nullable = true)\n",
      " |-- key: integer (nullable = true)\n",
      " |-- loudness: float (nullable = true)\n",
      " |-- mode: integer (nullable = true)\n",
      " |-- speechiness: float (nullable = true)\n",
      " |-- acousticness: float (nullable = true)\n",
      " |-- instrumentalness: float (nullable = true)\n",
      " |-- liveness: float (nullable = true)\n",
      " |-- valence: float (nullable = true)\n",
      " |-- tempo: float (nullable = true)\n",
      " |-- time_signature: integer (nullable = true)\n",
      " |-- sum_artist_followers: long (nullable = true)\n",
      " |-- sum_artist_popularity: long (nullable = true)\n",
      " |-- avg_artist_followers: double (nullable = true)\n",
      " |-- avg_artist_popularity: double (nullable = true)\n",
      " |-- age: double (nullable = true)\n",
      "\n"
     ]
    }
   ],
   "source": [
    "df.printSchema()"
   ]
  },
  {
   "cell_type": "code",
   "execution_count": 5,
   "metadata": {
    "id": "QKsLwP3JDj_t"
   },
   "outputs": [],
   "source": [
    "from pyspark.ml.feature import QuantileDiscretizer \n",
    "\n",
    "qds = QuantileDiscretizer(relativeError=0.0001, handleInvalid=\"error\", numBuckets=10, inputCol=\"popularity_track\", outputCol=\"label\")\n",
    "\n",
    "df = qds.setHandleInvalid(\"keep\").fit(df).transform(df)"
   ]
  },
  {
   "cell_type": "code",
   "execution_count": 6,
   "metadata": {
    "id": "PykTXpfUBkxq"
   },
   "outputs": [],
   "source": [
    "from pyspark.ml.feature import VectorAssembler"
   ]
  },
  {
   "cell_type": "code",
   "execution_count": 7,
   "metadata": {
    "id": "VM7rB1lJC1OD"
   },
   "outputs": [],
   "source": [
    "assembler = VectorAssembler( \n",
    "inputCols=[\n",
    " 'duration_ms',\n",
    " 'danceability',\n",
    " 'energy',\n",
    " 'key',\n",
    " 'loudness',\n",
    " 'mode',\n",
    " 'speechiness',\n",
    " 'acousticness',\n",
    " 'instrumentalness',\n",
    " 'liveness',\n",
    " 'valence',\n",
    " 'tempo',\n",
    " 'time_signature',\n",
    " 'avg_artist_followers',\n",
    " 'avg_artist_popularity',\n",
    " 'sum_artist_followers',\n",
    " 'sum_artist_popularity'], \n",
    "outputCol=\"features\")\n",
    "output=assembler.transform(df)"
   ]
  },
  {
   "cell_type": "code",
   "execution_count": 8,
   "metadata": {
    "id": "7fMYq5k5_80g"
   },
   "outputs": [],
   "source": [
    "from pyspark.ml.feature import MinMaxScaler\n",
    "scaler = MinMaxScaler(inputCol = \"features\",outputCol= \"scaledFeatures\")\n",
    "scalerData = scaler.fit(output)\n",
    "out = scalerData.transform(output)"
   ]
  },
  {
   "cell_type": "code",
   "execution_count": 10,
   "metadata": {
    "id": "P0boldE2FKon"
   },
   "outputs": [],
   "source": [
    "final_data = out.select(\"id_track\", \"scaledFeatures\", \"label\")"
   ]
  },
  {
   "cell_type": "code",
   "execution_count": 11,
   "metadata": {
    "id": "AjZwBPvADffj"
   },
   "outputs": [],
   "source": [
    "train, test = final_data.randomSplit([0.7, 0.3], seed = 10)"
   ]
  },
  {
   "cell_type": "code",
   "execution_count": 12,
   "metadata": {
    "id": "X_Xti6z0NkzU"
   },
   "outputs": [],
   "source": [
    "from pyspark.ml.classification import RandomForestClassifier\n",
    "rf = RandomForestClassifier(featuresCol=\"scaledFeatures\",labelCol=\"label\",maxDepth = 10)\n",
    "rfModel = rf.fit(train)\n",
    "predictions = rfModel.transform(test)"
   ]
  },
  {
   "cell_type": "code",
   "execution_count": 13,
   "metadata": {
    "colab": {
     "base_uri": "https://localhost:8080/"
    },
    "id": "fFE3wykHESFa",
    "outputId": "d261d963-a90c-4a5b-9bd8-0def04ccb640"
   },
   "outputs": [
    {
     "data": {
      "text/plain": [
       "0.30365019315153696"
      ]
     },
     "execution_count": 13,
     "metadata": {},
     "output_type": "execute_result"
    }
   ],
   "source": [
    "from pyspark.ml.evaluation import MulticlassClassificationEvaluator\n",
    "evaluator = MulticlassClassificationEvaluator(labelCol=\"label\", predictionCol=\"prediction\",metricName=\"accuracy\")\n",
    "evaluator.evaluate(predictions)"
   ]
  },
  {
   "cell_type": "markdown",
   "metadata": {},
   "source": [
    "# RF with filtered dataset"
   ]
  },
  {
   "cell_type": "code",
   "execution_count": 14,
   "metadata": {},
   "outputs": [
    {
     "data": {
      "text/plain": [
       "0.2652434322935621"
      ]
     },
     "execution_count": 14,
     "metadata": {},
     "output_type": "execute_result"
    }
   ],
   "source": [
    "df = spark.read.parquet('../../data/cleanedDatasetFiltered_parquet')\n",
    "\n",
    "qds = QuantileDiscretizer(relativeError=0.0001, handleInvalid=\"error\", numBuckets=10, inputCol=\"popularity_track\", outputCol=\"label\")\n",
    "\n",
    "df = qds.setHandleInvalid(\"keep\").fit(df).transform(df)\n",
    "\n",
    "assembler = VectorAssembler( \n",
    "inputCols=[\n",
    " 'duration_ms',\n",
    " 'danceability',\n",
    " 'energy',\n",
    " 'key',\n",
    " 'loudness',\n",
    " 'mode',\n",
    " 'speechiness',\n",
    " 'acousticness',\n",
    " 'instrumentalness',\n",
    " 'liveness',\n",
    " 'valence',\n",
    " 'tempo',\n",
    " 'time_signature',\n",
    " 'avg_artist_followers',\n",
    " 'avg_artist_popularity',\n",
    " 'sum_artist_followers',\n",
    " 'sum_artist_popularity'], \n",
    "outputCol=\"features\")\n",
    "output=assembler.transform(df)\n",
    "\n",
    "scaler = MinMaxScaler(inputCol = \"features\",outputCol= \"scaledFeatures\")\n",
    "scalerData = scaler.fit(output)\n",
    "out = scalerData.transform(output)\n",
    "\n",
    "final_data = out.select(\"id_track\", \"scaledFeatures\", \"label\")\n",
    "\n",
    "train, test = final_data.randomSplit([0.7, 0.3], seed = 10)\n",
    "\n",
    "rf = RandomForestClassifier(featuresCol=\"scaledFeatures\",labelCol=\"label\",maxDepth = 10)\n",
    "rfModel = rf.fit(train)\n",
    "predictions = rfModel.transform(test)\n",
    "\n",
    "evaluator = MulticlassClassificationEvaluator(labelCol=\"label\", predictionCol=\"prediction\",metricName=\"accuracy\")\n",
    "evaluator.evaluate(predictions)"
   ]
  },
  {
   "cell_type": "code",
   "execution_count": null,
   "metadata": {},
   "outputs": [],
   "source": []
  }
 ],
 "metadata": {
  "colab": {
   "collapsed_sections": [],
   "name": "rf_spotify.ipynb",
   "provenance": []
  },
  "kernelspec": {
   "display_name": "Python 3",
   "language": "python",
   "name": "python3"
  },
  "language_info": {
   "codemirror_mode": {
    "name": "ipython",
    "version": 3
   },
   "file_extension": ".py",
   "mimetype": "text/x-python",
   "name": "python",
   "nbconvert_exporter": "python",
   "pygments_lexer": "ipython3",
   "version": "3.7.7"
  }
 },
 "nbformat": 4,
 "nbformat_minor": 1
}
