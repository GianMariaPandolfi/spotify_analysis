{
  "nbformat": 4,
  "nbformat_minor": 0,
  "metadata": {
    "colab": {
      "name": "classification_3bin_rf_mlp.ipynb",
      "provenance": [],
      "collapsed_sections": []
    },
    "kernelspec": {
      "name": "python3",
      "display_name": "Python 3"
    },
    "language_info": {
      "name": "python"
    }
  },
  "cells": [
    {
      "cell_type": "code",
      "metadata": {
        "colab": {
          "base_uri": "https://localhost:8080/"
        },
        "id": "SY-izZP0QN09",
        "outputId": "b478907b-ea38-4dba-f060-7f7cbf8d87d5"
      },
      "source": [
        "!pip install pyspark==3.1.2 py4j==0.10.9"
      ],
      "execution_count": 1,
      "outputs": [
        {
          "output_type": "stream",
          "name": "stdout",
          "text": [
            "Collecting pyspark==3.1.2\n",
            "  Downloading pyspark-3.1.2.tar.gz (212.4 MB)\n",
            "\u001b[K     |████████████████████████████████| 212.4 MB 68 kB/s \n",
            "\u001b[?25hCollecting py4j==0.10.9\n",
            "  Downloading py4j-0.10.9-py2.py3-none-any.whl (198 kB)\n",
            "\u001b[K     |████████████████████████████████| 198 kB 53.5 MB/s \n",
            "\u001b[?25hBuilding wheels for collected packages: pyspark\n",
            "  Building wheel for pyspark (setup.py) ... \u001b[?25l\u001b[?25hdone\n",
            "  Created wheel for pyspark: filename=pyspark-3.1.2-py2.py3-none-any.whl size=212880768 sha256=a41367fa3a0d0edc3e0913c2df3f922a3f61540605d26d92324186ac51dca98a\n",
            "  Stored in directory: /root/.cache/pip/wheels/a5/0a/c1/9561f6fecb759579a7d863dcd846daaa95f598744e71b02c77\n",
            "Successfully built pyspark\n",
            "Installing collected packages: py4j, pyspark\n",
            "Successfully installed py4j-0.10.9 pyspark-3.1.2\n"
          ]
        }
      ]
    },
    {
      "cell_type": "code",
      "metadata": {
        "id": "S2oipi26QyTu"
      },
      "source": [
        "from pyspark.sql import SparkSession\n",
        "from pyspark.sql.functions import *\n",
        "from pyspark.sql.window import Window\n",
        "from pyspark.ml.stat import Correlation\n",
        "from pyspark.sql.types import IntegerType,BooleanType,DateType,FloatType\n",
        "\n",
        "spark = SparkSession.builder\\\n",
        "        .master(\"local[*]\")\\\n",
        "        .appName('spotify_classification')\\\n",
        "        .getOrCreate()"
      ],
      "execution_count": 2,
      "outputs": []
    },
    {
      "cell_type": "code",
      "metadata": {
        "colab": {
          "base_uri": "https://localhost:8080/"
        },
        "id": "EhtbZIYYQ9B8",
        "outputId": "4164b61c-2b6c-4846-825a-7319c67755b0"
      },
      "source": [
        "from google.colab import drive               \n",
        "drive.mount('/content/drive')"
      ],
      "execution_count": 3,
      "outputs": [
        {
          "output_type": "stream",
          "name": "stdout",
          "text": [
            "Mounted at /content/drive\n"
          ]
        }
      ]
    },
    {
      "cell_type": "code",
      "metadata": {
        "id": "KDhhgoOMQ-eY"
      },
      "source": [
        "df = spark.read.json(\"drive/My Drive/dataset.json\")"
      ],
      "execution_count": 4,
      "outputs": []
    },
    {
      "cell_type": "code",
      "metadata": {
        "colab": {
          "base_uri": "https://localhost:8080/"
        },
        "id": "E8Nj0rdcQ_2N",
        "outputId": "505f860b-0751-46c5-bdc4-1ca301d4b33d"
      },
      "source": [
        "df.show(5)"
      ],
      "execution_count": 5,
      "outputs": [
        {
          "output_type": "stream",
          "name": "stdout",
          "text": [
            "+------------+------------------+--------------------+---------------------+------------+-----------+------+--------------------+--------------------+----------------+---+--------+--------+----+----------------+------------+-----------+--------------------+---------------------+-------+--------------+-------+\n",
            "|acousticness|               age|avg_artist_followers|avg_artist_popularity|danceability|duration_ms|energy|              genres|            id_track|instrumentalness|key|liveness|loudness|mode|popularity_track|release_date|speechiness|sum_artist_followers|sum_artist_popularity|  tempo|time_signature|valence|\n",
            "+------------+------------------+--------------------+---------------------+------------+-----------+------+--------------------+--------------------+----------------+---+--------+--------+----+----------------+------------+-----------+--------------------+---------------------+-------+--------------+-------+\n",
            "|       0.658| 41.83013698630137|              5403.5|                 40.0|       0.602|     156067| 0.552|[classic czech po...|00AeAaSNbe92PRrst...|             0.0|  0|  0.0972|  -6.667|   1|               3|  1980-01-01|      0.404|               10807|                   80|182.229|             3|   0.65|\n",
            "|       0.543| 45.83287671232877|             19833.0|                 43.0|        0.77|     220133| 0.891|[afrobeat, afropo...|00DJt4PjkzeXhKKVD...|         7.96E-4|  1|  0.0684|  -7.306|   1|               9|  1976-01-01|      0.172|               19833|                   43|135.573|             4|  0.898|\n",
            "|      4.8E-5|25.682191780821917|            874600.0|                 68.0|       0.212|     250960| 0.986|[alternative meta...|00HgVIkZrAL8WjAN9...|           0.918|  0|   0.324|   -6.69|   0|              33|  1996-02-20|       0.14|              874600|                   68|140.917|             4|  0.231|\n",
            "|       0.144| 31.82191780821918|             69129.0|                 42.0|       0.362|     457040| 0.453|[corrosion, dark ...|00Lx2f8NRiFKMGWa0...|           0.827| 11|   0.117| -17.744|   0|              35|  1990-01-01|     0.0398|               69129|                   42|118.853|             4|  0.257|\n",
            "|       0.957| 4.079452054794521|           1709414.0|                 68.0|       0.343|     282891| 0.225|[brazilian rock, ...|00fzPML4lrNag28OP...|         2.49E-4|  1|   0.661| -14.937|   0|              52|  2017-09-22|     0.0384|             1709414|                   68|144.533|             4|  0.101|\n",
            "+------------+------------------+--------------------+---------------------+------------+-----------+------+--------------------+--------------------+----------------+---+--------+--------+----+----------------+------------+-----------+--------------------+---------------------+-------+--------------+-------+\n",
            "only showing top 5 rows\n",
            "\n"
          ]
        }
      ]
    },
    {
      "cell_type": "code",
      "metadata": {
        "id": "rSkIhRbRRF6N"
      },
      "source": [
        "from pyspark.ml.feature import QuantileDiscretizer \n",
        "\n",
        "qds = QuantileDiscretizer(relativeError=0.0001, handleInvalid=\"error\", numBuckets=3, inputCol=\"popularity_track\", outputCol=\"label_equi\")\n",
        "\n",
        "df = qds.setHandleInvalid(\"keep\").fit(df).transform(df)"
      ],
      "execution_count": 6,
      "outputs": []
    },
    {
      "cell_type": "code",
      "metadata": {
        "id": "oo33FkhwRr37"
      },
      "source": [
        "from pyspark.ml.feature import Bucketizer\n",
        "bucketBorders=[0,33,66,100]\n",
        "bucketer=Bucketizer().setSplits(bucketBorders).setInputCol(\"popularity_track\").setOutputCol(\"label\")\n",
        "df = bucketer.transform(df)"
      ],
      "execution_count": 7,
      "outputs": []
    },
    {
      "cell_type": "code",
      "metadata": {
        "id": "p0lvyPzFSIRy"
      },
      "source": [
        "from pyspark.ml.feature import VectorAssembler\n",
        "\n",
        "assembler = VectorAssembler( \n",
        "inputCols=[\n",
        "  'age',\n",
        " 'duration_ms',\n",
        " 'danceability',\n",
        " 'energy',\n",
        " 'key',\n",
        " 'mode',\n",
        " 'speechiness',\n",
        " 'acousticness',\n",
        " 'instrumentalness',\n",
        " 'liveness',\n",
        " 'valence',\n",
        " 'tempo',\n",
        " 'time_signature',\n",
        " 'sum_artist_followers',\n",
        " 'sum_artist_popularity',\n",
        " 'avg_artist_popularity'], \n",
        "outputCol=\"feat\")\n",
        "df=assembler.transform(df)"
      ],
      "execution_count": 8,
      "outputs": []
    },
    {
      "cell_type": "code",
      "metadata": {
        "id": "yqNXTwP8SK4I"
      },
      "source": [
        "from pyspark.ml.feature import StandardScaler\n",
        "\n",
        "\n",
        "scaler = StandardScaler(inputCol=\"feat\", outputCol=\"features\")\n",
        "\n",
        "\n",
        "scalerModel = scaler.fit(df)\n",
        "\n",
        "\n",
        "df = scalerModel.transform(df)"
      ],
      "execution_count": 9,
      "outputs": []
    },
    {
      "cell_type": "code",
      "metadata": {
        "id": "L8PXP8kNSP36"
      },
      "source": [
        "final_data = df.select(\"id_track\", \"features\", \"label_equi\",\"label\")"
      ],
      "execution_count": 10,
      "outputs": []
    },
    {
      "cell_type": "code",
      "metadata": {
        "id": "EUbcL-AGSRt7"
      },
      "source": [
        "train, test = final_data.randomSplit([0.7, 0.3], seed = 10)"
      ],
      "execution_count": 11,
      "outputs": []
    },
    {
      "cell_type": "code",
      "metadata": {
        "id": "jPzsFqH_SkFH"
      },
      "source": [
        "from pyspark.ml.evaluation import MulticlassClassificationEvaluator"
      ],
      "execution_count": 12,
      "outputs": []
    },
    {
      "cell_type": "markdown",
      "metadata": {
        "id": "4d98WiDrSlc3"
      },
      "source": [
        "# Random forest"
      ]
    },
    {
      "cell_type": "code",
      "metadata": {
        "id": "3vD9C2kTSnxQ"
      },
      "source": [
        "from pyspark.ml.classification import RandomForestClassifier\n",
        "rf = RandomForestClassifier(featuresCol=\"features\",labelCol=\"label\",maxDepth = 10)\n",
        "rfModel = rf.fit(train)\n",
        "predictions = rfModel.transform(test)"
      ],
      "execution_count": 13,
      "outputs": []
    },
    {
      "cell_type": "code",
      "metadata": {
        "colab": {
          "base_uri": "https://localhost:8080/"
        },
        "id": "I7id698oS_rT",
        "outputId": "1e0c6bd0-571f-4e2a-de15-0388aceda56e"
      },
      "source": [
        "rfModel.featureImportances"
      ],
      "execution_count": 14,
      "outputs": [
        {
          "output_type": "execute_result",
          "data": {
            "text/plain": [
              "SparseVector(16, {0: 0.4371, 1: 0.024, 2: 0.0103, 3: 0.0287, 4: 0.0008, 5: 0.0002, 6: 0.0104, 7: 0.0405, 8: 0.0162, 9: 0.0057, 10: 0.0034, 11: 0.0023, 12: 0.0007, 13: 0.1476, 14: 0.1184, 15: 0.1536})"
            ]
          },
          "metadata": {},
          "execution_count": 14
        }
      ]
    },
    {
      "cell_type": "code",
      "metadata": {
        "colab": {
          "base_uri": "https://localhost:8080/"
        },
        "id": "r8ctw8_xTCTQ",
        "outputId": "6c91c85f-c952-4614-a055-a32de97b562c"
      },
      "source": [
        "evaluator = MulticlassClassificationEvaluator(labelCol=\"label\", predictionCol=\"prediction\",metricName=\"accuracy\")\n",
        "evaluator.evaluate(predictions)"
      ],
      "execution_count": 15,
      "outputs": [
        {
          "output_type": "execute_result",
          "data": {
            "text/plain": [
              "0.7869412086534296"
            ]
          },
          "metadata": {},
          "execution_count": 15
        }
      ]
    },
    {
      "cell_type": "code",
      "metadata": {
        "colab": {
          "base_uri": "https://localhost:8080/"
        },
        "id": "_wl7A3ewTHgm",
        "outputId": "f189bae6-4d87-4579-97d3-e0fe8c26f66f"
      },
      "source": [
        "evaluator = MulticlassClassificationEvaluator(labelCol=\"label\", predictionCol=\"prediction\",metricName=\"f1\")\n",
        "evaluator.evaluate(predictions)"
      ],
      "execution_count": 16,
      "outputs": [
        {
          "output_type": "execute_result",
          "data": {
            "text/plain": [
              "0.7781200159234531"
            ]
          },
          "metadata": {},
          "execution_count": 16
        }
      ]
    },
    {
      "cell_type": "code",
      "metadata": {
        "colab": {
          "base_uri": "https://localhost:8080/"
        },
        "id": "OSuWiwoMTLF_",
        "outputId": "cabd2fb9-1975-451e-910e-123ff659ea80"
      },
      "source": [
        "evaluator = MulticlassClassificationEvaluator(labelCol=\"label\", predictionCol=\"prediction\",metricName=\"recallByLabel\") \n",
        "evaluator.evaluate(predictions)"
      ],
      "execution_count": 17,
      "outputs": [
        {
          "output_type": "execute_result",
          "data": {
            "text/plain": [
              "0.8672141912275526"
            ]
          },
          "metadata": {},
          "execution_count": 17
        }
      ]
    },
    {
      "cell_type": "code",
      "metadata": {
        "colab": {
          "base_uri": "https://localhost:8080/"
        },
        "id": "GZ_rUQibTV5A",
        "outputId": "247e21d5-bd70-4e8a-ff15-d4d287b0b693"
      },
      "source": [
        "evaluator = MulticlassClassificationEvaluator(labelCol=\"label\", predictionCol=\"prediction\",metricName=\"precisionByLabel\") \n",
        "evaluator.evaluate(predictions)"
      ],
      "execution_count": 18,
      "outputs": [
        {
          "output_type": "execute_result",
          "data": {
            "text/plain": [
              "0.820940163240302"
            ]
          },
          "metadata": {},
          "execution_count": 18
        }
      ]
    },
    {
      "cell_type": "code",
      "metadata": {
        "id": "m8cAuSPxWyQn"
      },
      "source": [
        "from pyspark.ml.classification import RandomForestClassifier\n",
        "rf = RandomForestClassifier(featuresCol=\"features\",labelCol=\"label_equi\",maxDepth = 10)\n",
        "rfModel = rf.fit(train)\n",
        "predictions = rfModel.transform(test)"
      ],
      "execution_count": 19,
      "outputs": []
    },
    {
      "cell_type": "code",
      "metadata": {
        "colab": {
          "base_uri": "https://localhost:8080/"
        },
        "id": "vM2B2ofWW1Yi",
        "outputId": "35c47ed2-fe96-4c69-eff8-767a42c7fb31"
      },
      "source": [
        "rfModel.featureImportances"
      ],
      "execution_count": 20,
      "outputs": [
        {
          "output_type": "execute_result",
          "data": {
            "text/plain": [
              "SparseVector(16, {0: 0.4794, 1: 0.0245, 2: 0.0089, 3: 0.0279, 4: 0.0007, 5: 0.0002, 6: 0.0109, 7: 0.0421, 8: 0.0206, 9: 0.0041, 10: 0.0038, 11: 0.0021, 12: 0.0004, 13: 0.1247, 14: 0.1195, 15: 0.1301})"
            ]
          },
          "metadata": {},
          "execution_count": 20
        }
      ]
    },
    {
      "cell_type": "code",
      "metadata": {
        "colab": {
          "base_uri": "https://localhost:8080/"
        },
        "id": "2QahOE2PXCoq",
        "outputId": "cc9d525f-5fcd-4041-c7d4-c5fbddcf9ffa"
      },
      "source": [
        "evaluator = MulticlassClassificationEvaluator(labelCol=\"label_equi\", predictionCol=\"prediction\",metricName=\"accuracy\")\n",
        "evaluator.evaluate(predictions)"
      ],
      "execution_count": 21,
      "outputs": [
        {
          "output_type": "execute_result",
          "data": {
            "text/plain": [
              "0.6821414730891102"
            ]
          },
          "metadata": {},
          "execution_count": 21
        }
      ]
    },
    {
      "cell_type": "code",
      "metadata": {
        "colab": {
          "base_uri": "https://localhost:8080/"
        },
        "id": "P2YwfPo8XCvq",
        "outputId": "2c853bec-4080-4dd0-b4d8-76886c105509"
      },
      "source": [
        "evaluator = MulticlassClassificationEvaluator(labelCol=\"label_equi\", predictionCol=\"prediction\",metricName=\"f1\")\n",
        "evaluator.evaluate(predictions)"
      ],
      "execution_count": 22,
      "outputs": [
        {
          "output_type": "execute_result",
          "data": {
            "text/plain": [
              "0.6853778456317526"
            ]
          },
          "metadata": {},
          "execution_count": 22
        }
      ]
    },
    {
      "cell_type": "code",
      "metadata": {
        "colab": {
          "base_uri": "https://localhost:8080/"
        },
        "id": "3VmCOCi6XC2y",
        "outputId": "aa195cdb-3b44-41c2-b127-df53c4701ce3"
      },
      "source": [
        "evaluator = MulticlassClassificationEvaluator(labelCol=\"label_equi\", predictionCol=\"prediction\",metricName=\"recallByLabel\") \n",
        "evaluator.evaluate(predictions)"
      ],
      "execution_count": 23,
      "outputs": [
        {
          "output_type": "execute_result",
          "data": {
            "text/plain": [
              "0.7067516508351284"
            ]
          },
          "metadata": {},
          "execution_count": 23
        }
      ]
    },
    {
      "cell_type": "code",
      "metadata": {
        "colab": {
          "base_uri": "https://localhost:8080/"
        },
        "id": "9dkYOM6DXwXy",
        "outputId": "ddbc19f6-9973-4856-ddd7-89cf0adeb9e8"
      },
      "source": [
        "evaluator = MulticlassClassificationEvaluator(labelCol=\"label\", predictionCol=\"prediction\",metricName=\"precisionByLabel\") \n",
        "evaluator.evaluate(predictions)"
      ],
      "execution_count": 24,
      "outputs": [
        {
          "output_type": "execute_result",
          "data": {
            "text/plain": [
              "0.9474264344060624"
            ]
          },
          "metadata": {},
          "execution_count": 24
        }
      ]
    },
    {
      "cell_type": "markdown",
      "metadata": {
        "id": "mMhWdUcITZbP"
      },
      "source": [
        "# MLP"
      ]
    },
    {
      "cell_type": "code",
      "metadata": {
        "id": "4fHD53H_TY0R"
      },
      "source": [
        "from pyspark.ml.classification import MultilayerPerceptronClassifier"
      ],
      "execution_count": 25,
      "outputs": []
    },
    {
      "cell_type": "code",
      "metadata": {
        "id": "97z7a593Tcob"
      },
      "source": [
        "layers = [16,10,3,3]"
      ],
      "execution_count": 29,
      "outputs": []
    },
    {
      "cell_type": "code",
      "metadata": {
        "id": "dUL1d3d3fvqq"
      },
      "source": [
        "mlp = MultilayerPerceptronClassifier(labelCol='label',\n",
        "                                            featuresCol='features',\n",
        "                                            maxIter=100,\n",
        "                                            layers=layers,\n",
        "                                            blockSize=128,\n",
        "                                            seed=1234)\n",
        "\n",
        "mlpModel = mlp.fit(train)\n",
        "\n",
        "\n",
        "predictions = mlpModel.transform(test)"
      ],
      "execution_count": 30,
      "outputs": []
    },
    {
      "cell_type": "code",
      "metadata": {
        "colab": {
          "base_uri": "https://localhost:8080/"
        },
        "id": "n_dZVIyXgJRL",
        "outputId": "59d448a6-e3af-45de-cb99-7a717213f8f2"
      },
      "source": [
        "evaluator = MulticlassClassificationEvaluator(labelCol=\"label\", predictionCol=\"prediction\",metricName=\"accuracy\")\n",
        "evaluator.evaluate(predictions)"
      ],
      "execution_count": 31,
      "outputs": [
        {
          "output_type": "execute_result",
          "data": {
            "text/plain": [
              "0.7702031139581006"
            ]
          },
          "metadata": {},
          "execution_count": 31
        }
      ]
    },
    {
      "cell_type": "code",
      "metadata": {
        "colab": {
          "base_uri": "https://localhost:8080/"
        },
        "id": "p1LrwaLqgNIs",
        "outputId": "053b365f-edcf-4619-adce-a4733047f630"
      },
      "source": [
        "evaluator = MulticlassClassificationEvaluator(labelCol=\"label\", predictionCol=\"prediction\",metricName=\"f1\")\n",
        "evaluator.evaluate(predictions)"
      ],
      "execution_count": 32,
      "outputs": [
        {
          "output_type": "execute_result",
          "data": {
            "text/plain": [
              "0.7633414941900989"
            ]
          },
          "metadata": {},
          "execution_count": 32
        }
      ]
    },
    {
      "cell_type": "code",
      "metadata": {
        "colab": {
          "base_uri": "https://localhost:8080/"
        },
        "id": "AIxb11pIgVQq",
        "outputId": "3a9f4e37-a799-4728-cc64-b1510a3410d0"
      },
      "source": [
        "evaluator = MulticlassClassificationEvaluator(labelCol=\"label\", predictionCol=\"prediction\",metricName=\"recallByLabel\") \n",
        "evaluator.evaluate(predictions)"
      ],
      "execution_count": 33,
      "outputs": [
        {
          "output_type": "execute_result",
          "data": {
            "text/plain": [
              "0.8489041578241133"
            ]
          },
          "metadata": {},
          "execution_count": 33
        }
      ]
    },
    {
      "cell_type": "code",
      "metadata": {
        "colab": {
          "base_uri": "https://localhost:8080/"
        },
        "id": "arCQAB-FigDa",
        "outputId": "2476e9de-c3a3-48cc-d3e8-3c9c46288e3f"
      },
      "source": [
        "evaluator = MulticlassClassificationEvaluator(labelCol=\"label\", predictionCol=\"prediction\",metricName=\"precisionByLabel\") \n",
        "evaluator.evaluate(predictions)"
      ],
      "execution_count": 34,
      "outputs": [
        {
          "output_type": "execute_result",
          "data": {
            "text/plain": [
              "0.8114953194508884"
            ]
          },
          "metadata": {},
          "execution_count": 34
        }
      ]
    },
    {
      "cell_type": "code",
      "metadata": {
        "id": "cq46CumygYTL"
      },
      "source": [
        "mlp = MultilayerPerceptronClassifier(labelCol='label_equi',\n",
        "                                            featuresCol='features',\n",
        "                                            maxIter=100,\n",
        "                                            layers=layers,\n",
        "                                            blockSize=128,\n",
        "                                            seed=1234)\n",
        "\n",
        "mlpModel = mlp.fit(train)\n",
        "\n",
        "\n",
        "predictions = mlpModel.transform(test)"
      ],
      "execution_count": 35,
      "outputs": []
    },
    {
      "cell_type": "code",
      "metadata": {
        "colab": {
          "base_uri": "https://localhost:8080/"
        },
        "id": "I866xhLuiS9I",
        "outputId": "c376fef9-6f3b-4bcb-8de4-8e68e084bba7"
      },
      "source": [
        "evaluator = MulticlassClassificationEvaluator(labelCol=\"label_equi\", predictionCol=\"prediction\",metricName=\"accuracy\")\n",
        "evaluator.evaluate(predictions)"
      ],
      "execution_count": 36,
      "outputs": [
        {
          "output_type": "execute_result",
          "data": {
            "text/plain": [
              "0.6531732281669592"
            ]
          },
          "metadata": {},
          "execution_count": 36
        }
      ]
    },
    {
      "cell_type": "code",
      "metadata": {
        "colab": {
          "base_uri": "https://localhost:8080/"
        },
        "id": "3uhvaUSGiV7U",
        "outputId": "388c4b03-9e6c-4662-8e63-7001b1b1c311"
      },
      "source": [
        "evaluator = MulticlassClassificationEvaluator(labelCol=\"label_equi\", predictionCol=\"prediction\",metricName=\"f1\")\n",
        "evaluator.evaluate(predictions)"
      ],
      "execution_count": 37,
      "outputs": [
        {
          "output_type": "execute_result",
          "data": {
            "text/plain": [
              "0.655317192966532"
            ]
          },
          "metadata": {},
          "execution_count": 37
        }
      ]
    },
    {
      "cell_type": "code",
      "metadata": {
        "colab": {
          "base_uri": "https://localhost:8080/"
        },
        "id": "sRJdexFpiaDH",
        "outputId": "d9465f6a-4913-4efc-ef8a-1a7e861a3c21"
      },
      "source": [
        "evaluator = MulticlassClassificationEvaluator(labelCol=\"label_equi\", predictionCol=\"prediction\",metricName=\"recallByLabel\") \n",
        "evaluator.evaluate(predictions)"
      ],
      "execution_count": 38,
      "outputs": [
        {
          "output_type": "execute_result",
          "data": {
            "text/plain": [
              "0.7001659663123698"
            ]
          },
          "metadata": {},
          "execution_count": 38
        }
      ]
    },
    {
      "cell_type": "code",
      "metadata": {
        "colab": {
          "base_uri": "https://localhost:8080/"
        },
        "id": "n5SIzyTnibrc",
        "outputId": "5d578a09-0991-45dd-820b-2da34867e300"
      },
      "source": [
        "evaluator = MulticlassClassificationEvaluator(labelCol=\"label_equi\", predictionCol=\"prediction\",metricName=\"precisionByLabel\") \n",
        "evaluator.evaluate(predictions)"
      ],
      "execution_count": 39,
      "outputs": [
        {
          "output_type": "execute_result",
          "data": {
            "text/plain": [
              "0.7245884266111202"
            ]
          },
          "metadata": {},
          "execution_count": 39
        }
      ]
    },
    {
      "cell_type": "code",
      "metadata": {
        "id": "xx6WiZ0eeFD6"
      },
      "source": [
        ""
      ],
      "execution_count": null,
      "outputs": []
    }
  ]
}
