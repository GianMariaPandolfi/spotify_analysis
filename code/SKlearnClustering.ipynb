{
 "cells": [
  {
   "cell_type": "code",
   "execution_count": 2,
   "metadata": {},
   "outputs": [
    {
     "data": {
      "text/html": [
       "<style>pre { white-space: pre !important; }</style>"
      ],
      "text/plain": [
       "<IPython.core.display.HTML object>"
      ]
     },
     "metadata": {},
     "output_type": "display_data"
    }
   ],
   "source": [
    "from IPython.core.display import HTML\n",
    "display(HTML(\"<style>pre { white-space: pre !important; }</style>\"))\n",
    "\n",
    "\n",
    "#LIBRARIES\n",
    "import matplotlib.pyplot as plt\n",
    "from collections import OrderedDict\n",
    "import seaborn as sns\n",
    "\n",
    "import pandas as pd\n",
    "\n",
    "import simpy\n",
    "\n",
    "from plotnine import *\n",
    "import plotly.graph_objects as go\n",
    "import numpy as np\n",
    "\n",
    "\n",
    "# PYSPARK \n",
    "import pyspark # only run after findspark.init()\n",
    "from pyspark.sql import SparkSession \n",
    "from pyspark.conf import SparkConf\n",
    "from pyspark.sql.functions import *\n",
    "from pyspark.mllib.stat import Statistics\n",
    "from pyspark.sql.types import StringType, IntegerType, StructType, StructField\n"
   ]
  },
  {
   "cell_type": "code",
   "execution_count": 3,
   "metadata": {},
   "outputs": [],
   "source": [
    "spark = SparkSession \\\n",
    "    .builder \\\n",
    "    .appName(\"Python Spark SQL basic example\") \\\n",
    "    .master(\"local[4]\") \\\n",
    "    .config(\"spark.driver.maxResultSize\", \"8g\") \\\n",
    "    .getOrCreate()"
   ]
  },
  {
   "cell_type": "code",
   "execution_count": 4,
   "metadata": {},
   "outputs": [],
   "source": [
    "df = spark.read.json('../data/cleaned_dataset')"
   ]
  },
  {
   "cell_type": "code",
   "execution_count": 5,
   "metadata": {},
   "outputs": [
    {
     "name": "stdout",
     "output_type": "stream",
     "text": [
      "+------------+------------------+--------------------+---------------------+------------+-----------+------+--------------------+--------------------+----------------+---+--------+--------+----+----------------+------------+-----------+--------------------+---------------------+-------+--------------+-------+\n",
      "|acousticness|               age|avg_artist_followers|avg_artist_popularity|danceability|duration_ms|energy|              genres|            id_track|instrumentalness|key|liveness|loudness|mode|popularity_track|release_date|speechiness|sum_artist_followers|sum_artist_popularity|  tempo|time_signature|valence|\n",
      "+------------+------------------+--------------------+---------------------+------------+-----------+------+--------------------+--------------------+----------------+---+--------+--------+----+----------------+------------+-----------+--------------------+---------------------+-------+--------------+-------+\n",
      "|       0.658|41.821917808219176|              5403.5|                 40.0|       0.602|     156067| 0.552|[classic czech po...|00AeAaSNbe92PRrst...|             0.0|  0|  0.0972|  -6.667|   1|               3|  1980-01-01|      0.404|               10807|                   80|182.229|             3|   0.65|\n",
      "|       0.543|45.824657534246576|             19833.0|                 43.0|        0.77|     220133| 0.891|[afrobeat, afropo...|00DJt4PjkzeXhKKVD...|         7.96E-4|  1|  0.0684|  -7.306|   1|               9|  1976-01-01|      0.172|               19833|                   43|135.573|             4|  0.898|\n",
      "|      4.8E-5|25.673972602739727|            874600.0|                 68.0|       0.212|     250960| 0.986|[alternative meta...|00HgVIkZrAL8WjAN9...|           0.918|  0|   0.324|   -6.69|   0|              33|  1996-02-20|       0.14|              874600|                   68|140.917|             4|  0.231|\n",
      "|       0.144|31.813698630136987|             69129.0|                 42.0|       0.362|     457040| 0.453|[corrosion, dark ...|00Lx2f8NRiFKMGWa0...|           0.827| 11|   0.117| -17.744|   0|              35|  1990-01-01|     0.0398|               69129|                   42|118.853|             4|  0.257|\n",
      "|       0.957| 4.071232876712329|           1709414.0|                 68.0|       0.343|     282891| 0.225|[brazilian rock, ...|00fzPML4lrNag28OP...|         2.49E-4|  1|   0.661| -14.937|   0|              52|  2017-09-22|     0.0384|             1709414|                   68|144.533|             4|  0.101|\n",
      "|       0.119|13.802739726027397|           2092689.0|                 69.0|       0.893|     217000| 0.614|[brazilian rock, ...|00hUjt7XHLHwUB1L2...|         9.76E-4|  7|  0.0952|  -5.331|   1|              42|  2008-01-01|     0.0362|             2092689|                   69|120.021|             4|  0.958|\n",
      "|        0.96| 71.84109589041095|           1921672.0|                 63.0|       0.351|     545107|0.0944|[classical perfor...|00jrUA3PWiKaMpWJv...|          0.0339|  8|   0.083| -17.481|   1|               0|  1950-01-01|     0.0413|             3843344|                  126| 107.86|             4|  0.237|\n",
      "|       0.168|6.6657534246575345|              5109.0|                 37.0|       0.422|     256933| 0.912|                  []|00pEXGlxPsGuLm4Nq...|             0.0|  5|   0.129|  -3.806|   0|              49|  2015-02-18|     0.0799|                5109|                   37| 97.573|             4|  0.616|\n",
      "|       0.775|30.624657534246577|            800059.0|                 68.0|       0.627|     249133| 0.781|[arabesk, turkish...|00tC0YhP6IgvqziTK...|             0.0|  0|  0.0886|  -5.604|   0|              24|  1991-03-11|     0.0694|              800059|                   68|152.277|             4|  0.891|\n",
      "|       0.971|20.805479452054794|               930.0|                 32.0|       0.554|     189800| 0.123| [thai instrumental]|01HJPwlxD2TvR6CDL...|             0.0| 10|   0.142|   -14.1|   1|              20|  2001-01-01|     0.0438|                 930|                   32|103.292|             1|  0.549|\n",
      "|       0.945| 61.83561643835616|   99677.66666666667|   58.666666666666664|       0.189|     181733|0.0928|[american modern ...|01JxE2HpVI0RkCl9F...|           0.831|  1|   0.309| -14.585|   1|              10|  1960-01-01|     0.0359|              299033|                  176|   77.6|             4|  0.218|\n",
      "|      0.0904| 38.46849315068493|            147837.0|                 59.0|        0.46|     203000| 0.922|[classic swedish ...|01LyEKupJFOYJIoP7...|         7.42E-6|  9|   0.118|  -6.641|   1|              20|  1983-05-09|      0.105|              147837|                   59|116.004|             4|  0.473|\n",
      "|       0.868|16.019178082191782|             10781.0|                 51.0|       0.764|     213240| 0.455|          [mandopop]|01cO3ZfjGwlY7nMDD...|         2.67E-6|  3|  0.0962| -10.076|   1|              45|  2005-10-14|     0.0262|               10781|                   51| 105.07|             4|  0.478|\n",
      "|        0.81|30.813698630136987|             18355.0|                 46.0|       0.413|     282027| 0.317|[dutch pop, dutch...|01gXT3SsZhKTGZpZ4...|         2.17E-6|  8|  0.0884| -10.474|   1|              24|  1991-01-01|     0.0299|               18355|                   46|135.632|             4|  0.181|\n",
      "|        0.69| 25.60821917808219|            167088.0|                 57.0|       0.829|     161213| 0.384|[chamame, folclor...|01jHYLuEcT8wqm9b0...|             0.0|  4|  0.0981| -13.349|   0|              27|  1996-03-15|      0.218|              167088|                   57|103.259|             4|  0.918|\n",
      "|      0.0451|33.010958904109586|           1412267.0|                 75.0|       0.632|     237760| 0.917|[europop, new wav...|02LiDXI8KBS1k7pzQ...|         0.00122|  6|    0.21|  -4.683|   1|              33|  1988-10-21|     0.0294|             1412267|                   75|108.045|             4|  0.832|\n",
      "|       0.501| 5.989041095890411|            723458.5|                 68.5|       0.442|     244253|  0.76|[latin arena pop,...|02PFXdSFvYurNrZiD...|             0.0| 10|   0.715|  -3.186|   1|              45|  2015-10-23|     0.0588|             1446917|                  137|143.671|             4|  0.302|\n",
      "|      0.0424| 5.241095890410959|            173374.0|                 56.0|       0.582|     207673| 0.629|[dominican pop, r...|02QTUKz5AQFFfSNmo...|         3.44E-6|  4|   0.594|  -8.495|   0|              25|  2016-07-22|      0.433|              173374|                   56|113.155|             5|  0.482|\n",
      "|       0.136|0.5041095890410959|         2.7286822E7|                 95.0|       0.881|     200667| 0.696|[latin, reggaeton...|02Y5oRA5BuObhf9hT...|         4.06E-5| 11|  0.0927|  -3.838|   0|               0|  2021-04-16|     0.0797|            27286822|                   95| 97.002|             4|  0.781|\n",
      "|        0.44|2.5753424657534247|            100455.5|                 56.5|       0.686|     178264| 0.695|[argentine indie,...|02vK8PPOQPDcbxNe4...|         6.37E-6| 10|   0.314|  -6.087|   0|              56|  2019-03-22|      0.174|              200911|                  113| 140.25|             4|  0.541|\n",
      "+------------+------------------+--------------------+---------------------+------------+-----------+------+--------------------+--------------------+----------------+---+--------+--------+----+----------------+------------+-----------+--------------------+---------------------+-------+--------------+-------+\n",
      "only showing top 20 rows\n",
      "\n"
     ]
    }
   ],
   "source": [
    "df.show()"
   ]
  },
  {
   "cell_type": "markdown",
   "metadata": {},
   "source": [
    "# Explode on genres and group by genres with average"
   ]
  },
  {
   "cell_type": "code",
   "execution_count": 6,
   "metadata": {},
   "outputs": [],
   "source": [
    "df = df.withColumn('genre',explode(df.genres).alias(\"genre\"))"
   ]
  },
  {
   "cell_type": "code",
   "execution_count": 7,
   "metadata": {},
   "outputs": [
    {
     "name": "stdout",
     "output_type": "stream",
     "text": [
      "+-------------------+\n",
      "|              genre|\n",
      "+-------------------+\n",
      "|  classic czech pop|\n",
      "|         czech folk|\n",
      "|         czech rock|\n",
      "|           afrobeat|\n",
      "|            afropop|\n",
      "|              world|\n",
      "|  alternative metal|\n",
      "|   gothenburg metal|\n",
      "|melodic death metal|\n",
      "|  melodic metalcore|\n",
      "|              metal|\n",
      "|           nu metal|\n",
      "|swedish death metal|\n",
      "|      swedish metal|\n",
      "|          corrosion|\n",
      "|          dark wave|\n",
      "|      ethereal wave|\n",
      "|         gothabilly|\n",
      "|        gothic rock|\n",
      "|     brazilian rock|\n",
      "+-------------------+\n",
      "only showing top 20 rows\n",
      "\n"
     ]
    }
   ],
   "source": [
    "df.select('genre').show()"
   ]
  },
  {
   "cell_type": "code",
   "execution_count": 8,
   "metadata": {},
   "outputs": [
    {
     "data": {
      "text/plain": [
       "2032392"
      ]
     },
     "execution_count": 8,
     "metadata": {},
     "output_type": "execute_result"
    }
   ],
   "source": [
    "df.count()"
   ]
  },
  {
   "cell_type": "code",
   "execution_count": 9,
   "metadata": {},
   "outputs": [],
   "source": [
    "numerical_columns = ['duration_ms','danceability','energy','key','age','loudness','speechiness','acousticness','instrumentalness','liveness','valence','tempo','time_signature']\n"
   ]
  },
  {
   "cell_type": "code",
   "execution_count": 10,
   "metadata": {},
   "outputs": [],
   "source": [
    "dfg = df.groupBy('genre').agg(\\\n",
    "    avg(\"duration_ms\").alias(\"duration_ms\"),\\\n",
    "    avg(\"danceability\").alias(\"danceability\"),\\\n",
    "    avg(\"energy\").alias(\"energy\"),\\\n",
    "    avg(\"key\").alias(\"key\"),\\\n",
    "    avg(\"age\").alias(\"age\"),\\\n",
    "    avg(\"loudness\").alias(\"loudness\"),\\\n",
    "    avg(\"speechiness\").alias(\"speechiness\"),\\\n",
    "    avg(\"acousticness\").alias(\"acousticness\"),\\\n",
    "    avg(\"instrumentalness\").alias(\"instrumentalness\"),\\\n",
    "    avg(\"liveness\").alias(\"liveness\"),\\\n",
    "    avg(\"valence\").alias(\"valence\"),\\\n",
    "    avg(\"tempo\").alias(\"tempo\"),\\\n",
    "    avg(\"time_signature\").alias(\"time_signature\")\\\n",
    ")"
   ]
  },
  {
   "cell_type": "code",
   "execution_count": 11,
   "metadata": {},
   "outputs": [
    {
     "data": {
      "text/plain": [
       "4723"
      ]
     },
     "execution_count": 11,
     "metadata": {},
     "output_type": "execute_result"
    }
   ],
   "source": [
    "dfg.count()"
   ]
  },
  {
   "cell_type": "code",
   "execution_count": 199,
   "metadata": {},
   "outputs": [],
   "source": [
    "#"
   ]
  },
  {
   "cell_type": "markdown",
   "metadata": {},
   "source": [
    " # Agglomerative Clustering"
   ]
  },
  {
   "cell_type": "code",
   "execution_count": 12,
   "metadata": {},
   "outputs": [
    {
     "name": "stdout",
     "output_type": "stream",
     "text": [
      "Requirement already satisfied: sklearn in c:\\users\\carlo\\anaconda3\\envs\\pyspark_env\\lib\\site-packages (0.0)\n",
      "Requirement already satisfied: scikit-learn in c:\\users\\carlo\\anaconda3\\envs\\pyspark_env\\lib\\site-packages (from sklearn) (1.0)\n",
      "Requirement already satisfied: joblib>=0.11 in c:\\users\\carlo\\anaconda3\\envs\\pyspark_env\\lib\\site-packages (from scikit-learn->sklearn) (1.1.0)\n",
      "Requirement already satisfied: numpy>=1.14.6 in c:\\users\\carlo\\anaconda3\\envs\\pyspark_env\\lib\\site-packages (from scikit-learn->sklearn) (1.20.3)\n",
      "Requirement already satisfied: threadpoolctl>=2.0.0 in c:\\users\\carlo\\anaconda3\\envs\\pyspark_env\\lib\\site-packages (from scikit-learn->sklearn) (3.0.0)\n",
      "Requirement already satisfied: scipy>=1.1.0 in c:\\users\\carlo\\anaconda3\\envs\\pyspark_env\\lib\\site-packages (from scikit-learn->sklearn) (1.7.1)\n",
      "Note: you may need to restart the kernel to use updated packages.\n"
     ]
    }
   ],
   "source": [
    "%pip install sklearn"
   ]
  },
  {
   "cell_type": "code",
   "execution_count": 13,
   "metadata": {},
   "outputs": [],
   "source": [
    "\n",
    "from sklearn.preprocessing import MinMaxScaler\n",
    "from sklearn.preprocessing import StandardScaler\n",
    "from sklearn.cluster import KMeans\n",
    "from sklearn import preprocessing\n",
    "from collections import defaultdict\n",
    "from scipy.stats.stats import pearsonr\n",
    "\n",
    "from scipy.stats import mode\n",
    "from scipy.spatial.distance import pdist\n",
    "from scipy.cluster.hierarchy import linkage, dendrogram\n",
    "from sklearn.cluster import AgglomerativeClustering\n"
   ]
  },
  {
   "cell_type": "code",
   "execution_count": 14,
   "metadata": {},
   "outputs": [
    {
     "data": {
      "text/html": [
       "<div>\n",
       "<style scoped>\n",
       "    .dataframe tbody tr th:only-of-type {\n",
       "        vertical-align: middle;\n",
       "    }\n",
       "\n",
       "    .dataframe tbody tr th {\n",
       "        vertical-align: top;\n",
       "    }\n",
       "\n",
       "    .dataframe thead th {\n",
       "        text-align: right;\n",
       "    }\n",
       "</style>\n",
       "<table border=\"1\" class=\"dataframe\">\n",
       "  <thead>\n",
       "    <tr style=\"text-align: right;\">\n",
       "      <th></th>\n",
       "      <th>duration_ms</th>\n",
       "      <th>danceability</th>\n",
       "      <th>energy</th>\n",
       "      <th>key</th>\n",
       "      <th>age</th>\n",
       "      <th>loudness</th>\n",
       "      <th>speechiness</th>\n",
       "      <th>acousticness</th>\n",
       "      <th>instrumentalness</th>\n",
       "      <th>liveness</th>\n",
       "      <th>valence</th>\n",
       "      <th>tempo</th>\n",
       "      <th>time_signature</th>\n",
       "    </tr>\n",
       "    <tr>\n",
       "      <th>genre</th>\n",
       "      <th></th>\n",
       "      <th></th>\n",
       "      <th></th>\n",
       "      <th></th>\n",
       "      <th></th>\n",
       "      <th></th>\n",
       "      <th></th>\n",
       "      <th></th>\n",
       "      <th></th>\n",
       "      <th></th>\n",
       "      <th></th>\n",
       "      <th></th>\n",
       "      <th></th>\n",
       "    </tr>\n",
       "  </thead>\n",
       "  <tbody>\n",
       "    <tr>\n",
       "      <th>singer-songwriter</th>\n",
       "      <td>0.079558</td>\n",
       "      <td>0.555175</td>\n",
       "      <td>0.419276</td>\n",
       "      <td>0.458146</td>\n",
       "      <td>0.436991</td>\n",
       "      <td>0.659076</td>\n",
       "      <td>0.052044</td>\n",
       "      <td>0.527981</td>\n",
       "      <td>0.042726</td>\n",
       "      <td>0.202497</td>\n",
       "      <td>0.516621</td>\n",
       "      <td>0.604869</td>\n",
       "      <td>0.772238</td>\n",
       "    </tr>\n",
       "    <tr>\n",
       "      <th>german metal</th>\n",
       "      <td>0.093323</td>\n",
       "      <td>0.441491</td>\n",
       "      <td>0.817582</td>\n",
       "      <td>0.520351</td>\n",
       "      <td>0.280901</td>\n",
       "      <td>0.780025</td>\n",
       "      <td>0.076282</td>\n",
       "      <td>0.044976</td>\n",
       "      <td>0.146822</td>\n",
       "      <td>0.260961</td>\n",
       "      <td>0.379958</td>\n",
       "      <td>0.645688</td>\n",
       "      <td>0.789318</td>\n",
       "    </tr>\n",
       "    <tr>\n",
       "      <th>anime</th>\n",
       "      <td>0.082467</td>\n",
       "      <td>0.493886</td>\n",
       "      <td>0.710719</td>\n",
       "      <td>0.450849</td>\n",
       "      <td>0.163057</td>\n",
       "      <td>0.783004</td>\n",
       "      <td>0.066204</td>\n",
       "      <td>0.263463</td>\n",
       "      <td>0.169980</td>\n",
       "      <td>0.189769</td>\n",
       "      <td>0.478411</td>\n",
       "      <td>0.653661</td>\n",
       "      <td>0.785769</td>\n",
       "    </tr>\n",
       "    <tr>\n",
       "      <th>french classical piano</th>\n",
       "      <td>0.063198</td>\n",
       "      <td>0.394234</td>\n",
       "      <td>0.087992</td>\n",
       "      <td>0.486219</td>\n",
       "      <td>0.645983</td>\n",
       "      <td>0.363253</td>\n",
       "      <td>0.054678</td>\n",
       "      <td>0.989199</td>\n",
       "      <td>0.838024</td>\n",
       "      <td>0.104951</td>\n",
       "      <td>0.239420</td>\n",
       "      <td>0.531065</td>\n",
       "      <td>0.736170</td>\n",
       "    </tr>\n",
       "    <tr>\n",
       "      <th>poetry</th>\n",
       "      <td>0.048155</td>\n",
       "      <td>0.703826</td>\n",
       "      <td>0.128634</td>\n",
       "      <td>0.625559</td>\n",
       "      <td>0.708027</td>\n",
       "      <td>0.471782</td>\n",
       "      <td>0.771643</td>\n",
       "      <td>0.888472</td>\n",
       "      <td>0.016988</td>\n",
       "      <td>0.202366</td>\n",
       "      <td>0.391457</td>\n",
       "      <td>0.515646</td>\n",
       "      <td>0.696721</td>\n",
       "    </tr>\n",
       "    <tr>\n",
       "      <th>...</th>\n",
       "      <td>...</td>\n",
       "      <td>...</td>\n",
       "      <td>...</td>\n",
       "      <td>...</td>\n",
       "      <td>...</td>\n",
       "      <td>...</td>\n",
       "      <td>...</td>\n",
       "      <td>...</td>\n",
       "      <td>...</td>\n",
       "      <td>...</td>\n",
       "      <td>...</td>\n",
       "      <td>...</td>\n",
       "      <td>...</td>\n",
       "    </tr>\n",
       "    <tr>\n",
       "      <th>british electroacoustic</th>\n",
       "      <td>0.011349</td>\n",
       "      <td>0.168234</td>\n",
       "      <td>0.493932</td>\n",
       "      <td>0.363636</td>\n",
       "      <td>0.560205</td>\n",
       "      <td>0.697809</td>\n",
       "      <td>0.042602</td>\n",
       "      <td>0.750000</td>\n",
       "      <td>0.040440</td>\n",
       "      <td>0.216318</td>\n",
       "      <td>0.136213</td>\n",
       "      <td>0.690997</td>\n",
       "      <td>0.800000</td>\n",
       "    </tr>\n",
       "    <tr>\n",
       "      <th>japanese chill rap</th>\n",
       "      <td>0.074576</td>\n",
       "      <td>0.696865</td>\n",
       "      <td>0.613256</td>\n",
       "      <td>0.336364</td>\n",
       "      <td>0.031835</td>\n",
       "      <td>0.785090</td>\n",
       "      <td>0.208384</td>\n",
       "      <td>0.434798</td>\n",
       "      <td>0.000432</td>\n",
       "      <td>0.121632</td>\n",
       "      <td>0.490064</td>\n",
       "      <td>0.627322</td>\n",
       "      <td>0.800000</td>\n",
       "    </tr>\n",
       "    <tr>\n",
       "      <th>aikatsu</th>\n",
       "      <td>0.091130</td>\n",
       "      <td>0.618600</td>\n",
       "      <td>0.993963</td>\n",
       "      <td>0.363636</td>\n",
       "      <td>0.097490</td>\n",
       "      <td>0.951703</td>\n",
       "      <td>0.159496</td>\n",
       "      <td>0.185742</td>\n",
       "      <td>0.000000</td>\n",
       "      <td>0.039291</td>\n",
       "      <td>0.539771</td>\n",
       "      <td>0.692407</td>\n",
       "      <td>0.800000</td>\n",
       "    </tr>\n",
       "    <tr>\n",
       "      <th>bosnian indie</th>\n",
       "      <td>0.076641</td>\n",
       "      <td>0.794410</td>\n",
       "      <td>0.807584</td>\n",
       "      <td>0.545455</td>\n",
       "      <td>0.079919</td>\n",
       "      <td>0.837625</td>\n",
       "      <td>0.049213</td>\n",
       "      <td>0.173822</td>\n",
       "      <td>0.000036</td>\n",
       "      <td>0.154643</td>\n",
       "      <td>0.964930</td>\n",
       "      <td>0.743364</td>\n",
       "      <td>0.800000</td>\n",
       "    </tr>\n",
       "    <tr>\n",
       "      <th>\"[\"\"mens choir\"\"</th>\n",
       "      <td>0.065338</td>\n",
       "      <td>0.174504</td>\n",
       "      <td>0.008198</td>\n",
       "      <td>0.090909</td>\n",
       "      <td>0.349880</td>\n",
       "      <td>0.000000</td>\n",
       "      <td>0.040818</td>\n",
       "      <td>0.984940</td>\n",
       "      <td>0.001982</td>\n",
       "      <td>0.099302</td>\n",
       "      <td>0.146379</td>\n",
       "      <td>0.653179</td>\n",
       "      <td>1.000000</td>\n",
       "    </tr>\n",
       "  </tbody>\n",
       "</table>\n",
       "<p>4723 rows × 13 columns</p>\n",
       "</div>"
      ],
      "text/plain": [
       "                         duration_ms  danceability    energy       key  \\\n",
       "genre                                                                    \n",
       "singer-songwriter           0.079558      0.555175  0.419276  0.458146   \n",
       "german metal                0.093323      0.441491  0.817582  0.520351   \n",
       "anime                       0.082467      0.493886  0.710719  0.450849   \n",
       "french classical piano      0.063198      0.394234  0.087992  0.486219   \n",
       "poetry                      0.048155      0.703826  0.128634  0.625559   \n",
       "...                              ...           ...       ...       ...   \n",
       "british electroacoustic     0.011349      0.168234  0.493932  0.363636   \n",
       "japanese chill rap          0.074576      0.696865  0.613256  0.336364   \n",
       "aikatsu                     0.091130      0.618600  0.993963  0.363636   \n",
       "bosnian indie               0.076641      0.794410  0.807584  0.545455   \n",
       "\"[\"\"mens choir\"\"            0.065338      0.174504  0.008198  0.090909   \n",
       "\n",
       "                              age  loudness  speechiness  acousticness  \\\n",
       "genre                                                                    \n",
       "singer-songwriter        0.436991  0.659076     0.052044      0.527981   \n",
       "german metal             0.280901  0.780025     0.076282      0.044976   \n",
       "anime                    0.163057  0.783004     0.066204      0.263463   \n",
       "french classical piano   0.645983  0.363253     0.054678      0.989199   \n",
       "poetry                   0.708027  0.471782     0.771643      0.888472   \n",
       "...                           ...       ...          ...           ...   \n",
       "british electroacoustic  0.560205  0.697809     0.042602      0.750000   \n",
       "japanese chill rap       0.031835  0.785090     0.208384      0.434798   \n",
       "aikatsu                  0.097490  0.951703     0.159496      0.185742   \n",
       "bosnian indie            0.079919  0.837625     0.049213      0.173822   \n",
       "\"[\"\"mens choir\"\"         0.349880  0.000000     0.040818      0.984940   \n",
       "\n",
       "                         instrumentalness  liveness   valence     tempo  \\\n",
       "genre                                                                     \n",
       "singer-songwriter                0.042726  0.202497  0.516621  0.604869   \n",
       "german metal                     0.146822  0.260961  0.379958  0.645688   \n",
       "anime                            0.169980  0.189769  0.478411  0.653661   \n",
       "french classical piano           0.838024  0.104951  0.239420  0.531065   \n",
       "poetry                           0.016988  0.202366  0.391457  0.515646   \n",
       "...                                   ...       ...       ...       ...   \n",
       "british electroacoustic          0.040440  0.216318  0.136213  0.690997   \n",
       "japanese chill rap               0.000432  0.121632  0.490064  0.627322   \n",
       "aikatsu                          0.000000  0.039291  0.539771  0.692407   \n",
       "bosnian indie                    0.000036  0.154643  0.964930  0.743364   \n",
       "\"[\"\"mens choir\"\"                 0.001982  0.099302  0.146379  0.653179   \n",
       "\n",
       "                         time_signature  \n",
       "genre                                    \n",
       "singer-songwriter              0.772238  \n",
       "german metal                   0.789318  \n",
       "anime                          0.785769  \n",
       "french classical piano         0.736170  \n",
       "poetry                         0.696721  \n",
       "...                                 ...  \n",
       "british electroacoustic        0.800000  \n",
       "japanese chill rap             0.800000  \n",
       "aikatsu                        0.800000  \n",
       "bosnian indie                  0.800000  \n",
       "\"[\"\"mens choir\"\"               1.000000  \n",
       "\n",
       "[4723 rows x 13 columns]"
      ]
     },
     "execution_count": 14,
     "metadata": {},
     "output_type": "execute_result"
    }
   ],
   "source": [
    "dfp = dfg.toPandas()\n",
    "scaler = preprocessing.MinMaxScaler()\n",
    "dfs =pd.DataFrame(scaler.fit_transform(dfp[numerical_columns]),columns=numerical_columns,index=dfp['genre'])\n",
    "dfs"
   ]
  },
  {
   "cell_type": "code",
   "execution_count": 15,
   "metadata": {},
   "outputs": [
    {
     "data": {
      "text/plain": [
       "<AxesSubplot:>"
      ]
     },
     "execution_count": 15,
     "metadata": {},
     "output_type": "execute_result"
    },
    {
     "data": {
      "image/png": "[encoded data removed]",
      "text/plain": [
       "<Figure size 432x288 with 2 Axes>"
      ]
     },
     "metadata": {
      "needs_background": "light"
     },
     "output_type": "display_data"
    }
   ],
   "source": [
    "corrMatrix = dfs.corr()\n",
    "for col in corrMatrix.columns:\n",
    "    corrMatrix.loc[col,col] = 0\n",
    "\n",
    "sns.heatmap(corrMatrix,cmap=sns.color_palette(\"vlag\", as_cmap=True),xticklabels=corrMatrix.columns, yticklabels=corrMatrix.columns,annot =True)"
   ]
  },
  {
   "cell_type": "code",
   "execution_count": 16,
   "metadata": {},
   "outputs": [],
   "source": [
    "dfs.drop('energy',axis=1,inplace=True)\n",
    "numerical_columns.remove('energy')"
   ]
  },
  {
   "cell_type": "code",
   "execution_count": 17,
   "metadata": {},
   "outputs": [],
   "source": [
    "import numpy as np\n",
    "\n",
    "from matplotlib import pyplot as plt\n",
    "from scipy.cluster.hierarchy import dendrogram\n",
    "\n",
    "from sklearn.cluster import AgglomerativeClustering\n",
    "\n",
    "\n",
    "def plot_dendrogram(model, **kwargs):\n",
    "    # Create linkage matrix and then plot the dendrogram\n",
    "\n",
    "    # create the counts of samples under each node\n",
    "    counts = np.zeros(model.children_.shape[0])\n",
    "    n_samples = len(model.labels_)\n",
    "    for i, merge in enumerate(model.children_):\n",
    "        current_count = 0\n",
    "        for child_idx in merge:\n",
    "            if child_idx < n_samples:\n",
    "                current_count += 1  # leaf node\n",
    "            else:\n",
    "                current_count += counts[child_idx - n_samples]\n",
    "        counts[i] = current_count\n",
    "\n",
    "    linkage_matrix = np.column_stack([model.children_, model.distances_,\n",
    "                                      counts]).astype(float)\n",
    "\n",
    "    # Plot the corresponding dendrogram\n",
    "    dendrogram(linkage_matrix, **kwargs)\n",
    "\n",
    "\n"
   ]
  },
  {
   "cell_type": "markdown",
   "metadata": {},
   "source": [
    "### COMPLETE EUCLIDEAN"
   ]
  },
  {
   "cell_type": "code",
   "execution_count": 19,
   "metadata": {},
   "outputs": [
    {
     "data": {
      "image/png": "[encoded data removed]",
      "text/plain": [
       "<Figure size 432x288 with 1 Axes>"
      ]
     },
     "metadata": {
      "needs_background": "light"
     },
     "output_type": "display_data"
    }
   ],
   "source": [
    "\n",
    "clustering = AgglomerativeClustering(distance_threshold=0, n_clusters=None, linkage='complete',affinity='euclidean').fit(dfs[numerical_columns])\n",
    "\n",
    "plt.title('Hierarchical Clustering Dendrogram')\n",
    "# plot the top three levels of the dendrogram\n",
    "plot_dendrogram(clustering, truncate_mode='level', p=3)\n",
    "plt.xticks(rotation=35)\n",
    "plt.xlabel(\"Number of points in node (or index of point if no parenthesis).\")\n",
    "plt.show()"
   ]
  },
  {
   "cell_type": "code",
   "execution_count": 20,
   "metadata": {},
   "outputs": [
    {
     "data": {
      "text/plain": [
       "3     2698\n",
       "0      910\n",
       "8      387\n",
       "7      231\n",
       "4      193\n",
       "1      149\n",
       "5       97\n",
       "2       28\n",
       "10      27\n",
       "6        2\n",
       "9        1\n",
       "Name: cluster, dtype: int64"
      ]
     },
     "execution_count": 20,
     "metadata": {},
     "output_type": "execute_result"
    }
   ],
   "source": [
    "\n",
    "clustering = AgglomerativeClustering(n_clusters=11, linkage='complete',affinity='euclidean').fit(dfs[numerical_columns])\n",
    "dfp['cluster'] = clustering.labels_\n",
    "dfp['cluster'].value_counts()"
   ]
  },
  {
   "cell_type": "markdown",
   "metadata": {},
   "source": [
    "### WARD"
   ]
  },
  {
   "cell_type": "code",
   "execution_count": 21,
   "metadata": {},
   "outputs": [
    {
     "data": {
      "image/png": "[encoded data removed]",
      "text/plain": [
       "<Figure size 432x288 with 1 Axes>"
      ]
     },
     "metadata": {
      "needs_background": "light"
     },
     "output_type": "display_data"
    }
   ],
   "source": [
    "\n",
    "clustering = AgglomerativeClustering(distance_threshold=0, n_clusters=None, linkage='ward',affinity='euclidean').fit(dfs[numerical_columns])\n",
    "\n",
    "plt.title('Hierarchical Clustering Dendrogram')\n",
    "# plot the top three levels of the dendrogram\n",
    "plot_dendrogram(clustering, truncate_mode='level', p=3)\n",
    "plt.xticks(rotation=35)\n",
    "plt.xlabel(\"Number of points in node (or index of point if no parenthesis).\")\n",
    "plt.show()"
   ]
  },
  {
   "cell_type": "code",
   "execution_count": 22,
   "metadata": {},
   "outputs": [
    {
     "data": {
      "text/plain": [
       "3    1175\n",
       "6     809\n",
       "4     697\n",
       "2     549\n",
       "1     469\n",
       "0     421\n",
       "7     326\n",
       "5     277\n",
       "Name: cluster, dtype: int64"
      ]
     },
     "execution_count": 22,
     "metadata": {},
     "output_type": "execute_result"
    }
   ],
   "source": [
    "\n",
    "clustering = AgglomerativeClustering(n_clusters=8, linkage='ward',affinity='euclidean').fit(dfs[numerical_columns])\n",
    "dfp['cluster'] = clustering.labels_\n",
    "dfp['cluster'].value_counts()"
   ]
  },
  {
   "cell_type": "code",
   "execution_count": 23,
   "metadata": {},
   "outputs": [
    {
     "name": "stdout",
     "output_type": "stream",
     "text": [
      "__________\n",
      " 3 \n",
      "_____________\n",
      "singer-songwriter             1\n",
      "brega romantico               1\n",
      "dutch cabaret                 1\n",
      "nouvelle chanson francaise    1\n",
      "trondersk musikk              1\n",
      "                             ..\n",
      "cumbia uruguaya               1\n",
      "rock quebecois                1\n",
      "festigal                      1\n",
      "musica mocambicana            1\n",
      "aikatsu                       1\n",
      "Name: genre, Length: 1175, dtype: int64\n",
      "\n",
      "__________\n",
      " 4 \n",
      "_____________\n",
      "german metal              1\n",
      "traditional ska           1\n",
      "christian rock            1\n",
      "groove metal              1\n",
      "norwegian punk rock       1\n",
      "                         ..\n",
      "indie canario             1\n",
      "funk metal                1\n",
      "auckland indie            1\n",
      "okc indie                 1\n",
      "deep melodic metalcore    1\n",
      "Name: genre, Length: 697, dtype: int64\n",
      "\n",
      "__________\n",
      " 7 \n",
      "_____________\n",
      "anime                 1\n",
      "rhode island indie    1\n",
      "indie emo             1\n",
      "brazilian bass        1\n",
      "dutch moombahton      1\n",
      "                     ..\n",
      "uplifting trance      1\n",
      "retro metal           1\n",
      "indietronica          1\n",
      "filthstep             1\n",
      "deep eurodance        1\n",
      "Name: genre, Length: 326, dtype: int64\n",
      "\n",
      "__________\n",
      " 0 \n",
      "_____________\n",
      "french classical piano    1\n",
      "classical cello           1\n",
      "spanish renaissance       1\n",
      "ukrainian classical       1\n",
      "argentine ambient         1\n",
      "                         ..\n",
      "experimental ambient      1\n",
      "kantele                   1\n",
      "slack-key guitar          1\n",
      "chill guitar              1\n",
      "\"[\"\"mens choir\"\"          1\n",
      "Name: genre, Length: 421, dtype: int64\n",
      "\n",
      "__________\n",
      " 1 \n",
      "_____________\n",
      "poetry                   1\n",
      "michigan indie           1\n",
      "carnatic instrumental    1\n",
      "bluegrass gospel         1\n",
      "deep delta blues         1\n",
      "                        ..\n",
      "cante flamenco           1\n",
      "hindustani classical     1\n",
      "musikkorps               1\n",
      "vintage rockabilly       1\n",
      "comedy                   1\n",
      "Name: genre, Length: 469, dtype: int64\n",
      "\n",
      "__________\n",
      " 6 \n",
      "_____________\n",
      "hungarian hip hop           1\n",
      "musica eletronica gospel    1\n",
      "swedish trap                1\n",
      "australian trap             1\n",
      "dancehall colombiano        1\n",
      "                           ..\n",
      "afrobeat fusion             1\n",
      "manele                      1\n",
      "hip hop tuga                1\n",
      "trap catala                 1\n",
      "bosnian indie               1\n",
      "Name: genre, Length: 809, dtype: int64\n",
      "\n",
      "__________\n",
      " 5 \n",
      "_____________\n",
      "swedish black metal    1\n",
      "industrial techno      1\n",
      "bubble trance          1\n",
      "glitch hop             1\n",
      "deep deep house        1\n",
      "                      ..\n",
      "halftime dnb           1\n",
      "jazz metal             1\n",
      "japanese chillhop      1\n",
      "tech house             1\n",
      "viking black metal     1\n",
      "Name: genre, Length: 277, dtype: int64\n",
      "\n",
      "__________\n",
      " 2 \n",
      "_____________\n",
      "\"[canadian country               1\n",
      "lithuanian indie                 1\n",
      "icelandic jazz                   1\n",
      "british industrial               1\n",
      "musique touareg                  1\n",
      "                                ..\n",
      "candombe                         1\n",
      "japanese experimental            1\n",
      "buffalo ny indie                 1\n",
      "norwegian folk                   1\n",
      "french contemporary classical    1\n",
      "Name: genre, Length: 549, dtype: int64\n",
      "\n"
     ]
    }
   ],
   "source": [
    "for c in dfp.cluster.unique():\n",
    "    print('__________\\n',c,'\\n_____________')\n",
    "    print(dfp.loc[dfp.cluster==c,'genre'].value_counts(),end='\\n\\n')"
   ]
  },
  {
   "cell_type": "markdown",
   "metadata": {},
   "source": [
    "# Explore Results"
   ]
  },
  {
   "cell_type": "code",
   "execution_count": 24,
   "metadata": {},
   "outputs": [
    {
     "data": {
      "text/plain": [
       "DataFrame[genre: string, duration_ms: double, danceability: double, energy: double, key: double, age: double, loudness: double, speechiness: double, acousticness: double, instrumentalness: double, liveness: double, valence: double, tempo: double, time_signature: double]"
      ]
     },
     "execution_count": 24,
     "metadata": {},
     "output_type": "execute_result"
    }
   ],
   "source": [
    "dfg"
   ]
  },
  {
   "cell_type": "code",
   "execution_count": 26,
   "metadata": {},
   "outputs": [
    {
     "data": {
      "text/html": [
       "<div>\n",
       "<style scoped>\n",
       "    .dataframe tbody tr th:only-of-type {\n",
       "        vertical-align: middle;\n",
       "    }\n",
       "\n",
       "    .dataframe tbody tr th {\n",
       "        vertical-align: top;\n",
       "    }\n",
       "\n",
       "    .dataframe thead th {\n",
       "        text-align: right;\n",
       "    }\n",
       "</style>\n",
       "<table border=\"1\" class=\"dataframe\">\n",
       "  <thead>\n",
       "    <tr style=\"text-align: right;\">\n",
       "      <th></th>\n",
       "      <th>genre</th>\n",
       "      <th>duration_ms</th>\n",
       "      <th>danceability</th>\n",
       "      <th>energy</th>\n",
       "      <th>key</th>\n",
       "      <th>age</th>\n",
       "      <th>loudness</th>\n",
       "      <th>speechiness</th>\n",
       "      <th>acousticness</th>\n",
       "      <th>instrumentalness</th>\n",
       "      <th>liveness</th>\n",
       "      <th>valence</th>\n",
       "      <th>tempo</th>\n",
       "      <th>time_signature</th>\n",
       "      <th>cluster</th>\n",
       "    </tr>\n",
       "  </thead>\n",
       "  <tbody>\n",
       "    <tr>\n",
       "      <th>0</th>\n",
       "      <td>singer-songwriter</td>\n",
       "      <td>234273.961846</td>\n",
       "      <td>0.531303</td>\n",
       "      <td>0.416796</td>\n",
       "      <td>5.039608</td>\n",
       "      <td>42.105547</td>\n",
       "      <td>-12.790650</td>\n",
       "      <td>0.049598</td>\n",
       "      <td>0.525870</td>\n",
       "      <td>0.042684</td>\n",
       "      <td>0.212126</td>\n",
       "      <td>0.508226</td>\n",
       "      <td>117.987551</td>\n",
       "      <td>3.861192</td>\n",
       "      <td>3</td>\n",
       "    </tr>\n",
       "    <tr>\n",
       "      <th>1</th>\n",
       "      <td>german metal</td>\n",
       "      <td>270742.303409</td>\n",
       "      <td>0.422507</td>\n",
       "      <td>0.812688</td>\n",
       "      <td>5.723864</td>\n",
       "      <td>27.252684</td>\n",
       "      <td>-7.405195</td>\n",
       "      <td>0.072697</td>\n",
       "      <td>0.044797</td>\n",
       "      <td>0.146675</td>\n",
       "      <td>0.266585</td>\n",
       "      <td>0.373784</td>\n",
       "      <td>125.949850</td>\n",
       "      <td>3.946591</td>\n",
       "      <td>4</td>\n",
       "    </tr>\n",
       "    <tr>\n",
       "      <th>2</th>\n",
       "      <td>anime</td>\n",
       "      <td>241981.625159</td>\n",
       "      <td>0.472649</td>\n",
       "      <td>0.706473</td>\n",
       "      <td>4.959339</td>\n",
       "      <td>16.039174</td>\n",
       "      <td>-7.272574</td>\n",
       "      <td>0.063093</td>\n",
       "      <td>0.262410</td>\n",
       "      <td>0.169810</td>\n",
       "      <td>0.200269</td>\n",
       "      <td>0.470637</td>\n",
       "      <td>127.505146</td>\n",
       "      <td>3.928844</td>\n",
       "      <td>7</td>\n",
       "    </tr>\n",
       "    <tr>\n",
       "      <th>3</th>\n",
       "      <td>french classical piano</td>\n",
       "      <td>190929.922872</td>\n",
       "      <td>0.377282</td>\n",
       "      <td>0.087520</td>\n",
       "      <td>5.348404</td>\n",
       "      <td>61.992444</td>\n",
       "      <td>-25.962604</td>\n",
       "      <td>0.052109</td>\n",
       "      <td>0.985242</td>\n",
       "      <td>0.837186</td>\n",
       "      <td>0.121261</td>\n",
       "      <td>0.235529</td>\n",
       "      <td>103.591138</td>\n",
       "      <td>3.680851</td>\n",
       "      <td>0</td>\n",
       "    </tr>\n",
       "    <tr>\n",
       "      <th>4</th>\n",
       "      <td>poetry</td>\n",
       "      <td>151074.614754</td>\n",
       "      <td>0.673561</td>\n",
       "      <td>0.127916</td>\n",
       "      <td>6.881148</td>\n",
       "      <td>67.896238</td>\n",
       "      <td>-21.130205</td>\n",
       "      <td>0.735375</td>\n",
       "      <td>0.884918</td>\n",
       "      <td>0.016971</td>\n",
       "      <td>0.212004</td>\n",
       "      <td>0.385096</td>\n",
       "      <td>100.583541</td>\n",
       "      <td>3.483607</td>\n",
       "      <td>1</td>\n",
       "    </tr>\n",
       "    <tr>\n",
       "      <th>...</th>\n",
       "      <td>...</td>\n",
       "      <td>...</td>\n",
       "      <td>...</td>\n",
       "      <td>...</td>\n",
       "      <td>...</td>\n",
       "      <td>...</td>\n",
       "      <td>...</td>\n",
       "      <td>...</td>\n",
       "      <td>...</td>\n",
       "      <td>...</td>\n",
       "      <td>...</td>\n",
       "      <td>...</td>\n",
       "      <td>...</td>\n",
       "      <td>...</td>\n",
       "      <td>...</td>\n",
       "    </tr>\n",
       "    <tr>\n",
       "      <th>4718</th>\n",
       "      <td>british electroacoustic</td>\n",
       "      <td>53560.000000</td>\n",
       "      <td>0.161000</td>\n",
       "      <td>0.491000</td>\n",
       "      <td>4.000000</td>\n",
       "      <td>53.830137</td>\n",
       "      <td>-11.066000</td>\n",
       "      <td>0.040600</td>\n",
       "      <td>0.747000</td>\n",
       "      <td>0.040400</td>\n",
       "      <td>0.225000</td>\n",
       "      <td>0.134000</td>\n",
       "      <td>134.788000</td>\n",
       "      <td>4.000000</td>\n",
       "      <td>0</td>\n",
       "    </tr>\n",
       "    <tr>\n",
       "      <th>4719</th>\n",
       "      <td>japanese chill rap</td>\n",
       "      <td>221073.900000</td>\n",
       "      <td>0.666900</td>\n",
       "      <td>0.609600</td>\n",
       "      <td>3.700000</td>\n",
       "      <td>3.552603</td>\n",
       "      <td>-7.179700</td>\n",
       "      <td>0.198590</td>\n",
       "      <td>0.433060</td>\n",
       "      <td>0.000432</td>\n",
       "      <td>0.136800</td>\n",
       "      <td>0.482100</td>\n",
       "      <td>122.367400</td>\n",
       "      <td>4.000000</td>\n",
       "      <td>6</td>\n",
       "    </tr>\n",
       "    <tr>\n",
       "      <th>4720</th>\n",
       "      <td>aikatsu</td>\n",
       "      <td>264933.000000</td>\n",
       "      <td>0.592000</td>\n",
       "      <td>0.988000</td>\n",
       "      <td>4.000000</td>\n",
       "      <td>9.800000</td>\n",
       "      <td>0.239000</td>\n",
       "      <td>0.152000</td>\n",
       "      <td>0.185000</td>\n",
       "      <td>0.000000</td>\n",
       "      <td>0.060100</td>\n",
       "      <td>0.531000</td>\n",
       "      <td>135.063000</td>\n",
       "      <td>4.000000</td>\n",
       "      <td>3</td>\n",
       "    </tr>\n",
       "    <tr>\n",
       "      <th>4721</th>\n",
       "      <td>bosnian indie</td>\n",
       "      <td>226546.500000</td>\n",
       "      <td>0.760250</td>\n",
       "      <td>0.802750</td>\n",
       "      <td>6.000000</td>\n",
       "      <td>8.128082</td>\n",
       "      <td>-4.840500</td>\n",
       "      <td>0.046900</td>\n",
       "      <td>0.173128</td>\n",
       "      <td>0.000036</td>\n",
       "      <td>0.167550</td>\n",
       "      <td>0.949250</td>\n",
       "      <td>145.002750</td>\n",
       "      <td>4.000000</td>\n",
       "      <td>6</td>\n",
       "    </tr>\n",
       "    <tr>\n",
       "      <th>4722</th>\n",
       "      <td>\"[\"\"mens choir\"\"</td>\n",
       "      <td>196600.000000</td>\n",
       "      <td>0.167000</td>\n",
       "      <td>0.008210</td>\n",
       "      <td>1.000000</td>\n",
       "      <td>33.816438</td>\n",
       "      <td>-42.137000</td>\n",
       "      <td>0.038900</td>\n",
       "      <td>0.981000</td>\n",
       "      <td>0.001980</td>\n",
       "      <td>0.116000</td>\n",
       "      <td>0.144000</td>\n",
       "      <td>127.411000</td>\n",
       "      <td>5.000000</td>\n",
       "      <td>0</td>\n",
       "    </tr>\n",
       "  </tbody>\n",
       "</table>\n",
       "<p>4723 rows × 15 columns</p>\n",
       "</div>"
      ],
      "text/plain": [
       "                        genre    duration_ms  danceability    energy  \\\n",
       "0           singer-songwriter  234273.961846      0.531303  0.416796   \n",
       "1                german metal  270742.303409      0.422507  0.812688   \n",
       "2                       anime  241981.625159      0.472649  0.706473   \n",
       "3      french classical piano  190929.922872      0.377282  0.087520   \n",
       "4                      poetry  151074.614754      0.673561  0.127916   \n",
       "...                       ...            ...           ...       ...   \n",
       "4718  british electroacoustic   53560.000000      0.161000  0.491000   \n",
       "4719       japanese chill rap  221073.900000      0.666900  0.609600   \n",
       "4720                  aikatsu  264933.000000      0.592000  0.988000   \n",
       "4721            bosnian indie  226546.500000      0.760250  0.802750   \n",
       "4722         \"[\"\"mens choir\"\"  196600.000000      0.167000  0.008210   \n",
       "\n",
       "           key        age   loudness  speechiness  acousticness  \\\n",
       "0     5.039608  42.105547 -12.790650     0.049598      0.525870   \n",
       "1     5.723864  27.252684  -7.405195     0.072697      0.044797   \n",
       "2     4.959339  16.039174  -7.272574     0.063093      0.262410   \n",
       "3     5.348404  61.992444 -25.962604     0.052109      0.985242   \n",
       "4     6.881148  67.896238 -21.130205     0.735375      0.884918   \n",
       "...        ...        ...        ...          ...           ...   \n",
       "4718  4.000000  53.830137 -11.066000     0.040600      0.747000   \n",
       "4719  3.700000   3.552603  -7.179700     0.198590      0.433060   \n",
       "4720  4.000000   9.800000   0.239000     0.152000      0.185000   \n",
       "4721  6.000000   8.128082  -4.840500     0.046900      0.173128   \n",
       "4722  1.000000  33.816438 -42.137000     0.038900      0.981000   \n",
       "\n",
       "      instrumentalness  liveness   valence       tempo  time_signature  \\\n",
       "0             0.042684  0.212126  0.508226  117.987551        3.861192   \n",
       "1             0.146675  0.266585  0.373784  125.949850        3.946591   \n",
       "2             0.169810  0.200269  0.470637  127.505146        3.928844   \n",
       "3             0.837186  0.121261  0.235529  103.591138        3.680851   \n",
       "4             0.016971  0.212004  0.385096  100.583541        3.483607   \n",
       "...                ...       ...       ...         ...             ...   \n",
       "4718          0.040400  0.225000  0.134000  134.788000        4.000000   \n",
       "4719          0.000432  0.136800  0.482100  122.367400        4.000000   \n",
       "4720          0.000000  0.060100  0.531000  135.063000        4.000000   \n",
       "4721          0.000036  0.167550  0.949250  145.002750        4.000000   \n",
       "4722          0.001980  0.116000  0.144000  127.411000        5.000000   \n",
       "\n",
       "      cluster  \n",
       "0           3  \n",
       "1           4  \n",
       "2           7  \n",
       "3           0  \n",
       "4           1  \n",
       "...       ...  \n",
       "4718        0  \n",
       "4719        6  \n",
       "4720        3  \n",
       "4721        6  \n",
       "4722        0  \n",
       "\n",
       "[4723 rows x 15 columns]"
      ]
     },
     "execution_count": 26,
     "metadata": {},
     "output_type": "execute_result"
    }
   ],
   "source": [
    "dfp"
   ]
  },
  {
   "cell_type": "code",
   "execution_count": 70,
   "metadata": {},
   "outputs": [],
   "source": [
    "dfp.to_csv('../data/wardEuclideanClustering.csv')"
   ]
  },
  {
   "cell_type": "code",
   "execution_count": 73,
   "metadata": {},
   "outputs": [
    {
     "data": {
      "text/plain": [
       "Index(['genre', 'duration_ms', 'danceability', 'energy', 'key', 'age',\n",
       "       'loudness', 'speechiness', 'acousticness', 'instrumentalness',\n",
       "       'liveness', 'valence', 'tempo', 'time_signature', 'cluster'],\n",
       "      dtype='object')"
      ]
     },
     "execution_count": 73,
     "metadata": {},
     "output_type": "execute_result"
    }
   ],
   "source": [
    "dfp.columns"
   ]
  },
  {
   "cell_type": "code",
   "execution_count": 76,
   "metadata": {},
   "outputs": [
    {
     "name": "stdout",
     "output_type": "stream",
     "text": [
      "+---+--------------------+------------------+-------------------+-------------------+------------------+------------------+-------------------+-------------------+--------------------+--------------------+-------------------+-------------------+------------------+------------------+-------+\n",
      "|_c0|               genre|       duration_ms|       danceability|             energy|               key|               age|           loudness|        speechiness|        acousticness|    instrumentalness|           liveness|            valence|             tempo|    time_signature|cluster|\n",
      "+---+--------------------+------------------+-------------------+-------------------+------------------+------------------+-------------------+-------------------+--------------------+--------------------+-------------------+-------------------+------------------+------------------+-------+\n",
      "|  0|   singer-songwriter|234273.96184593023| 0.5313029069767441| 0.4167959883720931| 5.039607558139535|  42.1055471487734|-12.790649709302324|0.04959805595930232|  0.5258701518913517| 0.04268376563045057|0.21212612645348836| 0.5082259811046511|117.98755050872089|3.8611918604651163|      3|\n",
      "|  1|        german metal| 270742.3034090909|0.42250681818181823| 0.8126876136363638| 5.723863636363636|27.252683686176827| -7.405195454545455| 0.0726969318181818|0.044797129250000005| 0.14667523755681822| 0.2665854545454545|0.37378386363636357|125.94985000000004|3.9465909090909093|      4|\n",
      "|  2|               anime|  241981.625158831| 0.4726492376111818| 0.7064730622617534| 4.959339263024142| 16.03917425284155| -7.272573697585771| 0.0630928208386277|  0.2624100636404066| 0.16980954474587043|0.20026937738246509|  0.470637293519695|127.50514612452353| 3.928843710292249|      7|\n",
      "|  3|french classical ...|190929.92287234042| 0.3772816489361703| 0.0875203404255319| 5.348404255319149| 61.99244389390849| -25.96260372340426|0.05210851063829788|  0.9852420212765955|  0.8371861498670214|0.12126143617021276|0.23552925531914892|103.59113829787233|3.6808510638297873|      0|\n",
      "|  4|              poetry|151074.61475409835|  0.673561475409836|0.12791639344262293| 6.881147540983607| 67.89623849090502|-21.130204918032785| 0.7353754098360656|  0.8849180327868852|0.016971084713114752|0.21200409836065573| 0.3850959016393443|100.58354098360657|3.4836065573770494|      1|\n",
      "|  5|   hungarian hip hop|220718.72235872236| 0.7391965601965602| 0.6931737100737102| 5.941031941031941| 7.439534179260206| -6.363523341523341| 0.2188056511056511|  0.2838452948402948|0.005297855773955773|0.19579828009828013| 0.6003326781326781|109.04619164619166|  3.98034398034398|      6|\n",
      "|  6|     swedish hip hop|205369.56089193825| 0.7183499142367067| 0.6584476843910806| 5.518010291595197|  6.85365257642332| -7.342169811320754| 0.1991351629502573| 0.24050125728987992|0.002269163293310...|0.18149073756432246| 0.5979274442538591|114.47530531732419| 4.005145797598628|      6|\n",
      "|  7|vlaamse kinderliedje|220689.91544117648| 0.7076433823529411| 0.7297680147058823| 4.580882352941177|21.046927880741336| -8.013669117647058|0.07035441176470589|  0.2507016106617647|0.013931875808823527|0.21686948529411762| 0.7451761029411763|126.85789705882355| 3.911764705882353|      3|\n",
      "|  8|  australian hip hop|213369.70984455958| 0.7110051813471502| 0.7217357512953368| 5.419689119170984| 7.982184683086095|-6.1524404145077725|0.14964507772020727| 0.21039393782383414|0.006556340466321242|0.19620000000000004| 0.5949999999999999|116.01502072538862|3.9792746113989637|      6|\n",
      "|  9|     classic bhangra|391619.56842105265| 0.6479789473684211| 0.7549715789473687|               5.8|22.960288392213414| -8.394884210526316|0.09356105263157893|  0.2578906105263158|0.030146234631578946| 0.2759094736842105| 0.7892842105263158|118.37023157894737|3.9789473684210526|      6|\n",
      "| 10|           chunchaca| 209022.6403508772| 0.7204473684210526| 0.6218333333333333|4.7105263157894735| 26.88877673636145|   -9.1854649122807|0.06352017543859648|  0.2953157894736842| 0.08360240263157895|0.16322280701754385| 0.8399824561403509|118.09824561403508| 3.991228070175439|      3|\n",
      "| 11| swedish black metal|304179.48780487804|0.28468536585365856| 0.8526829268292682| 6.146341463414634|31.490878717006346|  -8.33760975609756|0.08215609756097561| 0.04681875780487805|  0.5726672634146343|0.24529024390243903|0.18639756097560975|124.20848780487806|               4.0|      5|\n",
      "| 12|\"\"\"[canadian coun...|          250129.0| 0.4463333333333333|0.31766666666666665| 4.833333333333333|22.653881278538815|-11.396499999999998|            0.03465|             0.54055|3.822833333333333...|0.15081666666666668|            0.24915|124.77066666666667|3.8333333333333335|      2|\n",
      "| 13|            basshall|182056.01694915254| 0.7526610169491528| 0.6815847457627119| 5.432203389830509|4.0693986533550035|-5.7809152542372875|0.16697711864406778| 0.16484206779661018| 0.00879814838983051| 0.1665720338983051| 0.5942457627118645|116.20691525423733| 4.016949152542373|      6|\n",
      "| 14|south african cou...|214330.07954545456| 0.6258068181818182| 0.6181818181818183|             5.375|20.052334993773353| -8.958943181818183|0.04653522727272727| 0.31590832954545456|0.002588362386363...|0.17485795454545455| 0.6334886363636364|125.22902272727273|3.8636363636363638|      3|\n",
      "| 15|    japanese pop rap| 209387.6923076923|  0.726974358974359| 0.6552307692307692| 5.794871794871795| 2.552581664910432|-6.0452564102564095|0.09466410256410256| 0.36401051282051283|0.005360793076923077|0.11941794871794872| 0.6968205128205128|119.16197435897436|               4.0|      6|\n",
      "| 16|       roots worship|266953.11392405065| 0.4509620253164556| 0.4136822784810127|4.6455696202531644|16.938685625108374|-10.744987341772152|              0.033|  0.4823650632911392|0.007914906962025315| 0.2030354430379747| 0.3376151898734177| 111.4619493670886|3.7468354430379747|      2|\n",
      "| 17| persian traditional|      346456.21875|        0.433496875|             0.3343|           5.65625| 37.35539383561644|-12.244093750000001|        0.047428125|         0.787596875|        0.1993489775|        0.165003125|        0.371896875|105.92559374999998|           3.59375|      0|\n",
      "| 18|      croatian indie|234518.34782608695| 0.6041304347826089| 0.7529565217391305| 5.391304347826087| 36.68719475878499| -8.135913043478261|0.07259999999999998| 0.12333217391304348|0.011111302608695653|0.17163043478260867| 0.7255652173913043|126.95952173913041| 3.869565217391304|      6|\n",
      "| 19|    tamaulipas indie|230023.66666666666| 0.5213333333333333| 0.7477777777777778|               7.0|15.024961948249619| -5.265333333333333|0.03712222222222222| 0.09111711111111112|0.001349098888888...|0.22899999999999998| 0.6454444444444446|125.21100000000001| 3.888888888888889|      6|\n",
      "+---+--------------------+------------------+-------------------+-------------------+------------------+------------------+-------------------+-------------------+--------------------+--------------------+-------------------+-------------------+------------------+------------------+-------+\n",
      "only showing top 20 rows\n",
      "\n"
     ]
    }
   ],
   "source": [
    "labels=spark.read.option(\"header\", \"true\").csv('../data/wardEuclideanClustering.csv')\n",
    "labels.show()"
   ]
  },
  {
   "cell_type": "code",
   "execution_count": 80,
   "metadata": {},
   "outputs": [
    {
     "name": "stdout",
     "output_type": "stream",
     "text": [
      "+-------+--------------------+\n",
      "|cluster|              genres|\n",
      "+-------+--------------------+\n",
      "|      7|[olympia wa indie...|\n",
      "|      3|[hurdy-gurdy, nep...|\n",
      "|      0|[danish classical...|\n",
      "|      5|[swedish black me...|\n",
      "|      6|[thai hip hop, tr...|\n",
      "|      1|[oratory, electri...|\n",
      "|      4|[russian dnb, mel...|\n",
      "|      2|[hollywood, japan...|\n",
      "+-------+--------------------+\n",
      "\n"
     ]
    }
   ],
   "source": [
    "labels = labels.select('cluster','genre').groupBy('cluster').agg(collect_set('genre').alias(\"genres\"))\n",
    "labels.show(truncate=True)\n"
   ]
  },
  {
   "cell_type": "code",
   "execution_count": 82,
   "metadata": {},
   "outputs": [],
   "source": [
    "from pyspark.sql.functions import col, concat_ws\n",
    "labels = labels.withColumn('genres',\n",
    "   concat_ws(\" \",col('genres')))"
   ]
  },
  {
   "cell_type": "code",
   "execution_count": 84,
   "metadata": {},
   "outputs": [
    {
     "name": "stdout",
     "output_type": "stream",
     "text": [
      "+-------+--------------------+\n",
      "|cluster|              genres|\n",
      "+-------+--------------------+\n",
      "|      7|olympia wa indie ...|\n",
      "|      3|hurdy-gurdy nepal...|\n",
      "|      0|danish classical ...|\n",
      "|      5|swedish black met...|\n",
      "|      6|thai hip hop trap...|\n",
      "|      1|oratory electric ...|\n",
      "|      4|russian dnb melod...|\n",
      "|      2|hollywood japanes...|\n",
      "+-------+--------------------+\n",
      "\n"
     ]
    }
   ],
   "source": [
    "labels.show()"
   ]
  },
  {
   "cell_type": "code",
   "execution_count": 85,
   "metadata": {},
   "outputs": [],
   "source": [
    "labels = labels.withColumn('genres',regexp_replace(col(\"genres\"), r\"(^\\[)|(\\]$)|(')\", \" \"))"
   ]
  },
  {
   "cell_type": "code",
   "execution_count": 83,
   "metadata": {},
   "outputs": [],
   "source": [
    "from collections import Counter"
   ]
  },
  {
   "cell_type": "code",
   "execution_count": 86,
   "metadata": {},
   "outputs": [],
   "source": [
    "labelsp = labels.toPandas()"
   ]
  },
  {
   "cell_type": "code",
   "execution_count": null,
   "metadata": {},
   "outputs": [],
   "source": []
  },
  {
   "cell_type": "code",
   "execution_count": 102,
   "metadata": {},
   "outputs": [
    {
     "name": "stdout",
     "output_type": "stream",
     "text": [
      "[('indie', 48), ('house', 44), ('rock', 17), ('electronic', 17), ('deep', 14), ('pop', 12), ('trance', 11), ('japanese', 9), ('metal', 9), ('electro', 8)]\n",
      "\n",
      "\n",
      "\n",
      "[('pop', 197), ('rock', 142), ('indie', 127), ('classic', 47), ('folk', 40), ('musica', 31), ('soul', 24), ('country', 23), ('alternative', 20), ('blues', 19)]\n",
      "\n",
      "\n",
      "\n",
      "[('classical', 107), ('piano', 38), ('contemporary', 24), ('choir', 22), ('jazz', 19), ('italian', 16), ('orchestra', 14), ('soundtrack', 14), ('baroque', 14), ('performance', 13)]\n",
      "\n",
      "\n",
      "\n",
      "[('metal', 39), ('techno', 35), ('house', 23), ('black', 21), ('electronic', 20), ('deep', 15), ('trance', 14), ('post-rock', 11), ('minimal', 9), ('experimental', 9)]\n",
      "\n",
      "\n",
      "\n",
      "[('hip', 137), ('hop', 136), ('rap', 121), ('indie', 67), ('pop', 64), ('trap', 51), ('reggae', 27), ('rock', 20), ('deep', 20), ('funk', 19)]\n",
      "\n",
      "\n",
      "\n",
      "[('jazz', 43), ('folk', 34), ('pop', 25), ('traditional', 22), ('blues', 20), ('vintage', 20), ('musica', 10), ('comedy', 9), ('country', 9), ('classic', 9)]\n",
      "\n",
      "\n",
      "\n",
      "[('metal', 175), ('rock', 86), ('punk', 84), ('indie', 83), ('hardcore', 29), ('pop', 27), ('alternative', 18), ('power', 17), ('death', 17), ('german', 17)]\n",
      "\n",
      "\n",
      "\n",
      "[('folk', 55), ('indie', 50), ('pop', 43), ('jazz', 38), ('musica', 28), ('rock', 19), ('classic', 15), ('singer-songwriter', 13), ('experimental', 12), ('japanese', 10)]\n",
      "\n",
      "\n",
      "\n"
     ]
    }
   ],
   "source": [
    "for i in labelsp.index:\n",
    "    \n",
    "    s = labelsp.loc[i,'genres']\n",
    "    count = Counter(s.split(' '))\n",
    "    print(sorted([(i,c) for i,c in count.items()],key=lambda x:x[1],reverse=True)[:10])\n",
    "    print('\\n\\n')"
   ]
  },
  {
   "cell_type": "code",
   "execution_count": 101,
   "metadata": {},
   "outputs": [
    {
     "data": {
      "text/plain": [
       "[('indie', 48),\n",
       " ('house', 44),\n",
       " ('rock', 17),\n",
       " ('electronic', 17),\n",
       " ('deep', 14),\n",
       " ('pop', 12),\n",
       " ('trance', 11),\n",
       " ('japanese', 9),\n",
       " ('metal', 9),\n",
       " ('electro', 8)]"
      ]
     },
     "execution_count": 101,
     "metadata": {},
     "output_type": "execute_result"
    }
   ],
   "source": [
    "sorted([(i,c) for i,c in count.items()],key=lambda x:x[1],reverse=True)[:10]"
   ]
  },
  {
   "cell_type": "code",
   "execution_count": 97,
   "metadata": {},
   "outputs": [
    {
     "data": {
      "text/plain": [
       "dict_items([('olympia', 1), ('wa', 1), ('indie', 48), ('latin', 1), ('surf', 1), ('rock', 17), ('\"\"\"[australian', 1), ('alternative', 5), ('rock\"', 1), ('electro', 8), ('swing', 1), ('bay', 1), ('area', 1), ('hardcore', 3), ('techno', 7), ('fidget', 1), ('house', 44), ('j-core', 1), ('punk', 5), ('japanese', 9), ('dream', 1), ('pop', 12), ('future', 4), ('jazz', 5), ('fusion', 1), ('dutch', 6), ('moombahton', 1), ('korean', 1), ('dark', 2), ('trance', 11), ('british', 1), ('slap', 1), ('uk', 3), ('tech', 4), ('funky', 3), ('breaks', 1), ('dnb', 3), ('trip', 1), ('hop', 1), ('electro-industrial', 1), ('\"\"\"[disco', 1), ('house\"', 3), ('indian', 3), ('lithuanian', 2), ('edm', 7), ('bulgarian', 1), ('electronic', 17), ('\"\"\"\"\"jackin', 2), ('house\"\"\"\"]\"\"\"', 2), ('retro', 1), ('metal', 9), ('christian', 2), ('thrash', 1), ('darkstep', 1), ('shred', 1), ('breakcore', 1), ('tribal', 1), ('gothic', 2), ('post-punk', 4), ('gothabilly', 1), ('hungarian', 1), ('western', 1), ('mass', 1), ('progressive', 4), ('big', 2), ('beat', 3), ('jungle', 1), ('balearic', 1), ('deep', 14), ('eurodance', 1), ('no', 1), ('wave', 4), ('persian', 1), ('rochester', 1), ('mn', 1), ('swedish', 4), ('tijuana', 1), ('beats', 1), ('neo-psychedelic', 1), ('tucson', 1), ('tropical', 2), ('german', 5), ('street', 1), ('french', 5), ('indietronica', 2), ('russian', 4), ('norwegian', 1), ('space', 1), ('disco', 4), ('australian', 3), ('dance', 4), ('euro', 1), ('psychedelic', 5), ('doom', 1), ('aggrotech', 1), ('unblack', 1), ('classic', 2), ('dubstep', 4), ('nu', 3), ('dub', 5), ('gbvfi', 1), ('reggae', 1), ('bmore', 1), ('math', 2), ('anime', 1), ('nantes', 1), ('groove', 3), ('room', 2), ('guitar', 1), ('rhode', 1), ('island', 1), ('canadian', 3), ('czech', 1), ('santa', 1), ('fe', 1), ('new', 4), ('delhi', 1), ('\"\"\"[deep', 2), ('gaming', 2), ('boston', 2), ('shoegaze', 3), ('emo', 2), ('nyahbinghi', 1), ('\"\"\"[\"\"\"\"jackin', 1), ('electropop', 3), ('brazilian', 3), ('bass', 3), ('phonk', 1), ('louisville', 1), ('filthstep', 1), ('drumfunk', 1), ('chillwave', 1), ('power', 1), ('blues-rock', 1), ('slavic', 1), ('broken', 1), ('swiss', 2), ('edmonton', 1), ('arab', 2), ('trap', 3), ('greek', 3), ('sunset', 1), ('lounge', 4), ('bath', 1), ('downtempo', 1), ('derby', 1), ('danish', 3), ('electrofox', 1), ('footwork', 1), ('melbourne', 2), ('bounce', 2), ('finnish', 3), ('chicago', 1), ('chamber', 1), ('psych', 4), ('bboy', 1), ('breakbeat', 1), ('atmospheric', 1), ('vocal', 2), ('experimental', 4), ('italian', 3), ('electronica', 3), ('ninja', 1), ('cologne', 1), ('noise', 3), ('stoner', 1), ('traprun', 1), ('soul', 1), ('austrian', 1), ('nz', 1), ('jazztronica', 2), ('spanish', 3), ('guaracha', 1), ('corrosion', 1), ('house\"\"\"\"\"', 1), ('funk', 1), ('nintendocore', 1), ('alternativo', 1), ('espanol', 1), ('belgian', 3), ('lund', 1), ('atlanta', 1), ('glitch', 1), ('irish', 1), ('garage', 5), ('ambeat', 1), ('progressif', 1), ('francais', 2), ('platense', 1), ('digital', 1), ('chilean', 1), ('ebm', 1), ('minimal', 2), ('lowercase', 1), ('palm', 1), ('desert', 1), ('scene', 1), ('field', 1), ('recording', 1), ('rave', 1), ('electro-pop', 1), ('munich', 1), ('uplifting', 3), ('idaho', 1), ('gaze', 2), ('neue', 1), ('deutsche', 1), ('todeskunst', 1), ('tulsa', 1), ('amapiano', 1), ('complextro', 1), ('ska', 1), ('grimewave', 1), ('chilena', 1), ('fuzzpop', 1), ('panamanian', 1), ('detroit', 1), ('montreal', 1), ('vogue', 1), ('indonesian', 1), ('york', 1), ('oxford', 1), ('ruta', 1), ('destroy', 2), ('polish', 1), ('folk', 2), ('beach', 1), ('soulful', 1), ('oc', 1), ('grave', 1), ('icelandic', 1), ('therapy', 1), ('trival', 1), ('chill', 1), ('italogaze', 1), ('dayton', 1), ('leipzig', 1), ('psybass', 1), ('synthpop', 1), ('brooklyn', 1), ('brostep', 1), ('wellington', 1), ('kenyan', 1), ('portland', 1), ('ambient', 1), ('idm', 1), ('international', 1), ('prog', 1), ('dunedin', 1), ('sound', 1), ('solipsynthm', 1), ('gqom', 1), ('shimmer', 1), ('hard', 2), ('neo-synthpop', 1), ('\"\"\"[chicago', 1), ('punk\"', 1), ('scottish', 1), ('malaysian', 1), ('fake', 1), ('aussietronica', 1), ('neotango', 1), ('jumpstyle', 1), ('hamburg', 1), ('slovak', 1), ('jersey', 1), ('neurofunk', 1), ('industrial', 1), ('sevilla', 1), ('acid', 1), ('siciliana', 1), ('deconstructed', 1), ('club', 1), ('orebro', 1), ('welsh', 1), ('afro', 1), ('vaporwave', 1), ('south', 3), ('african', 3), ('instrumental', 1), ('tekk', 1), ('filter', 1), ('post-rock', 1), ('touch', 1), ('didgeridoo', 1), ('cedm', 1), ('r&b', 1), ('gothenburg', 1), ('electroclash', 1)])"
      ]
     },
     "execution_count": 97,
     "metadata": {},
     "output_type": "execute_result"
    }
   ],
   "source": [
    "count.items()"
   ]
  }
 ],
 "metadata": {
  "interpreter": {
   "hash": "80f7a5588e248a7388d6dceffc71a6764e419a959cf08d0c746b6ec85a1773dd"
  },
  "kernelspec": {
   "display_name": "Python 3",
   "language": "python",
   "name": "python3"
  },
  "language_info": {
   "codemirror_mode": {
    "name": "ipython",
    "version": 3
   },
   "file_extension": ".py",
   "mimetype": "text/x-python",
   "name": "python",
   "nbconvert_exporter": "python",
   "pygments_lexer": "ipython3",
   "version": "3.7.7"
  }
 },
 "nbformat": 4,
 "nbformat_minor": 5
}
