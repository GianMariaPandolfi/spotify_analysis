{
  "nbformat": 4,
  "nbformat_minor": 0,
  "metadata": {
    "colab": {
      "name": "classification_10bin_nb_lsvm_lr.ipynb.ipynb",
      "provenance": [],
      "collapsed_sections": []
    },
    "kernelspec": {
      "name": "python3",
      "display_name": "Python 3"
    },
    "language_info": {
      "name": "python"
    }
  },
  "cells": [
    {
      "cell_type": "code",
      "metadata": {
        "colab": {
          "base_uri": "https://localhost:8080/"
        },
        "id": "JU2STA3ri7m6",
        "outputId": "4edbcb44-493f-431d-f14b-59cf66d91e58"
      },
      "source": [
        "!pip install pyspark==3.1.2 py4j==0.10.9"
      ],
      "execution_count": 2,
      "outputs": [
        {
          "output_type": "stream",
          "name": "stdout",
          "text": [
            "Collecting pyspark==3.1.2\n",
            "  Downloading pyspark-3.1.2.tar.gz (212.4 MB)\n",
            "\u001b[K     |████████████████████████████████| 212.4 MB 56 kB/s \n",
            "\u001b[?25hCollecting py4j==0.10.9\n",
            "  Downloading py4j-0.10.9-py2.py3-none-any.whl (198 kB)\n",
            "\u001b[K     |████████████████████████████████| 198 kB 49.3 MB/s \n",
            "\u001b[?25hBuilding wheels for collected packages: pyspark\n",
            "  Building wheel for pyspark (setup.py) ... \u001b[?25l\u001b[?25hdone\n",
            "  Created wheel for pyspark: filename=pyspark-3.1.2-py2.py3-none-any.whl size=212880768 sha256=56956cae342218b906df1f8bea79fba6060ce3a3efe9350f9479e8aa3c534235\n",
            "  Stored in directory: /root/.cache/pip/wheels/a5/0a/c1/9561f6fecb759579a7d863dcd846daaa95f598744e71b02c77\n",
            "Successfully built pyspark\n",
            "Installing collected packages: py4j, pyspark\n",
            "Successfully installed py4j-0.10.9 pyspark-3.1.2\n"
          ]
        }
      ]
    },
    {
      "cell_type": "code",
      "metadata": {
        "id": "80rViXA0jLWF"
      },
      "source": [
        "from pyspark.sql import SparkSession\n",
        "from pyspark.sql.functions import *\n",
        "from pyspark.sql.window import Window\n",
        "from pyspark.ml.stat import Correlation\n",
        "from pyspark.sql.types import IntegerType,BooleanType,DateType,FloatType\n",
        "\n",
        "spark = SparkSession.builder\\\n",
        "        .master(\"local[*]\")\\\n",
        "        .appName('spotify_classification')\\\n",
        "        .getOrCreate()"
      ],
      "execution_count": 3,
      "outputs": []
    },
    {
      "cell_type": "code",
      "metadata": {
        "colab": {
          "base_uri": "https://localhost:8080/"
        },
        "id": "VYGreBsBjMwM",
        "outputId": "922c8558-4bf2-4267-f96c-342814a83c26"
      },
      "source": [
        "from google.colab import drive               \n",
        "drive.mount('/content/drive')"
      ],
      "execution_count": 4,
      "outputs": [
        {
          "output_type": "stream",
          "name": "stdout",
          "text": [
            "Mounted at /content/drive\n"
          ]
        }
      ]
    },
    {
      "cell_type": "code",
      "metadata": {
        "id": "DMOWHVuQjOIb"
      },
      "source": [
        "df = spark.read.json(\"drive/My Drive/dataset.json\")"
      ],
      "execution_count": 5,
      "outputs": []
    },
    {
      "cell_type": "code",
      "metadata": {
        "colab": {
          "base_uri": "https://localhost:8080/"
        },
        "id": "PulC4SXbjPtV",
        "outputId": "de458cb0-b7b5-4cf4-b55f-9ca32a514703"
      },
      "source": [
        "df.show(5)"
      ],
      "execution_count": 6,
      "outputs": [
        {
          "output_type": "stream",
          "name": "stdout",
          "text": [
            "+------------+------------------+--------------------+---------------------+------------+-----------+------+--------------------+--------------------+----------------+---+--------+--------+----+----------------+------------+-----------+--------------------+---------------------+-------+--------------+-------+\n",
            "|acousticness|               age|avg_artist_followers|avg_artist_popularity|danceability|duration_ms|energy|              genres|            id_track|instrumentalness|key|liveness|loudness|mode|popularity_track|release_date|speechiness|sum_artist_followers|sum_artist_popularity|  tempo|time_signature|valence|\n",
            "+------------+------------------+--------------------+---------------------+------------+-----------+------+--------------------+--------------------+----------------+---+--------+--------+----+----------------+------------+-----------+--------------------+---------------------+-------+--------------+-------+\n",
            "|       0.658| 41.83013698630137|              5403.5|                 40.0|       0.602|     156067| 0.552|[classic czech po...|00AeAaSNbe92PRrst...|             0.0|  0|  0.0972|  -6.667|   1|               3|  1980-01-01|      0.404|               10807|                   80|182.229|             3|   0.65|\n",
            "|       0.543| 45.83287671232877|             19833.0|                 43.0|        0.77|     220133| 0.891|[afrobeat, afropo...|00DJt4PjkzeXhKKVD...|         7.96E-4|  1|  0.0684|  -7.306|   1|               9|  1976-01-01|      0.172|               19833|                   43|135.573|             4|  0.898|\n",
            "|      4.8E-5|25.682191780821917|            874600.0|                 68.0|       0.212|     250960| 0.986|[alternative meta...|00HgVIkZrAL8WjAN9...|           0.918|  0|   0.324|   -6.69|   0|              33|  1996-02-20|       0.14|              874600|                   68|140.917|             4|  0.231|\n",
            "|       0.144| 31.82191780821918|             69129.0|                 42.0|       0.362|     457040| 0.453|[corrosion, dark ...|00Lx2f8NRiFKMGWa0...|           0.827| 11|   0.117| -17.744|   0|              35|  1990-01-01|     0.0398|               69129|                   42|118.853|             4|  0.257|\n",
            "|       0.957| 4.079452054794521|           1709414.0|                 68.0|       0.343|     282891| 0.225|[brazilian rock, ...|00fzPML4lrNag28OP...|         2.49E-4|  1|   0.661| -14.937|   0|              52|  2017-09-22|     0.0384|             1709414|                   68|144.533|             4|  0.101|\n",
            "+------------+------------------+--------------------+---------------------+------------+-----------+------+--------------------+--------------------+----------------+---+--------+--------+----+----------------+------------+-----------+--------------------+---------------------+-------+--------------+-------+\n",
            "only showing top 5 rows\n",
            "\n"
          ]
        }
      ]
    },
    {
      "cell_type": "code",
      "metadata": {
        "id": "VSVKv1JCjl2O"
      },
      "source": [
        "from pyspark.ml.feature import QuantileDiscretizer \n",
        "\n",
        "qds = QuantileDiscretizer(relativeError=0.0001, handleInvalid=\"error\", numBuckets=10, inputCol=\"popularity_track\", outputCol=\"label\")\n",
        "\n",
        "df = qds.setHandleInvalid(\"keep\").fit(df).transform(df)"
      ],
      "execution_count": 7,
      "outputs": []
    },
    {
      "cell_type": "code",
      "metadata": {
        "id": "VztnDoe1joPu"
      },
      "source": [
        "from pyspark.ml.feature import VectorAssembler\n",
        "\n",
        "assembler = VectorAssembler( \n",
        "inputCols=[\n",
        "  'age',\n",
        " 'duration_ms',\n",
        " 'danceability',\n",
        " 'energy',\n",
        " 'key',\n",
        " 'mode',\n",
        " 'speechiness',\n",
        " 'acousticness',\n",
        " 'instrumentalness',\n",
        " 'liveness',\n",
        " 'valence',\n",
        " 'tempo',\n",
        " 'time_signature',\n",
        " 'sum_artist_followers',\n",
        " 'sum_artist_popularity',\n",
        " 'avg_artist_popularity'], \n",
        "outputCol=\"feat\")\n",
        "df=assembler.transform(df)"
      ],
      "execution_count": 8,
      "outputs": []
    },
    {
      "cell_type": "code",
      "metadata": {
        "id": "B4edmRlajqi-"
      },
      "source": [
        "from pyspark.ml.feature import StandardScaler\n",
        "\n",
        "\n",
        "scaler = StandardScaler(inputCol=\"feat\", outputCol=\"scaledFeatures\")\n",
        "\n",
        "\n",
        "scalerModel = scaler.fit(df)\n",
        "\n",
        "\n",
        "df = scalerModel.transform(df)"
      ],
      "execution_count": 9,
      "outputs": []
    },
    {
      "cell_type": "code",
      "metadata": {
        "colab": {
          "base_uri": "https://localhost:8080/"
        },
        "id": "__rIgSyUjsjg",
        "outputId": "ce2fed30-e90e-48fd-e514-6eae02070ef2"
      },
      "source": [
        "from pyspark.ml.feature import VarianceThresholdSelector\n",
        "\n",
        "selector = VarianceThresholdSelector(varianceThreshold=1,featuresCol='scaledFeatures', outputCol=\"features\")\n",
        "\n",
        "df = selector.fit(df).transform(df)\n",
        "\n",
        "print(\"Output: Features with variance lower than %f are removed.\" %\n",
        "      selector.getVarianceThreshold())"
      ],
      "execution_count": 11,
      "outputs": [
        {
          "output_type": "stream",
          "name": "stdout",
          "text": [
            "Output: Features with variance lower than 1.000000 are removed.\n"
          ]
        }
      ]
    },
    {
      "cell_type": "code",
      "metadata": {
        "colab": {
          "base_uri": "https://localhost:8080/"
        },
        "id": "CTPZ-_Poju77",
        "outputId": "d8fb3c70-77bc-4271-f788-0c20eb3e437b"
      },
      "source": [
        "df.select(\"features\").show(truncate=False)"
      ],
      "execution_count": 12,
      "outputs": [
        {
          "output_type": "stream",
          "name": "stdout",
          "text": [
            "+-------------------------------------------------------------------------------------------------------------------------------------------------------------------------------+\n",
            "|features                                                                                                                                                                       |\n",
            "+-------------------------------------------------------------------------------------------------------------------------------------------------------------------------------+\n",
            "|[1.2361331222982912,2.1964380167735986,2.2425341538161,1.8900121366507203,0.0,2.5283072549510672,6.364381858546468,0.002309747438951722,1.9235483655073946]                    |\n",
            "|[1.743569701544143,3.545337450987819,0.9547422635058642,1.5596908665673879,0.002985334272949299,3.492953715301628,8.485842478061958,0.004238847132111549,2.067814492920449]    |\n",
            "|[1.9877358337892006,3.923347616918058,0.7771157958768663,1.3787322577391272E-4,3.442885505738011,0.8985215013749177,8.485842478061958,0.18692561396383606,3.2700322213625705]  |\n",
            "|[3.6199983482428126,1.8025116333305073,0.22092291911356626,0.41361967732173816,3.1015972911169225,0.9996537915729604,8.485842478061958,0.014774732183519348,2.0197257837827642]|\n",
            "|[2.2406462295045455,0.8952872350979342,0.2131517611547976,2.7488474388673847,9.338545652818786E-4,0.3928600503847043,8.485842478061958,0.3653478864262255,3.2700322213625705]  |\n",
            "|[1.7187546857358007,2.4431393882228067,0.200939941505304,0.34181070556449195,0.003660409862309693,3.726335923450957,8.485842478061958,0.44726409348315355,3.3181209305002555]  |\n",
            "|[4.317535532153848,0.37562273330331103,0.22924915978367555,2.7574645154782544,0.12713923599620758,0.9218597221898506,8.485842478061958,0.8214262941621604,3.0295886756741464]  |\n",
            "|[2.0350451505537164,3.628897592930293,0.4435110863611544,0.48255629020869456,0.0,2.3960573369997804,8.485842478061958,0.0010919311247898906,1.77928223809434]                  |\n",
            "|[1.973265028209296,3.107641469384385,0.38522740167038944,2.2260781244746326,0.0,3.4657257910175394,8.485842478061958,0.1709941913815375,3.2700322213625705]                    |\n",
            "|[1.5033163103808984,0.48942368852020396,0.24312622756719102,2.7890604630514426,0.0,2.135447204566363,2.1214606195154895,1.987660884820118E-4,1.5388386924059156]               |\n",
            "|[1.4394214069254574,0.3692562462981701,0.19927469337128215,2.7143791324239066,3.116598970880487,0.8479553562758964,8.485842478061958,0.06391141907208757,2.821204269410845]    |\n",
            "|[1.6078672866560717,3.6686881367124236,0.5828368469076497,0.25966124187420225,2.7828115961411807E-5,1.8398297409105455,8.485842478061958,0.03159675507840342,2.837233839123407]|\n",
            "|[1.6889734985543876,1.8104697420869336,0.1454316703712421,2.4932074994115885,1.001362124217918E-5,1.859278258256323,8.485842478061958,0.0023041905375533003,2.452524166021928] |\n",
            "|[2.2338028928756253,1.2613602378935338,0.165969730690845,2.3266106849347774,8.138411271733641E-6,0.7040363279171432,8.485842478061958,0.003922958660308953,2.212080620333504]  |\n",
            "|[1.2768921619885973,1.5279568812338076,1.2100803107225488,1.9819276204999952,0.0,3.570747784684738,8.485842478061958,0.035711213109981065,2.7410564208480372]                  |\n",
            "|[1.8831848575140275,3.6487928648213583,0.1631943171341419,0.12954338505007215,0.004575512327887116,3.2362332863373657,8.485842478061958,0.3018395564325004,3.6066531853263646] |\n",
            "|[1.9346128491015047,3.0240813274419107,0.3263886342682838,1.439051794015214,0.0,1.1746904476849573,8.485842478061958,0.3092451961807818,3.2940765759314132]                    |\n",
            "|[1.644879916363184,2.5028252038960024,2.4035081401048792,0.12178801610028957,1.2901444596665312E-5,1.874837072132945,10.607303097577446,0.03705470088653797,2.6929677117103523]|\n",
            "|[1.5893886936522854,2.769421847236276,0.4424009209384731,0.3906408063594194,1.5226704960017782E-4,3.037858409410436,8.485842478061958,5.8319299742418345,4.568427368080062]    |\n",
            "|[1.4119450935392017,2.765442792858063,0.9658439177326765,1.2638379029275333,2.3890175023476174E-5,2.104329576813119,8.485842478061958,0.04294010064839728,2.717012066279195]   |\n",
            "+-------------------------------------------------------------------------------------------------------------------------------------------------------------------------------+\n",
            "only showing top 20 rows\n",
            "\n"
          ]
        }
      ]
    },
    {
      "cell_type": "code",
      "metadata": {
        "id": "jtdDfxHyjwgA"
      },
      "source": [
        "final_data = df.select(\"id_track\", \"features\",\"label\")"
      ],
      "execution_count": null,
      "outputs": []
    },
    {
      "cell_type": "code",
      "metadata": {
        "id": "WgFMfQr-jzj8"
      },
      "source": [
        "train, test = final_data.randomSplit([0.7, 0.3], seed = 10)"
      ],
      "execution_count": null,
      "outputs": []
    },
    {
      "cell_type": "code",
      "metadata": {
        "id": "jNxoYBHJj_Xw"
      },
      "source": [
        "from pyspark.ml.evaluation import MulticlassClassificationEvaluator"
      ],
      "execution_count": null,
      "outputs": []
    },
    {
      "cell_type": "markdown",
      "metadata": {
        "id": "ZZ6g2ZODkIA4"
      },
      "source": [
        "# Naive Bayes"
      ]
    },
    {
      "cell_type": "code",
      "metadata": {
        "id": "D1VMudXykGvP"
      },
      "source": [
        "from pyspark.ml.classification import NaiveBayes"
      ],
      "execution_count": null,
      "outputs": []
    },
    {
      "cell_type": "code",
      "metadata": {
        "id": "Pkazu4k6kLdL"
      },
      "source": [
        "nb = NaiveBayes()                         \n",
        "nbModel = nb.fit(train)\n",
        "predictions = nbModel.transform(test)"
      ],
      "execution_count": null,
      "outputs": []
    },
    {
      "cell_type": "code",
      "metadata": {
        "colab": {
          "base_uri": "https://localhost:8080/"
        },
        "id": "1SZ_sTUnkMx6",
        "outputId": "f637ba46-209e-433a-bf9e-8a1690b0078d"
      },
      "source": [
        "evaluator = MulticlassClassificationEvaluator(labelCol=\"label\", predictionCol=\"prediction\",metricName=\"accuracy\")\n",
        "evaluator.evaluate(predictions)"
      ],
      "execution_count": null,
      "outputs": [
        {
          "output_type": "execute_result",
          "data": {
            "text/plain": [
              "0.21566325483848908"
            ]
          },
          "metadata": {},
          "execution_count": 32
        }
      ]
    },
    {
      "cell_type": "code",
      "metadata": {
        "colab": {
          "base_uri": "https://localhost:8080/"
        },
        "id": "rh7FWs64kZLJ",
        "outputId": "a30cf2be-91e7-4ad5-d0af-c47bdc3785d3"
      },
      "source": [
        "evaluator = MulticlassClassificationEvaluator(labelCol=\"label\", predictionCol=\"prediction\",metricName=\"f1\")\n",
        "evaluator.evaluate(predictions)"
      ],
      "execution_count": null,
      "outputs": [
        {
          "output_type": "execute_result",
          "data": {
            "text/plain": [
              "0.20108403172295577"
            ]
          },
          "metadata": {},
          "execution_count": 34
        }
      ]
    },
    {
      "cell_type": "code",
      "metadata": {
        "colab": {
          "base_uri": "https://localhost:8080/"
        },
        "id": "dj0giw0Qkafe",
        "outputId": "ba534353-4bb2-4ef6-d6a2-ea217b8df65a"
      },
      "source": [
        "evaluator = MulticlassClassificationEvaluator(labelCol=\"label\", predictionCol=\"prediction\",metricName=\"recallByLabel\")\n",
        "evaluator.evaluate(predictions)"
      ],
      "execution_count": null,
      "outputs": [
        {
          "output_type": "execute_result",
          "data": {
            "text/plain": [
              "0.5882908962013351"
            ]
          },
          "metadata": {},
          "execution_count": 35
        }
      ]
    },
    {
      "cell_type": "code",
      "metadata": {
        "colab": {
          "base_uri": "https://localhost:8080/"
        },
        "id": "X5LP8oa3kcD_",
        "outputId": "0d2bd333-77de-499d-8182-6ecbc76828b0"
      },
      "source": [
        "evaluator = MulticlassClassificationEvaluator(labelCol=\"label\", predictionCol=\"prediction\",metricName=\"precisionByLabel\")\n",
        "evaluator.evaluate(predictions)"
      ],
      "execution_count": null,
      "outputs": [
        {
          "output_type": "execute_result",
          "data": {
            "text/plain": [
              "0.40849981539976205"
            ]
          },
          "metadata": {},
          "execution_count": 36
        }
      ]
    },
    {
      "cell_type": "markdown",
      "metadata": {
        "id": "7FBRbM2skoVB"
      },
      "source": [
        "# LSVM one vs others"
      ]
    },
    {
      "cell_type": "code",
      "metadata": {
        "id": "Kp0C9TVVkkLx"
      },
      "source": [
        "from pyspark.ml.classification import LinearSVC, OneVsRest"
      ],
      "execution_count": null,
      "outputs": []
    },
    {
      "cell_type": "code",
      "metadata": {
        "id": "DPnuh4Tcksiw"
      },
      "source": [
        "lsvc = LinearSVC(maxIter=10, regParam=0.1)"
      ],
      "execution_count": null,
      "outputs": []
    },
    {
      "cell_type": "code",
      "metadata": {
        "id": "ybxCGS79kt06"
      },
      "source": [
        "ovr = OneVsRest(classifier=lsvc)"
      ],
      "execution_count": null,
      "outputs": []
    },
    {
      "cell_type": "code",
      "metadata": {
        "id": "GEa5Eh9JkvIR"
      },
      "source": [
        "ovrModel = ovr.fit(train)"
      ],
      "execution_count": null,
      "outputs": []
    },
    {
      "cell_type": "code",
      "metadata": {
        "id": "9OMt6J9skwny"
      },
      "source": [
        "predictions = ovrModel.transform(test)"
      ],
      "execution_count": null,
      "outputs": []
    },
    {
      "cell_type": "code",
      "metadata": {
        "colab": {
          "base_uri": "https://localhost:8080/"
        },
        "id": "2KYutapxkyDf",
        "outputId": "5758ff93-e235-40af-a608-5c4b78a8c976"
      },
      "source": [
        "evaluator = MulticlassClassificationEvaluator(labelCol=\"label\", predictionCol=\"prediction\",metricName=\"accuracy\")\n",
        "evaluator.evaluate(predictions)"
      ],
      "execution_count": null,
      "outputs": [
        {
          "output_type": "execute_result",
          "data": {
            "text/plain": [
              "0.23006474114938336"
            ]
          },
          "metadata": {},
          "execution_count": 42
        }
      ]
    },
    {
      "cell_type": "code",
      "metadata": {
        "colab": {
          "base_uri": "https://localhost:8080/"
        },
        "id": "tDH72ROokzvK",
        "outputId": "8e81cc24-3c85-4388-efbf-090f42cea71d"
      },
      "source": [
        "evaluator = MulticlassClassificationEvaluator(labelCol=\"label\", predictionCol=\"prediction\",metricName=\"f1\")\n",
        "evaluator.evaluate(predictions)"
      ],
      "execution_count": null,
      "outputs": [
        {
          "output_type": "execute_result",
          "data": {
            "text/plain": [
              "0.15441934541802574"
            ]
          },
          "metadata": {},
          "execution_count": 43
        }
      ]
    },
    {
      "cell_type": "code",
      "metadata": {
        "colab": {
          "base_uri": "https://localhost:8080/"
        },
        "id": "bU61NTLzk1YB",
        "outputId": "fb4498bb-e181-445c-89b7-efbdd6f3c241"
      },
      "source": [
        "evaluator = MulticlassClassificationEvaluator(labelCol=\"label\", predictionCol=\"prediction\",metricName=\"recallByLabel\") \n",
        "evaluator.evaluate(predictions)"
      ],
      "execution_count": null,
      "outputs": [
        {
          "output_type": "execute_result",
          "data": {
            "text/plain": [
              "0.8157972470018314"
            ]
          },
          "metadata": {},
          "execution_count": 44
        }
      ]
    },
    {
      "cell_type": "code",
      "metadata": {
        "colab": {
          "base_uri": "https://localhost:8080/"
        },
        "id": "wPi4T6Gbk3G9",
        "outputId": "0c2551b6-b329-4c0e-d779-ecc513c09148"
      },
      "source": [
        "evaluator = MulticlassClassificationEvaluator(labelCol=\"label\", predictionCol=\"prediction\",metricName=\"precisionByLabel\") \n",
        "evaluator.evaluate(predictions)"
      ],
      "execution_count": null,
      "outputs": [
        {
          "output_type": "execute_result",
          "data": {
            "text/plain": [
              "0.3300587982217123"
            ]
          },
          "metadata": {},
          "execution_count": 45
        }
      ]
    },
    {
      "cell_type": "markdown",
      "metadata": {
        "id": "noRqc5DKk6Qw"
      },
      "source": [
        "# Logistic regression one vs others"
      ]
    },
    {
      "cell_type": "code",
      "metadata": {
        "id": "5XnmsKoHk5tR"
      },
      "source": [
        "from pyspark.ml.classification import LogisticRegression\n",
        "\n",
        "lr = LogisticRegression(maxIter=10, tol=1E-6, fitIntercept=True)"
      ],
      "execution_count": null,
      "outputs": []
    },
    {
      "cell_type": "code",
      "metadata": {
        "id": "joWiWirAk_WI"
      },
      "source": [
        "ovr = OneVsRest(classifier=lr)"
      ],
      "execution_count": null,
      "outputs": []
    },
    {
      "cell_type": "code",
      "metadata": {
        "id": "gvO0dNAGlAvR"
      },
      "source": [
        "ovrModel = ovr.fit(train)"
      ],
      "execution_count": null,
      "outputs": []
    },
    {
      "cell_type": "code",
      "metadata": {
        "id": "azY4uTD9lCPx"
      },
      "source": [
        "predictions = ovrModel.transform(test)"
      ],
      "execution_count": null,
      "outputs": []
    },
    {
      "cell_type": "code",
      "metadata": {
        "colab": {
          "base_uri": "https://localhost:8080/"
        },
        "id": "qvMlcaLulDmM",
        "outputId": "f61496b6-cced-4426-cd57-1c54ffbb1dfb"
      },
      "source": [
        "evaluator = MulticlassClassificationEvaluator(labelCol=\"label\", predictionCol=\"prediction\",metricName=\"accuracy\")\n",
        "evaluator.evaluate(predictions)"
      ],
      "execution_count": null,
      "outputs": [
        {
          "output_type": "execute_result",
          "data": {
            "text/plain": [
              "0.24001527344017143"
            ]
          },
          "metadata": {},
          "execution_count": 50
        }
      ]
    },
    {
      "cell_type": "code",
      "metadata": {
        "colab": {
          "base_uri": "https://localhost:8080/"
        },
        "id": "oowJsdjXlE4S",
        "outputId": "3befba46-0de3-47c4-eef0-16982a9989fe"
      },
      "source": [
        "evaluator = MulticlassClassificationEvaluator(labelCol=\"label\", predictionCol=\"prediction\",metricName=\"f1\")\n",
        "evaluator.evaluate(predictions)"
      ],
      "execution_count": null,
      "outputs": [
        {
          "output_type": "execute_result",
          "data": {
            "text/plain": [
              "0.19257092638095072"
            ]
          },
          "metadata": {},
          "execution_count": 51
        }
      ]
    },
    {
      "cell_type": "code",
      "metadata": {
        "colab": {
          "base_uri": "https://localhost:8080/"
        },
        "id": "wkVx2_Y0lHkG",
        "outputId": "74b69ae3-398c-4884-dec8-5ec5f7d233ed"
      },
      "source": [
        "evaluator = MulticlassClassificationEvaluator(labelCol=\"label\", predictionCol=\"prediction\",metricName=\"recallByLabel\") \n",
        "evaluator.evaluate(predictions)"
      ],
      "execution_count": null,
      "outputs": [
        {
          "output_type": "execute_result",
          "data": {
            "text/plain": [
              "0.7359839309978141"
            ]
          },
          "metadata": {},
          "execution_count": 52
        }
      ]
    },
    {
      "cell_type": "code",
      "metadata": {
        "colab": {
          "base_uri": "https://localhost:8080/"
        },
        "id": "M434gCmJlJD2",
        "outputId": "d48fdb2f-2103-45d9-c05c-f749fa94af7f"
      },
      "source": [
        "evaluator = MulticlassClassificationEvaluator(labelCol=\"label\", predictionCol=\"prediction\",metricName=\"precisionByLabel\") \n",
        "evaluator.evaluate(predictions)"
      ],
      "execution_count": null,
      "outputs": [
        {
          "output_type": "execute_result",
          "data": {
            "text/plain": [
              "0.404375486886523"
            ]
          },
          "metadata": {},
          "execution_count": 53
        }
      ]
    }
  ]
}
