{
 "cells": [
  {
   "cell_type": "code",
   "execution_count": 9,
   "source": [
    "\r\n",
    "\r\n",
    "%pip install spacy\r\n",
    "import spacy\r\n",
    "from spacy import displacy\r\n",
    "from IPython.core.display import display, HTML\r\n",
    "\r\n",
    "\r\n",
    "display(HTML(\"<style>pre { white-space: pre !important; }</style>\"))"
   ],
   "outputs": [
    {
     "output_type": "stream",
     "name": "stdout",
     "text": [
      "Requirement already satisfied: spacy in c:\\users\\carlo\\anaconda3\\envs\\pyspark_env\\lib\\site-packages (3.1.3)\n",
      "Requirement already satisfied: tqdm<5.0.0,>=4.38.0 in c:\\users\\carlo\\anaconda3\\envs\\pyspark_env\\lib\\site-packages (from spacy) (4.62.3)\n",
      "Requirement already satisfied: setuptools in c:\\users\\carlo\\anaconda3\\envs\\pyspark_env\\lib\\site-packages (from spacy) (58.0.4)\n",
      "Requirement already satisfied: thinc<8.1.0,>=8.0.9 in c:\\users\\carlo\\anaconda3\\envs\\pyspark_env\\lib\\site-packages (from spacy) (8.0.10)\n",
      "Requirement already satisfied: numpy>=1.15.0 in c:\\users\\carlo\\anaconda3\\envs\\pyspark_env\\lib\\site-packages (from spacy) (1.20.3)\n",
      "Requirement already satisfied: murmurhash<1.1.0,>=0.28.0 in c:\\users\\carlo\\anaconda3\\envs\\pyspark_env\\lib\\site-packages (from spacy) (1.0.5)\n",
      "Requirement already satisfied: pathy>=0.3.5 in c:\\users\\carlo\\anaconda3\\envs\\pyspark_env\\lib\\site-packages (from spacy) (0.6.0)\n",
      "Requirement already satisfied: wasabi<1.1.0,>=0.8.1 in c:\\users\\carlo\\anaconda3\\envs\\pyspark_env\\lib\\site-packages (from spacy) (0.8.2)\n",
      "Requirement already satisfied: spacy-legacy<3.1.0,>=3.0.8 in c:\\users\\carlo\\anaconda3\\envs\\pyspark_env\\lib\\site-packages (from spacy) (3.0.8)\n",
      "Requirement already satisfied: srsly<3.0.0,>=2.4.1 in c:\\users\\carlo\\anaconda3\\envs\\pyspark_env\\lib\\site-packages (from spacy) (2.4.1)\n",
      "Requirement already satisfied: jinja2 in c:\\users\\carlo\\anaconda3\\envs\\pyspark_env\\lib\\site-packages (from spacy) (3.0.2)\n",
      "Requirement already satisfied: catalogue<2.1.0,>=2.0.6 in c:\\users\\carlo\\anaconda3\\envs\\pyspark_env\\lib\\site-packages (from spacy) (2.0.6)\n",
      "Requirement already satisfied: cymem<2.1.0,>=2.0.2 in c:\\users\\carlo\\anaconda3\\envs\\pyspark_env\\lib\\site-packages (from spacy) (2.0.5)\n",
      "Requirement already satisfied: pydantic!=1.8,!=1.8.1,<1.9.0,>=1.7.4 in c:\\users\\carlo\\anaconda3\\envs\\pyspark_env\\lib\\site-packages (from spacy) (1.8.2)\n",
      "Requirement already satisfied: preshed<3.1.0,>=3.0.2 in c:\\users\\carlo\\anaconda3\\envs\\pyspark_env\\lib\\site-packages (from spacy) (3.0.5)\n",
      "Requirement already satisfied: typer<0.5.0,>=0.3.0 in c:\\users\\carlo\\anaconda3\\envs\\pyspark_env\\lib\\site-packages (from spacy) (0.4.0)\n",
      "Requirement already satisfied: blis<0.8.0,>=0.4.0 in c:\\users\\carlo\\anaconda3\\envs\\pyspark_env\\lib\\site-packages (from spacy) (0.7.4)\n",
      "Requirement already satisfied: requests<3.0.0,>=2.13.0 in c:\\users\\carlo\\anaconda3\\envs\\pyspark_env\\lib\\site-packages (from spacy) (2.26.0)\n",
      "Requirement already satisfied: packaging>=20.0 in c:\\users\\carlo\\anaconda3\\envs\\pyspark_env\\lib\\site-packages (from spacy) (21.0)\n",
      "Requirement already satisfied: typing-extensions<4.0.0.0,>=3.7.4 in c:\\users\\carlo\\anaconda3\\envs\\pyspark_env\\lib\\site-packages (from spacy) (3.10.0.2)\n",
      "Requirement already satisfied: zipp>=0.5 in c:\\users\\carlo\\anaconda3\\envs\\pyspark_env\\lib\\site-packages (from catalogue<2.1.0,>=2.0.6->spacy) (3.6.0)\n",
      "Requirement already satisfied: pyparsing>=2.0.2 in c:\\users\\carlo\\anaconda3\\envs\\pyspark_env\\lib\\site-packages (from packaging>=20.0->spacy) (2.4.7)\n",
      "Requirement already satisfied: smart-open<6.0.0,>=5.0.0 in c:\\users\\carlo\\anaconda3\\envs\\pyspark_env\\lib\\site-packages (from pathy>=0.3.5->spacy) (5.2.1)\n",
      "Requirement already satisfied: idna<4,>=2.5 in c:\\users\\carlo\\anaconda3\\envs\\pyspark_env\\lib\\site-packages (from requests<3.0.0,>=2.13.0->spacy) (3.3)\n",
      "Requirement already satisfied: urllib3<1.27,>=1.21.1 in c:\\users\\carlo\\anaconda3\\envs\\pyspark_env\\lib\\site-packages (from requests<3.0.0,>=2.13.0->spacy) (1.26.7)\n",
      "Requirement already satisfied: certifi>=2017.4.17 in c:\\users\\carlo\\anaconda3\\envs\\pyspark_env\\lib\\site-packages (from requests<3.0.0,>=2.13.0->spacy) (2021.10.8)\n",
      "Requirement already satisfied: charset-normalizer~=2.0.0 in c:\\users\\carlo\\anaconda3\\envs\\pyspark_env\\lib\\site-packages (from requests<3.0.0,>=2.13.0->spacy) (2.0.7)\n",
      "Requirement already satisfied: colorama in c:\\users\\carlo\\anaconda3\\envs\\pyspark_env\\lib\\site-packages (from tqdm<5.0.0,>=4.38.0->spacy) (0.4.4)\n",
      "Requirement already satisfied: click<9.0.0,>=7.1.1 in c:\\users\\carlo\\anaconda3\\envs\\pyspark_env\\lib\\site-packages (from typer<0.5.0,>=0.3.0->spacy) (8.0.3)\n",
      "Requirement already satisfied: importlib-metadata in c:\\users\\carlo\\anaconda3\\envs\\pyspark_env\\lib\\site-packages (from click<9.0.0,>=7.1.1->typer<0.5.0,>=0.3.0->spacy) (4.8.1)\n",
      "Requirement already satisfied: MarkupSafe>=2.0 in c:\\users\\carlo\\anaconda3\\envs\\pyspark_env\\lib\\site-packages (from jinja2->spacy) (2.0.1)\n",
      "Note: you may need to restart the kernel to use updated packages.\n"
     ]
    },
    {
     "output_type": "display_data",
     "data": {
      "text/html": [
       "<style>pre { white-space: pre !important; }</style>"
      ],
      "text/plain": [
       "<IPython.core.display.HTML object>"
      ]
     },
     "metadata": {}
    }
   ],
   "metadata": {}
  },
  {
   "cell_type": "code",
   "execution_count": 10,
   "source": [
    "import matplotlib.pyplot as plt\r\n",
    "from collections import OrderedDict\r\n",
    "import seaborn as sns\r\n",
    "\r\n",
    "import pandas as pd\r\n",
    "\r\n",
    "\r\n",
    "\r\n",
    "import numpy as np"
   ],
   "outputs": [],
   "metadata": {}
  },
  {
   "cell_type": "code",
   "execution_count": 12,
   "source": [
    "import pyspark"
   ],
   "outputs": [],
   "metadata": {}
  },
  {
   "cell_type": "code",
   "execution_count": 13,
   "source": [
    "from pyspark.sql import SparkSession\r\n",
    "from pyspark.sql import SparkSession\r\n",
    "from pyspark.sql.functions import *\r\n",
    "from pyspark.sql.window import Window\r\n",
    "from pyspark.ml.stat import Correlation\r\n",
    "from pyspark.sql.types import IntegerType,BooleanType,DateType,FloatType, StringType\r\n",
    "import matplotlib.pyplot as plt \r\n",
    "import seaborn as sns\r\n",
    "import pyspark.sql.types as T\r\n",
    "import pyspark.sql.functions as F"
   ],
   "outputs": [],
   "metadata": {}
  },
  {
   "cell_type": "code",
   "execution_count": 14,
   "source": [
    "spark = SparkSession \\\r\n",
    "    .builder \\\r\n",
    "    .appName(\"Python Spark SQL basic example\") \\\r\n",
    "    .master(\"local[4]\") \\\r\n",
    "    .config(\"spark.driver.maxResultSize\", \"8g\") \\\r\n",
    "    .getOrCreate()"
   ],
   "outputs": [],
   "metadata": {}
  },
  {
   "cell_type": "code",
   "execution_count": 15,
   "source": [
    "artist_df = spark.read.option(\"header\", \"true\").csv(\"../data/artists.csv\")\r\n",
    "artist_df.printSchema()\r\n",
    "artist_df.show(10)"
   ],
   "outputs": [
    {
     "output_type": "stream",
     "name": "stdout",
     "text": [
      "root\n",
      " |-- id: string (nullable = true)\n",
      " |-- followers: string (nullable = true)\n",
      " |-- genres: string (nullable = true)\n",
      " |-- name: string (nullable = true)\n",
      " |-- popularity: string (nullable = true)\n",
      "\n",
      "+--------------------+---------+------+--------------------+----------+\n",
      "|                  id|followers|genres|                name|popularity|\n",
      "+--------------------+---------+------+--------------------+----------+\n",
      "|0DheY5irMjBUeLybb...|      0.0|    []|Armid & Amir Zare...|         0|\n",
      "|0DlhY15l3wsrnlfGi...|      5.0|    []|         ปูนา ภาวิณี|         0|\n",
      "|0DmRESX2JknGPQyO1...|      0.0|    []|               Sadaa|         0|\n",
      "|0DmhnbHjm1qw6NCYP...|      0.0|    []|           Tra'gruda|         0|\n",
      "|0Dn11fWM7vHQ3rinv...|      2.0|    []|Ioannis Panoutsop...|         0|\n",
      "|0DotfDlYMGqkbzfBh...|      7.0|    []|       Astral Affect|         0|\n",
      "|0DqP3bOCiC48L8SM9...|      1.0|    []|           Yung Seed|         0|\n",
      "|0Drs3maQb99iRglyT...|      0.0|    []|               Wi'Ma|         0|\n",
      "|0DsPeAi1gxPPnYjgp...|      0.0|    []|             lentboy|         0|\n",
      "|0DtvnTxgZ9K5YaPS5...|     20.0|    []|            addworks|         0|\n",
      "+--------------------+---------+------+--------------------+----------+\n",
      "only showing top 10 rows\n",
      "\n"
     ]
    }
   ],
   "metadata": {}
  },
  {
   "cell_type": "code",
   "execution_count": 16,
   "source": [
    "tracks_df = spark.read.option(\"header\", \"true\").csv(\"../data/tracks.csv\")\r\n",
    "tracks_df.show()\r\n",
    "tracks_df.printSchema()\r\n",
    "tracks_df.count()"
   ],
   "outputs": [
    {
     "output_type": "stream",
     "name": "stdout",
     "text": [
      "+--------------------+--------------------+----------+-----------+--------+-------------------+--------------------+------------+------------+------+---+--------+----+-----------+------------+----------------+--------+-------+-------+--------------+\n",
      "|                  id|                name|popularity|duration_ms|explicit|            artists|          id_artists|release_date|danceability|energy|key|loudness|mode|speechiness|acousticness|instrumentalness|liveness|valence|  tempo|time_signature|\n",
      "+--------------------+--------------------+----------+-----------+--------+-------------------+--------------------+------------+------------+------+---+--------+----+-----------+------------+----------------+--------+-------+-------+--------------+\n",
      "|35iwgR4jXetI318WE...|               Carve|         6|     126903|       0|            ['Uli']|['45tIt06XoI0Iio4...|  1922-02-22|       0.645| 0.445|  0| -13.338|   1|      0.451|       0.674|           0.744|   0.151|  0.127|104.851|             3|\n",
      "|021ht4sdgPcrDgSk7...|Capítulo 2.16 - B...|         0|      98200|       0|['Fernando Pessoa']|['14jtPCOoNZwquk5...|  1922-06-01|       0.695| 0.263|  0| -22.136|   1|      0.957|       0.797|             0.0|   0.148|  0.655|102.009|             1|\n",
      "|07A5yehtSnoedViJA...|Vivo para Querert...|         0|     181640|       0|['Ignacio Corsini']|['5LiOoJbxVSAMkBS...|  1922-03-21|       0.434| 0.177|  1|  -21.18|   1|     0.0512|       0.994|          0.0218|   0.212|  0.457|130.418|             5|\n",
      "|08FmqUhxtyLTn6pAh...|El Prisionero - R...|         0|     176907|       0|['Ignacio Corsini']|['5LiOoJbxVSAMkBS...|  1922-03-21|       0.321|0.0946|  7| -27.961|   1|     0.0504|       0.995|           0.918|   0.104|  0.397| 169.98|             3|\n",
      "|08y9GfoqCWfOGsKdw...| Lady of the Evening|         0|     163080|       0|    ['Dick Haymes']|['3BiJGZsyX9sJchT...|        1922|       0.402| 0.158|  3|   -16.9|   0|      0.039|       0.989|            0.13|   0.311|  0.196| 103.22|             4|\n",
      "|0BRXJHRNGQ3W4v9fr...|           Ave Maria|         0|     178933|       0|    ['Dick Haymes']|['3BiJGZsyX9sJchT...|        1922|       0.227| 0.261|  5| -12.343|   1|     0.0382|       0.994|           0.247|  0.0977| 0.0539|118.891|             4|\n",
      "|0Dd9ImXtAtGwsmsAD...|      La Butte Rouge|         0|     134467|       0|  ['Francis Marty']|['2nuMRGzeJ5jJEKl...|        1922|        0.51| 0.355|  4| -12.833|   1|      0.124|       0.965|             0.0|   0.155|  0.727| 85.754|             5|\n",
      "|0IA0Hju8CAgYfV1hw...|             La Java|         0|     161427|       0|    ['Mistinguett']|['4AxgXfD7ISvJSTO...|        1922|       0.563| 0.184|  4| -13.757|   1|     0.0512|       0.993|        1.55e-05|   0.325|  0.654|133.088|             3|\n",
      "|0IgI1UCz84pYeVetn...|  Old Fashioned Girl|         0|     310073|       0|    ['Greg Fieler']|['5nWlsH5RDgFuRAi...|        1922|       0.488| 0.475|  0| -16.222|   0|     0.0399|        0.62|         0.00645|   0.107|  0.544|139.952|             4|\n",
      "|0JV4iqw2lSKJaHBQZ...|Martín Fierro - R...|         0|     181173|       0|['Ignacio Corsini']|['5LiOoJbxVSAMkBS...|  1922-03-29|       0.548|0.0391|  6| -23.228|   1|      0.153|       0.996|           0.933|   0.148|  0.612| 75.595|             3|\n",
      "|0OYGe21oScKJfanLy...|Capítulo 2.8 - Ba...|         0|      99100|       0|['Fernando Pessoa']|['14jtPCOoNZwquk5...|  1922-06-01|       0.676| 0.235| 11| -22.447|   0|       0.96|       0.794|             0.0|    0.21|  0.724| 96.777|             3|\n",
      "|0PE42H6tslQuyMMiG...|Capítulo 2.25 - B...|         0|     132700|       0|['Fernando Pessoa']|['14jtPCOoNZwquk5...|  1922-06-01|        0.75| 0.229|  2| -22.077|   1|      0.955|       0.578|             0.0|   0.314|  0.531|102.629|             3|\n",
      "|0PH9AACae1f957JAa...|            Lazy Boi|         0|     157333|       0|            ['Uli']|['45tIt06XoI0Iio4...|  1922-02-22|       0.298|  0.46|  1| -18.645|   1|      0.453|       0.521|           0.856|   0.436|  0.402| 87.921|             4|\n",
      "|0QiT0Oo5QdLXdFw6R...|Tu Verras Montmartre|         1|     186800|       0|   ['Lucien Boyer']|['4mSouLpNSEY1d7O...|        1922|       0.703|  0.28|  0|  -15.39|   1|      0.174|       0.995|        6.84e-05|   0.163|  0.897|127.531|             4|\n",
      "|0TWsNj5iSvbMTtbED...|Elle Prend L'boul...|         0|     172027|       0|    ['Félix Mayol']|['7DIlOK9L8d0IQ7X...|        1922|       0.709| 0.289|  2| -14.978|   1|       0.18|       0.967|             0.0|   0.119|   0.84|107.515|             4|\n",
      "|0cC9CYjLRIzwchQ42...|Capítulo 1.23 - B...|         0|      96600|       0|['Fernando Pessoa']|['14jtPCOoNZwquk5...|  1922-06-01|       0.687| 0.198|  4| -24.264|   0|      0.962|       0.754|             0.0|   0.197|  0.478| 78.453|             1|\n",
      "|0eb1PfHxT6HnXvvdU...|Capítulo 1.18 - B...|         0|     103200|       0|['Fernando Pessoa']|['14jtPCOoNZwquk5...|  1922-06-01|         0.8| 0.171|  8| -24.384|   1|      0.953|        0.67|             0.0|   0.123|  0.693| 59.613|             3|\n",
      "|0grXU6GKVNCVMJbse...|Capítulo 1.10 - B...|         0|      95800|       0|['Fernando Pessoa']|['14jtPCOoNZwquk5...|  1922-06-01|         0.7| 0.208|  2| -23.874|   1|      0.956|       0.691|             0.0|   0.441|  0.613| 85.739|             1|\n",
      "|0kCB1bDVBC8gWCFcn...|  Ca C'est Une Chose|         0|     188000|       0| ['Victor Boucher']|['7vVR02JJYvsEAEP...|        1922|       0.352| 0.334|  5| -13.038|   1|     0.0594|       0.996|         0.00746|    0.36|  0.414| 76.403|             4|\n",
      "|0l3BQsVJ7F76wlN5Q...|El Vendaval - Rem...|         0|     153533|       0|['Ignacio Corsini']|['5LiOoJbxVSAMkBS...|  1922-03-21|        0.37| 0.372|  2| -17.138|   1|     0.0865|       0.985|        0.000681|   0.929|  0.753|159.669|             4|\n",
      "+--------------------+--------------------+----------+-----------+--------+-------------------+--------------------+------------+------------+------+---+--------+----+-----------+------------+----------------+--------+-------+-------+--------------+\n",
      "only showing top 20 rows\n",
      "\n",
      "root\n",
      " |-- id: string (nullable = true)\n",
      " |-- name: string (nullable = true)\n",
      " |-- popularity: string (nullable = true)\n",
      " |-- duration_ms: string (nullable = true)\n",
      " |-- explicit: string (nullable = true)\n",
      " |-- artists: string (nullable = true)\n",
      " |-- id_artists: string (nullable = true)\n",
      " |-- release_date: string (nullable = true)\n",
      " |-- danceability: string (nullable = true)\n",
      " |-- energy: string (nullable = true)\n",
      " |-- key: string (nullable = true)\n",
      " |-- loudness: string (nullable = true)\n",
      " |-- mode: string (nullable = true)\n",
      " |-- speechiness: string (nullable = true)\n",
      " |-- acousticness: string (nullable = true)\n",
      " |-- instrumentalness: string (nullable = true)\n",
      " |-- liveness: string (nullable = true)\n",
      " |-- valence: string (nullable = true)\n",
      " |-- tempo: string (nullable = true)\n",
      " |-- time_signature: string (nullable = true)\n",
      "\n"
     ]
    },
    {
     "output_type": "execute_result",
     "data": {
      "text/plain": [
       "586672"
      ]
     },
     "metadata": {},
     "execution_count": 16
    }
   ],
   "metadata": {}
  },
  {
   "cell_type": "markdown",
   "source": [
    "# Data Cleaning"
   ],
   "metadata": {}
  },
  {
   "cell_type": "code",
   "execution_count": 18,
   "source": [
    "tracks_df.select(\"explicit\").distinct().show(10)"
   ],
   "outputs": [
    {
     "output_type": "stream",
     "name": "stdout",
     "text": [
      "+---------+\n",
      "| explicit|\n",
      "+---------+\n",
      "|   687600|\n",
      "|   362760|\n",
      "|   240200|\n",
      "|   296467|\n",
      "|   404000|\n",
      "|  Melot)\"|\n",
      "|   211160|\n",
      "|  1191416|\n",
      "|   185347|\n",
      "| Hoffmann|\n",
      "+---------+\n",
      "only showing top 10 rows\n",
      "\n"
     ]
    }
   ],
   "metadata": {}
  },
  {
   "cell_type": "code",
   "execution_count": 19,
   "source": [
    "#missing values\r\n",
    "tracks_df.select([count(when(isnan(c), c)).alias(c) for c in tracks_df.columns]).show()\r\n",
    "artist_df.select([count(when(isnan(c), c)).alias(c) for c in artist_df.columns]).show()"
   ],
   "outputs": [
    {
     "output_type": "stream",
     "name": "stdout",
     "text": [
      "+---+----+----------+-----------+--------+-------+----------+------------+------------+------+---+--------+----+-----------+------------+----------------+--------+-------+-----+--------------+\n",
      "| id|name|popularity|duration_ms|explicit|artists|id_artists|release_date|danceability|energy|key|loudness|mode|speechiness|acousticness|instrumentalness|liveness|valence|tempo|time_signature|\n",
      "+---+----+----------+-----------+--------+-------+----------+------------+------------+------+---+--------+----+-----------+------------+----------------+--------+-------+-----+--------------+\n",
      "|  0|   0|         0|          0|       0|      0|         0|           0|           0|     0|  0|       0|   0|          0|           0|               0|       0|      0|    0|             0|\n",
      "+---+----+----------+-----------+--------+-------+----------+------------+------------+------+---+--------+----+-----------+------------+----------------+--------+-------+-----+--------------+\n",
      "\n",
      "+---+---------+------+----+----------+\n",
      "| id|followers|genres|name|popularity|\n",
      "+---+---------+------+----+----------+\n",
      "|  0|        0|     0|   0|         0|\n",
      "+---+---------+------+----+----------+\n",
      "\n"
     ]
    }
   ],
   "metadata": {}
  },
  {
   "cell_type": "code",
   "execution_count": 20,
   "source": [
    "#null values\r\n",
    "tracks_df.select([count(when(col(c).isNull(), c)).alias(c) for c in tracks_df.columns]).show()\r\n",
    "artist_df.select([count(when(col(c).isNull(), c)).alias(c) for c in artist_df.columns]).show()"
   ],
   "outputs": [
    {
     "output_type": "stream",
     "name": "stdout",
     "text": [
      "+---+----+----------+-----------+--------+-------+----------+------------+------------+------+---+--------+----+-----------+------------+----------------+--------+-------+-----+--------------+\n",
      "| id|name|popularity|duration_ms|explicit|artists|id_artists|release_date|danceability|energy|key|loudness|mode|speechiness|acousticness|instrumentalness|liveness|valence|tempo|time_signature|\n",
      "+---+----+----------+-----------+--------+-------+----------+------------+------------+------+---+--------+----+-----------+------------+----------------+--------+-------+-----+--------------+\n",
      "|  0|  71|         0|          0|       0|      0|        12|          12|          12|    12| 12|      12|  12|         12|          12|              12|      12|     12|   12|            12|\n",
      "+---+----+----------+-----------+--------+-------+----------+------------+------------+------+---+--------+----+-----------+------------+----------------+--------+-------+-----+--------------+\n",
      "\n",
      "+---+---------+------+----+----------+\n",
      "| id|followers|genres|name|popularity|\n",
      "+---+---------+------+----+----------+\n",
      "|  0|       13|     0|   0|         0|\n",
      "+---+---------+------+----+----------+\n",
      "\n"
     ]
    }
   ],
   "metadata": {}
  },
  {
   "cell_type": "code",
   "execution_count": 21,
   "source": [
    "artist_df = artist_df.withColumn(\"followers\", artist_df.followers.cast(IntegerType())) \\\r\n",
    "         .withColumn(\"popularity\", artist_df.popularity.cast(IntegerType()))"
   ],
   "outputs": [],
   "metadata": {}
  },
  {
   "cell_type": "code",
   "execution_count": 22,
   "source": [
    "tracks_df = tracks_df.withColumn(\"duration_ms\", tracks_df.duration_ms.cast(IntegerType())) \\\r\n",
    "         .withColumn(\"popularity\", tracks_df.popularity.cast(IntegerType())) \\\r\n",
    "         .withColumn(\"explicit\", tracks_df.explicit.cast(IntegerType())) \\\r\n",
    "         .withColumn(\"release_date\", tracks_df.release_date.cast(DateType())) \\\r\n",
    "         .withColumn(\"danceability\", tracks_df.danceability.cast(FloatType())) \\\r\n",
    "         .withColumn(\"energy\", tracks_df.energy.cast(FloatType())) \\\r\n",
    "         .withColumn(\"key\", tracks_df.key.cast(IntegerType())) \\\r\n",
    "         .withColumn(\"loudness\", tracks_df.loudness.cast(FloatType())) \\\r\n",
    "         .withColumn(\"mode\", tracks_df.mode.cast(IntegerType())) \\\r\n",
    "         .withColumn(\"speechiness\", tracks_df.speechiness.cast(FloatType())) \\\r\n",
    "         .withColumn(\"acousticness\", tracks_df.acousticness.cast(FloatType())) \\\r\n",
    "         .withColumn(\"instrumentalness\", tracks_df.instrumentalness.cast(FloatType())) \\\r\n",
    "         .withColumn(\"liveness\", tracks_df.liveness.cast(FloatType())) \\\r\n",
    "         .withColumn(\"valence\", tracks_df.valence.cast(FloatType())) \\\r\n",
    "         .withColumn(\"tempo\", tracks_df.tempo.cast(FloatType())) \\\r\n",
    "         .withColumn(\"time_signature\", tracks_df.time_signature.cast(IntegerType()))  "
   ],
   "outputs": [],
   "metadata": {}
  },
  {
   "cell_type": "code",
   "execution_count": 23,
   "source": [
    "#null values\r\n",
    "tracks_df.select([count(when(col(c).isNull(), c)).alias(c) for c in tracks_df.columns]).show()\r\n",
    "artist_df.select([count(when(col(c).isNull(), c)).alias(c) for c in artist_df.columns]).show()"
   ],
   "outputs": [
    {
     "output_type": "stream",
     "name": "stdout",
     "text": [
      "+---+----+----------+-----------+--------+-------+----------+------------+------------+------+---+--------+----+-----------+------------+----------------+--------+-------+-----+--------------+\n",
      "| id|name|popularity|duration_ms|explicit|artists|id_artists|release_date|danceability|energy|key|loudness|mode|speechiness|acousticness|instrumentalness|liveness|valence|tempo|time_signature|\n",
      "+---+----+----------+-----------+--------+-------+----------+------------+------------+------+---+--------+----+-----------+------------+----------------+--------+-------+-----+--------------+\n",
      "|  0|  71|      1854|        826|     416|      0|        12|        3309|        2286|   859|430|     268| 160|         91|          64|              45|      34|     27|   23|            55|\n",
      "+---+----+----------+-----------+--------+-------+----------+------------+------------+------+---+--------+----+-----------+------------+----------------+--------+-------+-----+--------------+\n",
      "\n",
      "+---+---------+------+----+----------+\n",
      "| id|followers|genres|name|popularity|\n",
      "+---+---------+------+----+----------+\n",
      "|  0|       13|     0|   0|       531|\n",
      "+---+---------+------+----+----------+\n",
      "\n"
     ]
    }
   ],
   "metadata": {}
  },
  {
   "cell_type": "code",
   "execution_count": 24,
   "source": [
    "tracks_df = tracks_df.filter(col(\"release_date\").isNotNull())\r\n",
    "artist_df= artist_df.withColumn('popularity', coalesce(artist_df['popularity'], lit(0))) \\\r\n",
    "                         .withColumn('followers', coalesce(artist_df['followers'], lit(0)))\r\n"
   ],
   "outputs": [],
   "metadata": {}
  },
  {
   "cell_type": "code",
   "execution_count": 25,
   "source": [
    "#null values\r\n",
    "tracks_df.select([count(when(col(c).isNull(), c)).alias(c) for c in tracks_df.columns]).show()\r\n",
    "artist_df.select([count(when(col(c).isNull(), c)).alias(c) for c in artist_df.columns]).show()"
   ],
   "outputs": [
    {
     "output_type": "stream",
     "name": "stdout",
     "text": [
      "+---+----+----------+-----------+--------+-------+----------+------------+------------+------+---+--------+----+-----------+------------+----------------+--------+-------+-----+--------------+\n",
      "| id|name|popularity|duration_ms|explicit|artists|id_artists|release_date|danceability|energy|key|loudness|mode|speechiness|acousticness|instrumentalness|liveness|valence|tempo|time_signature|\n",
      "+---+----+----------+-----------+--------+-------+----------+------------+------------+------+---+--------+----+-----------+------------+----------------+--------+-------+-----+--------------+\n",
      "|  0|  71|         0|          0|       0|      0|         0|           0|           0|     0|  0|       0|   0|          0|           0|               0|       0|      0|    0|             0|\n",
      "+---+----+----------+-----------+--------+-------+----------+------------+------------+------+---+--------+----+-----------+------------+----------------+--------+-------+-----+--------------+\n",
      "\n",
      "+---+---------+------+----+----------+\n",
      "| id|followers|genres|name|popularity|\n",
      "+---+---------+------+----+----------+\n",
      "|  0|        0|     0|   0|         0|\n",
      "+---+---------+------+----+----------+\n",
      "\n"
     ]
    }
   ],
   "metadata": {}
  },
  {
   "cell_type": "code",
   "execution_count": 26,
   "source": [
    "tracks_df.count()"
   ],
   "outputs": [
    {
     "output_type": "execute_result",
     "data": {
      "text/plain": [
       "583363"
      ]
     },
     "metadata": {},
     "execution_count": 26
    }
   ],
   "metadata": {}
  },
  {
   "cell_type": "code",
   "execution_count": 27,
   "source": [
    "artist_df.count()"
   ],
   "outputs": [
    {
     "output_type": "execute_result",
     "data": {
      "text/plain": [
       "1104349"
      ]
     },
     "metadata": {},
     "execution_count": 27
    }
   ],
   "metadata": {}
  },
  {
   "cell_type": "code",
   "execution_count": 28,
   "source": [
    "import datetime\r\n",
    "\r\n",
    "tracks_df= tracks_df.withColumn('age',F.datediff(F.current_date(), tracks_df.release_date)/365)"
   ],
   "outputs": [],
   "metadata": {}
  },
  {
   "cell_type": "markdown",
   "source": [
    "# Data Integration"
   ],
   "metadata": {}
  },
  {
   "cell_type": "code",
   "execution_count": 29,
   "source": [
    "artist_df = artist_df.withColumn(\r\n",
    "    \"genres\",\r\n",
    "    split(regexp_replace(col(\"genres\"), r\"(^\\[)|(\\]$)|(')\", \"\"), \", \")\r\n",
    ")"
   ],
   "outputs": [],
   "metadata": {}
  },
  {
   "cell_type": "code",
   "execution_count": 30,
   "source": [
    "tracks_df_wk0= tracks_df.withColumn(\r\n",
    "    \"id_artists\",\r\n",
    "    split(regexp_replace(col(\"id_artists\"), r\"(^\\[)|(\\]$)|(')\", \"\"), \", \")\r\n",
    ")\r\n",
    "tracks_df_wk0"
   ],
   "outputs": [
    {
     "output_type": "execute_result",
     "data": {
      "text/plain": [
       "DataFrame[id: string, name: string, popularity: int, duration_ms: int, explicit: int, artists: string, id_artists: array<string>, release_date: date, danceability: float, energy: float, key: int, loudness: float, mode: int, speechiness: float, acousticness: float, instrumentalness: float, liveness: float, valence: float, tempo: float, time_signature: int, age: double]"
      ]
     },
     "metadata": {},
     "execution_count": 30
    }
   ],
   "metadata": {}
  },
  {
   "cell_type": "code",
   "execution_count": 31,
   "source": [
    "windowSpec = Window.partitionBy(\"id_track\") "
   ],
   "outputs": [],
   "metadata": {}
  },
  {
   "cell_type": "code",
   "execution_count": 32,
   "source": [
    "tracks_df_wk1 = tracks_df_wk0.select(col(\"id\").alias(\"id_track\"), \"duration_ms\", col(\"popularity\").alias(\"popularity_track\"),\"explicit\", explode(tracks_df_wk0.id_artists).alias(\"id_artist\"),\"release_date\",\"danceability\",\"energy\",\"key\",\"loudness\",\"mode\", \"speechiness\",\"acousticness\",\"instrumentalness\",\"liveness\",\"valence\",\"tempo\",\"time_signature\",\"age\")\r\n",
    "\r\n",
    "\r\n",
    "\r\n",
    "tracks_df_wk2 = tracks_df_wk1.join(artist_df, tracks_df_wk1.id_artist==artist_df.id,\"left\") \\\r\n",
    "           .withColumn(\"sum_artist_followers\",sum(col(\"followers\")).over(windowSpec)) \\\r\n",
    "           .withColumn(\"sum_artist_popularity\",sum(col(\"popularity\")).over(windowSpec)) \\\r\n",
    "           .withColumn(\"avg_artist_followers\",F.avg(col(\"followers\")).over(windowSpec)) \\\r\n",
    "           .withColumn(\"avg_artist_popularity\",F.avg(col(\"popularity\")).over(windowSpec)) \\\r\n",
    "           .withColumn(\"collect_list_genres\", collect_list(\"genres\").over(windowSpec)) \\\r\n",
    "           .withColumn(\"collect_list_genres\", flatten(col(\"collect_list_genres\"))) \\\r\n",
    "           .withColumn(\"collect_list_genres\", array_distinct(\"collect_list_genres\")) \\\r\n",
    "           .withColumn(\"genres\", array_remove(\"collect_list_genres\", \"\")) \\\r\n",
    "           .drop(\"collect_list_genres\") \\\r\n",
    "           .select(\"id_track\", \"popularity_track\",  \"duration_ms\", \"genres\", \"release_date\",\"danceability\",\"energy\",\"key\",\"loudness\",\"mode\", \"speechiness\",\"acousticness\",\"instrumentalness\",\"liveness\",\"valence\",\"tempo\",\"time_signature\", \"sum_artist_followers\", \"sum_artist_popularity\",\"avg_artist_followers\",\"avg_artist_popularity\",\"age\").distinct()\r\n",
    "\r\n"
   ],
   "outputs": [],
   "metadata": {}
  },
  {
   "cell_type": "code",
   "execution_count": 33,
   "source": [
    "tracks_df_wk2.select(\"genres\").distinct().show(10, truncate=False)"
   ],
   "outputs": [
    {
     "output_type": "stream",
     "name": "stdout",
     "text": [
      "+----------------------------------------------------------------------------------+\n",
      "|genres                                                                            |\n",
      "+----------------------------------------------------------------------------------+\n",
      "|[mariachi, ranchera]                                                              |\n",
      "|[chanson, french jazz, french pop]                                                |\n",
      "|[czech folk, czech rock]                                                          |\n",
      "|[downtempo, new age]                                                              |\n",
      "|[colombian rock, latin, latin alternative, latin pop, latin rock, rock en espanol]|\n",
      "|[peruvian rock, pop peruano, pop reggaeton]                                       |\n",
      "|[adult standards, vocal jazz]                                                     |\n",
      "|[irish country, irish folk]                                                       |\n",
      "|[anime]                                                                           |\n",
      "|[afrobeat, classic soul, funk, jazz funk, psychedelic soul, soul, southern soul]  |\n",
      "+----------------------------------------------------------------------------------+\n",
      "only showing top 10 rows\n",
      "\n"
     ]
    }
   ],
   "metadata": {}
  },
  {
   "cell_type": "code",
   "execution_count": 34,
   "source": [
    "tracks_df_wk2.printSchema()"
   ],
   "outputs": [
    {
     "output_type": "stream",
     "name": "stdout",
     "text": [
      "root\n",
      " |-- id_track: string (nullable = true)\n",
      " |-- popularity_track: integer (nullable = true)\n",
      " |-- duration_ms: integer (nullable = true)\n",
      " |-- genres: array (nullable = true)\n",
      " |    |-- element: string (containsNull = true)\n",
      " |-- release_date: date (nullable = true)\n",
      " |-- danceability: float (nullable = true)\n",
      " |-- energy: float (nullable = true)\n",
      " |-- key: integer (nullable = true)\n",
      " |-- loudness: float (nullable = true)\n",
      " |-- mode: integer (nullable = true)\n",
      " |-- speechiness: float (nullable = true)\n",
      " |-- acousticness: float (nullable = true)\n",
      " |-- instrumentalness: float (nullable = true)\n",
      " |-- liveness: float (nullable = true)\n",
      " |-- valence: float (nullable = true)\n",
      " |-- tempo: float (nullable = true)\n",
      " |-- time_signature: integer (nullable = true)\n",
      " |-- sum_artist_followers: long (nullable = true)\n",
      " |-- sum_artist_popularity: long (nullable = true)\n",
      " |-- avg_artist_followers: double (nullable = true)\n",
      " |-- avg_artist_popularity: double (nullable = true)\n",
      " |-- age: double (nullable = true)\n",
      "\n"
     ]
    }
   ],
   "metadata": {}
  },
  {
   "cell_type": "code",
   "execution_count": 35,
   "source": [
    "tracks_df_wk2.select([count(when(col(c).isNull(), c)).alias(c) for c in tracks_df_wk2.columns]).show()"
   ],
   "outputs": [
    {
     "output_type": "stream",
     "name": "stdout",
     "text": [
      "+--------+----------------+-----------+------+------------+------------+------+---+--------+----+-----------+------------+----------------+--------+-------+-----+--------------+--------------------+---------------------+--------------------+---------------------+---+\n",
      "|id_track|popularity_track|duration_ms|genres|release_date|danceability|energy|key|loudness|mode|speechiness|acousticness|instrumentalness|liveness|valence|tempo|time_signature|sum_artist_followers|sum_artist_popularity|avg_artist_followers|avg_artist_popularity|age|\n",
      "+--------+----------------+-----------+------+------------+------------+------+---+--------+----+-----------+------------+----------------+--------+-------+-----+--------------+--------------------+---------------------+--------------------+---------------------+---+\n",
      "|       0|               0|          0|     0|           0|           0|     0|  0|       0|   0|          0|           0|               0|       0|      0|    0|             0|               11038|                11038|               11038|                11038|  0|\n",
      "+--------+----------------+-----------+------+------------+------------+------+---+--------+----+-----------+------------+----------------+--------+-------+-----+--------------+--------------------+---------------------+--------------------+---------------------+---+\n",
      "\n"
     ]
    }
   ],
   "metadata": {}
  },
  {
   "cell_type": "code",
   "execution_count": 36,
   "source": [
    "df = tracks_df_wk2.withColumn('sum_artist_followers', coalesce(tracks_df_wk2['sum_artist_followers'], lit(0))) \\\r\n",
    "                  .withColumn('sum_artist_popularity', coalesce(tracks_df_wk2['sum_artist_popularity'], lit(0)))\\\r\n",
    "                  .withColumn('avg_artist_followers', coalesce(tracks_df_wk2['avg_artist_followers'], lit(0))) \\\r\n",
    "                  .withColumn('avg_artist_popularity', coalesce(tracks_df_wk2['avg_artist_popularity'], lit(0)))\\"
   ],
   "outputs": [],
   "metadata": {}
  },
  {
   "cell_type": "code",
   "execution_count": 37,
   "source": [
    "df.select([count(when(col(c).isNull(), c)).alias(c) for c in tracks_df_wk2.columns]).show()"
   ],
   "outputs": [
    {
     "output_type": "stream",
     "name": "stdout",
     "text": [
      "+--------+----------------+-----------+------+------------+------------+------+---+--------+----+-----------+------------+----------------+--------+-------+-----+--------------+--------------------+---------------------+--------------------+---------------------+---+\n",
      "|id_track|popularity_track|duration_ms|genres|release_date|danceability|energy|key|loudness|mode|speechiness|acousticness|instrumentalness|liveness|valence|tempo|time_signature|sum_artist_followers|sum_artist_popularity|avg_artist_followers|avg_artist_popularity|age|\n",
      "+--------+----------------+-----------+------+------------+------------+------+---+--------+----+-----------+------------+----------------+--------+-------+-----+--------------+--------------------+---------------------+--------------------+---------------------+---+\n",
      "|       0|               0|          0|     0|           0|           0|     0|  0|       0|   0|          0|           0|               0|       0|      0|    0|             0|                   0|                    0|                   0|                    0|  0|\n",
      "+--------+----------------+-----------+------+------------+------------+------+---+--------+----+-----------+------------+----------------+--------+-------+-----+--------------+--------------------+---------------------+--------------------+---------------------+---+\n",
      "\n"
     ]
    }
   ],
   "metadata": {}
  },
  {
   "cell_type": "code",
   "execution_count": null,
   "source": [],
   "outputs": [],
   "metadata": {}
  },
  {
   "cell_type": "markdown",
   "source": [
    "# Correlation"
   ],
   "metadata": {}
  },
  {
   "cell_type": "code",
   "execution_count": 38,
   "source": [
    "from pyspark.ml import Pipeline\r\n",
    "from pyspark.ml.feature import MinMaxScaler\r\n",
    "from pyspark.ml.feature import VectorAssembler"
   ],
   "outputs": [],
   "metadata": {}
  },
  {
   "cell_type": "code",
   "execution_count": 39,
   "source": [
    "from pyspark.sql import functions as f"
   ],
   "outputs": [],
   "metadata": {}
  },
  {
   "cell_type": "markdown",
   "source": [
    "### Normalization"
   ],
   "metadata": {}
  },
  {
   "cell_type": "code",
   "execution_count": 40,
   "source": [
    "columns_to_scale = [\"popularity_track\",  \"duration_ms\", \"danceability\",\"energy\", \"loudness\", \"speechiness\",\"acousticness\",\"instrumentalness\",\"liveness\",\"valence\",\"tempo\",\"time_signature\", \"sum_artist_followers\", \"sum_artist_popularity\",\"age\"]\r\n",
    "assemblers = [VectorAssembler(inputCols=[col], outputCol=col + \"_vec\") for col in columns_to_scale]\r\n",
    "scalers = [MinMaxScaler(inputCol=col + \"_vec\", outputCol=col + \"_scaled\") for col in columns_to_scale]\r\n",
    "pipeline = Pipeline(stages=assemblers + scalers)\r\n",
    "scalerModel = pipeline.fit(df)\r\n",
    "enriched_df = scalerModel.transform(df)"
   ],
   "outputs": [],
   "metadata": {}
  },
  {
   "cell_type": "code",
   "execution_count": 52,
   "source": [
    "\r\n",
    "names = {x + \"_scaled\": x for x in columns_to_scale}\r\n",
    "scaledData = enriched_df.select([f.col(c).alias(names[c]) for c in names.keys()])"
   ],
   "outputs": [],
   "metadata": {}
  },
  {
   "cell_type": "code",
   "execution_count": 53,
   "source": [
    "scaledData.show()"
   ],
   "outputs": [
    {
     "output_type": "stream",
     "name": "stdout",
     "text": [
      "+--------------------+--------------------+--------------------+--------------------+--------------------+--------------------+--------------------+--------------------+--------------------+--------------------+--------------------+--------------------+--------------------+---------------------+--------------------+\n",
      "|    popularity_track|         duration_ms|        danceability|              energy|            loudness|         speechiness|        acousticness|    instrumentalness|            liveness|             valence|               tempo|      time_signature|sum_artist_followers|sum_artist_popularity|                 age|\n",
      "+--------------------+--------------------+--------------------+--------------------+--------------------+--------------------+--------------------+--------------------+--------------------+--------------------+--------------------+--------------------+--------------------+---------------------+--------------------+\n",
      "|               [0.0]|[0.3012114547246877]|[0.6125126088483968]|[0.48399999737739...|[0.7306350931069846]|[0.9876415817464185]|[0.9939759212792594]|[2.70000000455183...|[0.3840000033378601]| [0.453000009059906]|[0.28224174102339...|               [0.8]|[4.47946924791007...| [0.01179673321234...|[0.6825733634311512]|\n",
      "|              [0.58]|[0.03591518784508...|[0.7991927329728145]|[0.7639999985694885]|[0.8077887910139419]|[0.26158599792998...|[0.10441767368694...|               [0.0]|[0.09560000151395...| [0.531000018119812]|[0.5479156428585806]|               [0.8]|[0.00383288450098...| [0.01905626134301...|[0.01106094808126...|\n",
      "|              [0.07]|[0.04171738276792...|[0.5227043475483696]|[0.9480000138282776]|[0.8498684522133216]|[0.1266735338868974]|[0.01947791237961...|[1.03999998827930...|[0.5419999957084656]|[0.5410000085830688]|[0.36755674877259...|               [0.8]|[1.67943892136209...| [0.01028433151845...|[0.25182844243792...|\n",
      "|              [0.21]|[0.04525359593326...|[0.7053481365368595]| [0.746999979019165]|[0.7782672566515104]|[0.04737384072497...|[0.3102409517784656]|[0.00130000000353...|[0.08209999650716...|[0.9049999713897705]|[0.6486538994508209]|               [0.8]|[3.35750587664520...| [0.01361161524500...|[0.21252821670428...|\n",
      "|              [0.12]|[0.03870788130883...|[0.41977801209306...|[0.7210000157356262]|[0.7336331367223698]|[0.06168898014490...|[0.6104417524076896]|[0.00559999980032...|[0.5960000157356262]|[0.8579999804496765]|[0.5561062314108192]|               [0.8]|[1.51091575465920...| [0.00635208711433...| [0.357607223476298]|\n",
      "|               [0.1]|[0.06785467242590...|[0.3400605585598796]|[0.7419999837875366]|[0.8217541622178045]|[0.02996910441475...|[0.5622490029537214]| [0.781000018119812]|[0.15000000596046...|[0.25600001215934...|[0.4588056785157454]|               [0.8]|[1.16967730267871...| [0.00846944948578...|[0.3486681715575621]|\n",
      "|              [0.34]|[0.04405296380801...|[0.5761856527710055]|[0.5720000267028809]|[0.8138307633182191]|[0.03171987573014...|[0.4638554379095239]|               [0.0]|[0.25099998712539...| [0.460999995470047]|[0.6093814108965695]|               [0.8]|[9.50467611390821...| [0.00816696914700...|[0.15902934537246...|\n",
      "|               [0.0]|[0.02455786655236...|[0.7013118014009317]|[0.11900000274181...|[0.6201205398182331]|[0.23069001368083...|[0.9939759212792594]|[1.90999999176710...|[0.10400000214576...|[0.6930000185966492]|[0.5279506032919785]|               [0.8]|[2.68905351482503...| [0.00695704779189...| [0.748803611738149]|\n",
      "|[0.47000000000000...|[0.06235864314507...|[0.6064581362174845]|[0.7889999747276306]|[0.7842327538332763]|[0.0629248173663992]|[5.98393577200014...|[0.10400000214576...|[0.24799999594688...|[0.9229999780654907]|[0.6350286821093312]|               [0.8]|[2.58996707578669...| [0.01119177253478...|[0.33216704288939...|\n",
      "|              [0.37]|[0.02724927614966...|[0.34409686362282...|[0.9639999866485596]|[0.8362854857970745]|[0.11019567357452...|[1.26506029600617...|[1.02999998489394...|[0.1509999930858612]|[0.45899999141693...|[0.6177099832319977]|               [0.8]|[0.09533101726658...| [0.02540834845735...|[0.2436794582392776]|\n",
      "|               [0.3]|[0.08530629202434...|[0.9192734777193206]|[0.5370000004768372]|[0.8223201218869766]|[0.08032955751317...|[0.01174698772874...|[0.00255999993532...|[0.04340000078082...|[0.0934000015258789]| [0.507311839943766]|               [0.8]|[0.01002983424081...| [0.03781004234724...|[0.09970654627539...|\n",
      "|              [0.38]|[0.05633732618424...|[0.21897073002939...|[0.13899999856948...| [0.705549444069622]|[0.03903192605193...|[0.9588353324128924]|[0.3059999942779541]|[0.08420000225305...|[0.11900000274181...|[0.47711067036398...|               [0.8]|[7.00358195190513...| [0.01966122202056...|[0.15902934537246...|\n",
      "|              [0.13]|[0.02120428475255...|[0.4217961796610306]|[0.9580000042915344]| [0.827964394379136]|[0.0514933058030676]|[0.00108433731621...|               [0.0]|[0.23899999260902...|[0.7310000061988831]|[0.5059075390982438]|               [0.8]|[8.47051857169886...| [0.01663641863278...|[0.20851015801354...|\n",
      "|              [0.05]|[0.02436562300970...|[0.5176589436649495]|[0.3970000147819519]|[0.7620686514074935]|[0.07188465065018...|[0.9718875528445151]|[3.23999993270263...|[0.1860000044107437]|[0.6899999976158142]|[0.29415417582094...|[0.6000000000000001]|[8.41198135232852...| [0.01361161524500...| [0.552076749435666]|\n",
      "|              [0.59]|[0.07461292296694...|               [0.0]|[0.01630000025033...| [0.544251704200878]|               [0.0]|[0.7309236858866315]|[0.32600000500679...|[0.11100000143051...|               [0.0]|               [0.0]|               [0.0]|[9.26000882982124...| [0.01875378100423...|[0.09641083521444...|\n",
      "|              [0.18]|[0.0398946291782265]|[0.5701311801400932]|[0.5429999828338623]|[0.7122950385573563]|[0.02543769359615...|[0.3955823263130512]|[0.00781999994069...|[0.20600000023841...|[0.7210000157356262]|[0.40494193130847...|               [0.8]|[1.12653659152817...| [0.00725952813067...|[0.3156884875846501]|\n",
      "|              [0.49]|[0.02812807834422...|[0.4419777951947108]|[0.8080000281333923]|[0.8287291966606023]|[0.34912459439224...|[0.00159638555501...|               [0.0]|[0.14499999582767...| [0.746999979019165]|[0.7302876571709919]|               [0.8]|[0.00324686443440...| [0.02087114337568...|[0.04092550790067...|\n",
      "|               [0.5]|[0.05444105723980...|[0.7295660872064674]| [0.703000009059906]|[0.7725312067185726]|[0.03274974391794...|[0.02730923753211...|[0.31299999356269...|[0.09790000319480...|[0.7670000195503235]|[0.5265219632961898]|               [0.8]|[0.00223536719860...| [0.01663641863278...|[0.14923250564334...|\n",
      "|              [0.31]|[0.03264597960011...|[0.6710393781004114]|[0.7910000085830688]|[0.8340828418059247]|[0.03120494355452...|[0.03142570391679...|[1.82999996468424...|[0.3449999988079071]| [0.703000009059906]|[0.4383414386419621]|               [0.8]|[1.72715285277594...| [0.02389594676346...|[0.02467268623024...|\n",
      "|              [0.14]|[0.08304013226355...|[0.2734611491089888]|[0.8479999899864197]|[0.7588258728125425]|[0.07981462341927...|[0.00442771093192...|[0.6299999952316284]|[0.11299999803304...|[0.38499999046325...|[0.6436332220111385]|               [0.8]|[1.79879997023443...| [0.00907441016333...|[0.38164785553047...|\n",
      "+--------------------+--------------------+--------------------+--------------------+--------------------+--------------------+--------------------+--------------------+--------------------+--------------------+--------------------+--------------------+--------------------+---------------------+--------------------+\n",
      "only showing top 20 rows\n",
      "\n"
     ]
    }
   ],
   "metadata": {}
  },
  {
   "cell_type": "code",
   "execution_count": 52,
   "source": [
    "scaledData.printSchema()"
   ],
   "outputs": [
    {
     "output_type": "stream",
     "name": "stdout",
     "text": [
      "root\n",
      " |-- popularity_track: vector (nullable = true)\n",
      " |-- duration_ms: vector (nullable = true)\n",
      " |-- danceability: vector (nullable = true)\n",
      " |-- energy: vector (nullable = true)\n",
      " |-- loudness: vector (nullable = true)\n",
      " |-- speechiness: vector (nullable = true)\n",
      " |-- acousticness: vector (nullable = true)\n",
      " |-- instrumentalness: vector (nullable = true)\n",
      " |-- liveness: vector (nullable = true)\n",
      " |-- valence: vector (nullable = true)\n",
      " |-- tempo: vector (nullable = true)\n",
      " |-- time_signature: vector (nullable = true)\n",
      " |-- sum_artist_followers: vector (nullable = true)\n",
      " |-- sum_artist_popularity: vector (nullable = true)\n",
      "\n"
     ]
    }
   ],
   "metadata": {}
  },
  {
   "cell_type": "markdown",
   "source": [
    "CORRELATION"
   ],
   "metadata": {}
  },
  {
   "cell_type": "code",
   "execution_count": 1,
   "source": [
    "from pyspark.ml.stat import Correlation"
   ],
   "outputs": [],
   "metadata": {}
  },
  {
   "cell_type": "code",
   "execution_count": 2,
   "source": [
    "import pandas as pd"
   ],
   "outputs": [],
   "metadata": {}
  },
  {
   "cell_type": "code",
   "execution_count": 56,
   "source": [
    "vector_col = \"corr_features\"\r\n",
    "assembler = VectorAssembler(inputCols=scaledData.columns, outputCol=vector_col)\r\n",
    "df_vector = assembler.transform(scaledData).select(vector_col)\r\n",
    "\r\n",
    "\r\n",
    "matrix = Correlation.corr(df_vector, vector_col)\r\n",
    "corrmatrix = matrix.collect()[0][\"pearson({})\".format(vector_col)].values"
   ],
   "outputs": [],
   "metadata": {}
  },
  {
   "cell_type": "code",
   "execution_count": 57,
   "source": [
    "pd.DataFrame(corrmatrix.reshape(-1, len(scaledData.columns)), columns=scaledData.columns, index=scaledData.columns)"
   ],
   "outputs": [
    {
     "output_type": "execute_result",
     "data": {
      "text/html": [
       "<div>\n",
       "<style scoped>\n",
       "    .dataframe tbody tr th:only-of-type {\n",
       "        vertical-align: middle;\n",
       "    }\n",
       "\n",
       "    .dataframe tbody tr th {\n",
       "        vertical-align: top;\n",
       "    }\n",
       "\n",
       "    .dataframe thead th {\n",
       "        text-align: right;\n",
       "    }\n",
       "</style>\n",
       "<table border=\"1\" class=\"dataframe\">\n",
       "  <thead>\n",
       "    <tr style=\"text-align: right;\">\n",
       "      <th></th>\n",
       "      <th>popularity_track</th>\n",
       "      <th>duration_ms</th>\n",
       "      <th>danceability</th>\n",
       "      <th>energy</th>\n",
       "      <th>loudness</th>\n",
       "      <th>speechiness</th>\n",
       "      <th>acousticness</th>\n",
       "      <th>instrumentalness</th>\n",
       "      <th>liveness</th>\n",
       "      <th>valence</th>\n",
       "      <th>tempo</th>\n",
       "      <th>time_signature</th>\n",
       "      <th>sum_artist_followers</th>\n",
       "      <th>sum_artist_popularity</th>\n",
       "      <th>age</th>\n",
       "    </tr>\n",
       "  </thead>\n",
       "  <tbody>\n",
       "    <tr>\n",
       "      <th>popularity_track</th>\n",
       "      <td>1.000000</td>\n",
       "      <td>0.028081</td>\n",
       "      <td>0.182430</td>\n",
       "      <td>0.298590</td>\n",
       "      <td>0.324094</td>\n",
       "      <td>-0.048209</td>\n",
       "      <td>-0.367301</td>\n",
       "      <td>-0.237153</td>\n",
       "      <td>-0.048200</td>\n",
       "      <td>-0.001050</td>\n",
       "      <td>0.069310</td>\n",
       "      <td>0.085550</td>\n",
       "      <td>0.238490</td>\n",
       "      <td>0.298819</td>\n",
       "      <td>-0.588227</td>\n",
       "    </tr>\n",
       "    <tr>\n",
       "      <th>duration_ms</th>\n",
       "      <td>0.028081</td>\n",
       "      <td>1.000000</td>\n",
       "      <td>-0.120047</td>\n",
       "      <td>0.025354</td>\n",
       "      <td>0.000329</td>\n",
       "      <td>-0.126162</td>\n",
       "      <td>-0.065286</td>\n",
       "      <td>0.068597</td>\n",
       "      <td>0.002507</td>\n",
       "      <td>-0.163324</td>\n",
       "      <td>-0.000705</td>\n",
       "      <td>0.037696</td>\n",
       "      <td>0.026750</td>\n",
       "      <td>0.067169</td>\n",
       "      <td>-0.054804</td>\n",
       "    </tr>\n",
       "    <tr>\n",
       "      <th>danceability</th>\n",
       "      <td>0.182430</td>\n",
       "      <td>-0.120047</td>\n",
       "      <td>1.000000</td>\n",
       "      <td>0.235541</td>\n",
       "      <td>0.244946</td>\n",
       "      <td>0.198637</td>\n",
       "      <td>-0.237201</td>\n",
       "      <td>-0.225120</td>\n",
       "      <td>-0.106398</td>\n",
       "      <td>0.524472</td>\n",
       "      <td>-0.044804</td>\n",
       "      <td>0.144939</td>\n",
       "      <td>0.035361</td>\n",
       "      <td>-0.019843</td>\n",
       "      <td>-0.221852</td>\n",
       "    </tr>\n",
       "    <tr>\n",
       "      <th>energy</th>\n",
       "      <td>0.298590</td>\n",
       "      <td>0.025354</td>\n",
       "      <td>0.235541</td>\n",
       "      <td>1.000000</td>\n",
       "      <td>0.763324</td>\n",
       "      <td>-0.054681</td>\n",
       "      <td>-0.713503</td>\n",
       "      <td>-0.196341</td>\n",
       "      <td>0.125956</td>\n",
       "      <td>0.367742</td>\n",
       "      <td>0.228457</td>\n",
       "      <td>0.188273</td>\n",
       "      <td>0.088351</td>\n",
       "      <td>0.005348</td>\n",
       "      <td>-0.457160</td>\n",
       "    </tr>\n",
       "    <tr>\n",
       "      <th>loudness</th>\n",
       "      <td>0.324094</td>\n",
       "      <td>0.000329</td>\n",
       "      <td>0.244946</td>\n",
       "      <td>0.763324</td>\n",
       "      <td>1.000000</td>\n",
       "      <td>-0.169364</td>\n",
       "      <td>-0.516493</td>\n",
       "      <td>-0.330341</td>\n",
       "      <td>0.030301</td>\n",
       "      <td>0.269785</td>\n",
       "      <td>0.187479</td>\n",
       "      <td>0.163391</td>\n",
       "      <td>0.116417</td>\n",
       "      <td>-0.021696</td>\n",
       "      <td>-0.445246</td>\n",
       "    </tr>\n",
       "    <tr>\n",
       "      <th>speechiness</th>\n",
       "      <td>-0.048209</td>\n",
       "      <td>-0.126162</td>\n",
       "      <td>0.198637</td>\n",
       "      <td>-0.054681</td>\n",
       "      <td>-0.169364</td>\n",
       "      <td>1.000000</td>\n",
       "      <td>0.070350</td>\n",
       "      <td>-0.102147</td>\n",
       "      <td>0.207660</td>\n",
       "      <td>0.045526</td>\n",
       "      <td>-0.087689</td>\n",
       "      <td>-0.115037</td>\n",
       "      <td>-0.020422</td>\n",
       "      <td>0.053293</td>\n",
       "      <td>0.082604</td>\n",
       "    </tr>\n",
       "    <tr>\n",
       "      <th>acousticness</th>\n",
       "      <td>-0.367301</td>\n",
       "      <td>-0.065286</td>\n",
       "      <td>-0.237201</td>\n",
       "      <td>-0.713503</td>\n",
       "      <td>-0.516493</td>\n",
       "      <td>0.070350</td>\n",
       "      <td>1.000000</td>\n",
       "      <td>0.204924</td>\n",
       "      <td>-0.005490</td>\n",
       "      <td>-0.175230</td>\n",
       "      <td>-0.193245</td>\n",
       "      <td>-0.173144</td>\n",
       "      <td>-0.109548</td>\n",
       "      <td>-0.023411</td>\n",
       "      <td>0.524210</td>\n",
       "    </tr>\n",
       "    <tr>\n",
       "      <th>instrumentalness</th>\n",
       "      <td>-0.237153</td>\n",
       "      <td>0.068597</td>\n",
       "      <td>-0.225120</td>\n",
       "      <td>-0.196341</td>\n",
       "      <td>-0.330341</td>\n",
       "      <td>-0.102147</td>\n",
       "      <td>0.204924</td>\n",
       "      <td>1.000000</td>\n",
       "      <td>-0.038537</td>\n",
       "      <td>-0.174835</td>\n",
       "      <td>-0.055352</td>\n",
       "      <td>-0.042454</td>\n",
       "      <td>-0.050270</td>\n",
       "      <td>0.005374</td>\n",
       "      <td>0.222705</td>\n",
       "    </tr>\n",
       "    <tr>\n",
       "      <th>liveness</th>\n",
       "      <td>-0.048200</td>\n",
       "      <td>0.002507</td>\n",
       "      <td>-0.106398</td>\n",
       "      <td>0.125956</td>\n",
       "      <td>0.030301</td>\n",
       "      <td>0.207660</td>\n",
       "      <td>-0.005490</td>\n",
       "      <td>-0.038537</td>\n",
       "      <td>1.000000</td>\n",
       "      <td>0.000301</td>\n",
       "      <td>-0.014603</td>\n",
       "      <td>-0.023988</td>\n",
       "      <td>0.001988</td>\n",
       "      <td>0.028340</td>\n",
       "      <td>0.019961</td>\n",
       "    </tr>\n",
       "    <tr>\n",
       "      <th>valence</th>\n",
       "      <td>-0.001050</td>\n",
       "      <td>-0.163324</td>\n",
       "      <td>0.524472</td>\n",
       "      <td>0.367742</td>\n",
       "      <td>0.269785</td>\n",
       "      <td>0.045526</td>\n",
       "      <td>-0.175230</td>\n",
       "      <td>-0.174835</td>\n",
       "      <td>0.000301</td>\n",
       "      <td>1.000000</td>\n",
       "      <td>0.132874</td>\n",
       "      <td>0.103954</td>\n",
       "      <td>-0.033620</td>\n",
       "      <td>-0.101226</td>\n",
       "      <td>0.031699</td>\n",
       "    </tr>\n",
       "    <tr>\n",
       "      <th>tempo</th>\n",
       "      <td>0.069310</td>\n",
       "      <td>-0.000705</td>\n",
       "      <td>-0.044804</td>\n",
       "      <td>0.228457</td>\n",
       "      <td>0.187479</td>\n",
       "      <td>-0.087689</td>\n",
       "      <td>-0.193245</td>\n",
       "      <td>-0.055352</td>\n",
       "      <td>-0.014603</td>\n",
       "      <td>0.132874</td>\n",
       "      <td>1.000000</td>\n",
       "      <td>0.031023</td>\n",
       "      <td>0.011334</td>\n",
       "      <td>-0.035070</td>\n",
       "      <td>-0.118269</td>\n",
       "    </tr>\n",
       "    <tr>\n",
       "      <th>time_signature</th>\n",
       "      <td>0.085550</td>\n",
       "      <td>0.037696</td>\n",
       "      <td>0.144939</td>\n",
       "      <td>0.188273</td>\n",
       "      <td>0.163391</td>\n",
       "      <td>-0.115037</td>\n",
       "      <td>-0.173144</td>\n",
       "      <td>-0.042454</td>\n",
       "      <td>-0.023988</td>\n",
       "      <td>0.103954</td>\n",
       "      <td>0.031023</td>\n",
       "      <td>1.000000</td>\n",
       "      <td>0.028571</td>\n",
       "      <td>-0.004524</td>\n",
       "      <td>-0.115182</td>\n",
       "    </tr>\n",
       "    <tr>\n",
       "      <th>sum_artist_followers</th>\n",
       "      <td>0.238490</td>\n",
       "      <td>0.026750</td>\n",
       "      <td>0.035361</td>\n",
       "      <td>0.088351</td>\n",
       "      <td>0.116417</td>\n",
       "      <td>-0.020422</td>\n",
       "      <td>-0.109548</td>\n",
       "      <td>-0.050270</td>\n",
       "      <td>0.001988</td>\n",
       "      <td>-0.033620</td>\n",
       "      <td>0.011334</td>\n",
       "      <td>0.028571</td>\n",
       "      <td>1.000000</td>\n",
       "      <td>0.370288</td>\n",
       "      <td>-0.132684</td>\n",
       "    </tr>\n",
       "    <tr>\n",
       "      <th>sum_artist_popularity</th>\n",
       "      <td>0.298819</td>\n",
       "      <td>0.067169</td>\n",
       "      <td>-0.019843</td>\n",
       "      <td>0.005348</td>\n",
       "      <td>-0.021696</td>\n",
       "      <td>0.053293</td>\n",
       "      <td>-0.023411</td>\n",
       "      <td>0.005374</td>\n",
       "      <td>0.028340</td>\n",
       "      <td>-0.101226</td>\n",
       "      <td>-0.035070</td>\n",
       "      <td>-0.004524</td>\n",
       "      <td>0.370288</td>\n",
       "      <td>1.000000</td>\n",
       "      <td>-0.127620</td>\n",
       "    </tr>\n",
       "    <tr>\n",
       "      <th>age</th>\n",
       "      <td>-0.588227</td>\n",
       "      <td>-0.054804</td>\n",
       "      <td>-0.221852</td>\n",
       "      <td>-0.457160</td>\n",
       "      <td>-0.445246</td>\n",
       "      <td>0.082604</td>\n",
       "      <td>0.524210</td>\n",
       "      <td>0.222705</td>\n",
       "      <td>0.019961</td>\n",
       "      <td>0.031699</td>\n",
       "      <td>-0.118269</td>\n",
       "      <td>-0.115182</td>\n",
       "      <td>-0.132684</td>\n",
       "      <td>-0.127620</td>\n",
       "      <td>1.000000</td>\n",
       "    </tr>\n",
       "  </tbody>\n",
       "</table>\n",
       "</div>"
      ],
      "text/plain": [
       "                       popularity_track  duration_ms  danceability    energy  \\\n",
       "popularity_track               1.000000     0.028081      0.182430  0.298590   \n",
       "duration_ms                    0.028081     1.000000     -0.120047  0.025354   \n",
       "danceability                   0.182430    -0.120047      1.000000  0.235541   \n",
       "energy                         0.298590     0.025354      0.235541  1.000000   \n",
       "loudness                       0.324094     0.000329      0.244946  0.763324   \n",
       "speechiness                   -0.048209    -0.126162      0.198637 -0.054681   \n",
       "acousticness                  -0.367301    -0.065286     -0.237201 -0.713503   \n",
       "instrumentalness              -0.237153     0.068597     -0.225120 -0.196341   \n",
       "liveness                      -0.048200     0.002507     -0.106398  0.125956   \n",
       "valence                       -0.001050    -0.163324      0.524472  0.367742   \n",
       "tempo                          0.069310    -0.000705     -0.044804  0.228457   \n",
       "time_signature                 0.085550     0.037696      0.144939  0.188273   \n",
       "sum_artist_followers           0.238490     0.026750      0.035361  0.088351   \n",
       "sum_artist_popularity          0.298819     0.067169     -0.019843  0.005348   \n",
       "age                           -0.588227    -0.054804     -0.221852 -0.457160   \n",
       "\n",
       "                       loudness  speechiness  acousticness  instrumentalness  \\\n",
       "popularity_track       0.324094    -0.048209     -0.367301         -0.237153   \n",
       "duration_ms            0.000329    -0.126162     -0.065286          0.068597   \n",
       "danceability           0.244946     0.198637     -0.237201         -0.225120   \n",
       "energy                 0.763324    -0.054681     -0.713503         -0.196341   \n",
       "loudness               1.000000    -0.169364     -0.516493         -0.330341   \n",
       "speechiness           -0.169364     1.000000      0.070350         -0.102147   \n",
       "acousticness          -0.516493     0.070350      1.000000          0.204924   \n",
       "instrumentalness      -0.330341    -0.102147      0.204924          1.000000   \n",
       "liveness               0.030301     0.207660     -0.005490         -0.038537   \n",
       "valence                0.269785     0.045526     -0.175230         -0.174835   \n",
       "tempo                  0.187479    -0.087689     -0.193245         -0.055352   \n",
       "time_signature         0.163391    -0.115037     -0.173144         -0.042454   \n",
       "sum_artist_followers   0.116417    -0.020422     -0.109548         -0.050270   \n",
       "sum_artist_popularity -0.021696     0.053293     -0.023411          0.005374   \n",
       "age                   -0.445246     0.082604      0.524210          0.222705   \n",
       "\n",
       "                       liveness   valence     tempo  time_signature  \\\n",
       "popularity_track      -0.048200 -0.001050  0.069310        0.085550   \n",
       "duration_ms            0.002507 -0.163324 -0.000705        0.037696   \n",
       "danceability          -0.106398  0.524472 -0.044804        0.144939   \n",
       "energy                 0.125956  0.367742  0.228457        0.188273   \n",
       "loudness               0.030301  0.269785  0.187479        0.163391   \n",
       "speechiness            0.207660  0.045526 -0.087689       -0.115037   \n",
       "acousticness          -0.005490 -0.175230 -0.193245       -0.173144   \n",
       "instrumentalness      -0.038537 -0.174835 -0.055352       -0.042454   \n",
       "liveness               1.000000  0.000301 -0.014603       -0.023988   \n",
       "valence                0.000301  1.000000  0.132874        0.103954   \n",
       "tempo                 -0.014603  0.132874  1.000000        0.031023   \n",
       "time_signature        -0.023988  0.103954  0.031023        1.000000   \n",
       "sum_artist_followers   0.001988 -0.033620  0.011334        0.028571   \n",
       "sum_artist_popularity  0.028340 -0.101226 -0.035070       -0.004524   \n",
       "age                    0.019961  0.031699 -0.118269       -0.115182   \n",
       "\n",
       "                       sum_artist_followers  sum_artist_popularity       age  \n",
       "popularity_track                   0.238490               0.298819 -0.588227  \n",
       "duration_ms                        0.026750               0.067169 -0.054804  \n",
       "danceability                       0.035361              -0.019843 -0.221852  \n",
       "energy                             0.088351               0.005348 -0.457160  \n",
       "loudness                           0.116417              -0.021696 -0.445246  \n",
       "speechiness                       -0.020422               0.053293  0.082604  \n",
       "acousticness                      -0.109548              -0.023411  0.524210  \n",
       "instrumentalness                  -0.050270               0.005374  0.222705  \n",
       "liveness                           0.001988               0.028340  0.019961  \n",
       "valence                           -0.033620              -0.101226  0.031699  \n",
       "tempo                              0.011334              -0.035070 -0.118269  \n",
       "time_signature                     0.028571              -0.004524 -0.115182  \n",
       "sum_artist_followers               1.000000               0.370288 -0.132684  \n",
       "sum_artist_popularity              0.370288               1.000000 -0.127620  \n",
       "age                               -0.132684              -0.127620  1.000000  "
      ]
     },
     "metadata": {},
     "execution_count": 57
    }
   ],
   "metadata": {}
  },
  {
   "cell_type": "markdown",
   "source": [
    "# Correlation filtered dataframe"
   ],
   "metadata": {}
  },
  {
   "cell_type": "code",
   "execution_count": 59,
   "source": [
    "from pyspark.sql.functions import col\r\n",
    "df1=df.where(col('popularity_track')>40)"
   ],
   "outputs": [],
   "metadata": {}
  },
  {
   "cell_type": "code",
   "execution_count": 60,
   "source": [
    "dates = (\"2015-01-01\",  \"2021-01-01\")\r\n",
    "df2=df1.where(col('release_date').between(*dates))"
   ],
   "outputs": [],
   "metadata": {}
  },
  {
   "cell_type": "code",
   "execution_count": 61,
   "source": [
    "df2.count()"
   ],
   "outputs": [
    {
     "output_type": "execute_result",
     "data": {
      "text/plain": [
       "43512"
      ]
     },
     "metadata": {},
     "execution_count": 61
    }
   ],
   "metadata": {}
  },
  {
   "cell_type": "code",
   "execution_count": 62,
   "source": [
    "columns_to_scale = [\"popularity_track\",  \"duration_ms\", \"danceability\",\"energy\", \"loudness\", \"speechiness\",\"acousticness\",\"instrumentalness\",\"liveness\",\"valence\",\"tempo\",\"time_signature\", \"sum_artist_followers\", \"sum_artist_popularity\",\"age\"]\r\n",
    "assemblers = [VectorAssembler(inputCols=[col], outputCol=col + \"_vec\") for col in columns_to_scale]\r\n",
    "scalers = [MinMaxScaler(inputCol=col + \"_vec\", outputCol=col + \"_scaled\") for col in columns_to_scale]\r\n",
    "pipeline = Pipeline(stages=assemblers + scalers)\r\n",
    "scalerModel = pipeline.fit(df2)\r\n",
    "enriched_df = scalerModel.transform(df2)"
   ],
   "outputs": [],
   "metadata": {}
  },
  {
   "cell_type": "code",
   "execution_count": 63,
   "source": [
    "names = {x + \"_scaled\": x for x in columns_to_scale}\r\n",
    "scaledData1 = enriched_df.select([f.col(c).alias(names[c]) for c in names.keys()])"
   ],
   "outputs": [],
   "metadata": {}
  },
  {
   "cell_type": "code",
   "execution_count": 64,
   "source": [
    "vector_col = \"corr_features\"\r\n",
    "assembler = VectorAssembler(inputCols=scaledData1.columns, outputCol=vector_col)\r\n",
    "df_vector = assembler.transform(scaledData1).select(vector_col)\r\n",
    "\r\n",
    "\r\n",
    "matrix = Correlation.corr(df_vector, vector_col)\r\n",
    "corrmatrix = matrix.collect()[0][\"pearson({})\".format(vector_col)].values"
   ],
   "outputs": [],
   "metadata": {}
  },
  {
   "cell_type": "code",
   "execution_count": 65,
   "source": [
    "pd.DataFrame(corrmatrix.reshape(-1, len(scaledData1.columns)), columns=scaledData1.columns, index=scaledData1.columns)"
   ],
   "outputs": [
    {
     "output_type": "execute_result",
     "data": {
      "text/html": [
       "<div>\n",
       "<style scoped>\n",
       "    .dataframe tbody tr th:only-of-type {\n",
       "        vertical-align: middle;\n",
       "    }\n",
       "\n",
       "    .dataframe tbody tr th {\n",
       "        vertical-align: top;\n",
       "    }\n",
       "\n",
       "    .dataframe thead th {\n",
       "        text-align: right;\n",
       "    }\n",
       "</style>\n",
       "<table border=\"1\" class=\"dataframe\">\n",
       "  <thead>\n",
       "    <tr style=\"text-align: right;\">\n",
       "      <th></th>\n",
       "      <th>popularity_track</th>\n",
       "      <th>duration_ms</th>\n",
       "      <th>danceability</th>\n",
       "      <th>energy</th>\n",
       "      <th>loudness</th>\n",
       "      <th>speechiness</th>\n",
       "      <th>acousticness</th>\n",
       "      <th>instrumentalness</th>\n",
       "      <th>liveness</th>\n",
       "      <th>valence</th>\n",
       "      <th>tempo</th>\n",
       "      <th>time_signature</th>\n",
       "      <th>sum_artist_followers</th>\n",
       "      <th>sum_artist_popularity</th>\n",
       "      <th>age</th>\n",
       "    </tr>\n",
       "  </thead>\n",
       "  <tbody>\n",
       "    <tr>\n",
       "      <th>popularity_track</th>\n",
       "      <td>1.000000</td>\n",
       "      <td>-0.063758</td>\n",
       "      <td>0.058898</td>\n",
       "      <td>-0.035807</td>\n",
       "      <td>0.054327</td>\n",
       "      <td>0.022227</td>\n",
       "      <td>-0.025542</td>\n",
       "      <td>-0.022962</td>\n",
       "      <td>-0.014753</td>\n",
       "      <td>-0.030491</td>\n",
       "      <td>-0.002092</td>\n",
       "      <td>-0.006934</td>\n",
       "      <td>0.366034</td>\n",
       "      <td>0.262075</td>\n",
       "      <td>-0.207639</td>\n",
       "    </tr>\n",
       "    <tr>\n",
       "      <th>duration_ms</th>\n",
       "      <td>-0.063758</td>\n",
       "      <td>1.000000</td>\n",
       "      <td>-0.174810</td>\n",
       "      <td>0.009745</td>\n",
       "      <td>0.058064</td>\n",
       "      <td>-0.118995</td>\n",
       "      <td>0.008331</td>\n",
       "      <td>-0.073686</td>\n",
       "      <td>0.032909</td>\n",
       "      <td>-0.101910</td>\n",
       "      <td>0.010779</td>\n",
       "      <td>0.000298</td>\n",
       "      <td>0.067448</td>\n",
       "      <td>0.169288</td>\n",
       "      <td>0.157838</td>\n",
       "    </tr>\n",
       "    <tr>\n",
       "      <th>danceability</th>\n",
       "      <td>0.058898</td>\n",
       "      <td>-0.174810</td>\n",
       "      <td>1.000000</td>\n",
       "      <td>0.160955</td>\n",
       "      <td>0.229642</td>\n",
       "      <td>0.224786</td>\n",
       "      <td>-0.207106</td>\n",
       "      <td>-0.175529</td>\n",
       "      <td>-0.115868</td>\n",
       "      <td>0.417518</td>\n",
       "      <td>-0.058508</td>\n",
       "      <td>0.211214</td>\n",
       "      <td>0.043887</td>\n",
       "      <td>0.120018</td>\n",
       "      <td>-0.164479</td>\n",
       "    </tr>\n",
       "    <tr>\n",
       "      <th>energy</th>\n",
       "      <td>-0.035807</td>\n",
       "      <td>0.009745</td>\n",
       "      <td>0.160955</td>\n",
       "      <td>1.000000</td>\n",
       "      <td>0.690609</td>\n",
       "      <td>0.076605</td>\n",
       "      <td>-0.611425</td>\n",
       "      <td>-0.176833</td>\n",
       "      <td>0.176583</td>\n",
       "      <td>0.389824</td>\n",
       "      <td>0.148339</td>\n",
       "      <td>0.161743</td>\n",
       "      <td>0.046581</td>\n",
       "      <td>0.109730</td>\n",
       "      <td>0.043969</td>\n",
       "    </tr>\n",
       "    <tr>\n",
       "      <th>loudness</th>\n",
       "      <td>0.054327</td>\n",
       "      <td>0.058064</td>\n",
       "      <td>0.229642</td>\n",
       "      <td>0.690609</td>\n",
       "      <td>1.000000</td>\n",
       "      <td>0.005195</td>\n",
       "      <td>-0.451958</td>\n",
       "      <td>-0.470965</td>\n",
       "      <td>0.068536</td>\n",
       "      <td>0.326284</td>\n",
       "      <td>0.147739</td>\n",
       "      <td>0.186049</td>\n",
       "      <td>0.113654</td>\n",
       "      <td>0.133085</td>\n",
       "      <td>0.005828</td>\n",
       "    </tr>\n",
       "    <tr>\n",
       "      <th>speechiness</th>\n",
       "      <td>0.022227</td>\n",
       "      <td>-0.118995</td>\n",
       "      <td>0.224786</td>\n",
       "      <td>0.076605</td>\n",
       "      <td>0.005195</td>\n",
       "      <td>1.000000</td>\n",
       "      <td>-0.076903</td>\n",
       "      <td>-0.078186</td>\n",
       "      <td>0.003280</td>\n",
       "      <td>0.069485</td>\n",
       "      <td>0.059352</td>\n",
       "      <td>0.073266</td>\n",
       "      <td>0.010823</td>\n",
       "      <td>0.125766</td>\n",
       "      <td>-0.106327</td>\n",
       "    </tr>\n",
       "    <tr>\n",
       "      <th>acousticness</th>\n",
       "      <td>-0.025542</td>\n",
       "      <td>0.008331</td>\n",
       "      <td>-0.207106</td>\n",
       "      <td>-0.611425</td>\n",
       "      <td>-0.451958</td>\n",
       "      <td>-0.076903</td>\n",
       "      <td>1.000000</td>\n",
       "      <td>0.112701</td>\n",
       "      <td>-0.070802</td>\n",
       "      <td>-0.183041</td>\n",
       "      <td>-0.102992</td>\n",
       "      <td>-0.125460</td>\n",
       "      <td>-0.074183</td>\n",
       "      <td>-0.103132</td>\n",
       "      <td>-0.002610</td>\n",
       "    </tr>\n",
       "    <tr>\n",
       "      <th>instrumentalness</th>\n",
       "      <td>-0.022962</td>\n",
       "      <td>-0.073686</td>\n",
       "      <td>-0.175529</td>\n",
       "      <td>-0.176833</td>\n",
       "      <td>-0.470965</td>\n",
       "      <td>-0.078186</td>\n",
       "      <td>0.112701</td>\n",
       "      <td>1.000000</td>\n",
       "      <td>0.012656</td>\n",
       "      <td>-0.170640</td>\n",
       "      <td>-0.070849</td>\n",
       "      <td>-0.138824</td>\n",
       "      <td>-0.072379</td>\n",
       "      <td>-0.101938</td>\n",
       "      <td>0.025235</td>\n",
       "    </tr>\n",
       "    <tr>\n",
       "      <th>liveness</th>\n",
       "      <td>-0.014753</td>\n",
       "      <td>0.032909</td>\n",
       "      <td>-0.115868</td>\n",
       "      <td>0.176583</td>\n",
       "      <td>0.068536</td>\n",
       "      <td>0.003280</td>\n",
       "      <td>-0.070802</td>\n",
       "      <td>0.012656</td>\n",
       "      <td>1.000000</td>\n",
       "      <td>0.036381</td>\n",
       "      <td>0.008276</td>\n",
       "      <td>-0.013218</td>\n",
       "      <td>0.020023</td>\n",
       "      <td>0.024843</td>\n",
       "      <td>0.060166</td>\n",
       "    </tr>\n",
       "    <tr>\n",
       "      <th>valence</th>\n",
       "      <td>-0.030491</td>\n",
       "      <td>-0.101910</td>\n",
       "      <td>0.417518</td>\n",
       "      <td>0.389824</td>\n",
       "      <td>0.326284</td>\n",
       "      <td>0.069485</td>\n",
       "      <td>-0.183041</td>\n",
       "      <td>-0.170640</td>\n",
       "      <td>0.036381</td>\n",
       "      <td>1.000000</td>\n",
       "      <td>0.082515</td>\n",
       "      <td>0.097848</td>\n",
       "      <td>0.001100</td>\n",
       "      <td>0.045904</td>\n",
       "      <td>-0.014491</td>\n",
       "    </tr>\n",
       "    <tr>\n",
       "      <th>tempo</th>\n",
       "      <td>-0.002092</td>\n",
       "      <td>0.010779</td>\n",
       "      <td>-0.058508</td>\n",
       "      <td>0.148339</td>\n",
       "      <td>0.147739</td>\n",
       "      <td>0.059352</td>\n",
       "      <td>-0.102992</td>\n",
       "      <td>-0.070849</td>\n",
       "      <td>0.008276</td>\n",
       "      <td>0.082515</td>\n",
       "      <td>1.000000</td>\n",
       "      <td>0.068055</td>\n",
       "      <td>0.012418</td>\n",
       "      <td>0.008343</td>\n",
       "      <td>-0.021416</td>\n",
       "    </tr>\n",
       "    <tr>\n",
       "      <th>time_signature</th>\n",
       "      <td>-0.006934</td>\n",
       "      <td>0.000298</td>\n",
       "      <td>0.211214</td>\n",
       "      <td>0.161743</td>\n",
       "      <td>0.186049</td>\n",
       "      <td>0.073266</td>\n",
       "      <td>-0.125460</td>\n",
       "      <td>-0.138824</td>\n",
       "      <td>-0.013218</td>\n",
       "      <td>0.097848</td>\n",
       "      <td>0.068055</td>\n",
       "      <td>1.000000</td>\n",
       "      <td>0.026179</td>\n",
       "      <td>0.037784</td>\n",
       "      <td>-0.039202</td>\n",
       "    </tr>\n",
       "    <tr>\n",
       "      <th>sum_artist_followers</th>\n",
       "      <td>0.366034</td>\n",
       "      <td>0.067448</td>\n",
       "      <td>0.043887</td>\n",
       "      <td>0.046581</td>\n",
       "      <td>0.113654</td>\n",
       "      <td>0.010823</td>\n",
       "      <td>-0.074183</td>\n",
       "      <td>-0.072379</td>\n",
       "      <td>0.020023</td>\n",
       "      <td>0.001100</td>\n",
       "      <td>0.012418</td>\n",
       "      <td>0.026179</td>\n",
       "      <td>1.000000</td>\n",
       "      <td>0.420070</td>\n",
       "      <td>0.046911</td>\n",
       "    </tr>\n",
       "    <tr>\n",
       "      <th>sum_artist_popularity</th>\n",
       "      <td>0.262075</td>\n",
       "      <td>0.169288</td>\n",
       "      <td>0.120018</td>\n",
       "      <td>0.109730</td>\n",
       "      <td>0.133085</td>\n",
       "      <td>0.125766</td>\n",
       "      <td>-0.103132</td>\n",
       "      <td>-0.101938</td>\n",
       "      <td>0.024843</td>\n",
       "      <td>0.045904</td>\n",
       "      <td>0.008343</td>\n",
       "      <td>0.037784</td>\n",
       "      <td>0.420070</td>\n",
       "      <td>1.000000</td>\n",
       "      <td>-0.060079</td>\n",
       "    </tr>\n",
       "    <tr>\n",
       "      <th>age</th>\n",
       "      <td>-0.207639</td>\n",
       "      <td>0.157838</td>\n",
       "      <td>-0.164479</td>\n",
       "      <td>0.043969</td>\n",
       "      <td>0.005828</td>\n",
       "      <td>-0.106327</td>\n",
       "      <td>-0.002610</td>\n",
       "      <td>0.025235</td>\n",
       "      <td>0.060166</td>\n",
       "      <td>-0.014491</td>\n",
       "      <td>-0.021416</td>\n",
       "      <td>-0.039202</td>\n",
       "      <td>0.046911</td>\n",
       "      <td>-0.060079</td>\n",
       "      <td>1.000000</td>\n",
       "    </tr>\n",
       "  </tbody>\n",
       "</table>\n",
       "</div>"
      ],
      "text/plain": [
       "                       popularity_track  duration_ms  danceability    energy  \\\n",
       "popularity_track               1.000000    -0.063758      0.058898 -0.035807   \n",
       "duration_ms                   -0.063758     1.000000     -0.174810  0.009745   \n",
       "danceability                   0.058898    -0.174810      1.000000  0.160955   \n",
       "energy                        -0.035807     0.009745      0.160955  1.000000   \n",
       "loudness                       0.054327     0.058064      0.229642  0.690609   \n",
       "speechiness                    0.022227    -0.118995      0.224786  0.076605   \n",
       "acousticness                  -0.025542     0.008331     -0.207106 -0.611425   \n",
       "instrumentalness              -0.022962    -0.073686     -0.175529 -0.176833   \n",
       "liveness                      -0.014753     0.032909     -0.115868  0.176583   \n",
       "valence                       -0.030491    -0.101910      0.417518  0.389824   \n",
       "tempo                         -0.002092     0.010779     -0.058508  0.148339   \n",
       "time_signature                -0.006934     0.000298      0.211214  0.161743   \n",
       "sum_artist_followers           0.366034     0.067448      0.043887  0.046581   \n",
       "sum_artist_popularity          0.262075     0.169288      0.120018  0.109730   \n",
       "age                           -0.207639     0.157838     -0.164479  0.043969   \n",
       "\n",
       "                       loudness  speechiness  acousticness  instrumentalness  \\\n",
       "popularity_track       0.054327     0.022227     -0.025542         -0.022962   \n",
       "duration_ms            0.058064    -0.118995      0.008331         -0.073686   \n",
       "danceability           0.229642     0.224786     -0.207106         -0.175529   \n",
       "energy                 0.690609     0.076605     -0.611425         -0.176833   \n",
       "loudness               1.000000     0.005195     -0.451958         -0.470965   \n",
       "speechiness            0.005195     1.000000     -0.076903         -0.078186   \n",
       "acousticness          -0.451958    -0.076903      1.000000          0.112701   \n",
       "instrumentalness      -0.470965    -0.078186      0.112701          1.000000   \n",
       "liveness               0.068536     0.003280     -0.070802          0.012656   \n",
       "valence                0.326284     0.069485     -0.183041         -0.170640   \n",
       "tempo                  0.147739     0.059352     -0.102992         -0.070849   \n",
       "time_signature         0.186049     0.073266     -0.125460         -0.138824   \n",
       "sum_artist_followers   0.113654     0.010823     -0.074183         -0.072379   \n",
       "sum_artist_popularity  0.133085     0.125766     -0.103132         -0.101938   \n",
       "age                    0.005828    -0.106327     -0.002610          0.025235   \n",
       "\n",
       "                       liveness   valence     tempo  time_signature  \\\n",
       "popularity_track      -0.014753 -0.030491 -0.002092       -0.006934   \n",
       "duration_ms            0.032909 -0.101910  0.010779        0.000298   \n",
       "danceability          -0.115868  0.417518 -0.058508        0.211214   \n",
       "energy                 0.176583  0.389824  0.148339        0.161743   \n",
       "loudness               0.068536  0.326284  0.147739        0.186049   \n",
       "speechiness            0.003280  0.069485  0.059352        0.073266   \n",
       "acousticness          -0.070802 -0.183041 -0.102992       -0.125460   \n",
       "instrumentalness       0.012656 -0.170640 -0.070849       -0.138824   \n",
       "liveness               1.000000  0.036381  0.008276       -0.013218   \n",
       "valence                0.036381  1.000000  0.082515        0.097848   \n",
       "tempo                  0.008276  0.082515  1.000000        0.068055   \n",
       "time_signature        -0.013218  0.097848  0.068055        1.000000   \n",
       "sum_artist_followers   0.020023  0.001100  0.012418        0.026179   \n",
       "sum_artist_popularity  0.024843  0.045904  0.008343        0.037784   \n",
       "age                    0.060166 -0.014491 -0.021416       -0.039202   \n",
       "\n",
       "                       sum_artist_followers  sum_artist_popularity       age  \n",
       "popularity_track                   0.366034               0.262075 -0.207639  \n",
       "duration_ms                        0.067448               0.169288  0.157838  \n",
       "danceability                       0.043887               0.120018 -0.164479  \n",
       "energy                             0.046581               0.109730  0.043969  \n",
       "loudness                           0.113654               0.133085  0.005828  \n",
       "speechiness                        0.010823               0.125766 -0.106327  \n",
       "acousticness                      -0.074183              -0.103132 -0.002610  \n",
       "instrumentalness                  -0.072379              -0.101938  0.025235  \n",
       "liveness                           0.020023               0.024843  0.060166  \n",
       "valence                            0.001100               0.045904 -0.014491  \n",
       "tempo                              0.012418               0.008343 -0.021416  \n",
       "time_signature                     0.026179               0.037784 -0.039202  \n",
       "sum_artist_followers               1.000000               0.420070  0.046911  \n",
       "sum_artist_popularity              0.420070               1.000000 -0.060079  \n",
       "age                                0.046911              -0.060079  1.000000  "
      ]
     },
     "metadata": {},
     "execution_count": 65
    }
   ],
   "metadata": {}
  },
  {
   "cell_type": "code",
   "execution_count": 68,
   "source": [
    "df.write.parquet('../data/cleanedDataset.parquet')"
   ],
   "outputs": [],
   "metadata": {}
  },
  {
   "cell_type": "code",
   "execution_count": 69,
   "source": [
    "df.write.json('../data/cleaned_dataset')"
   ],
   "outputs": [],
   "metadata": {}
  },
  {
   "cell_type": "code",
   "execution_count": null,
   "source": [],
   "outputs": [],
   "metadata": {}
  }
 ],
 "metadata": {
  "kernelspec": {
   "name": "python3",
   "display_name": "Python 3.7.11 64-bit ('pyspark_env': conda)"
  },
  "language_info": {
   "codemirror_mode": {
    "name": "ipython",
    "version": 3
   },
   "file_extension": ".py",
   "mimetype": "text/x-python",
   "name": "python",
   "nbconvert_exporter": "python",
   "pygments_lexer": "ipython3",
   "version": "3.7.11"
  },
  "interpreter": {
   "hash": "80f7a5588e248a7388d6dceffc71a6764e419a959cf08d0c746b6ec85a1773dd"
  }
 },
 "nbformat": 4,
 "nbformat_minor": 4
}