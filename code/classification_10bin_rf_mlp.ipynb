{
  "nbformat": 4,
  "nbformat_minor": 0,
  "metadata": {
    "colab": {
      "name": "classification_10bin_rf_mlp.ipynb",
      "provenance": [],
      "collapsed_sections": []
    },
    "kernelspec": {
      "name": "python3",
      "display_name": "Python 3"
    },
    "language_info": {
      "name": "python"
    }
  },
  "cells": [
    {
      "cell_type": "code",
      "metadata": {
        "colab": {
          "base_uri": "https://localhost:8080/"
        },
        "id": "pb1jDCt7p6xn",
        "outputId": "202c2547-01c7-431b-903b-beba053b1269"
      },
      "source": [
        "!pip install pyspark==3.1.2 py4j==0.10.9"
      ],
      "execution_count": 1,
      "outputs": [
        {
          "output_type": "stream",
          "name": "stdout",
          "text": [
            "Collecting pyspark==3.1.2\n",
            "  Downloading pyspark-3.1.2.tar.gz (212.4 MB)\n",
            "\u001b[K     |████████████████████████████████| 212.4 MB 67 kB/s \n",
            "\u001b[?25hCollecting py4j==0.10.9\n",
            "  Downloading py4j-0.10.9-py2.py3-none-any.whl (198 kB)\n",
            "\u001b[K     |████████████████████████████████| 198 kB 53.0 MB/s \n",
            "\u001b[?25hBuilding wheels for collected packages: pyspark\n",
            "  Building wheel for pyspark (setup.py) ... \u001b[?25l\u001b[?25hdone\n",
            "  Created wheel for pyspark: filename=pyspark-3.1.2-py2.py3-none-any.whl size=212880768 sha256=508fe62200991ea0b4fbb1bc23fc9d58216008a259102a30941170eaf89542ce\n",
            "  Stored in directory: /root/.cache/pip/wheels/a5/0a/c1/9561f6fecb759579a7d863dcd846daaa95f598744e71b02c77\n",
            "Successfully built pyspark\n",
            "Installing collected packages: py4j, pyspark\n",
            "Successfully installed py4j-0.10.9 pyspark-3.1.2\n"
          ]
        }
      ]
    },
    {
      "cell_type": "code",
      "metadata": {
        "id": "GAvrEMU6qCRZ"
      },
      "source": [
        "from pyspark.sql import SparkSession\n",
        "from pyspark.sql.functions import *\n",
        "from pyspark.sql.window import Window\n",
        "from pyspark.ml.stat import Correlation\n",
        "from pyspark.sql.types import IntegerType,BooleanType,DateType,FloatType\n",
        "\n",
        "spark = SparkSession.builder\\\n",
        "        .master(\"local[*]\")\\\n",
        "        .appName('spotify_classification')\\\n",
        "        .getOrCreate()"
      ],
      "execution_count": 2,
      "outputs": []
    },
    {
      "cell_type": "code",
      "metadata": {
        "colab": {
          "base_uri": "https://localhost:8080/"
        },
        "id": "23wi9Ie8qExk",
        "outputId": "4e5e3d33-00b0-4e01-9a2d-477d8db37513"
      },
      "source": [
        "from google.colab import drive               \n",
        "drive.mount('/content/drive')"
      ],
      "execution_count": 3,
      "outputs": [
        {
          "output_type": "stream",
          "name": "stdout",
          "text": [
            "Mounted at /content/drive\n"
          ]
        }
      ]
    },
    {
      "cell_type": "code",
      "metadata": {
        "id": "T8s53UcIqF_q"
      },
      "source": [
        "df = spark.read.json(\"drive/My Drive/dataset.json\")"
      ],
      "execution_count": 10,
      "outputs": []
    },
    {
      "cell_type": "code",
      "metadata": {
        "colab": {
          "base_uri": "https://localhost:8080/"
        },
        "id": "AI1SpGyaqHIq",
        "outputId": "83bed1a1-c813-4e47-a9f0-0c12f00c1b4e"
      },
      "source": [
        "df.show(5)"
      ],
      "execution_count": 11,
      "outputs": [
        {
          "output_type": "stream",
          "name": "stdout",
          "text": [
            "+------------+------------------+--------------------+---------------------+------------+-----------+------+--------------------+--------------------+----------------+---+--------+--------+----+----------------+------------+-----------+--------------------+---------------------+-------+--------------+-------+\n",
            "|acousticness|               age|avg_artist_followers|avg_artist_popularity|danceability|duration_ms|energy|              genres|            id_track|instrumentalness|key|liveness|loudness|mode|popularity_track|release_date|speechiness|sum_artist_followers|sum_artist_popularity|  tempo|time_signature|valence|\n",
            "+------------+------------------+--------------------+---------------------+------------+-----------+------+--------------------+--------------------+----------------+---+--------+--------+----+----------------+------------+-----------+--------------------+---------------------+-------+--------------+-------+\n",
            "|       0.658| 41.83013698630137|              5403.5|                 40.0|       0.602|     156067| 0.552|[classic czech po...|00AeAaSNbe92PRrst...|             0.0|  0|  0.0972|  -6.667|   1|               3|  1980-01-01|      0.404|               10807|                   80|182.229|             3|   0.65|\n",
            "|       0.543| 45.83287671232877|             19833.0|                 43.0|        0.77|     220133| 0.891|[afrobeat, afropo...|00DJt4PjkzeXhKKVD...|         7.96E-4|  1|  0.0684|  -7.306|   1|               9|  1976-01-01|      0.172|               19833|                   43|135.573|             4|  0.898|\n",
            "|      4.8E-5|25.682191780821917|            874600.0|                 68.0|       0.212|     250960| 0.986|[alternative meta...|00HgVIkZrAL8WjAN9...|           0.918|  0|   0.324|   -6.69|   0|              33|  1996-02-20|       0.14|              874600|                   68|140.917|             4|  0.231|\n",
            "|       0.144| 31.82191780821918|             69129.0|                 42.0|       0.362|     457040| 0.453|[corrosion, dark ...|00Lx2f8NRiFKMGWa0...|           0.827| 11|   0.117| -17.744|   0|              35|  1990-01-01|     0.0398|               69129|                   42|118.853|             4|  0.257|\n",
            "|       0.957| 4.079452054794521|           1709414.0|                 68.0|       0.343|     282891| 0.225|[brazilian rock, ...|00fzPML4lrNag28OP...|         2.49E-4|  1|   0.661| -14.937|   0|              52|  2017-09-22|     0.0384|             1709414|                   68|144.533|             4|  0.101|\n",
            "+------------+------------------+--------------------+---------------------+------------+-----------+------+--------------------+--------------------+----------------+---+--------+--------+----+----------------+------------+-----------+--------------------+---------------------+-------+--------------+-------+\n",
            "only showing top 5 rows\n",
            "\n"
          ]
        }
      ]
    },
    {
      "cell_type": "code",
      "metadata": {
        "id": "Wwf4Uu37qIbJ"
      },
      "source": [
        "from pyspark.ml.feature import QuantileDiscretizer \n",
        "\n",
        "qds = QuantileDiscretizer(relativeError=0.0001, handleInvalid=\"error\", numBuckets=10, inputCol=\"popularity_track\", outputCol=\"label\")\n",
        "\n",
        "df = qds.setHandleInvalid(\"keep\").fit(df).transform(df)"
      ],
      "execution_count": 12,
      "outputs": []
    },
    {
      "cell_type": "code",
      "metadata": {
        "id": "A-437eCnqKuc"
      },
      "source": [
        "from pyspark.ml.feature import VectorAssembler\n",
        "\n",
        "assembler = VectorAssembler( \n",
        "inputCols=[\n",
        " 'duration_ms',\n",
        " 'danceability',\n",
        " 'energy',\n",
        " 'key',\n",
        " 'mode',\n",
        " 'speechiness',\n",
        " 'acousticness',\n",
        " 'instrumentalness',\n",
        " 'liveness',\n",
        " 'valence',\n",
        " 'tempo',\n",
        " 'time_signature',\n",
        " 'sum_artist_followers',\n",
        " 'sum_artist_popularity',\n",
        " 'avg_artist_popularity'], \n",
        "outputCol=\"feat\")\n",
        "df=assembler.transform(df)"
      ],
      "execution_count": 13,
      "outputs": []
    },
    {
      "cell_type": "code",
      "metadata": {
        "id": "z5_yfbsRqMdH"
      },
      "source": [
        "from pyspark.ml.feature import StandardScaler\n",
        "\n",
        "\n",
        "scaler = StandardScaler(inputCol=\"feat\", outputCol=\"features\")\n",
        "\n",
        "\n",
        "scalerModel = scaler.fit(df)\n",
        "\n",
        "\n",
        "df = scalerModel.transform(df)"
      ],
      "execution_count": 14,
      "outputs": []
    },
    {
      "cell_type": "code",
      "metadata": {
        "id": "0_bvdOHzqWV5"
      },
      "source": [
        "final_data = df.select(\"id_track\", \"features\",\"label\")"
      ],
      "execution_count": 15,
      "outputs": []
    },
    {
      "cell_type": "code",
      "metadata": {
        "id": "HwmT9wamqeNG"
      },
      "source": [
        "train, test = final_data.randomSplit([0.7, 0.3], seed = 10)"
      ],
      "execution_count": 18,
      "outputs": []
    },
    {
      "cell_type": "code",
      "metadata": {
        "id": "vqKUjHWQqiW2"
      },
      "source": [
        "from pyspark.ml.evaluation import MulticlassClassificationEvaluator"
      ],
      "execution_count": 19,
      "outputs": []
    },
    {
      "cell_type": "markdown",
      "metadata": {
        "id": "8L3jLngDqm6v"
      },
      "source": [
        "# Random Forest"
      ]
    },
    {
      "cell_type": "code",
      "metadata": {
        "id": "rp4wpR0Iqj9v"
      },
      "source": [
        "from pyspark.ml.classification import RandomForestClassifier\n",
        "rf = RandomForestClassifier(featuresCol=\"features\",labelCol=\"label\",maxDepth = 10)\n",
        "rfModel = rf.fit(train)\n",
        "predictions = rfModel.transform(test)"
      ],
      "execution_count": 20,
      "outputs": []
    },
    {
      "cell_type": "code",
      "metadata": {
        "colab": {
          "base_uri": "https://localhost:8080/"
        },
        "id": "Wsz0O4buqrNO",
        "outputId": "91a6f78e-06f1-4578-8c44-78188a601b57"
      },
      "source": [
        "rfModel.featureImportances"
      ],
      "execution_count": 21,
      "outputs": [
        {
          "output_type": "execute_result",
          "data": {
            "text/plain": [
              "SparseVector(15, {0: 0.0692, 1: 0.0207, 2: 0.0575, 3: 0.0023, 4: 0.0005, 5: 0.0501, 6: 0.1689, 7: 0.0374, 8: 0.0117, 9: 0.0153, 10: 0.0043, 11: 0.002, 12: 0.1341, 13: 0.1575, 14: 0.2686})"
            ]
          },
          "metadata": {},
          "execution_count": 21
        }
      ]
    },
    {
      "cell_type": "code",
      "metadata": {
        "colab": {
          "base_uri": "https://localhost:8080/"
        },
        "id": "To19rGNZqwIo",
        "outputId": "1b9e647a-aac7-461b-ac07-7b7f3a83afb6"
      },
      "source": [
        "evaluator = MulticlassClassificationEvaluator(labelCol=\"label\", predictionCol=\"prediction\",metricName=\"accuracy\")\n",
        "evaluator.evaluate(predictions)"
      ],
      "execution_count": 22,
      "outputs": [
        {
          "output_type": "execute_result",
          "data": {
            "text/plain": [
              "0.29505664850571045"
            ]
          },
          "metadata": {},
          "execution_count": 22
        }
      ]
    },
    {
      "cell_type": "code",
      "metadata": {
        "colab": {
          "base_uri": "https://localhost:8080/"
        },
        "id": "Ywm6loOFqx8T",
        "outputId": "49049117-45fb-41f0-d80d-a88504ba8e64"
      },
      "source": [
        "evaluator = MulticlassClassificationEvaluator(labelCol=\"label\", predictionCol=\"prediction\",metricName=\"f1\")\n",
        "evaluator.evaluate(predictions)"
      ],
      "execution_count": 23,
      "outputs": [
        {
          "output_type": "execute_result",
          "data": {
            "text/plain": [
              "0.25346010517364986"
            ]
          },
          "metadata": {},
          "execution_count": 23
        }
      ]
    },
    {
      "cell_type": "code",
      "metadata": {
        "colab": {
          "base_uri": "https://localhost:8080/"
        },
        "id": "lxyyrqEjqz8e",
        "outputId": "c6a48c43-353f-42fa-dc96-ba563bd61e49"
      },
      "source": [
        "evaluator = MulticlassClassificationEvaluator(labelCol=\"label\", predictionCol=\"prediction\",metricName=\"recallByLabel\") \n",
        "evaluator.evaluate(predictions)"
      ],
      "execution_count": 24,
      "outputs": [
        {
          "output_type": "execute_result",
          "data": {
            "text/plain": [
              "0.7357476221421397"
            ]
          },
          "metadata": {},
          "execution_count": 24
        }
      ]
    },
    {
      "cell_type": "code",
      "metadata": {
        "colab": {
          "base_uri": "https://localhost:8080/"
        },
        "id": "MGB9R3mHq2sF",
        "outputId": "93bd0aa9-b046-4a0e-fc12-34c7ece3cbac"
      },
      "source": [
        "evaluator = MulticlassClassificationEvaluator(labelCol=\"label\", predictionCol=\"prediction\",metricName=\"precisionByLabel\") \n",
        "evaluator.evaluate(predictions)"
      ],
      "execution_count": 25,
      "outputs": [
        {
          "output_type": "execute_result",
          "data": {
            "text/plain": [
              "0.558124943981357"
            ]
          },
          "metadata": {},
          "execution_count": 25
        }
      ]
    },
    {
      "cell_type": "markdown",
      "metadata": {
        "id": "Xy2pPAIoq5QN"
      },
      "source": [
        "# MLP"
      ]
    },
    {
      "cell_type": "code",
      "metadata": {
        "id": "D4uCkX4Nq4so"
      },
      "source": [
        "from pyspark.ml.classification import MultilayerPerceptronClassifier"
      ],
      "execution_count": 26,
      "outputs": []
    },
    {
      "cell_type": "code",
      "metadata": {
        "id": "TEgSrRpIq8KU"
      },
      "source": [
        "layers = [15,10,3,10]"
      ],
      "execution_count": 29,
      "outputs": []
    },
    {
      "cell_type": "code",
      "metadata": {
        "id": "lXzEAQxLq9WT"
      },
      "source": [
        "mlp = MultilayerPerceptronClassifier(labelCol='label',\n",
        "                                            featuresCol='features',\n",
        "                                            maxIter=100,\n",
        "                                            layers=layers,\n",
        "                                            seed=1234)\n",
        "\n",
        "mlpModel = mlp.fit(train)\n",
        "\n",
        "\n",
        "predictions = mlpModel.transform(test)"
      ],
      "execution_count": 37,
      "outputs": []
    },
    {
      "cell_type": "code",
      "metadata": {
        "colab": {
          "base_uri": "https://localhost:8080/"
        },
        "id": "Id2UL0Qxq-mX",
        "outputId": "a5c1d4cc-84a5-47ed-c1d1-00d64774006e"
      },
      "source": [
        "evaluator = MulticlassClassificationEvaluator(labelCol=\"label\", predictionCol=\"prediction\",metricName=\"accuracy\")\n",
        "evaluator.evaluate(predictions)"
      ],
      "execution_count": 38,
      "outputs": [
        {
          "output_type": "execute_result",
          "data": {
            "text/plain": [
              "0.2509004490847334"
            ]
          },
          "metadata": {},
          "execution_count": 38
        }
      ]
    },
    {
      "cell_type": "code",
      "metadata": {
        "colab": {
          "base_uri": "https://localhost:8080/"
        },
        "id": "KqjzrX9VrAKE",
        "outputId": "a52a4234-d85b-47a2-e904-9d03efc1bca6"
      },
      "source": [
        "evaluator = MulticlassClassificationEvaluator(labelCol=\"label\", predictionCol=\"prediction\",metricName=\"f1\")\n",
        "evaluator.evaluate(predictions)"
      ],
      "execution_count": 39,
      "outputs": [
        {
          "output_type": "execute_result",
          "data": {
            "text/plain": [
              "0.18820906469383283"
            ]
          },
          "metadata": {},
          "execution_count": 39
        }
      ]
    },
    {
      "cell_type": "code",
      "metadata": {
        "colab": {
          "base_uri": "https://localhost:8080/"
        },
        "id": "g17x1GhnrBd2",
        "outputId": "f582ba6b-a259-4391-9bfb-0453422733c4"
      },
      "source": [
        "evaluator = MulticlassClassificationEvaluator(labelCol=\"label\", predictionCol=\"prediction\",metricName=\"recallByLabel\") \n",
        "evaluator.evaluate(predictions)"
      ],
      "execution_count": 40,
      "outputs": [
        {
          "output_type": "execute_result",
          "data": {
            "text/plain": [
              "0.6956341938914161"
            ]
          },
          "metadata": {},
          "execution_count": 40
        }
      ]
    },
    {
      "cell_type": "code",
      "metadata": {
        "colab": {
          "base_uri": "https://localhost:8080/"
        },
        "id": "R6dT3AElrC6x",
        "outputId": "d2f68c97-152c-4e0b-9b18-ca7c030ce6d1"
      },
      "source": [
        "evaluator = MulticlassClassificationEvaluator(labelCol=\"label\", predictionCol=\"prediction\",metricName=\"precisionByLabel\") \n",
        "evaluator.evaluate(predictions)"
      ],
      "execution_count": 41,
      "outputs": [
        {
          "output_type": "execute_result",
          "data": {
            "text/plain": [
              "0.45722828408340777"
            ]
          },
          "metadata": {},
          "execution_count": 41
        }
      ]
    }
  ]
}