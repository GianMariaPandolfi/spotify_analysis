{
 "cells": [
  {
   "cell_type": "code",
   "execution_count": 1,
   "metadata": {},
   "outputs": [],
   "source": [
    "import findspark\n",
    "findspark.init() "
   ]
  },
  {
   "cell_type": "code",
   "execution_count": 2,
   "metadata": {},
   "outputs": [],
   "source": [
    "import pyspark"
   ]
  },
  {
   "cell_type": "code",
   "execution_count": 3,
   "metadata": {},
   "outputs": [],
   "source": [
    "from pyspark.sql import SparkSession\n",
    "from pyspark.sql import SparkSession\n",
    "from pyspark.sql.functions import *\n",
    "from pyspark.sql.window import Window\n",
    "from pyspark.ml.stat import Correlation\n",
    "from pyspark.sql.types import IntegerType,BooleanType,DateType,FloatType, StringType\n",
    "import matplotlib.pyplot as plt \n",
    "import seaborn as sns\n",
    "import pyspark.sql.types as T\n"
   ]
  },
  {
   "cell_type": "code",
   "execution_count": 4,
   "metadata": {},
   "outputs": [],
   "source": [
    "spark = SparkSession \\\n",
    "    .builder \\\n",
    "    .appName(\"Python Spark SQL basic example\") \\\n",
    "    .config(\"spark.some.config.option\", \"some-value\") \\\n",
    "    .getOrCreate()\n",
    "\n",
    "def fudf(val):\n",
    "    return functools.reduce(lambda x, y:x+y, val)"
   ]
  },
  {
   "cell_type": "code",
   "execution_count": 77,
   "metadata": {},
   "outputs": [],
   "source": [
    "df = spark.read.json('C:\\\\Users\\\\pasqu\\\\Desktop\\\\Università\\\\Distributed Data Analysis and Mining\\\\cleaned_dataset')"
   ]
  },
  {
   "cell_type": "code",
   "execution_count": 78,
   "metadata": {},
   "outputs": [
    {
     "name": "stdout",
     "output_type": "stream",
     "text": [
      "+------------+------------+-----------+------+--------------------+--------------------+----------------+---+--------+--------+----+----------------+------------+-----------+--------------------+---------------------+-------+--------------+-------+\n",
      "|acousticness|danceability|duration_ms|energy|              genres|            id_track|instrumentalness|key|liveness|loudness|mode|popularity_track|release_date|speechiness|sum_artist_followers|sum_artist_popularity|  tempo|time_signature|valence|\n",
      "+------------+------------+-----------+------+--------------------+--------------------+----------------+---+--------+--------+----+----------------+------------+-----------+--------------------+---------------------+-------+--------------+-------+\n",
      "|       0.658|       0.602|     156067| 0.552|[classic czech po...|00AeAaSNbe92PRrst...|             0.0|  0|  0.0972|  -6.667|   1|               3|  1980-01-01|      0.404|               10807|                   80|182.229|             3|   0.65|\n",
      "|       0.543|        0.77|     220133| 0.891|[afrobeat, afropo...|00DJt4PjkzeXhKKVD...|         7.96E-4|  1|  0.0684|  -7.306|   1|               9|  1976-01-01|      0.172|               19833|                   43|135.573|             4|  0.898|\n",
      "|      4.8E-5|       0.212|     250960| 0.986|[alternative meta...|00HgVIkZrAL8WjAN9...|           0.918|  0|   0.324|   -6.69|   0|              33|  1996-02-20|       0.14|              874600|                   68|140.917|             4|  0.231|\n",
      "|       0.144|       0.362|     457040| 0.453|[corrosion, dark ...|00Lx2f8NRiFKMGWa0...|           0.827| 11|   0.117| -17.744|   0|              35|  1990-01-01|     0.0398|               69129|                   42|118.853|             4|  0.257|\n",
      "|       0.957|       0.343|     282891| 0.225|[brazilian rock, ...|00fzPML4lrNag28OP...|         2.49E-4|  1|   0.661| -14.937|   0|              52|  2017-09-22|     0.0384|             1709414|                   68|144.533|             4|  0.101|\n",
      "|       0.119|       0.893|     217000| 0.614|[brazilian rock, ...|00hUjt7XHLHwUB1L2...|         9.76E-4|  7|  0.0952|  -5.331|   1|              42|  2008-01-01|     0.0362|             2092689|                   69|120.021|             4|  0.958|\n",
      "|        0.96|       0.351|     545107|0.0944|[classical perfor...|00jrUA3PWiKaMpWJv...|          0.0339|  8|   0.083| -17.481|   1|               0|  1950-01-01|     0.0413|             3843344|                  126| 107.86|             4|  0.237|\n",
      "|       0.168|       0.422|     256933| 0.912|                  []|00pEXGlxPsGuLm4Nq...|             0.0|  5|   0.129|  -3.806|   0|              49|  2015-02-18|     0.0799|                5109|                   37| 97.573|             4|  0.616|\n",
      "|       0.775|       0.627|     249133| 0.781|[arabesk, turkish...|00tC0YhP6IgvqziTK...|             0.0|  0|  0.0886|  -5.604|   0|              24|  1991-03-11|     0.0694|              800059|                   68|152.277|             4|  0.891|\n",
      "|       0.971|       0.554|     189800| 0.123| [thai instrumental]|01HJPwlxD2TvR6CDL...|             0.0| 10|   0.142|   -14.1|   1|              20|  2001-01-01|     0.0438|                 930|                   32|103.292|             1|  0.549|\n",
      "|       0.945|       0.189|     181733|0.0928|[american modern ...|01JxE2HpVI0RkCl9F...|           0.831|  1|   0.309| -14.585|   1|              10|  1960-01-01|     0.0359|              299033|                  176|   77.6|             4|  0.218|\n",
      "|      0.0904|        0.46|     203000| 0.922|[classic swedish ...|01LyEKupJFOYJIoP7...|         7.42E-6|  9|   0.118|  -6.641|   1|              20|  1983-05-09|      0.105|              147837|                   59|116.004|             4|  0.473|\n",
      "|       0.868|       0.764|     213240| 0.455|          [mandopop]|01cO3ZfjGwlY7nMDD...|         2.67E-6|  3|  0.0962| -10.076|   1|              45|  2005-10-14|     0.0262|               10781|                   51| 105.07|             4|  0.478|\n",
      "|        0.81|       0.413|     282027| 0.317|[dutch pop, dutch...|01gXT3SsZhKTGZpZ4...|         2.17E-6|  8|  0.0884| -10.474|   1|              24|  1991-01-01|     0.0299|               18355|                   46|135.632|             4|  0.181|\n",
      "|        0.69|       0.829|     161213| 0.384|[chamame, folclor...|01jHYLuEcT8wqm9b0...|             0.0|  4|  0.0981| -13.349|   0|              27|  1996-03-15|      0.218|              167088|                   57|103.259|             4|  0.918|\n",
      "|      0.0451|       0.632|     237760| 0.917|[europop, new wav...|02LiDXI8KBS1k7pzQ...|         0.00122|  6|    0.21|  -4.683|   1|              33|  1988-10-21|     0.0294|             1412267|                   75|108.045|             4|  0.832|\n",
      "|       0.501|       0.442|     244253|  0.76|[latin arena pop,...|02PFXdSFvYurNrZiD...|             0.0| 10|   0.715|  -3.186|   1|              45|  2015-10-23|     0.0588|             1446917|                  137|143.671|             4|  0.302|\n",
      "|      0.0424|       0.582|     207673| 0.629|[dominican pop, r...|02QTUKz5AQFFfSNmo...|         3.44E-6|  4|   0.594|  -8.495|   0|              25|  2016-07-22|      0.433|              173374|                   56|113.155|             5|  0.482|\n",
      "|       0.136|       0.881|     200667| 0.696|[latin, reggaeton...|02Y5oRA5BuObhf9hT...|         4.06E-5| 11|  0.0927|  -3.838|   0|               0|  2021-04-16|     0.0797|            27286822|                   95| 97.002|             4|  0.781|\n",
      "|        0.44|       0.686|     178264| 0.695|[argentine indie,...|02vK8PPOQPDcbxNe4...|         6.37E-6| 10|   0.314|  -6.087|   0|              56|  2019-03-22|      0.174|              200911|                  113| 140.25|             4|  0.541|\n",
      "+------------+------------+-----------+------+--------------------+--------------------+----------------+---+--------+--------+----+----------------+------------+-----------+--------------------+---------------------+-------+--------------+-------+\n",
      "only showing top 20 rows\n",
      "\n"
     ]
    }
   ],
   "source": [
    "df.show()"
   ]
  },
  {
   "cell_type": "markdown",
   "metadata": {},
   "source": [
    "# Data Transformation"
   ]
  },
  {
   "cell_type": "markdown",
   "metadata": {},
   "source": [
    "droppo le colonne inutili ai fini del clustering e la colonna energy per l'alta correlazione con loudness (che è più correlata a popularity track)"
   ]
  },
  {
   "cell_type": "code",
   "execution_count": 79,
   "metadata": {},
   "outputs": [],
   "source": [
    "df=df.drop('id_track','popularity_track','sum_artist_followers','sum_artist_popularity','energy')"
   ]
  },
  {
   "cell_type": "markdown",
   "metadata": {},
   "source": [
    "Vector Assembler. A vector assembler is a transformer that converts a set of features into a single vector column often referred to as an array of features "
   ]
  },
  {
   "cell_type": "code",
   "execution_count": 80,
   "metadata": {},
   "outputs": [],
   "source": [
    "\n",
    "from pyspark.ml.linalg import Vectors\n",
    "from pyspark.ml.feature import VectorAssembler\n",
    "\n",
    "assembler = VectorAssembler(\n",
    "    inputCols=[\"duration_ms\", \"danceability\", \"loudness\", \"speechiness\",\"acousticness\",\"instrumentalness\",\"liveness\",\"valence\",\"tempo\",\"time_signature\"],\n",
    "    outputCol=\"features\")\n",
    "\n",
    "df = assembler.transform(df)"
   ]
  },
  {
   "cell_type": "code",
   "execution_count": 81,
   "metadata": {},
   "outputs": [
    {
     "name": "stdout",
     "output_type": "stream",
     "text": [
      "+------------+------------+-----------+--------------------+----------------+---+--------+--------+----+------------+-----------+-------+--------------+-------+--------------------+\n",
      "|acousticness|danceability|duration_ms|              genres|instrumentalness|key|liveness|loudness|mode|release_date|speechiness|  tempo|time_signature|valence|            features|\n",
      "+------------+------------+-----------+--------------------+----------------+---+--------+--------+----+------------+-----------+-------+--------------+-------+--------------------+\n",
      "|       0.658|       0.602|     156067|[classic czech po...|             0.0|  0|  0.0972|  -6.667|   1|  1980-01-01|      0.404|182.229|             3|   0.65|[156067.0,0.602,-...|\n",
      "|       0.543|        0.77|     220133|[afrobeat, afropo...|         7.96E-4|  1|  0.0684|  -7.306|   1|  1976-01-01|      0.172|135.573|             4|  0.898|[220133.0,0.77,-7...|\n",
      "|      4.8E-5|       0.212|     250960|[alternative meta...|           0.918|  0|   0.324|   -6.69|   0|  1996-02-20|       0.14|140.917|             4|  0.231|[250960.0,0.212,-...|\n",
      "|       0.144|       0.362|     457040|[corrosion, dark ...|           0.827| 11|   0.117| -17.744|   0|  1990-01-01|     0.0398|118.853|             4|  0.257|[457040.0,0.362,-...|\n",
      "|       0.957|       0.343|     282891|[brazilian rock, ...|         2.49E-4|  1|   0.661| -14.937|   0|  2017-09-22|     0.0384|144.533|             4|  0.101|[282891.0,0.343,-...|\n",
      "|       0.119|       0.893|     217000|[brazilian rock, ...|         9.76E-4|  7|  0.0952|  -5.331|   1|  2008-01-01|     0.0362|120.021|             4|  0.958|[217000.0,0.893,-...|\n",
      "|        0.96|       0.351|     545107|[classical perfor...|          0.0339|  8|   0.083| -17.481|   1|  1950-01-01|     0.0413| 107.86|             4|  0.237|[545107.0,0.351,-...|\n",
      "|       0.168|       0.422|     256933|                  []|             0.0|  5|   0.129|  -3.806|   0|  2015-02-18|     0.0799| 97.573|             4|  0.616|[256933.0,0.422,-...|\n",
      "|       0.775|       0.627|     249133|[arabesk, turkish...|             0.0|  0|  0.0886|  -5.604|   0|  1991-03-11|     0.0694|152.277|             4|  0.891|[249133.0,0.627,-...|\n",
      "|       0.971|       0.554|     189800| [thai instrumental]|             0.0| 10|   0.142|   -14.1|   1|  2001-01-01|     0.0438|103.292|             1|  0.549|[189800.0,0.554,-...|\n",
      "|       0.945|       0.189|     181733|[american modern ...|           0.831|  1|   0.309| -14.585|   1|  1960-01-01|     0.0359|   77.6|             4|  0.218|[181733.0,0.189,-...|\n",
      "|      0.0904|        0.46|     203000|[classic swedish ...|         7.42E-6|  9|   0.118|  -6.641|   1|  1983-05-09|      0.105|116.004|             4|  0.473|[203000.0,0.46,-6...|\n",
      "|       0.868|       0.764|     213240|          [mandopop]|         2.67E-6|  3|  0.0962| -10.076|   1|  2005-10-14|     0.0262| 105.07|             4|  0.478|[213240.0,0.764,-...|\n",
      "|        0.81|       0.413|     282027|[dutch pop, dutch...|         2.17E-6|  8|  0.0884| -10.474|   1|  1991-01-01|     0.0299|135.632|             4|  0.181|[282027.0,0.413,-...|\n",
      "|        0.69|       0.829|     161213|[chamame, folclor...|             0.0|  4|  0.0981| -13.349|   0|  1996-03-15|      0.218|103.259|             4|  0.918|[161213.0,0.829,-...|\n",
      "|      0.0451|       0.632|     237760|[europop, new wav...|         0.00122|  6|    0.21|  -4.683|   1|  1988-10-21|     0.0294|108.045|             4|  0.832|[237760.0,0.632,-...|\n",
      "|       0.501|       0.442|     244253|[latin arena pop,...|             0.0| 10|   0.715|  -3.186|   1|  2015-10-23|     0.0588|143.671|             4|  0.302|[244253.0,0.442,-...|\n",
      "|      0.0424|       0.582|     207673|[dominican pop, r...|         3.44E-6|  4|   0.594|  -8.495|   0|  2016-07-22|      0.433|113.155|             5|  0.482|[207673.0,0.582,-...|\n",
      "|       0.136|       0.881|     200667|[latin, reggaeton...|         4.06E-5| 11|  0.0927|  -3.838|   0|  2021-04-16|     0.0797| 97.002|             4|  0.781|[200667.0,0.881,-...|\n",
      "|        0.44|       0.686|     178264|[argentine indie,...|         6.37E-6| 10|   0.314|  -6.087|   0|  2019-03-22|      0.174| 140.25|             4|  0.541|[178264.0,0.686,-...|\n",
      "+------------+------------+-----------+--------------------+----------------+---+--------+--------+----+------------+-----------+-------+--------------+-------+--------------------+\n",
      "only showing top 20 rows\n",
      "\n"
     ]
    }
   ],
   "source": [
    "df.show()"
   ]
  },
  {
   "cell_type": "markdown",
   "metadata": {},
   "source": [
    "variance treshold per eliminare gli attributi con alta collinearità (a quanto si setta la treshold?)"
   ]
  },
  {
   "cell_type": "code",
   "execution_count": 82,
   "metadata": {},
   "outputs": [
    {
     "name": "stdout",
     "output_type": "stream",
     "text": [
      "Output: Features with variance lower than 8.000000 are removed.\n"
     ]
    }
   ],
   "source": [
    "from pyspark.ml.feature import VarianceThresholdSelector\n",
    "\n",
    "selector = VarianceThresholdSelector(varianceThreshold=8.0,featuresCol='features', outputCol=\"selectedFeatures\")\n",
    "\n",
    "df = selector.fit(df).transform(df)\n",
    "\n",
    "print(\"Output: Features with variance lower than %f are removed.\" %\n",
    "      selector.getVarianceThreshold())"
   ]
  },
  {
   "cell_type": "code",
   "execution_count": 83,
   "metadata": {},
   "outputs": [
    {
     "data": {
      "text/plain": [
       "583363"
      ]
     },
     "execution_count": 83,
     "metadata": {},
     "output_type": "execute_result"
    }
   ],
   "source": [
    "df.count()"
   ]
  },
  {
   "cell_type": "code",
   "execution_count": 84,
   "metadata": {},
   "outputs": [
    {
     "name": "stdout",
     "output_type": "stream",
     "text": [
      "+------------+------------+-----------+--------------------+----------------+---+--------+--------+----+------------+-----------+-------+--------------+-------+--------------------+--------------------+\n",
      "|acousticness|danceability|duration_ms|              genres|instrumentalness|key|liveness|loudness|mode|release_date|speechiness|  tempo|time_signature|valence|            features|    selectedFeatures|\n",
      "+------------+------------+-----------+--------------------+----------------+---+--------+--------+----+------------+-----------+-------+--------------+-------+--------------------+--------------------+\n",
      "|       0.658|       0.602|     156067|[classic czech po...|             0.0|  0|  0.0972|  -6.667|   1|  1980-01-01|      0.404|182.229|             3|   0.65|[156067.0,0.602,-...|[156067.0,-6.667,...|\n",
      "|       0.543|        0.77|     220133|[afrobeat, afropo...|         7.96E-4|  1|  0.0684|  -7.306|   1|  1976-01-01|      0.172|135.573|             4|  0.898|[220133.0,0.77,-7...|[220133.0,-7.306,...|\n",
      "|      4.8E-5|       0.212|     250960|[alternative meta...|           0.918|  0|   0.324|   -6.69|   0|  1996-02-20|       0.14|140.917|             4|  0.231|[250960.0,0.212,-...|[250960.0,-6.69,1...|\n",
      "|       0.144|       0.362|     457040|[corrosion, dark ...|           0.827| 11|   0.117| -17.744|   0|  1990-01-01|     0.0398|118.853|             4|  0.257|[457040.0,0.362,-...|[457040.0,-17.744...|\n",
      "|       0.957|       0.343|     282891|[brazilian rock, ...|         2.49E-4|  1|   0.661| -14.937|   0|  2017-09-22|     0.0384|144.533|             4|  0.101|[282891.0,0.343,-...|[282891.0,-14.937...|\n",
      "|       0.119|       0.893|     217000|[brazilian rock, ...|         9.76E-4|  7|  0.0952|  -5.331|   1|  2008-01-01|     0.0362|120.021|             4|  0.958|[217000.0,0.893,-...|[217000.0,-5.331,...|\n",
      "|        0.96|       0.351|     545107|[classical perfor...|          0.0339|  8|   0.083| -17.481|   1|  1950-01-01|     0.0413| 107.86|             4|  0.237|[545107.0,0.351,-...|[545107.0,-17.481...|\n",
      "|       0.168|       0.422|     256933|                  []|             0.0|  5|   0.129|  -3.806|   0|  2015-02-18|     0.0799| 97.573|             4|  0.616|[256933.0,0.422,-...|[256933.0,-3.806,...|\n",
      "|       0.775|       0.627|     249133|[arabesk, turkish...|             0.0|  0|  0.0886|  -5.604|   0|  1991-03-11|     0.0694|152.277|             4|  0.891|[249133.0,0.627,-...|[249133.0,-5.604,...|\n",
      "|       0.971|       0.554|     189800| [thai instrumental]|             0.0| 10|   0.142|   -14.1|   1|  2001-01-01|     0.0438|103.292|             1|  0.549|[189800.0,0.554,-...|[189800.0,-14.1,1...|\n",
      "|       0.945|       0.189|     181733|[american modern ...|           0.831|  1|   0.309| -14.585|   1|  1960-01-01|     0.0359|   77.6|             4|  0.218|[181733.0,0.189,-...|[181733.0,-14.585...|\n",
      "|      0.0904|        0.46|     203000|[classic swedish ...|         7.42E-6|  9|   0.118|  -6.641|   1|  1983-05-09|      0.105|116.004|             4|  0.473|[203000.0,0.46,-6...|[203000.0,-6.641,...|\n",
      "|       0.868|       0.764|     213240|          [mandopop]|         2.67E-6|  3|  0.0962| -10.076|   1|  2005-10-14|     0.0262| 105.07|             4|  0.478|[213240.0,0.764,-...|[213240.0,-10.076...|\n",
      "|        0.81|       0.413|     282027|[dutch pop, dutch...|         2.17E-6|  8|  0.0884| -10.474|   1|  1991-01-01|     0.0299|135.632|             4|  0.181|[282027.0,0.413,-...|[282027.0,-10.474...|\n",
      "|        0.69|       0.829|     161213|[chamame, folclor...|             0.0|  4|  0.0981| -13.349|   0|  1996-03-15|      0.218|103.259|             4|  0.918|[161213.0,0.829,-...|[161213.0,-13.349...|\n",
      "|      0.0451|       0.632|     237760|[europop, new wav...|         0.00122|  6|    0.21|  -4.683|   1|  1988-10-21|     0.0294|108.045|             4|  0.832|[237760.0,0.632,-...|[237760.0,-4.683,...|\n",
      "|       0.501|       0.442|     244253|[latin arena pop,...|             0.0| 10|   0.715|  -3.186|   1|  2015-10-23|     0.0588|143.671|             4|  0.302|[244253.0,0.442,-...|[244253.0,-3.186,...|\n",
      "|      0.0424|       0.582|     207673|[dominican pop, r...|         3.44E-6|  4|   0.594|  -8.495|   0|  2016-07-22|      0.433|113.155|             5|  0.482|[207673.0,0.582,-...|[207673.0,-8.495,...|\n",
      "|       0.136|       0.881|     200667|[latin, reggaeton...|         4.06E-5| 11|  0.0927|  -3.838|   0|  2021-04-16|     0.0797| 97.002|             4|  0.781|[200667.0,0.881,-...|[200667.0,-3.838,...|\n",
      "|        0.44|       0.686|     178264|[argentine indie,...|         6.37E-6| 10|   0.314|  -6.087|   0|  2019-03-22|      0.174| 140.25|             4|  0.541|[178264.0,0.686,-...|[178264.0,-6.087,...|\n",
      "+------------+------------+-----------+--------------------+----------------+---+--------+--------+----+------------+-----------+-------+--------------+-------+--------------------+--------------------+\n",
      "only showing top 20 rows\n",
      "\n"
     ]
    }
   ],
   "source": [
    "df.show()"
   ]
  },
  {
   "cell_type": "markdown",
   "metadata": {},
   "source": [
    "PCA sugli attributi continui per trovare nuovi attributi che riassumano (catturando la varianza) quelli presenti\n"
   ]
  },
  {
   "cell_type": "code",
   "execution_count": 85,
   "metadata": {},
   "outputs": [],
   "source": [
    "from pyspark.ml.feature import PCA\n",
    "\n",
    "\n",
    "pca = PCA(k=3, inputCol=\"selectedFeatures\", outputCol=\"pcaFeatures\")\n",
    "df = pca.fit(df).transform(df)"
   ]
  },
  {
   "cell_type": "code",
   "execution_count": 86,
   "metadata": {},
   "outputs": [
    {
     "data": {
      "text/plain": [
       "583363"
      ]
     },
     "execution_count": 86,
     "metadata": {},
     "output_type": "execute_result"
    }
   ],
   "source": [
    "df.count()"
   ]
  },
  {
   "cell_type": "code",
   "execution_count": 89,
   "metadata": {},
   "outputs": [],
   "source": [
    "df = df.drop('features','selectedFeatures')"
   ]
  },
  {
   "cell_type": "code",
   "execution_count": 92,
   "metadata": {},
   "outputs": [],
   "source": [
    "df = df.withColumnRenamed('pcaFeatures','features')"
   ]
  },
  {
   "cell_type": "code",
   "execution_count": 93,
   "metadata": {},
   "outputs": [
    {
     "name": "stdout",
     "output_type": "stream",
     "text": [
      "+------------+------------+-----------+--------------------+----------------+---+--------+--------+----+------------+-----------+-------+--------------+-------+--------------------+\n",
      "|acousticness|danceability|duration_ms|              genres|instrumentalness|key|liveness|loudness|mode|release_date|speechiness|  tempo|time_signature|valence|            features|\n",
      "+------------+------------+-----------+--------------------+----------------+---+--------+--------+----+------------+-----------+-------+--------------+-------+--------------------+\n",
      "|       0.658|       0.602|     156067|[classic czech po...|             0.0|  0|  0.0972|  -6.667|   1|  1980-01-01|      0.404|182.229|             3|   0.65|[-156066.99996964...|\n",
      "|       0.543|        0.77|     220133|[afrobeat, afropo...|         7.96E-4|  1|  0.0684|  -7.306|   1|  1976-01-01|      0.172|135.573|             4|  0.898|[-220132.99997738...|\n",
      "|      4.8E-5|       0.212|     250960|[alternative meta...|           0.918|  0|   0.324|   -6.69|   0|  1996-02-20|       0.14|140.917|             4|  0.231|[-250959.99997650...|\n",
      "|       0.144|       0.362|     457040|[corrosion, dark ...|           0.827| 11|   0.117| -17.744|   0|  1990-01-01|     0.0398|118.853|             4|  0.257|[-457039.99998002...|\n",
      "|       0.957|       0.343|     282891|[brazilian rock, ...|         2.49E-4|  1|   0.661| -14.937|   0|  2017-09-22|     0.0384|144.533|             4|  0.101|[-282890.99997579...|\n",
      "|       0.119|       0.893|     217000|[brazilian rock, ...|         9.76E-4|  7|  0.0952|  -5.331|   1|  2008-01-01|     0.0362|120.021|             4|  0.958|[-216999.99997999...|\n",
      "|        0.96|       0.351|     545107|[classical perfor...|          0.0339|  8|   0.083| -17.481|   1|  1950-01-01|     0.0413| 107.86|             4|  0.237|[-545106.99998185...|\n",
      "|       0.168|       0.422|     256933|                  []|             0.0|  5|   0.129|  -3.806|   0|  2015-02-18|     0.0799| 97.573|             4|  0.616|[-256932.99998374...|\n",
      "|       0.775|       0.627|     249133|[arabesk, turkish...|             0.0|  0|  0.0886|  -5.604|   0|  1991-03-11|     0.0694|152.277|             4|  0.891|[-249132.99997463...|\n",
      "|       0.971|       0.554|     189800| [thai instrumental]|             0.0| 10|   0.142|   -14.1|   1|  2001-01-01|     0.0438|103.292|             1|  0.549|[-189799.99998265...|\n",
      "|       0.945|       0.189|     181733|[american modern ...|           0.831|  1|   0.309| -14.585|   1|  1960-01-01|     0.0359|   77.6|             4|  0.218|[-181732.99998691...|\n",
      "|      0.0904|        0.46|     203000|[classic swedish ...|         7.42E-6|  9|   0.118|  -6.641|   1|  1983-05-09|      0.105|116.004|             4|  0.473|[-202999.99998064...|\n",
      "|       0.868|       0.764|     213240|          [mandopop]|         2.67E-6|  3|  0.0962| -10.076|   1|  2005-10-14|     0.0262| 105.07|             4|  0.478|[-213239.99998241...|\n",
      "|        0.81|       0.413|     282027|[dutch pop, dutch...|         2.17E-6|  8|  0.0884| -10.474|   1|  1991-01-01|     0.0299|135.632|             4|  0.181|[-282026.99997733...|\n",
      "|        0.69|       0.829|     161213|[chamame, folclor...|             0.0|  4|  0.0981| -13.349|   0|  1996-03-15|      0.218|103.259|             4|  0.918|[-161212.99998267...|\n",
      "|      0.0451|       0.632|     237760|[europop, new wav...|         0.00122|  6|    0.21|  -4.683|   1|  1988-10-21|     0.0294|108.045|             4|  0.832|[-237759.99998199...|\n",
      "|       0.501|       0.442|     244253|[latin arena pop,...|             0.0| 10|   0.715|  -3.186|   1|  2015-10-23|     0.0588|143.671|             4|  0.302|[-244252.99997609...|\n",
      "|      0.0424|       0.582|     207673|[dominican pop, r...|         3.44E-6|  4|   0.594|  -8.495|   0|  2016-07-22|      0.433|113.155|             5|  0.482|[-207672.99998109...|\n",
      "|       0.136|       0.881|     200667|[latin, reggaeton...|         4.06E-5| 11|  0.0927|  -3.838|   0|  2021-04-16|     0.0797| 97.002|             4|  0.781|[-200666.99998383...|\n",
      "|        0.44|       0.686|     178264|[argentine indie,...|         6.37E-6| 10|   0.314|  -6.087|   0|  2019-03-22|      0.174| 140.25|             4|  0.541|[-178263.99997662...|\n",
      "+------------+------------+-----------+--------------------+----------------+---+--------+--------+----+------------+-----------+-------+--------------+-------+--------------------+\n",
      "only showing top 20 rows\n",
      "\n"
     ]
    }
   ],
   "source": [
    "df.show()"
   ]
  },
  {
   "cell_type": "markdown",
   "metadata": {},
   "source": [
    "Scalo gli attributi numerici con il codice utilizzato nella correlation"
   ]
  },
  {
   "cell_type": "code",
   "execution_count": 94,
   "metadata": {},
   "outputs": [],
   "source": [
    "from pyspark.ml import Pipeline\n",
    "from pyspark.ml.feature import MinMaxScaler\n",
    "from pyspark.ml.feature import VectorAssembler\n",
    "from pyspark.sql import functions as f"
   ]
  },
  {
   "cell_type": "code",
   "execution_count": 95,
   "metadata": {},
   "outputs": [],
   "source": [
    "columns_to_scale = [\"duration_ms\", \"danceability\", \"loudness\", \"speechiness\",\"acousticness\",\"instrumentalness\",\"liveness\",\"valence\",\"tempo\",\"time_signature\",\"features\"]\n",
    "assemblers = [VectorAssembler(inputCols=[col], outputCol=col + \"_vec\") for col in columns_to_scale]\n",
    "scalers = [MinMaxScaler(inputCol=col + \"_vec\", outputCol=col + \"_scaled\") for col in columns_to_scale]\n",
    "pipeline = Pipeline(stages=assemblers + scalers)\n",
    "scalerModel = pipeline.fit(df)\n",
    "enriched_df = scalerModel.transform(df)"
   ]
  },
  {
   "cell_type": "code",
   "execution_count": 96,
   "metadata": {},
   "outputs": [],
   "source": [
    "names = {x + \"_scaled\": x for x in columns_to_scale}\n",
    "scaledData = enriched_df.select([f.col(c).alias(names[c]) for c in names.keys()])"
   ]
  },
  {
   "cell_type": "code",
   "execution_count": 97,
   "metadata": {},
   "outputs": [
    {
     "name": "stdout",
     "output_type": "stream",
     "text": [
      "+--------------------+--------------------+--------------------+--------------------+--------------------+----------------+--------+-------+--------------------+--------------------+--------------------+\n",
      "|         duration_ms|        danceability|            loudness|         speechiness|        acousticness|instrumentalness|liveness|valence|               tempo|      time_signature|            features|\n",
      "+--------------------+--------------------+--------------------+--------------------+--------------------+----------------+--------+-------+--------------------+--------------------+--------------------+\n",
      "|[0.02718519496877...|[0.6074672048435923]|[0.8157886686245716]|[0.41606591143151...|[0.6606425702811246]|           [0.0]|[0.0972]| [0.65]|[0.7396227793539275]|[0.6000000000000001]|[0.97281480503638...|\n",
      "|[0.03858915312091...|[0.7769929364278506]|[0.8060144395496818]|[0.17713697219361...|[0.5451807228915664]|       [7.96E-4]|[0.0684]|[0.898]|[0.5502575279749656]|               [0.8]|[0.96141084688282...|\n",
      "|[0.04407646024100...|[0.21392532795156...|[0.8154368575624081]|[0.14418125643666...|[4.81927710843373...|         [0.918]| [0.324]|[0.231]|[0.5719475121864105]|               [0.8]|[0.95592353976286...|\n",
      "|[0.08075937623378...|[0.36528758829465...|[0.6463534018600098]|[0.04098867147270...|[0.14457831325301...|         [0.827]| [0.117]|[0.257]|[0.48239515222358...|               [0.8]|[0.91924062376932...|\n",
      "|[0.04976028298249...|[0.34611503531786...|[0.6892896475770924]|[0.03954685890834...|[0.9608433734939759]|       [2.49E-4]| [0.661]|[0.101]|[0.5866239685690049]|               [0.8]|[0.95023971702148...|\n",
      "|[0.03803146884390...|[0.9011099899091827]|[0.8362243024963288]|[0.0372811534500515]|[0.11947791164658...|       [9.76E-4]|[0.0952]|[0.958]|[0.4871357775153117]|               [0.8]|[0.96196853115936...|\n",
      "|[0.09643559111507...|[0.3541876892028254]|[0.6503762848751835]|[0.04253347064881...| [0.963855421686747]|        [0.0339]| [0.083]|[0.237]|[0.4377772636688706]|               [0.8]|[0.90356440888765...|\n",
      "|[0.04513967383390...| [0.425832492431887]|[0.8595509055310817]|[0.08228630278063...|[0.16867469879518...|           [0.0]| [0.129]|[0.616]|[0.39602485581274...|               [0.8]|[0.95486032616867...|\n",
      "|[0.04375124824800...|[0.6326942482341069]|[0.8320484581497797]|[0.07147270854788...|[0.7781124497991968]|           [0.0]|[0.0886]|[0.891]|[0.6180549636538532]|               [0.8]|[0.95624875175620...|\n",
      "|[0.03318977962125...|[0.5590312815338042]|[0.7020925110132158]|[0.0451081359423275]|[0.9748995983935743]|           [0.0]| [0.142]|[0.549]|[0.4192368729731595]|               [0.2]|[0.96681022038156...|\n",
      "|[0.0317538271595269]|[0.1907164480322906]|[0.6946738864415075]|[0.03697219361483...|[0.9487951807228916]|         [0.831]| [0.309]|[0.218]|[0.3149593515733762]|               [0.8]|[0.96824617284254...|\n",
      "|[0.03553942292048...|[0.46417759838546...|[0.8161863680861478]|[0.10813594232749...|[0.09076305220883...|       [7.42E-6]| [0.118]|[0.473]|[0.4708317605659528]|               [0.8]|[0.96446057708268...|\n",
      "|[0.03736217651018...|[0.7709384460141271]|[0.7636441507586881]|[0.02698249227600...|[0.8714859437751005]|       [2.67E-6]|[0.0962]|[0.478]|[0.4264533385285391]|               [0.8]|[0.96263782349265...|\n",
      "|[0.0496064881483636]|[0.4167507568113017]| [0.757556289769946]|[0.03079299691040...|[0.8132530120481929]|       [2.17E-6]|[0.0884]|[0.181]|[0.5504969944922702]|               [0.8]|[0.95039351185534...|\n",
      "|[0.02810119984891...|[0.8365287588294651]|[0.7135799069995103]|[0.22451081359423...|[0.6927710843373494]|           [0.0]|[0.0981]|[0.918]|[0.4191029340736502]|               [0.8]|[0.97189880015392...|\n",
      "|[0.0417268169417826]|[0.6377396569122099]|[0.8461361967694566]|[0.03027806385169...|[0.04528112449799...|       [0.00122]|  [0.21]|[0.832]|[0.4385281332570288]|               [0.8]|[0.95827318306112...|\n",
      "|[0.04288259224040...|[0.44601412714429...|[0.8690345080763582]|[0.06055612770339...|[0.5030120481927711]|           [0.0]| [0.715]|[0.302]|[0.5831253221636409]|               [0.8]|[0.95711740776354...|\n",
      "|[0.03637123224906...|[0.5872855701311805]|[0.7878273372491433]|[0.4459320288362513]| [0.042570281124498]|       [3.44E-6]| [0.594]|[0.482]|[0.4592683689083168]|               [1.0]|[0.96362876775401...|\n",
      "|[0.03512414126767...|[0.8890010090817356]|[0.8590614292706803]|[0.08208032955715...|[0.13654618473895...|       [4.06E-5]|[0.0927]|[0.781]|[0.3937073069757814]|               [0.8]|[0.96487585873492...|\n",
      "|[0.03113633378035...|[0.6922300706357215]|[0.8246604258443464]|[0.1791967044284243]|[0.44176706827309...|       [6.37E-6]| [0.314]|[0.541]|[0.5692403229145104]|               [0.8]|[0.96886366622354...|\n",
      "+--------------------+--------------------+--------------------+--------------------+--------------------+----------------+--------+-------+--------------------+--------------------+--------------------+\n",
      "only showing top 20 rows\n",
      "\n"
     ]
    }
   ],
   "source": [
    "scaledData.show()"
   ]
  },
  {
   "cell_type": "markdown",
   "metadata": {},
   "source": [
    "# K-Means"
   ]
  },
  {
   "cell_type": "code",
   "execution_count": 75,
   "metadata": {},
   "outputs": [],
   "source": [
    "from pyspark.ml.clustering import KMeans\n",
    "from pyspark.ml.evaluation import ClusteringEvaluator"
   ]
  },
  {
   "cell_type": "markdown",
   "metadata": {},
   "source": [
    "confronto silhouette score per scegliere il miglior numero di cluster"
   ]
  },
  {
   "cell_type": "code",
   "execution_count": 32,
   "metadata": {},
   "outputs": [
    {
     "name": "stdout",
     "output_type": "stream",
     "text": [
      "k=2, Silhouette Score:0.562634327344147\n",
      "k=3, Silhouette Score:0.48055824614972986\n",
      "k=4, Silhouette Score:0.5322350076461543\n",
      "k=5, Silhouette Score:0.5222750880737247\n",
      "k=6, Silhouette Score:0.44927201520696847\n",
      "k=7, Silhouette Score:0.45799210222027426\n",
      "k=8, Silhouette Score:0.4496992256794045\n",
      "k=9, Silhouette Score:0.44348679853378487\n"
     ]
    }
   ],
   "source": [
    "silhouette_score=[]\n",
    "evaluator = ClusteringEvaluator(predictionCol='prediction', featuresCol='features', \\\n",
    "                                metricName='silhouette', distanceMeasure='squaredEuclidean')\n",
    "for i in range(2,10):\n",
    "    \n",
    "    KMeans_algo=KMeans(featuresCol='features', k=i)\n",
    "    \n",
    "    KMeans_fit=KMeans_algo.fit(scaledData)\n",
    "    \n",
    "    output=KMeans_fit.transform(scaledData)\n",
    "    \n",
    "    \n",
    "    \n",
    "    score=evaluator.evaluate(output)\n",
    "    \n",
    "    silhouette_score.append(score)\n",
    "    \n",
    "    print(\"k={}, Silhouette Score:{}\".format(i,score))"
   ]
  },
  {
   "cell_type": "code",
   "execution_count": 33,
   "metadata": {},
   "outputs": [
    {
     "data": {
      "image/png": "[encoded data removed]",
      "text/plain": [
       "<Figure size 432x288 with 1 Axes>"
      ]
     },
     "metadata": {
      "needs_background": "light"
     },
     "output_type": "display_data"
    }
   ],
   "source": [
    "import numpy as np\n",
    "import pandas as pd\n",
    "\n",
    "cost = np.zeros(10)\n",
    "\n",
    "for k in range(2,10):\n",
    "    kmeans = KMeans().setK(k).setSeed(1).setFeaturesCol('features')\n",
    "    model = kmeans.fit(scaledData)\n",
    "    cost[k] = model.summary.trainingCost\n",
    "\n",
    "# Plot the cost\n",
    "df_cost = pd.DataFrame(cost[2:])\n",
    "df_cost.columns = [\"cost\"]\n",
    "new_col = [2,3,4,5,6,7,8, 9]\n",
    "df_cost.insert(0, 'cluster', new_col)\n",
    "\n",
    "import pylab as pl\n",
    "pl.plot(df_cost.cluster, df_cost.cost)\n",
    "pl.xlabel('Number of Clusters')\n",
    "pl.ylabel('Score')\n",
    "pl.title('Elbow Curve')\n",
    "pl.show()"
   ]
  },
  {
   "cell_type": "code",
   "execution_count": 98,
   "metadata": {},
   "outputs": [
    {
     "name": "stdout",
     "output_type": "stream",
     "text": [
      "Silhouette with squared euclidean distance = 0.5322362165555465\n",
      "Cluster Centers: \n",
      "[0.95895264 0.47322882 0.25908896]\n",
      "[0.96022947 0.62511308 0.24019668]\n",
      "[0.95926481 0.59128098 0.40162061]\n",
      "[0.96070354 0.30939876 0.29762528]\n"
     ]
    }
   ],
   "source": [
    "# Trains a k-means model.\n",
    "kmeans = KMeans(featuresCol='features', k=4)\n",
    "model = kmeans.fit(scaledData)\n",
    "\n",
    "# Make predictions\n",
    "predictions = model.transform(scaledData)\n",
    "\n",
    "# Evaluate clustering by computing Silhouette score\n",
    "evaluator = ClusteringEvaluator()\n",
    "\n",
    "silhouette = evaluator.evaluate(predictions)\n",
    "print(\"Silhouette with squared euclidean distance = \" + str(silhouette))\n",
    "\n",
    "# Shows the result.\n",
    "centers = model.clusterCenters()\n",
    "print(\"Cluster Centers: \")\n",
    "for center in centers:\n",
    "    print(center)"
   ]
  },
  {
   "cell_type": "code",
   "execution_count": 99,
   "metadata": {},
   "outputs": [
    {
     "name": "stdout",
     "output_type": "stream",
     "text": [
      "+--------------------+--------------------+--------------------+--------------------+--------------------+----------------+--------+-------+--------------------+--------------------+--------------------+----------+\n",
      "|         duration_ms|        danceability|            loudness|         speechiness|        acousticness|instrumentalness|liveness|valence|               tempo|      time_signature|            features|prediction|\n",
      "+--------------------+--------------------+--------------------+--------------------+--------------------+----------------+--------+-------+--------------------+--------------------+--------------------+----------+\n",
      "|[0.02718519496877...|[0.6074672048435923]|[0.8157886686245716]|[0.41606591143151...|[0.6606425702811246]|           [0.0]|[0.0972]| [0.65]|[0.7396227793539275]|[0.6000000000000001]|[0.97281480503638...|         3|\n",
      "|[0.03858915312091...|[0.7769929364278506]|[0.8060144395496818]|[0.17713697219361...|[0.5451807228915664]|       [7.96E-4]|[0.0684]|[0.898]|[0.5502575279749656]|               [0.8]|[0.96141084688282...|         0|\n",
      "|[0.04407646024100...|[0.21392532795156...|[0.8154368575624081]|[0.14418125643666...|[4.81927710843373...|         [0.918]| [0.324]|[0.231]|[0.5719475121864105]|               [0.8]|[0.95592353976286...|         0|\n",
      "|[0.08075937623378...|[0.36528758829465...|[0.6463534018600098]|[0.04098867147270...|[0.14457831325301...|         [0.827]| [0.117]|[0.257]|[0.48239515222358...|               [0.8]|[0.91924062376932...|         2|\n",
      "|[0.04976028298249...|[0.34611503531786...|[0.6892896475770924]|[0.03954685890834...|[0.9608433734939759]|       [2.49E-4]| [0.661]|[0.101]|[0.5866239685690049]|               [0.8]|[0.95023971702148...|         3|\n",
      "|[0.03803146884390...|[0.9011099899091827]|[0.8362243024963288]|[0.0372811534500515]|[0.11947791164658...|       [9.76E-4]|[0.0952]|[0.958]|[0.4871357775153117]|               [0.8]|[0.96196853115936...|         0|\n",
      "|[0.09643559111507...|[0.3541876892028254]|[0.6503762848751835]|[0.04253347064881...| [0.963855421686747]|        [0.0339]| [0.083]|[0.237]|[0.4377772636688706]|               [0.8]|[0.90356440888765...|         2|\n",
      "|[0.04513967383390...| [0.425832492431887]|[0.8595509055310817]|[0.08228630278063...|[0.16867469879518...|           [0.0]| [0.129]|[0.616]|[0.39602485581274...|               [0.8]|[0.95486032616867...|         1|\n",
      "|[0.04375124824800...|[0.6326942482341069]|[0.8320484581497797]|[0.07147270854788...|[0.7781124497991968]|           [0.0]|[0.0886]|[0.891]|[0.6180549636538532]|               [0.8]|[0.95624875175620...|         3|\n",
      "|[0.03318977962125...|[0.5590312815338042]|[0.7020925110132158]|[0.0451081359423275]|[0.9748995983935743]|           [0.0]| [0.142]|[0.549]|[0.4192368729731595]|               [0.2]|[0.96681022038156...|         2|\n",
      "|[0.0317538271595269]|[0.1907164480322906]|[0.6946738864415075]|[0.03697219361483...|[0.9487951807228916]|         [0.831]| [0.309]|[0.218]|[0.3149593515733762]|               [0.8]|[0.96824617284254...|         1|\n",
      "|[0.03553942292048...|[0.46417759838546...|[0.8161863680861478]|[0.10813594232749...|[0.09076305220883...|       [7.42E-6]| [0.118]|[0.473]|[0.4708317605659528]|               [0.8]|[0.96446057708268...|         0|\n",
      "|[0.03736217651018...|[0.7709384460141271]|[0.7636441507586881]|[0.02698249227600...|[0.8714859437751005]|       [2.67E-6]|[0.0962]|[0.478]|[0.4264533385285391]|               [0.8]|[0.96263782349265...|         1|\n",
      "|[0.0496064881483636]|[0.4167507568113017]| [0.757556289769946]|[0.03079299691040...|[0.8132530120481929]|       [2.17E-6]|[0.0884]|[0.181]|[0.5504969944922702]|               [0.8]|[0.95039351185534...|         0|\n",
      "|[0.02810119984891...|[0.8365287588294651]|[0.7135799069995103]|[0.22451081359423...|[0.6927710843373494]|           [0.0]|[0.0981]|[0.918]|[0.4191029340736502]|               [0.8]|[0.97189880015392...|         2|\n",
      "|[0.0417268169417826]|[0.6377396569122099]|[0.8461361967694566]|[0.03027806385169...|[0.04528112449799...|       [0.00122]|  [0.21]|[0.832]|[0.4385281332570288]|               [0.8]|[0.95827318306112...|         1|\n",
      "|[0.04288259224040...|[0.44601412714429...|[0.8690345080763582]|[0.06055612770339...|[0.5030120481927711]|           [0.0]| [0.715]|[0.302]|[0.5831253221636409]|               [0.8]|[0.95711740776354...|         0|\n",
      "|[0.03637123224906...|[0.5872855701311805]|[0.7878273372491433]|[0.4459320288362513]| [0.042570281124498]|       [3.44E-6]| [0.594]|[0.482]|[0.4592683689083168]|               [1.0]|[0.96362876775401...|         0|\n",
      "|[0.03512414126767...|[0.8890010090817356]|[0.8590614292706803]|[0.08208032955715...|[0.13654618473895...|       [4.06E-5]|[0.0927]|[0.781]|[0.3937073069757814]|               [0.8]|[0.96487585873492...|         1|\n",
      "|[0.03113633378035...|[0.6922300706357215]|[0.8246604258443464]|[0.1791967044284243]|[0.44176706827309...|       [6.37E-6]| [0.314]|[0.541]|[0.5692403229145104]|               [0.8]|[0.96886366622354...|         0|\n",
      "+--------------------+--------------------+--------------------+--------------------+--------------------+----------------+--------+-------+--------------------+--------------------+--------------------+----------+\n",
      "only showing top 20 rows\n",
      "\n"
     ]
    }
   ],
   "source": [
    "predictions.show()"
   ]
  },
  {
   "cell_type": "code",
   "execution_count": null,
   "metadata": {},
   "outputs": [],
   "source": []
  }
 ],
 "metadata": {
  "kernelspec": {
   "display_name": "Python 3",
   "language": "python",
   "name": "python3"
  },
  "language_info": {
   "codemirror_mode": {
    "name": "ipython",
    "version": 3
   },
   "file_extension": ".py",
   "mimetype": "text/x-python",
   "name": "python",
   "nbconvert_exporter": "python",
   "pygments_lexer": "ipython3",
   "version": "3.7.3"
  }
 },
 "nbformat": 4,
 "nbformat_minor": 4
}
