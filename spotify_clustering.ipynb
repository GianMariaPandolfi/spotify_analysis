{
 "cells": [
  {
   "cell_type": "code",
   "execution_count": 2,
   "metadata": {},
   "outputs": [],
   "source": [
    "import findspark\n",
    "findspark.init() "
   ]
  },
  {
   "cell_type": "code",
   "execution_count": 3,
   "metadata": {},
   "outputs": [],
   "source": [
    "import pyspark"
   ]
  },
  {
   "cell_type": "code",
   "execution_count": 4,
   "metadata": {},
   "outputs": [],
   "source": [
    "from pyspark.sql import SparkSession\n",
    "from pyspark.sql import SparkSession\n",
    "from pyspark.sql.functions import *\n",
    "from pyspark.sql.window import Window\n",
    "from pyspark.ml.stat import Correlation\n",
    "from pyspark.sql.types import IntegerType,BooleanType,DateType,FloatType, StringType\n",
    "import matplotlib.pyplot as plt \n",
    "import seaborn as sns\n",
    "import pyspark.sql.types as T\n"
   ]
  },
  {
   "cell_type": "code",
   "execution_count": 5,
   "metadata": {},
   "outputs": [],
   "source": [
    "spark = SparkSession \\\n",
    "    .builder \\\n",
    "    .appName(\"Python Spark SQL basic example\") \\\n",
    "    .config(\"spark.some.config.option\", \"some-value\") \\\n",
    "    .getOrCreate()\n",
    "\n",
    "def fudf(val):\n",
    "    return functools.reduce(lambda x, y:x+y, val)"
   ]
  },
  {
   "cell_type": "code",
   "execution_count": 6,
   "metadata": {},
   "outputs": [],
   "source": [
    "df = spark.read.json('C:\\\\Users\\\\pasqu\\\\Desktop\\\\Università\\\\Distributed Data Analysis and Mining\\\\cleaned_dataset')"
   ]
  },
  {
   "cell_type": "code",
   "execution_count": 59,
   "metadata": {},
   "outputs": [
    {
     "name": "stdout",
     "output_type": "stream",
     "text": [
      "+------------+------------------+------------+-----------+------+--------------------+--------------------+----------------+---+--------+--------+----+----------------+-----------+--------------------+---------------------+-------+--------------+-------+\n",
      "|acousticness|               age|danceability|duration_ms|energy|              genres|            id_track|instrumentalness|key|liveness|loudness|mode|popularity_track|speechiness|sum_artist_followers|sum_artist_popularity|  tempo|time_signature|valence|\n",
      "+------------+------------------+------------+-----------+------+--------------------+--------------------+----------------+---+--------+--------+----+----------------+-----------+--------------------+---------------------+-------+--------------+-------+\n",
      "|       0.658|41.794520547945204|       0.602|     156067| 0.552|[classic czech po...|00AeAaSNbe92PRrst...|             0.0|  0|  0.0972|  -6.667|   1|               3|      0.404|               10807|                   80|182.229|             3|   0.65|\n",
      "|       0.543|45.797260273972604|        0.77|     220133| 0.891|[afrobeat, afropo...|00DJt4PjkzeXhKKVD...|         7.96E-4|  1|  0.0684|  -7.306|   1|               9|      0.172|               19833|                   43|135.573|             4|  0.898|\n",
      "|      4.8E-5|25.646575342465752|       0.212|     250960| 0.986|[alternative meta...|00HgVIkZrAL8WjAN9...|           0.918|  0|   0.324|   -6.69|   0|              33|       0.14|              874600|                   68|140.917|             4|  0.231|\n",
      "|       0.144|31.786301369863015|       0.362|     457040| 0.453|[corrosion, dark ...|00Lx2f8NRiFKMGWa0...|           0.827| 11|   0.117| -17.744|   0|              35|     0.0398|               69129|                   42|118.853|             4|  0.257|\n",
      "|       0.957| 4.043835616438356|       0.343|     282891| 0.225|[brazilian rock, ...|00fzPML4lrNag28OP...|         2.49E-4|  1|   0.661| -14.937|   0|              52|     0.0384|             1709414|                   68|144.533|             4|  0.101|\n",
      "|       0.119|13.775342465753425|       0.893|     217000| 0.614|[brazilian rock, ...|00hUjt7XHLHwUB1L2...|         9.76E-4|  7|  0.0952|  -5.331|   1|              42|     0.0362|             2092689|                   69|120.021|             4|  0.958|\n",
      "|        0.96| 71.81369863013698|       0.351|     545107|0.0944|[classical perfor...|00jrUA3PWiKaMpWJv...|          0.0339|  8|   0.083| -17.481|   1|               0|     0.0413|             3843344|                  126| 107.86|             4|  0.237|\n",
      "|       0.168| 6.638356164383562|       0.422|     256933| 0.912|                  []|00pEXGlxPsGuLm4Nq...|             0.0|  5|   0.129|  -3.806|   0|              49|     0.0799|                5109|                   37| 97.573|             4|  0.616|\n",
      "|       0.775|  30.5972602739726|       0.627|     249133| 0.781|[arabesk, turkish...|00tC0YhP6IgvqziTK...|             0.0|  0|  0.0886|  -5.604|   0|              24|     0.0694|              800059|                   68|152.277|             4|  0.891|\n",
      "|       0.971|20.778082191780822|       0.554|     189800| 0.123| [thai instrumental]|01HJPwlxD2TvR6CDL...|             0.0| 10|   0.142|   -14.1|   1|              20|     0.0438|                 930|                   32|103.292|             1|  0.549|\n",
      "|       0.945| 61.80821917808219|       0.189|     181733|0.0928|[american modern ...|01JxE2HpVI0RkCl9F...|           0.831|  1|   0.309| -14.585|   1|              10|     0.0359|              299033|                  176|   77.6|             4|  0.218|\n",
      "|      0.0904|38.441095890410956|        0.46|     203000| 0.922|[classic swedish ...|01LyEKupJFOYJIoP7...|         7.42E-6|  9|   0.118|  -6.641|   1|              20|      0.105|              147837|                   59|116.004|             4|  0.473|\n",
      "|       0.868|15.991780821917809|       0.764|     213240| 0.455|          [mandopop]|01cO3ZfjGwlY7nMDD...|         2.67E-6|  3|  0.0962| -10.076|   1|              45|     0.0262|               10781|                   51| 105.07|             4|  0.478|\n",
      "|        0.81|30.786301369863015|       0.413|     282027| 0.317|[dutch pop, dutch...|01gXT3SsZhKTGZpZ4...|         2.17E-6|  8|  0.0884| -10.474|   1|              24|     0.0299|               18355|                   46|135.632|             4|  0.181|\n",
      "|        0.69| 25.58082191780822|       0.829|     161213| 0.384|[chamame, folclor...|01jHYLuEcT8wqm9b0...|             0.0|  4|  0.0981| -13.349|   0|              27|      0.218|              167088|                   57|103.259|             4|  0.918|\n",
      "|      0.0451|32.983561643835614|       0.632|     237760| 0.917|[europop, new wav...|02LiDXI8KBS1k7pzQ...|         0.00122|  6|    0.21|  -4.683|   1|              33|     0.0294|             1412267|                   75|108.045|             4|  0.832|\n",
      "|       0.501| 5.961643835616439|       0.442|     244253|  0.76|[latin arena pop,...|02PFXdSFvYurNrZiD...|             0.0| 10|   0.715|  -3.186|   1|              45|     0.0588|             1446917|                  137|143.671|             4|  0.302|\n",
      "|      0.0424| 5.213698630136986|       0.582|     207673| 0.629|[dominican pop, r...|02QTUKz5AQFFfSNmo...|         3.44E-6|  4|   0.594|  -8.495|   0|              25|      0.433|              173374|                   56|113.155|             5|  0.482|\n",
      "|       0.136|0.4767123287671233|       0.881|     200667| 0.696|[latin, reggaeton...|02Y5oRA5BuObhf9hT...|         4.06E-5| 11|  0.0927|  -3.838|   0|               0|     0.0797|            27286822|                   95| 97.002|             4|  0.781|\n",
      "|        0.44| 2.547945205479452|       0.686|     178264| 0.695|[argentine indie,...|02vK8PPOQPDcbxNe4...|         6.37E-6| 10|   0.314|  -6.087|   0|              56|      0.174|              200911|                  113| 140.25|             4|  0.541|\n",
      "+------------+------------------+------------+-----------+------+--------------------+--------------------+----------------+---+--------+--------+----+----------------+-----------+--------------------+---------------------+-------+--------------+-------+\n",
      "only showing top 20 rows\n",
      "\n"
     ]
    }
   ],
   "source": [
    "df.show()"
   ]
  },
  {
   "cell_type": "markdown",
   "metadata": {},
   "source": [
    "# Data Transformation"
   ]
  },
  {
   "cell_type": "markdown",
   "metadata": {},
   "source": [
    "Vector Assembler. A vector assembler is a transformer that converts a set of features into a single vector column often referred to as an array of features "
   ]
  },
  {
   "cell_type": "code",
   "execution_count": 7,
   "metadata": {},
   "outputs": [],
   "source": [
    "from pyspark.ml.linalg import Vectors\n",
    "from pyspark.ml.feature import VectorAssembler\n",
    "\n",
    "assembler = VectorAssembler(\n",
    "    inputCols=[\"duration_ms\", \"danceability\", \"loudness\", \"speechiness\",\"acousticness\",\"energy\",\"instrumentalness\",\"liveness\",\"valence\",\"tempo\",\"time_signature\",\"age\"],\n",
    "    outputCol=\"features\")\n",
    "\n",
    "df = assembler.transform(df)"
   ]
  },
  {
   "cell_type": "markdown",
   "metadata": {},
   "source": [
    "Standardizzo i valori del vettore"
   ]
  },
  {
   "cell_type": "code",
   "execution_count": 8,
   "metadata": {},
   "outputs": [],
   "source": [
    "from pyspark.mllib.util import MLUtils\n",
    "from pyspark.ml.feature import StandardScaler\n",
    "\n",
    "scaler = StandardScaler(inputCol=\"features\", outputCol=\"scaledFeatures\",\n",
    "                        withStd=True, withMean=False)\n",
    "\n",
    "# Compute summary statistics by fitting the StandardScaler\n",
    "scalerModel = scaler.fit(df)\n",
    "\n",
    "# Normalize each feature to have unit standard deviation.\n",
    "df = scalerModel.transform(df)"
   ]
  },
  {
   "cell_type": "code",
   "execution_count": 65,
   "metadata": {},
   "outputs": [
    {
     "name": "stdout",
     "output_type": "stream",
     "text": [
      "+----------------------------------------------------------------------------------------------+\n",
      "|features                                                                                      |\n",
      "+----------------------------------------------------------------------------------------------+\n",
      "|[156067.0,0.602,-6.667,0.404,0.658,0.552,0.0,0.0972,0.65,182.229,3.0,41.794520547945204]      |\n",
      "|[220133.0,0.77,-7.306,0.172,0.543,0.891,7.96E-4,0.0684,0.898,135.573,4.0,45.797260273972604]  |\n",
      "|[250960.0,0.212,-6.69,0.14,4.8E-5,0.986,0.918,0.324,0.231,140.917,4.0,25.646575342465752]     |\n",
      "|[457040.0,0.362,-17.744,0.0398,0.144,0.453,0.827,0.117,0.257,118.853,4.0,31.786301369863015]  |\n",
      "|[282891.0,0.343,-14.937,0.0384,0.957,0.225,2.49E-4,0.661,0.101,144.533,4.0,4.043835616438356] |\n",
      "|[217000.0,0.893,-5.331,0.0362,0.119,0.614,9.76E-4,0.0952,0.958,120.021,4.0,13.775342465753425]|\n",
      "|[545107.0,0.351,-17.481,0.0413,0.96,0.0944,0.0339,0.083,0.237,107.86,4.0,71.81369863013698]   |\n",
      "|[256933.0,0.422,-3.806,0.0799,0.168,0.912,0.0,0.129,0.616,97.573,4.0,6.638356164383562]       |\n",
      "|[249133.0,0.627,-5.604,0.0694,0.775,0.781,0.0,0.0886,0.891,152.277,4.0,30.5972602739726]      |\n",
      "|[189800.0,0.554,-14.1,0.0438,0.971,0.123,0.0,0.142,0.549,103.292,1.0,20.778082191780822]      |\n",
      "|[181733.0,0.189,-14.585,0.0359,0.945,0.0928,0.831,0.309,0.218,77.6,4.0,61.80821917808219]     |\n",
      "|[203000.0,0.46,-6.641,0.105,0.0904,0.922,7.42E-6,0.118,0.473,116.004,4.0,38.441095890410956]  |\n",
      "|[213240.0,0.764,-10.076,0.0262,0.868,0.455,2.67E-6,0.0962,0.478,105.07,4.0,15.991780821917809]|\n",
      "|[282027.0,0.413,-10.474,0.0299,0.81,0.317,2.17E-6,0.0884,0.181,135.632,4.0,30.786301369863015]|\n",
      "|[161213.0,0.829,-13.349,0.218,0.69,0.384,0.0,0.0981,0.918,103.259,4.0,25.58082191780822]      |\n",
      "|[237760.0,0.632,-4.683,0.0294,0.0451,0.917,0.00122,0.21,0.832,108.045,4.0,32.983561643835614] |\n",
      "|[244253.0,0.442,-3.186,0.0588,0.501,0.76,0.0,0.715,0.302,143.671,4.0,5.961643835616439]       |\n",
      "|[207673.0,0.582,-8.495,0.433,0.0424,0.629,3.44E-6,0.594,0.482,113.155,5.0,5.213698630136986]  |\n",
      "|[200667.0,0.881,-3.838,0.0797,0.136,0.696,4.06E-5,0.0927,0.781,97.002,4.0,0.4767123287671233] |\n",
      "|[178264.0,0.686,-6.087,0.174,0.44,0.695,6.37E-6,0.314,0.541,140.25,4.0,2.547945205479452]     |\n",
      "+----------------------------------------------------------------------------------------------+\n",
      "only showing top 20 rows\n",
      "\n"
     ]
    }
   ],
   "source": [
    "df.select('features').show(truncate=False)"
   ]
  },
  {
   "cell_type": "markdown",
   "metadata": {},
   "source": [
    "variance treshold per eliminare gli attributi con basssa varianza (minore di 1)"
   ]
  },
  {
   "cell_type": "code",
   "execution_count": 9,
   "metadata": {},
   "outputs": [
    {
     "name": "stdout",
     "output_type": "stream",
     "text": [
      "Output: Features with variance lower than 1.000000 are removed.\n"
     ]
    }
   ],
   "source": [
    "from pyspark.ml.feature import VarianceThresholdSelector\n",
    "\n",
    "selector = VarianceThresholdSelector(varianceThreshold=1,featuresCol='scaledFeatures', outputCol=\"selectedFeatures\")\n",
    "\n",
    "df = selector.fit(df).transform(df)\n",
    "\n",
    "print(\"Output: Features with variance lower than %f are removed.\" %\n",
    "      selector.getVarianceThreshold())"
   ]
  },
  {
   "cell_type": "code",
   "execution_count": 67,
   "metadata": {},
   "outputs": [
    {
     "name": "stdout",
     "output_type": "stream",
     "text": [
      "+----------------------------------------------------------------------------------------------------------------------------------------+\n",
      "|selectedFeatures                                                                                                                        |\n",
      "+----------------------------------------------------------------------------------------------------------------------------------------+\n",
      "|[3.6367524459446754,2.2425341538160874,2.1964380167735964,0.0,0.5274762018580149,6.125552254406119,6.364381858546458]                   |\n",
      "|[4.651660105278073,0.9547422635058588,3.545337450987816,0.0029853342729492913,0.37118695686304753,4.557230165267882,8.485842478061944]  |\n",
      "|[1.2807168082064304,0.777115795876862,3.9233476169180546,3.4428855057380017,1.7582540061933831,4.73686650881115,8.485842478061944]      |\n",
      "|[2.1868843611826785,0.22092291911356504,1.8025116333305058,3.101597291116914,0.634925057792055,3.995194299990289,8.485842478061944]     |\n",
      "|[2.072103137805687,0.2131517611547964,0.8952872350979333,9.338545652818761E-4,3.587055241030328,4.858416849053002,8.485842478061944]    |\n",
      "|[5.394717498718597,0.20093994150530287,2.4431393882228045,0.003660409862309683,0.5166227820666978,4.034456135555136,8.485842478061944]  |\n",
      "|[2.1204320739644205,0.22924915978367427,0.3756227333033107,0.12713923599620724,0.450416921339663,3.62566916440437,8.485842478061944]    |\n",
      "|[2.5493513823731777,0.4435110863611519,3.62889759293029,0.0,0.7000455765399581,3.2798759260006265,8.485842478061944]                    |\n",
      "|[3.7877803714407166,0.38522740167038727,3.107641469384382,0.0,0.48080649675535103,5.118728197181571,8.485842478061944]                  |\n",
      "|[3.346778828992276,0.24312622756718966,0.4894236885202035,0.0,0.7705928051835197,3.472117739010349,2.121460619515486]                   |\n",
      "|[1.1417711167500726,0.19927469337128104,0.36925624629816983,3.116598970880478,1.6768533577585043,2.608491814924709,8.485842478061944]   |\n",
      "|[2.778913829127161,0.5828368469076464,3.6686881367124204,2.7828115961411733E-5,0.6403517676877135,3.8994263466304893,8.485842478061944] |\n",
      "|[4.615413403159024,0.1454316703712413,1.8104697420869318,1.0013621242179153E-5,0.5220494919623563,3.5318844715739584,8.485842478061944] |\n",
      "|[2.494981329194603,0.1659697306908441,1.2613602378935327,8.13841127173362E-6,0.47972115477621935,4.55921342579727,8.485842478061944]    |\n",
      "|[5.00808600944873,1.2100803107225422,1.5279568812338062,0.0,0.5323602407641077,3.471008457697301,8.485842478061944]                     |\n",
      "|[3.8179859565399252,0.16319431713414098,3.6487928648213552,0.004575512327887104,1.1396090780883037,3.6318878626744873,8.485842478061944]|\n",
      "|[2.670173722770011,0.32638863426828196,3.024081327441908,0.0,3.8800975753958915,4.829441076572782,8.485842478061944]                    |\n",
      "|[3.515930105547842,2.403508140104866,2.502825203896,1.2901444596665279E-5,3.2234656780212023,3.803658393270689,10.607303097577429]      |\n",
      "|[5.322224094480497,0.4424009209384706,2.7694218472362735,1.5226704960017738E-4,0.5030560073275513,3.260681997826374,8.485842478061944]  |\n",
      "|[4.144206275611374,0.9658439177326712,2.7654427928580607,2.389017502347611E-5,1.7039869072367972,4.714445580453485,8.485842478061944]   |\n",
      "+----------------------------------------------------------------------------------------------------------------------------------------+\n",
      "only showing top 20 rows\n",
      "\n"
     ]
    }
   ],
   "source": [
    "df.select('selectedFeatures').show(truncate=False)"
   ]
  },
  {
   "cell_type": "markdown",
   "metadata": {},
   "source": [
    "PCA sugli attributi continui per trovare nuovi attributi che riassumano (catturando la varianza) quelli presenti\n"
   ]
  },
  {
   "cell_type": "code",
   "execution_count": 10,
   "metadata": {},
   "outputs": [],
   "source": [
    "from pyspark.ml.feature import PCA\n",
    "\n",
    "\n",
    "pca = PCA(k=4, inputCol=\"selectedFeatures\", outputCol=\"pcaFeatures\")\n",
    "model = pca.fit(df)\n",
    "df = model.transform(df)"
   ]
  },
  {
   "cell_type": "markdown",
   "metadata": {},
   "source": [
    "% di varianza spiegata dalle pca features"
   ]
  },
  {
   "cell_type": "code",
   "execution_count": 93,
   "metadata": {},
   "outputs": [
    {
     "data": {
      "text/plain": [
       "array([22.54319, 18.75416, 16.1346 , 13.68439])"
      ]
     },
     "execution_count": 93,
     "metadata": {},
     "output_type": "execute_result"
    }
   ],
   "source": [
    "import numpy as np\n",
    "np.round(100.00*model.explainedVariance.toArray(),5)"
   ]
  },
  {
   "cell_type": "code",
   "execution_count": 94,
   "metadata": {},
   "outputs": [
    {
     "data": {
      "text/plain": [
       "array([[-0.5125,  0.1901, -0.4717,  0.0614],\n",
       "       [-0.1381,  0.6976,  0.0291,  0.0543],\n",
       "       [-0.5727, -0.1982,  0.269 , -0.0718],\n",
       "       [ 0.4706, -0.1738,  0.0495, -0.3414],\n",
       "       [-0.092 ,  0.3837,  0.6624, -0.4348],\n",
       "       [-0.2262, -0.3876,  0.4775,  0.4695],\n",
       "       [-0.3305, -0.332 , -0.1874, -0.6798]])"
      ]
     },
     "execution_count": 94,
     "metadata": {},
     "output_type": "execute_result"
    }
   ],
   "source": [
    "pcs = np.round(model.pc.toArray(),4)\n",
    "pcs"
   ]
  },
  {
   "cell_type": "code",
   "execution_count": 95,
   "metadata": {},
   "outputs": [
    {
     "data": {
      "text/html": [
       "<div>\n",
       "<style scoped>\n",
       "    .dataframe tbody tr th:only-of-type {\n",
       "        vertical-align: middle;\n",
       "    }\n",
       "\n",
       "    .dataframe tbody tr th {\n",
       "        vertical-align: top;\n",
       "    }\n",
       "\n",
       "    .dataframe thead th {\n",
       "        text-align: right;\n",
       "    }\n",
       "</style>\n",
       "<table border=\"1\" class=\"dataframe\">\n",
       "  <thead>\n",
       "    <tr style=\"text-align: right;\">\n",
       "      <th></th>\n",
       "      <th>PC1</th>\n",
       "      <th>PC2</th>\n",
       "      <th>PC3</th>\n",
       "      <th>PC4</th>\n",
       "    </tr>\n",
       "  </thead>\n",
       "  <tbody>\n",
       "    <tr>\n",
       "      <th>0</th>\n",
       "      <td>-0.5125</td>\n",
       "      <td>0.1901</td>\n",
       "      <td>-0.4717</td>\n",
       "      <td>0.0614</td>\n",
       "    </tr>\n",
       "    <tr>\n",
       "      <th>1</th>\n",
       "      <td>-0.1381</td>\n",
       "      <td>0.6976</td>\n",
       "      <td>0.0291</td>\n",
       "      <td>0.0543</td>\n",
       "    </tr>\n",
       "    <tr>\n",
       "      <th>2</th>\n",
       "      <td>-0.5727</td>\n",
       "      <td>-0.1982</td>\n",
       "      <td>0.2690</td>\n",
       "      <td>-0.0718</td>\n",
       "    </tr>\n",
       "    <tr>\n",
       "      <th>3</th>\n",
       "      <td>0.4706</td>\n",
       "      <td>-0.1738</td>\n",
       "      <td>0.0495</td>\n",
       "      <td>-0.3414</td>\n",
       "    </tr>\n",
       "    <tr>\n",
       "      <th>4</th>\n",
       "      <td>-0.0920</td>\n",
       "      <td>0.3837</td>\n",
       "      <td>0.6624</td>\n",
       "      <td>-0.4348</td>\n",
       "    </tr>\n",
       "    <tr>\n",
       "      <th>5</th>\n",
       "      <td>-0.2262</td>\n",
       "      <td>-0.3876</td>\n",
       "      <td>0.4775</td>\n",
       "      <td>0.4695</td>\n",
       "    </tr>\n",
       "    <tr>\n",
       "      <th>6</th>\n",
       "      <td>-0.3305</td>\n",
       "      <td>-0.3320</td>\n",
       "      <td>-0.1874</td>\n",
       "      <td>-0.6798</td>\n",
       "    </tr>\n",
       "  </tbody>\n",
       "</table>\n",
       "</div>"
      ],
      "text/plain": [
       "      PC1     PC2     PC3     PC4\n",
       "0 -0.5125  0.1901 -0.4717  0.0614\n",
       "1 -0.1381  0.6976  0.0291  0.0543\n",
       "2 -0.5727 -0.1982  0.2690 -0.0718\n",
       "3  0.4706 -0.1738  0.0495 -0.3414\n",
       "4 -0.0920  0.3837  0.6624 -0.4348\n",
       "5 -0.2262 -0.3876  0.4775  0.4695\n",
       "6 -0.3305 -0.3320 -0.1874 -0.6798"
      ]
     },
     "execution_count": 95,
     "metadata": {},
     "output_type": "execute_result"
    }
   ],
   "source": [
    "import pandas as pd\n",
    "pcs = np.round(model.pc.toArray(),4)\n",
    "df_pc = pd.DataFrame(pcs, columns = ['PC1','PC2','PC3','PC4'])\n",
    "df_pc"
   ]
  },
  {
   "cell_type": "code",
   "execution_count": 98,
   "metadata": {},
   "outputs": [
    {
     "name": "stdout",
     "output_type": "stream",
     "text": [
      "+--------------------------------------------------------------------------------+\n",
      "|pcaFeatures                                                                     |\n",
      "+--------------------------------------------------------------------------------+\n",
      "|[-6.968425963715578,-2.4647201823112255,1.0221145843526416,-1.492352202037453]  |\n",
      "|[-8.413823459263066,-3.5944880484922104,-0.38116013266030957,-3.708396756870148]|\n",
      "|[-5.427591874863107,-4.569529261209224,2.480328057283163,-5.645064260804198]    |\n",
      "|[-4.490100006630161,-4.4492100111579935,0.3511746501891493,-5.210600013851331]  |\n",
      "|[-5.83668787066902,-2.95956871305103,2.375054455227887,-4.972841996040387]      |\n",
      "|[-7.954153085150978,-3.5023897007245184,-1.203317439774913,-3.933484917200419]  |\n",
      "|[-4.939249129506914,-3.5837320170455413,-0.4470010641595419,-4.189664128431549] |\n",
      "|[-7.05642273480811,-3.7454863951686073,0.22583750634966293,-4.612891897762064]  |\n",
      "|[-7.7802444680882346,-4.244334205805149,0.23262175640684335,-3.5439003851208333]|\n",
      "|[-3.586299350396871,-1.0458105397155713,0.33077998304773537,0.03650692710464165]|\n",
      "|[-2.905858693025327,-3.4442954965127006,0.4867480815064087,-6.2822333448124645] |\n",
      "|[-7.350712022888278,-3.8755930432421195,0.38861166705900163,-4.277256295492288] |\n",
      "|[-7.073315654155405,-3.3663530458174957,-1.244060628788239,-4.17596072160821]   |\n",
      "|[-5.9033868623447,-4.060710741840539,0.07159653874352512,-3.7647593916654336]   |\n",
      "|[-7.246970587500113,-2.46545262942913,-1.4965293071266126,-4.1068291382237065]  |\n",
      "|[-7.797193322314887,-3.6724340830445117,0.08406674199108988,-4.579109898274639] |\n",
      "|[-7.39885957080009,-3.064907413854103,2.8490113832405033,-5.2236100273145345]   |\n",
      "|[-8.22924264455371,-1.9105408224242961,1.0479704893500348,-6.659690037506561]   |\n",
      "|[-7.962614966247323,-3.11704659168506,-1.452981595709192,-4.304469513299576]    |\n",
      "|[-7.868226784632815,-3.077719326003227,0.6064808495460072,-4.187626721734374]   |\n",
      "+--------------------------------------------------------------------------------+\n",
      "only showing top 20 rows\n",
      "\n"
     ]
    }
   ],
   "source": [
    "df.select('pcaFeatures').show(truncate=False)"
   ]
  },
  {
   "cell_type": "markdown",
   "metadata": {},
   "source": [
    "# K-Means"
   ]
  },
  {
   "cell_type": "code",
   "execution_count": 11,
   "metadata": {},
   "outputs": [],
   "source": [
    "from pyspark.ml.clustering import KMeans\n",
    "from pyspark.ml.evaluation import ClusteringEvaluator"
   ]
  },
  {
   "cell_type": "markdown",
   "metadata": {},
   "source": [
    "confronto silhouette score per scegliere il miglior numero di cluster"
   ]
  },
  {
   "cell_type": "code",
   "execution_count": 100,
   "metadata": {},
   "outputs": [
    {
     "name": "stdout",
     "output_type": "stream",
     "text": [
      "k=2, Silhouette Score:0.40742143217297355\n",
      "k=3, Silhouette Score:0.45845585168435465\n",
      "k=4, Silhouette Score:0.41973917538089833\n",
      "k=5, Silhouette Score:0.42154311246895027\n",
      "k=6, Silhouette Score:0.4203453707648616\n",
      "k=7, Silhouette Score:0.38107911180504045\n",
      "k=8, Silhouette Score:0.39537622181609927\n",
      "k=9, Silhouette Score:0.3333987880150058\n"
     ]
    }
   ],
   "source": [
    "silhouette_score=[]\n",
    "evaluator = ClusteringEvaluator(predictionCol='prediction', featuresCol='pcaFeatures', \\\n",
    "                                metricName='silhouette', distanceMeasure='squaredEuclidean')\n",
    "for i in range(2,10):\n",
    "    \n",
    "    KMeans_algo=KMeans(featuresCol='pcaFeatures', k=i)\n",
    "    \n",
    "    KMeans_fit=KMeans_algo.fit(df)\n",
    "    \n",
    "    output=KMeans_fit.transform(df)\n",
    "    \n",
    "    \n",
    "    \n",
    "    score=evaluator.evaluate(output)\n",
    "    \n",
    "    silhouette_score.append(score)\n",
    "    \n",
    "    print(\"k={}, Silhouette Score:{}\".format(i,score))"
   ]
  },
  {
   "cell_type": "code",
   "execution_count": 101,
   "metadata": {},
   "outputs": [
    {
     "data": {
      "image/png": "[encoded data removed]",
      "text/plain": [
       "<Figure size 432x288 with 1 Axes>"
      ]
     },
     "metadata": {
      "needs_background": "light"
     },
     "output_type": "display_data"
    }
   ],
   "source": [
    "cost = np.zeros(10)\n",
    "\n",
    "for k in range(2,10):\n",
    "    kmeans = KMeans().setK(k).setSeed(1).setFeaturesCol('pcaFeatures')\n",
    "    model = kmeans.fit(df)\n",
    "    cost[k] = model.summary.trainingCost\n",
    "\n",
    "# Plot the cost\n",
    "df_cost = pd.DataFrame(cost[2:])\n",
    "df_cost.columns = [\"cost\"]\n",
    "new_col = [2,3,4,5,6,7,8, 9]\n",
    "df_cost.insert(0, 'cluster', new_col)\n",
    "\n",
    "import pylab as pl\n",
    "pl.plot(df_cost.cluster, df_cost.cost)\n",
    "pl.xlabel('Number of Clusters')\n",
    "pl.ylabel('Score')\n",
    "pl.title('Elbow Curve')\n",
    "pl.show()"
   ]
  },
  {
   "cell_type": "code",
   "execution_count": 33,
   "metadata": {},
   "outputs": [
    {
     "name": "stdout",
     "output_type": "stream",
     "text": [
      "Silhouette with squared euclidean distance = -0.12247447217258361\n",
      "Cluster Centers: \n",
      "[-7.19300914 -3.95676318  0.99750747 -4.1103977 ]\n",
      "[-7.18561418 -0.57990233  1.1394842  -5.0225804 ]\n",
      "[-4.78672498 -3.58479538 -0.06945621 -5.07068729]\n",
      "[-7.10514523 -3.3595689  -0.6022226  -4.3059456 ]\n",
      "[-5.06011094 -2.62158071  0.67279119 -2.42025377]\n"
     ]
    }
   ],
   "source": [
    "# Trains a k-means model.\n",
    "kmeans = KMeans(featuresCol='pcaFeatures', k=5)\n",
    "model = kmeans.fit(df)\n",
    "\n",
    "# Make predictions\n",
    "predictions = model.transform(df)\n",
    "\n",
    "# Evaluate clustering by computing Silhouette score\n",
    "evaluator = ClusteringEvaluator()\n",
    "\n",
    "silhouette = evaluator.evaluate(predictions)\n",
    "print(\"Silhouette with squared euclidean distance = \" + str(silhouette))\n",
    "\n",
    "# Shows the result.\n",
    "centers = model.clusterCenters()\n",
    "print(\"Cluster Centers: \")\n",
    "for center in centers:\n",
    "    print(center)"
   ]
  },
  {
   "cell_type": "code",
   "execution_count": 34,
   "metadata": {},
   "outputs": [],
   "source": [
    "generi=predictions.groupBy(\"prediction\",\"genres\").count().orderBy(desc(\"prediction\"), desc(\"count\"))"
   ]
  },
  {
   "cell_type": "code",
   "execution_count": 44,
   "metadata": {},
   "outputs": [
    {
     "name": "stdout",
     "output_type": "stream",
     "text": [
      "+----------+-----------------------------------------------------------------------------------------------------------------------+-----+\n",
      "|prediction|genres                                                                                                                 |count|\n",
      "+----------+-----------------------------------------------------------------------------------------------------------------------+-----+\n",
      "|0         |[]                                                                                                                     |11291|\n",
      "|0         |[classic israeli pop, israeli rock]                                                                                    |536  |\n",
      "|0         |[classic italian pop, italian adult pop]                                                                               |528  |\n",
      "|0         |[classic icelandic pop, icelandic pop, icelandic rock]                                                                 |442  |\n",
      "|0         |[j-pop]                                                                                                                |441  |\n",
      "|0         |[j-pop, j-poprock, j-rock]                                                                                             |410  |\n",
      "|0         |[classic swedish pop, dansband, danspunk]                                                                              |404  |\n",
      "|0         |[greek pop, laiko]                                                                                                     |395  |\n",
      "|0         |[c-pop, cantopop, classic cantopop]                                                                                    |365  |\n",
      "|0         |[edm, pop dance, progressive house, progressive trance, trance, uplifting trance]                                      |330  |\n",
      "|0         |[\"[\"\"canzone dautore\"\"]                                                                                                |320  |\n",
      "|0         |[rock uruguayo]                                                                                                        |315  |\n",
      "|0         |[british invasion, classic rock, rock]                                                                                 |314  |\n",
      "|0         |[classic rock, glam rock, rock]                                                                                        |313  |\n",
      "|0         |[classic rock, early us punk, permanent wave, punk, rock, skate punk]                                                  |301  |\n",
      "|0         |[classic bollywood, desi pop, filmi, modern bollywood, sufi]                                                           |300  |\n",
      "|0         |[indonesian pop]                                                                                                       |298  |\n",
      "|0         |[classic thai pop]                                                                                                     |294  |\n",
      "|0         |[argentine rock, latin alternative, latin rock, rock en espanol, rock nacional]                                        |276  |\n",
      "|0         |[slovak pop]                                                                                                           |269  |\n",
      "|0         |[classic israeli pop]                                                                                                  |263  |\n",
      "|0         |[arabesk]                                                                                                              |258  |\n",
      "|0         |[czech rock]                                                                                                           |249  |\n",
      "|0         |[sertanejo, sertanejo pop, sertanejo universitario]                                                                    |246  |\n",
      "|0         |[classic j-pop, j-pop, j-rock]                                                                                         |246  |\n",
      "|0         |[latin christian, latin worship]                                                                                       |246  |\n",
      "|0         |[turkish pop]                                                                                                          |246  |\n",
      "|0         |[k-pop, k-pop boy group]                                                                                               |242  |\n",
      "|0         |[classic j-pop, j-pop]                                                                                                 |241  |\n",
      "|0         |[c-pop, cantopop]                                                                                                      |235  |\n",
      "|0         |[bulgarian pop, chalga]                                                                                                |234  |\n",
      "|0         |[beatlesque, britpop, madchester, permanent wave, rock]                                                                |231  |\n",
      "|0         |[classic bollywood, desi pop, filmi, sufi]                                                                             |230  |\n",
      "|0         |[classic tollywood, filmi]                                                                                             |222  |\n",
      "|0         |[classic turkish pop]                                                                                                  |219  |\n",
      "|0         |[kayokyoku]                                                                                                            |219  |\n",
      "|0         |[classic icelandic pop]                                                                                                |215  |\n",
      "|0         |[filmi]                                                                                                                |205  |\n",
      "|0         |[classic icelandic pop, icelandic rock]                                                                                |201  |\n",
      "|0         |[slovak pop, slovak rock]                                                                                              |201  |\n",
      "|0         |[cumbia, vallenato]                                                                                                    |198  |\n",
      "|0         |[album rock, classic rock, hard rock, rock]                                                                            |196  |\n",
      "|0         |[hard rock, metal, old school thrash, rock, thrash metal]                                                              |190  |\n",
      "|0         |[c-pop, classic mandopop, mandopop]                                                                                    |190  |\n",
      "|0         |[progressive house, progressive trance, trance, uplifting trance]                                                      |188  |\n",
      "|0         |[thai pop]                                                                                                             |188  |\n",
      "|0         |[classic icelandic pop, icelandic pop]                                                                                 |188  |\n",
      "|0         |[arabesk, turkish folk]                                                                                                |185  |\n",
      "|0         |[album rock, art rock, blues rock, british invasion, classic rock, folk rock, hard rock, mellow gold, rock, roots rock]|184  |\n",
      "|0         |[progressive house, progressive trance, progressive uplifting trance, trance, uplifting trance]                        |180  |\n",
      "|0         |[glam metal, hard rock, rock]                                                                                          |180  |\n",
      "|0         |[czech folk, czech rock]                                                                                               |179  |\n",
      "|0         |[dance pop, pop, post-teen pop]                                                                                        |172  |\n",
      "|0         |[baroque pop, brill building pop, classic rock, folk rock, psychedelic rock, rock, sunshine pop]                       |170  |\n",
      "|0         |[finnish dance pop, finnish pop, iskelma, suomi rock]                                                                  |169  |\n",
      "|0         |[latin, reggaeton, reggaeton colombiano, trap latino]                                                                  |169  |\n",
      "|0         |[classic israeli pop, israeli rock, israeli singer-songwriter]                                                         |168  |\n",
      "|0         |[dutch trance, edm, pop dance, progressive house, trance]                                                              |168  |\n",
      "|0         |[mandopop]                                                                                                             |168  |\n",
      "|0         |[album rock, classic rock, mellow gold, rock, soft rock, yacht rock]                                                   |167  |\n",
      "|0         |[cuarteto]                                                                                                             |166  |\n",
      "|0         |[hoerspiel]                                                                                                            |165  |\n",
      "|0         |[chanson, french pop]                                                                                                  |165  |\n",
      "|0         |[album rock, birmingham metal, classic rock, hard rock, metal, rock, stoner rock, uk doom metal]                       |163  |\n",
      "|0         |[classic hungarian pop]                                                                                                |162  |\n",
      "|0         |[cantopop]                                                                                                             |162  |\n",
      "|0         |[desi pop, filmi, modern bollywood, sufi]                                                                              |162  |\n",
      "|0         |[pop romantico]                                                                                                        |162  |\n",
      "|0         |[pop, post-teen pop]                                                                                                   |161  |\n",
      "|0         |[classic j-rock]                                                                                                       |160  |\n",
      "|0         |[alternative rock, grunge, permanent wave, rock]                                                                       |160  |\n",
      "|0         |[j-pop, j-poprock, j-rock, japanese emo, visual kei]                                                                   |159  |\n",
      "|0         |[classic bollywood, classic tollywood, desi pop, filmi, sufi]                                                          |159  |\n",
      "|0         |[classic danish pop, danish pop, dansktop]                                                                             |158  |\n",
      "|0         |[beatlesque, british invasion, classic rock, merseybeat, psychedelic rock, rock]                                       |158  |\n",
      "|0         |[latvian pop]                                                                                                          |157  |\n",
      "|0         |[new wave, permanent wave, rock]                                                                                       |157  |\n",
      "|0         |[adult standards, easy listening, lounge]                                                                              |155  |\n",
      "|0         |[opm, pinoy reggae, pinoy rock]                                                                                        |154  |\n",
      "|0         |[album rock, art rock, canadian metal, classic canadian rock, classic rock, hard rock, metal, progressive rock, rock]  |153  |\n",
      "|0         |[vallenato]                                                                                                            |153  |\n",
      "|0         |[album rock, glam metal, hard rock, metal, rock]                                                                       |150  |\n",
      "|0         |[album rock, classic rock, glam rock, hard rock, metal, rock]                                                          |148  |\n",
      "|0         |[art rock, classic rock, glam rock, permanent wave, rock]                                                              |148  |\n",
      "|0         |[latin alternative, latin rock, rock en espanol, rock uruguayo]                                                        |147  |\n",
      "|0         |[opm]                                                                                                                  |147  |\n",
      "|0         |[classic danish pop, dansktop]                                                                                         |147  |\n",
      "|0         |[israeli pop]                                                                                                          |147  |\n",
      "|0         |[album rock, hard rock, metal, nwobhm, rock]                                                                           |146  |\n",
      "|0         |[alternative rock, athens indie, classic rock, permanent wave, pop rock, rock]                                         |146  |\n",
      "|0         |[irish rock, permanent wave, rock]                                                                                     |144  |\n",
      "|0         |[latin, salsa, salsa puertorriquena, tropical]                                                                         |143  |\n",
      "|0         |[thai pop, thai rock]                                                                                                  |143  |\n",
      "|0         |[classic danish pop, danish pop]                                                                                       |143  |\n",
      "|0         |[merengue]                                                                                                             |143  |\n",
      "|0         |[adult standards, rock-and-roll, rockabilly]                                                                           |142  |\n",
      "|0         |[contemporary country, country, country road]                                                                          |141  |\n",
      "|0         |[classic indo pop, dangdut]                                                                                            |140  |\n",
      "|0         |[bolero, cancion melodica, latin pop, ranchera]                                                                        |140  |\n",
      "|0         |[album rock, blues rock, classic rock, hard rock, metal, psychedelic rock, rock]                                       |140  |\n",
      "+----------+-----------------------------------------------------------------------------------------------------------------------+-----+\n",
      "only showing top 100 rows\n",
      "\n"
     ]
    },
    {
     "name": "stdout",
     "output_type": "stream",
     "text": [
      "+----------+-----------------------------------------------------------------------------------------------------------+-----+\n",
      "|prediction|genres                                                                                                     |count|\n",
      "+----------+-----------------------------------------------------------------------------------------------------------+-----+\n",
      "|1         |[hoerspiel]                                                                                                |7466 |\n",
      "|1         |[]                                                                                                         |7024 |\n",
      "|1         |[kleine hoerspiel]                                                                                         |1902 |\n",
      "|1         |[barnsagor]                                                                                                |1091 |\n",
      "|1         |[hoerspiel, kleine hoerspiel]                                                                              |1021 |\n",
      "|1         |[hoerspiel, kleine hoerspiel, reading]                                                                     |824  |\n",
      "|1         |[reading]                                                                                                  |368  |\n",
      "|1         |[hoerspiel, kindermusik, kleine hoerspiel]                                                                 |367  |\n",
      "|1         |[barnmusik, barnsagor]                                                                                     |355  |\n",
      "|1         |[disney horspiele, kleine hoerspiel]                                                                       |197  |\n",
      "|1         |[psychedelic rock]                                                                                         |195  |\n",
      "|1         |[sertanejo, sertanejo pop, sertanejo universitario]                                                        |186  |\n",
      "|1         |[barnmusik]                                                                                                |166  |\n",
      "|1         |[classic israeli pop, israeli rock]                                                                        |158  |\n",
      "|1         |[poetry]                                                                                                   |139  |\n",
      "|1         |[latin christian, latin worship]                                                                           |134  |\n",
      "|1         |[classic israeli pop]                                                                                      |129  |\n",
      "|1         |[\"[\"\"canzone dautore\"\"]                                                                                    |128  |\n",
      "|1         |[guidance, motivation, hoerspiel, kleine hoerspiel, reading]                                               |116  |\n",
      "|1         |[dutch trance, edm, pop dance, progressive house, trance]                                                  |110  |\n",
      "|1         |[album rock, art rock, classic rock, progressive rock, psychedelic rock, rock, symphonic rock]             |106  |\n",
      "|1         |[german literature]                                                                                        |96   |\n",
      "|1         |[sertanejo, sertanejo pop, sertanejo tradicional, sertanejo universitario]                                 |94   |\n",
      "|1         |[chinderlieder, swiss folk]                                                                                |90   |\n",
      "|1         |[sertanejo, sertanejo universitario]                                                                       |88   |\n",
      "|1         |[arab folk, belly dance, classic arab pop]                                                                 |87   |\n",
      "|1         |[barnasogur]                                                                                               |83   |\n",
      "|1         |[adult standards, dixieland, harlem renaissance, jazz trumpet, new orleans jazz, soul, swing, vocal jazz]  |83   |\n",
      "|1         |[german rock, kabarett]                                                                                    |83   |\n",
      "|1         |[classic israeli pop, israeli rock, israeli singer-songwriter]                                             |82   |\n",
      "|1         |[classic italian pop, italian adult pop]                                                                   |80   |\n",
      "|1         |[arkansas country, outlaw country]                                                                         |78   |\n",
      "|1         |[bornesange]                                                                                               |73   |\n",
      "|1         |[kindermusik, kleine hoerspiel]                                                                            |70   |\n",
      "|1         |[comedia]                                                                                                  |70   |\n",
      "|1         |[classic tollywood, filmi]                                                                                 |70   |\n",
      "|1         |[axe, pagode]                                                                                              |69   |\n",
      "|1         |[greek pop, laiko]                                                                                         |69   |\n",
      "|1         |[barnalog]                                                                                                 |66   |\n",
      "|1         |[bornehistorier, bornesange]                                                                               |65   |\n",
      "|1         |[barnemusikk, classic norwegian pop, eventyr, norwegian pop, norwegian rock]                               |64   |\n",
      "|1         |[reggae, roots reggae]                                                                                     |64   |\n",
      "|1         |[barnalog, barnasogur, classic icelandic pop, icelandic pop]                                               |62   |\n",
      "|1         |[comic]                                                                                                    |60   |\n",
      "|1         |[album rock, classic rock, country rock, folk, folk rock, mellow gold, rock, roots rock, singer-songwriter]|60   |\n",
      "|1         |[classic danish pop, dansktop]                                                                             |59   |\n",
      "|1         |[celtic, irish folk]                                                                                       |59   |\n",
      "|1         |[classic rock, glam rock, rock]                                                                            |59   |\n",
      "|1         |[classic hungarian pop]                                                                                    |58   |\n",
      "|1         |[adult standards, rock-and-roll, rockabilly]                                                               |57   |\n",
      "|1         |[adult standards, classic uk pop, mellow gold, neo soul, new wave pop, soft rock]                          |56   |\n",
      "|1         |[disney horspiele]                                                                                         |54   |\n",
      "|1         |[classic icelandic pop, icelandic pop, icelandic rock]                                                     |53   |\n",
      "|1         |[celtic, irish folk, irish pub song, shanty]                                                               |52   |\n",
      "|1         |[argentine rock, latin alternative, latin rock, rock en espanol, rock nacional]                            |52   |\n",
      "|1         |[polish hip hop]                                                                                           |52   |\n",
      "|1         |[classic bollywood, desi pop, filmi, modern bollywood, sufi]                                               |52   |\n",
      "|1         |[british comedy]                                                                                           |50   |\n",
      "|1         |[chanson, french pop]                                                                                      |50   |\n",
      "|1         |[chinderlieder]                                                                                            |50   |\n",
      "|1         |[kindermusik]                                                                                              |49   |\n",
      "|1         |[classic soundtrack]                                                                                       |49   |\n",
      "|1         |[barnalog, barnasogur]                                                                                     |48   |\n",
      "|1         |[adult standards, easy listening, lounge]                                                                  |47   |\n",
      "|1         |[arab pop, classic arab pop, dabke, lebanese pop]                                                          |46   |\n",
      "|1         |[adult standards, harlem renaissance, jazz, jazz blues, lounge, soul, torch song, vocal jazz]              |45   |\n",
      "|1         |[adult standards, jazz blues, swing, vocal jazz]                                                           |45   |\n",
      "|1         |[dance rock, new romantic, new wave, permanent wave, synthpop]                                             |45   |\n",
      "|1         |[argentine rock, latin alternative, latin rock, post-punk argentina, rock en espanol, ska argentino]       |44   |\n",
      "|1         |[latin alternative, latin rock, rock en espanol, rock uruguayo]                                            |44   |\n",
      "|1         |[filmi]                                                                                                    |43   |\n",
      "|1         |[hard rock, metal, old school thrash, rock, thrash metal]                                                  |41   |\n",
      "|1         |[mluvene slovo]                                                                                            |41   |\n",
      "|1         |[classic icelandic pop]                                                                                    |41   |\n",
      "|1         |[tango, vintage tango]                                                                                     |40   |\n",
      "|1         |[classic bollywood, classic pakistani pop, filmi, ghazal, sufi]                                            |40   |\n",
      "|1         |[adult standards, hollywood, lounge, torch song, vocal jazz]                                               |40   |\n",
      "|1         |[disco, mellow gold, soft rock]                                                                            |39   |\n",
      "|1         |[barnalog, barnasogur, icelandic pop]                                                                      |39   |\n",
      "|1         |[chanson]                                                                                                  |39   |\n",
      "|1         |[barnmusik, bornesange]                                                                                    |39   |\n",
      "|1         |[cocuk masallari, turkish jazz]                                                                            |39   |\n",
      "|1         |[album rock, classic rock, glam rock, hard rock, metal, rock]                                              |38   |\n",
      "|1         |[fado]                                                                                                     |38   |\n",
      "|1         |[chutney, classic bollywood, desi pop, filmi, sufi]                                                        |37   |\n",
      "|1         |[chanson, french pop, french rock]                                                                         |37   |\n",
      "|1         |[adoracao, brazilian gospel]                                                                               |36   |\n",
      "|1         |[classic rock, heartland rock, mellow gold, permanent wave, rock, singer-songwriter]                       |36   |\n",
      "|1         |[adult standards, jazz blues, soul, soul jazz, torch song, vocal jazz]                                     |36   |\n",
      "|1         |[cool jazz, hard bop, jazz, jazz fusion, jazz trumpet]                                                     |36   |\n",
      "|1         |[classic bollywood, desi pop, filmi, sufi]                                                                 |36   |\n",
      "|1         |[rock uruguayo]                                                                                            |36   |\n",
      "|1         |[danish hip hop, danish pop]                                                                               |35   |\n",
      "|1         |[funk carioca, sertanejo, sertanejo pop, sertanejo universitario]                                          |35   |\n",
      "|1         |[danish pop rock]                                                                                          |35   |\n",
      "|1         |[austropop]                                                                                                |35   |\n",
      "|1         |[classic rock, folk rock, mellow gold, piano rock, rock, singer-songwriter, soft rock]                     |35   |\n",
      "|1         |[bornehistorier]                                                                                           |35   |\n",
      "|1         |[barnemusikk, eventyr]                                                                                     |34   |\n",
      "|1         |[album rock, classic rock, mellow gold, rock, soft rock, yacht rock]                                       |34   |\n",
      "+----------+-----------------------------------------------------------------------------------------------------------+-----+\n",
      "only showing top 100 rows\n",
      "\n"
     ]
    },
    {
     "name": "stdout",
     "output_type": "stream",
     "text": [
      "+----------+-----------------------------------------------------------------------------------------------------------------------------------------------------------+-----+\n",
      "|prediction|genres                                                                                                                                                     |count|\n",
      "+----------+-----------------------------------------------------------------------------------------------------------------------------------------------------------+-----+\n",
      "|2         |[]                                                                                                                                                         |12273|\n",
      "|2         |[tango, vintage tango]                                                                                                                                     |984  |\n",
      "|2         |[adult standards, easy listening, lounge]                                                                                                                  |885  |\n",
      "|2         |[vintage taiwan pop]                                                                                                                                       |609  |\n",
      "|2         |[classic bollywood, desi pop, filmi, sufi]                                                                                                                 |533  |\n",
      "|2         |[baroque, classical, early music, german baroque, canadian classical piano, canadian contemporary r&b, classical performance, classical piano]             |531  |\n",
      "|2         |[classic soundtrack]                                                                                                                                       |414  |\n",
      "|2         |[adult standards, jazz blues, swing, vocal jazz]                                                                                                           |335  |\n",
      "|2         |[classic bollywood, classic pakistani pop, filmi, ghazal, sufi]                                                                                            |312  |\n",
      "|2         |[classical, early romantic era, polish classical, classical performance, classical piano, polish classical piano]                                          |311  |\n",
      "|2         |[soundtrack, british orchestra, classical, classical performance, orchestra]                                                                               |295  |\n",
      "|2         |[anime, anime score, japanese classical, japanese soundtrack, soundtrack]                                                                                  |286  |\n",
      "|2         |[adult standards, easy listening, lounge, vocal jazz]                                                                                                      |274  |\n",
      "|2         |[classic israeli pop, israeli rock]                                                                                                                        |274  |\n",
      "|2         |[adult standards, bebop, cool jazz, jazz, jazz piano, lounge, stride, vocal jazz]                                                                          |255  |\n",
      "|2         |[classic bollywood, classic tollywood, desi pop, filmi, sufi]                                                                                              |250  |\n",
      "|2         |[classic bollywood, filmi, ghazal]                                                                                                                         |243  |\n",
      "|2         |[album rock, art rock, classic rock, progressive rock, psychedelic rock, rock, symphonic rock]                                                             |239  |\n",
      "|2         |[classic tollywood, filmi]                                                                                                                                 |232  |\n",
      "|2         |[rebetiko]                                                                                                                                                 |231  |\n",
      "|2         |[classic bollywood]                                                                                                                                        |228  |\n",
      "|2         |[\"[\"\"canzone dautore\"\"]                                                                                                                                    |226  |\n",
      "|2         |[classic italian pop, italian adult pop]                                                                                                                   |220  |\n",
      "|2         |[classic soundtrack, italian soundtrack, soundtrack, vintage italian soundtrack]                                                                           |211  |\n",
      "|2         |[adult standards, easy listening, exotica, lounge]                                                                                                         |207  |\n",
      "|2         |[adult standards, harlem renaissance, jazz, jazz blues, lounge, soul, torch song, vocal jazz]                                                              |207  |\n",
      "|2         |[classic russian rock, russian alternative rock, russian punk, russian punk rock, russian rock, russian ska]                                               |202  |\n",
      "|2         |[sleep]                                                                                                                                                    |192  |\n",
      "|2         |[classical, early romantic era, polish classical, classical performance, classical piano, russian classical piano]                                         |187  |\n",
      "|2         |[arab folk, belly dance, classic arab pop]                                                                                                                 |184  |\n",
      "|2         |[bolero, bolero mexicano, mariachi, ranchera]                                                                                                              |180  |\n",
      "|2         |[classic bollywood, classic pakistani pop, filmi, ghazal, rabindra sangeet, sufi]                                                                          |177  |\n",
      "|2         |[latin, latin pop]                                                                                                                                         |174  |\n",
      "|2         |[classic israeli pop]                                                                                                                                      |171  |\n",
      "|2         |[vintage jazz]                                                                                                                                             |170  |\n",
      "|2         |[cool jazz, hard bop, jazz, jazz fusion, jazz trumpet]                                                                                                     |168  |\n",
      "|2         |[chanson]                                                                                                                                                  |168  |\n",
      "|2         |[adult standards, brill building pop, easy listening, lounge]                                                                                              |164  |\n",
      "|2         |[adult standards, mellow gold, soft rock]                                                                                                                  |161  |\n",
      "|2         |[classic bollywood, desi pop, filmi, ghazal, sufi]                                                                                                         |159  |\n",
      "|2         |[turkish folk, turkish jazz]                                                                                                                               |158  |\n",
      "|2         |[adult standards, rock-and-roll, rockabilly]                                                                                                               |157  |\n",
      "|2         |[bebop, cool jazz, hard bop, jazz, jazz fusion, jazz piano, stride, vocal jazz]                                                                            |151  |\n",
      "|2         |[adult standards, bebop, cool jazz, jazz, jazz fusion, jazz piano, vocal jazz]                                                                             |151  |\n",
      "|2         |[adult standards, vocal jazz]                                                                                                                              |149  |\n",
      "|2         |[adult standards, brill building pop, easy listening, lounge, vocal jazz]                                                                                  |149  |\n",
      "|2         |[bebop, contemporary post-bop, cool jazz, hard bop, jazz, jazz fusion, jazz trio, soul jazz, stride, vocal jazz]                                           |146  |\n",
      "|2         |[classic bollywood, desi pop, filmi, modern bollywood, sufi]                                                                                               |143  |\n",
      "|2         |[adult standards, classic soundtrack, easy listening, lounge, vocal jazz]                                                                                  |142  |\n",
      "|2         |[classic bollywood, filmi]                                                                                                                                 |140  |\n",
      "|2         |[classic kollywood, filmi]                                                                                                                                 |135  |\n",
      "|2         |[chutney, classic bollywood, desi pop, filmi, sufi]                                                                                                        |135  |\n",
      "|2         |[tango, vintage tango, orquesta tipica]                                                                                                                    |133  |\n",
      "|2         |[early modern classical, impressionism, late romantic era, russian romanticism, classical, classical performance, classical piano, russian classical piano]|129  |\n",
      "|2         |[adult standards, african-american classical, big band, cool jazz, harlem renaissance, jazz, jazz piano, lounge, stride, swing, vocal jazz]                |128  |\n",
      "|2         |[adult standards, easy listening]                                                                                                                          |128  |\n",
      "|2         |[c-pop, cantopop, classic cantopop]                                                                                                                        |127  |\n",
      "|2         |[adult standards, cool jazz, jazz, jazz trumpet, lounge, vocal jazz]                                                                                       |126  |\n",
      "|2         |[mariachi, ranchera]                                                                                                                                       |126  |\n",
      "|2         |[classic kollywood, filmi, tamil pop]                                                                                                                      |123  |\n",
      "|2         |[adult standards, bebop, big band, cool jazz, hard bop, jazz, jazz piano, swing, vocal jazz]                                                               |123  |\n",
      "|2         |[arab pop, classic arab pop, dabke, lebanese pop]                                                                                                          |121  |\n",
      "|2         |[soundtrack]                                                                                                                                               |121  |\n",
      "|2         |[swedish jazz]                                                                                                                                             |121  |\n",
      "|2         |[c-pop, classic mandopop, vintage chinese pop]                                                                                                             |120  |\n",
      "|2         |[classic finnish pop, classic iskelma]                                                                                                                     |120  |\n",
      "|2         |[adult standards, easy listening, lounge, soul, swing, torch song, vocal jazz]                                                                             |118  |\n",
      "|2         |[classic soundtrack, soundtrack]                                                                                                                           |118  |\n",
      "|2         |[adult standards, cool jazz, jazz, lounge, soul, swing, torch song, vocal jazz]                                                                            |118  |\n",
      "|2         |[adult standards, ballroom, easy listening, lounge]                                                                                                        |118  |\n",
      "|2         |[filmi]                                                                                                                                                    |117  |\n",
      "|2         |[adult standards, brill building pop, british invasion, merseybeat, rock-and-roll, rockabilly]                                                             |117  |\n",
      "|2         |[adult standards, dixieland, harlem renaissance, jazz trumpet, new orleans jazz, soul, swing, vocal jazz]                                                  |117  |\n",
      "|2         |[classical, early romantic era, german romanticism, classical performance, classical piano, russian classical piano]                                       |116  |\n",
      "|2         |[classical, early romantic era, polish classical, historic piano performance]                                                                              |116  |\n",
      "|2         |[classic bollywood, ghazal]                                                                                                                                |115  |\n",
      "|2         |[new orleans jazz]                                                                                                                                         |113  |\n",
      "|2         |[romantico]                                                                                                                                                |112  |\n",
      "|2         |[c-pop, vintage chinese pop]                                                                                                                               |111  |\n",
      "|2         |[classical, early modern classical, neoclassicism, russian modern classical]                                                                               |110  |\n",
      "|2         |[classical, early modern classical, neoclassicism, russian modern classical, orchestra]                                                                    |108  |\n",
      "|2         |[celtic, middle earth]                                                                                                                                     |107  |\n",
      "|2         |[classic israeli pop, israeli rock, israeli singer-songwriter]                                                                                             |107  |\n",
      "|2         |[classical, late romantic era, operetta, classical performance, orchestral performance, austrian orchestra, orchestra]                                     |106  |\n",
      "|2         |[avant-garde jazz, bebop, contemporary post-bop, cool jazz, electric bass, free jazz, hard bop, jazz, jazz double bass, jazz fusion]                       |106  |\n",
      "|2         |[fado]                                                                                                                                                     |104  |\n",
      "|2         |[classic turkish pop]                                                                                                                                      |104  |\n",
      "|2         |[adult standards, bossa nova, cool jazz, jazz, jazz saxophone, latin jazz, samba-jazz, vocal jazz]                                                         |101  |\n",
      "|2         |[british dance band]                                                                                                                                       |101  |\n",
      "|2         |[classic rock, glam rock, rock]                                                                                                                            |98   |\n",
      "|2         |[bolero, cancion melodica, latin pop, ranchera]                                                                                                            |98   |\n",
      "|2         |[japanese instrumental]                                                                                                                                    |97   |\n",
      "|2         |[arabesk]                                                                                                                                                  |97   |\n",
      "|2         |[vintage tango, tango]                                                                                                                                     |96   |\n",
      "|2         |[chanson, french pop]                                                                                                                                      |95   |\n",
      "|2         |[adult standards, british soundtrack, classic soundtrack, scorecore, soundtrack]                                                                           |93   |\n",
      "|2         |[gregorian chant]                                                                                                                                          |93   |\n",
      "|2         |[romanian rock]                                                                                                                                            |92   |\n",
      "|2         |[classical performance, violin, baroque, classical, early music, german baroque]                                                                           |91   |\n",
      "|2         |[arabesk, turkish folk]                                                                                                                                    |90   |\n",
      "+----------+-----------------------------------------------------------------------------------------------------------------------------------------------------------+-----+\n",
      "only showing top 100 rows\n",
      "\n"
     ]
    },
    {
     "name": "stdout",
     "output_type": "stream",
     "text": [
      "+----------+---------------------------------------------------------------------------------------------+-----+\n",
      "|prediction|genres                                                                                       |count|\n",
      "+----------+---------------------------------------------------------------------------------------------+-----+\n",
      "|3         |[]                                                                                           |19726|\n",
      "|3         |[classic italian pop, italian adult pop]                                                     |853  |\n",
      "|3         |[classic israeli pop, israeli rock]                                                          |853  |\n",
      "|3         |[c-pop, cantopop, classic cantopop]                                                          |721  |\n",
      "|3         |[greek pop, laiko]                                                                           |710  |\n",
      "|3         |[\"[\"\"canzone dautore\"\"]                                                                      |710  |\n",
      "|3         |[classic israeli pop]                                                                        |578  |\n",
      "|3         |[classic bollywood, desi pop, filmi, modern bollywood, sufi]                                 |558  |\n",
      "|3         |[tango, vintage tango]                                                                       |558  |\n",
      "|3         |[classic icelandic pop, icelandic pop, icelandic rock]                                       |545  |\n",
      "|3         |[classic thai pop]                                                                           |539  |\n",
      "|3         |[danish hip hop, danish pop]                                                                 |535  |\n",
      "|3         |[desi pop, filmi, modern bollywood, sufi]                                                    |525  |\n",
      "|3         |[turkish pop]                                                                                |507  |\n",
      "|3         |[corrido, norteno, regional mexican]                                                         |448  |\n",
      "|3         |[j-pop]                                                                                      |442  |\n",
      "|3         |[thai pop]                                                                                   |433  |\n",
      "|3         |[filmi]                                                                                      |418  |\n",
      "|3         |[c-pop, cantopop]                                                                            |417  |\n",
      "|3         |[k-pop, k-pop boy group]                                                                     |416  |\n",
      "|3         |[chanson, french pop, french rock]                                                           |413  |\n",
      "|3         |[indonesian pop]                                                                             |409  |\n",
      "|3         |[cumbia uruguaya]                                                                            |402  |\n",
      "|3         |[classic icelandic pop]                                                                      |378  |\n",
      "|3         |[classic icelandic pop, icelandic pop]                                                       |375  |\n",
      "|3         |[classic bollywood, desi pop, filmi, sufi]                                                   |365  |\n",
      "|3         |[polish hip hop, polish trap]                                                                |360  |\n",
      "|3         |[chanson, french pop]                                                                        |358  |\n",
      "|3         |[classic israeli pop, israeli rock, israeli singer-songwriter]                               |357  |\n",
      "|3         |[album rock, classic rock, mellow gold, rock, soft rock, yacht rock]                         |356  |\n",
      "|3         |[filmi, tamil pop]                                                                           |350  |\n",
      "|3         |[opm]                                                                                        |346  |\n",
      "|3         |[c-pop, classic mandopop, mandopop]                                                          |337  |\n",
      "|3         |[arkansas country, outlaw country]                                                           |334  |\n",
      "|3         |[dance pop, pop, post-teen pop]                                                              |328  |\n",
      "|3         |[polish hip hop]                                                                             |325  |\n",
      "|3         |[classic hungarian pop]                                                                      |325  |\n",
      "|3         |[kayokyoku]                                                                                  |320  |\n",
      "|3         |[mariachi, ranchera]                                                                         |318  |\n",
      "|3         |[sertanejo, sertanejo tradicional, sertanejo universitario]                                  |310  |\n",
      "|3         |[classic danish pop, danish pop, dansktop]                                                   |306  |\n",
      "|3         |[adult standards, jazz blues, swing, vocal jazz]                                             |303  |\n",
      "|3         |[chanson]                                                                                    |301  |\n",
      "|3         |[c-pop, cantopop, classic cantopop, classic mandopop, mandopop]                              |300  |\n",
      "|3         |[c-pop, cantopop, classic cantopop, vintage chinese pop]                                     |297  |\n",
      "|3         |[latin, reggaeton, reggaeton colombiano, trap latino]                                        |286  |\n",
      "|3         |[adult standards, easy listening, lounge]                                                    |284  |\n",
      "|3         |[classic bollywood, classic pakistani pop, filmi, ghazal, sufi]                              |283  |\n",
      "|3         |[latin, latin pop]                                                                           |282  |\n",
      "|3         |[israeli pop]                                                                                |280  |\n",
      "|3         |[pop, post-teen pop]                                                                         |278  |\n",
      "|3         |[mandopop]                                                                                   |270  |\n",
      "|3         |[c-pop, classic mandopop, vintage chinese pop]                                               |270  |\n",
      "|3         |[classic swedish pop, dansband, danspunk]                                                    |270  |\n",
      "|3         |[slovak pop]                                                                                 |269  |\n",
      "|3         |[chutney, classic bollywood, desi pop, filmi, sufi]                                          |269  |\n",
      "|3         |[classic danish pop, dansktop]                                                               |269  |\n",
      "|3         |[turkish folk]                                                                               |266  |\n",
      "|3         |[bachata, bachata dominicana, dominican pop, latin, tropical]                                |266  |\n",
      "|3         |[adult standards, harlem renaissance, jazz, jazz blues, lounge, soul, torch song, vocal jazz]|265  |\n",
      "|3         |[musiikkia lapsille]                                                                         |263  |\n",
      "|3         |[vallenato]                                                                                  |262  |\n",
      "|3         |[classic finnish pop, classic iskelma, iskelma]                                              |261  |\n",
      "|3         |[latvian pop]                                                                                |261  |\n",
      "|3         |[latin, latin hip hop, reggaeton, reggaeton flow, trap latino, tropical]                     |260  |\n",
      "|3         |[czech hip hop, czsk hip hop]                                                                |253  |\n",
      "|3         |[finnish dance pop, finnish hip hop, finnish pop]                                            |251  |\n",
      "|3         |[latin, latin hip hop, reggaeton, trap latino, tropical]                                     |249  |\n",
      "|3         |[cumbia villera]                                                                             |249  |\n",
      "|3         |[classic j-pop, j-pop]                                                                       |245  |\n",
      "|3         |[classic city pop]                                                                           |242  |\n",
      "|3         |[panamanian pop]                                                                             |242  |\n",
      "|3         |[classic bollywood, classic tollywood, desi pop, filmi, sufi]                                |240  |\n",
      "|3         |[adult standards, easy listening, lounge, vocal jazz]                                        |238  |\n",
      "|3         |[classic rock, glam rock, rock]                                                              |237  |\n",
      "|3         |[vintage taiwan pop]                                                                         |232  |\n",
      "|3         |[sertanejo, sertanejo pop, sertanejo universitario]                                          |231  |\n",
      "|3         |[classic tollywood, filmi]                                                                   |230  |\n",
      "|3         |[bulgarian pop, chalga]                                                                      |229  |\n",
      "|3         |[pop romantico]                                                                              |226  |\n",
      "|3         |[romanian rock]                                                                              |226  |\n",
      "|3         |[j-pop, j-poprock, j-rock]                                                                   |224  |\n",
      "|3         |[latin jazz, salsa, salsa international, salsa puertorriquena, tropical]                     |224  |\n",
      "|3         |[adult standards, rock-and-roll, rockabilly]                                                 |223  |\n",
      "|3         |[country, country rock]                                                                      |223  |\n",
      "|3         |[sertanejo, sertanejo pop, sertanejo tradicional, sertanejo universitario]                   |223  |\n",
      "|3         |[lithuanian pop]                                                                             |223  |\n",
      "|3         |[cumbia, vallenato]                                                                          |222  |\n",
      "|3         |[reggae, roots reggae]                                                                       |221  |\n",
      "|3         |[deep turkish pop, turkish pop]                                                              |219  |\n",
      "|3         |[british invasion, classic rock, rock]                                                       |219  |\n",
      "|3         |[canadian pop, pop, post-teen pop]                                                           |218  |\n",
      "|3         |[argentine rock, latin alternative, latin rock, rock en espanol, rock nacional]              |218  |\n",
      "|3         |[czech folk, czech rock]                                                                     |217  |\n",
      "|3         |[classic danish pop, danish pop, danish pop rock]                                            |214  |\n",
      "|3         |[arabesk]                                                                                    |214  |\n",
      "|3         |[classic malaysian pop, malaysian pop, rock kapak]                                           |212  |\n",
      "|3         |[c-pop, cantopop, classic cantopop, classic mandopop]                                        |210  |\n",
      "|3         |[bornesange]                                                                                 |209  |\n",
      "|3         |[barnmusik]                                                                                  |208  |\n",
      "+----------+---------------------------------------------------------------------------------------------+-----+\n",
      "only showing top 100 rows\n",
      "\n"
     ]
    }
   ],
   "source": [
    "for i in range(0,4):\n",
    "    generi.where(col('prediction')==i).show(100, truncate=False)"
   ]
  },
  {
   "cell_type": "markdown",
   "metadata": {},
   "source": [
    "0 rock, rock classico\\\n",
    "1 audiolibri\\\n",
    "2 classica, orchestra, jazz\\\n",
    "3 pop di differenti paesi\\\n",
    "4 anni 40-50, canzoni d'autore\\"
   ]
  },
  {
   "cell_type": "code",
   "execution_count": null,
   "metadata": {},
   "outputs": [],
   "source": []
  }
 ],
 "metadata": {
  "kernelspec": {
   "display_name": "Python 3",
   "language": "python",
   "name": "python3"
  },
  "language_info": {
   "codemirror_mode": {
    "name": "ipython",
    "version": 3
   },
   "file_extension": ".py",
   "mimetype": "text/x-python",
   "name": "python",
   "nbconvert_exporter": "python",
   "pygments_lexer": "ipython3",
   "version": "3.7.3"
  }
 },
 "nbformat": 4,
 "nbformat_minor": 4
}
